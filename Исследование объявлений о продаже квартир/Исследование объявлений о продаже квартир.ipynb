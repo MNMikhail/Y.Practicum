{
 "cells": [
  {
   "cell_type": "markdown",
   "metadata": {},
   "source": [
    "# Исследование объявлений о продаже квартир\n",
    "Предоставлены данные сервиса по продаже недвижимости - архив объявлений о продаже квартир в регионе. На основе эитих данных необходимо установить параметры, по котором можно было бы автоматически определять рыночную стоимость объекта, а также выявлять аномалии и мошенническую деятельность.\n",
    "\n",
    "По каждому объекту предоставлено 2 вида даных - это выбранные пользователем (количество комнат, адрес, площадь и т.д) и полученные автоматически на основе картографических данных (расстояние до центра, метро или парка).\n",
    "\n",
    "# Цель\n",
    "- Добавить ряд необходимых параметров по имеющимся данным\n",
    "- Определить на сколько влияют различные параметры на цену и скорость продажи объекта\n",
    "- Рассмотреть влияние на различне параметр удаленности объектов от центра города\n",
    "\n",
    "# Описание данных\n",
    "- airports_nearest — расстояние до ближайшего аэропорта в метрах (м)\n",
    "- balcony — число балконов\n",
    "- ceiling_height — высота потолков (м)\n",
    "- cityCenters_nearest — расстояние до центра города (м)\n",
    "- days_exposition — сколько дней было размещено объявление (от публикации до снятия)\n",
    "- first_day_exposition — дата публикации\n",
    "- floor — этаж\n",
    "- floors_total — всего этажей в доме\n",
    "- is_apartment — апартаменты (булев тип)\n",
    "- kitchen_area — площадь кухни в квадратных метрах (м²)\n",
    "- last_price — цена на момент снятия с публикации\n",
    "- living_area — жилая площадь в квадратных метрах (м²)\n",
    "- locality_name — название населённого пункта\n",
    "- open_plan — свободная планировка (булев тип)\n",
    "- parks_around3000 — число парков в радиусе 3 км\n",
    "- parks_nearest — расстояние до ближайшего парка (м)\n",
    "- ponds_around3000 — число водоёмов в радиусе 3 км\n",
    "- ponds_nearest — расстояние до ближайшего водоёма (м)\n",
    "- rooms — число комнат\n",
    "- studio — квартира-студия (булев тип)\n",
    "- total_area — площадь квартиры в квадратных метрах (м²)\n",
    "- total_images — число фотографий квартиры в объявлении\n"
   ]
  },
  {
   "cell_type": "markdown",
   "metadata": {},
   "source": [
    "## 1. Изучение данных из файла"
   ]
  },
  {
   "cell_type": "markdown",
   "metadata": {},
   "source": [
    "Прочитаем данные, изучим общую информацию:"
   ]
  },
  {
   "cell_type": "code",
   "execution_count": 1,
   "metadata": {
    "scrolled": false
   },
   "outputs": [
    {
     "data": {
      "text/html": [
       "<div>\n",
       "<style scoped>\n",
       "    .dataframe tbody tr th:only-of-type {\n",
       "        vertical-align: middle;\n",
       "    }\n",
       "\n",
       "    .dataframe tbody tr th {\n",
       "        vertical-align: top;\n",
       "    }\n",
       "\n",
       "    .dataframe thead th {\n",
       "        text-align: right;\n",
       "    }\n",
       "</style>\n",
       "<table border=\"1\" class=\"dataframe\">\n",
       "  <thead>\n",
       "    <tr style=\"text-align: right;\">\n",
       "      <th></th>\n",
       "      <th>total_images</th>\n",
       "      <th>last_price</th>\n",
       "      <th>total_area</th>\n",
       "      <th>first_day_exposition</th>\n",
       "      <th>rooms</th>\n",
       "      <th>ceiling_height</th>\n",
       "      <th>floors_total</th>\n",
       "      <th>living_area</th>\n",
       "      <th>floor</th>\n",
       "      <th>is_apartment</th>\n",
       "      <th>...</th>\n",
       "      <th>kitchen_area</th>\n",
       "      <th>balcony</th>\n",
       "      <th>locality_name</th>\n",
       "      <th>airports_nearest</th>\n",
       "      <th>cityCenters_nearest</th>\n",
       "      <th>parks_around3000</th>\n",
       "      <th>parks_nearest</th>\n",
       "      <th>ponds_around3000</th>\n",
       "      <th>ponds_nearest</th>\n",
       "      <th>days_exposition</th>\n",
       "    </tr>\n",
       "  </thead>\n",
       "  <tbody>\n",
       "    <tr>\n",
       "      <td>0</td>\n",
       "      <td>20</td>\n",
       "      <td>13000000.0</td>\n",
       "      <td>108.00</td>\n",
       "      <td>2019-03-07T00:00:00</td>\n",
       "      <td>3</td>\n",
       "      <td>2.70</td>\n",
       "      <td>16.0</td>\n",
       "      <td>51.0</td>\n",
       "      <td>8</td>\n",
       "      <td>NaN</td>\n",
       "      <td>...</td>\n",
       "      <td>25.00</td>\n",
       "      <td>NaN</td>\n",
       "      <td>Санкт-Петербург</td>\n",
       "      <td>18863.0</td>\n",
       "      <td>16028.0</td>\n",
       "      <td>1.0</td>\n",
       "      <td>482.0</td>\n",
       "      <td>2.0</td>\n",
       "      <td>755.0</td>\n",
       "      <td>NaN</td>\n",
       "    </tr>\n",
       "    <tr>\n",
       "      <td>1</td>\n",
       "      <td>7</td>\n",
       "      <td>3350000.0</td>\n",
       "      <td>40.40</td>\n",
       "      <td>2018-12-04T00:00:00</td>\n",
       "      <td>1</td>\n",
       "      <td>NaN</td>\n",
       "      <td>11.0</td>\n",
       "      <td>18.6</td>\n",
       "      <td>1</td>\n",
       "      <td>NaN</td>\n",
       "      <td>...</td>\n",
       "      <td>11.00</td>\n",
       "      <td>2.0</td>\n",
       "      <td>посёлок Шушары</td>\n",
       "      <td>12817.0</td>\n",
       "      <td>18603.0</td>\n",
       "      <td>0.0</td>\n",
       "      <td>NaN</td>\n",
       "      <td>0.0</td>\n",
       "      <td>NaN</td>\n",
       "      <td>81.0</td>\n",
       "    </tr>\n",
       "    <tr>\n",
       "      <td>2</td>\n",
       "      <td>10</td>\n",
       "      <td>5196000.0</td>\n",
       "      <td>56.00</td>\n",
       "      <td>2015-08-20T00:00:00</td>\n",
       "      <td>2</td>\n",
       "      <td>NaN</td>\n",
       "      <td>5.0</td>\n",
       "      <td>34.3</td>\n",
       "      <td>4</td>\n",
       "      <td>NaN</td>\n",
       "      <td>...</td>\n",
       "      <td>8.30</td>\n",
       "      <td>0.0</td>\n",
       "      <td>Санкт-Петербург</td>\n",
       "      <td>21741.0</td>\n",
       "      <td>13933.0</td>\n",
       "      <td>1.0</td>\n",
       "      <td>90.0</td>\n",
       "      <td>2.0</td>\n",
       "      <td>574.0</td>\n",
       "      <td>558.0</td>\n",
       "    </tr>\n",
       "    <tr>\n",
       "      <td>3</td>\n",
       "      <td>0</td>\n",
       "      <td>64900000.0</td>\n",
       "      <td>159.00</td>\n",
       "      <td>2015-07-24T00:00:00</td>\n",
       "      <td>3</td>\n",
       "      <td>NaN</td>\n",
       "      <td>14.0</td>\n",
       "      <td>NaN</td>\n",
       "      <td>9</td>\n",
       "      <td>NaN</td>\n",
       "      <td>...</td>\n",
       "      <td>NaN</td>\n",
       "      <td>0.0</td>\n",
       "      <td>Санкт-Петербург</td>\n",
       "      <td>28098.0</td>\n",
       "      <td>6800.0</td>\n",
       "      <td>2.0</td>\n",
       "      <td>84.0</td>\n",
       "      <td>3.0</td>\n",
       "      <td>234.0</td>\n",
       "      <td>424.0</td>\n",
       "    </tr>\n",
       "    <tr>\n",
       "      <td>4</td>\n",
       "      <td>2</td>\n",
       "      <td>10000000.0</td>\n",
       "      <td>100.00</td>\n",
       "      <td>2018-06-19T00:00:00</td>\n",
       "      <td>2</td>\n",
       "      <td>3.03</td>\n",
       "      <td>14.0</td>\n",
       "      <td>32.0</td>\n",
       "      <td>13</td>\n",
       "      <td>NaN</td>\n",
       "      <td>...</td>\n",
       "      <td>41.00</td>\n",
       "      <td>NaN</td>\n",
       "      <td>Санкт-Петербург</td>\n",
       "      <td>31856.0</td>\n",
       "      <td>8098.0</td>\n",
       "      <td>2.0</td>\n",
       "      <td>112.0</td>\n",
       "      <td>1.0</td>\n",
       "      <td>48.0</td>\n",
       "      <td>121.0</td>\n",
       "    </tr>\n",
       "    <tr>\n",
       "      <td>...</td>\n",
       "      <td>...</td>\n",
       "      <td>...</td>\n",
       "      <td>...</td>\n",
       "      <td>...</td>\n",
       "      <td>...</td>\n",
       "      <td>...</td>\n",
       "      <td>...</td>\n",
       "      <td>...</td>\n",
       "      <td>...</td>\n",
       "      <td>...</td>\n",
       "      <td>...</td>\n",
       "      <td>...</td>\n",
       "      <td>...</td>\n",
       "      <td>...</td>\n",
       "      <td>...</td>\n",
       "      <td>...</td>\n",
       "      <td>...</td>\n",
       "      <td>...</td>\n",
       "      <td>...</td>\n",
       "      <td>...</td>\n",
       "      <td>...</td>\n",
       "    </tr>\n",
       "    <tr>\n",
       "      <td>23694</td>\n",
       "      <td>9</td>\n",
       "      <td>9700000.0</td>\n",
       "      <td>133.81</td>\n",
       "      <td>2017-03-21T00:00:00</td>\n",
       "      <td>3</td>\n",
       "      <td>3.70</td>\n",
       "      <td>5.0</td>\n",
       "      <td>73.3</td>\n",
       "      <td>3</td>\n",
       "      <td>NaN</td>\n",
       "      <td>...</td>\n",
       "      <td>13.83</td>\n",
       "      <td>NaN</td>\n",
       "      <td>Санкт-Петербург</td>\n",
       "      <td>24665.0</td>\n",
       "      <td>4232.0</td>\n",
       "      <td>1.0</td>\n",
       "      <td>796.0</td>\n",
       "      <td>3.0</td>\n",
       "      <td>381.0</td>\n",
       "      <td>NaN</td>\n",
       "    </tr>\n",
       "    <tr>\n",
       "      <td>23695</td>\n",
       "      <td>14</td>\n",
       "      <td>3100000.0</td>\n",
       "      <td>59.00</td>\n",
       "      <td>2018-01-15T00:00:00</td>\n",
       "      <td>3</td>\n",
       "      <td>NaN</td>\n",
       "      <td>5.0</td>\n",
       "      <td>38.0</td>\n",
       "      <td>4</td>\n",
       "      <td>NaN</td>\n",
       "      <td>...</td>\n",
       "      <td>8.50</td>\n",
       "      <td>NaN</td>\n",
       "      <td>Тосно</td>\n",
       "      <td>NaN</td>\n",
       "      <td>NaN</td>\n",
       "      <td>NaN</td>\n",
       "      <td>NaN</td>\n",
       "      <td>NaN</td>\n",
       "      <td>NaN</td>\n",
       "      <td>45.0</td>\n",
       "    </tr>\n",
       "    <tr>\n",
       "      <td>23696</td>\n",
       "      <td>18</td>\n",
       "      <td>2500000.0</td>\n",
       "      <td>56.70</td>\n",
       "      <td>2018-02-11T00:00:00</td>\n",
       "      <td>2</td>\n",
       "      <td>NaN</td>\n",
       "      <td>3.0</td>\n",
       "      <td>29.7</td>\n",
       "      <td>1</td>\n",
       "      <td>NaN</td>\n",
       "      <td>...</td>\n",
       "      <td>NaN</td>\n",
       "      <td>NaN</td>\n",
       "      <td>село Рождествено</td>\n",
       "      <td>NaN</td>\n",
       "      <td>NaN</td>\n",
       "      <td>NaN</td>\n",
       "      <td>NaN</td>\n",
       "      <td>NaN</td>\n",
       "      <td>NaN</td>\n",
       "      <td>NaN</td>\n",
       "    </tr>\n",
       "    <tr>\n",
       "      <td>23697</td>\n",
       "      <td>13</td>\n",
       "      <td>11475000.0</td>\n",
       "      <td>76.75</td>\n",
       "      <td>2017-03-28T00:00:00</td>\n",
       "      <td>2</td>\n",
       "      <td>3.00</td>\n",
       "      <td>17.0</td>\n",
       "      <td>NaN</td>\n",
       "      <td>12</td>\n",
       "      <td>NaN</td>\n",
       "      <td>...</td>\n",
       "      <td>23.30</td>\n",
       "      <td>2.0</td>\n",
       "      <td>Санкт-Петербург</td>\n",
       "      <td>39140.0</td>\n",
       "      <td>10364.0</td>\n",
       "      <td>2.0</td>\n",
       "      <td>173.0</td>\n",
       "      <td>3.0</td>\n",
       "      <td>196.0</td>\n",
       "      <td>602.0</td>\n",
       "    </tr>\n",
       "    <tr>\n",
       "      <td>23698</td>\n",
       "      <td>4</td>\n",
       "      <td>1350000.0</td>\n",
       "      <td>32.30</td>\n",
       "      <td>2017-07-21T00:00:00</td>\n",
       "      <td>1</td>\n",
       "      <td>2.50</td>\n",
       "      <td>5.0</td>\n",
       "      <td>12.3</td>\n",
       "      <td>1</td>\n",
       "      <td>NaN</td>\n",
       "      <td>...</td>\n",
       "      <td>9.00</td>\n",
       "      <td>NaN</td>\n",
       "      <td>поселок Новый Учхоз</td>\n",
       "      <td>NaN</td>\n",
       "      <td>NaN</td>\n",
       "      <td>NaN</td>\n",
       "      <td>NaN</td>\n",
       "      <td>NaN</td>\n",
       "      <td>NaN</td>\n",
       "      <td>NaN</td>\n",
       "    </tr>\n",
       "  </tbody>\n",
       "</table>\n",
       "<p>23699 rows × 22 columns</p>\n",
       "</div>"
      ],
      "text/plain": [
       "       total_images  last_price  total_area first_day_exposition  rooms  \\\n",
       "0                20  13000000.0      108.00  2019-03-07T00:00:00      3   \n",
       "1                 7   3350000.0       40.40  2018-12-04T00:00:00      1   \n",
       "2                10   5196000.0       56.00  2015-08-20T00:00:00      2   \n",
       "3                 0  64900000.0      159.00  2015-07-24T00:00:00      3   \n",
       "4                 2  10000000.0      100.00  2018-06-19T00:00:00      2   \n",
       "...             ...         ...         ...                  ...    ...   \n",
       "23694             9   9700000.0      133.81  2017-03-21T00:00:00      3   \n",
       "23695            14   3100000.0       59.00  2018-01-15T00:00:00      3   \n",
       "23696            18   2500000.0       56.70  2018-02-11T00:00:00      2   \n",
       "23697            13  11475000.0       76.75  2017-03-28T00:00:00      2   \n",
       "23698             4   1350000.0       32.30  2017-07-21T00:00:00      1   \n",
       "\n",
       "       ceiling_height  floors_total  living_area  floor is_apartment  ...  \\\n",
       "0                2.70          16.0         51.0      8          NaN  ...   \n",
       "1                 NaN          11.0         18.6      1          NaN  ...   \n",
       "2                 NaN           5.0         34.3      4          NaN  ...   \n",
       "3                 NaN          14.0          NaN      9          NaN  ...   \n",
       "4                3.03          14.0         32.0     13          NaN  ...   \n",
       "...               ...           ...          ...    ...          ...  ...   \n",
       "23694            3.70           5.0         73.3      3          NaN  ...   \n",
       "23695             NaN           5.0         38.0      4          NaN  ...   \n",
       "23696             NaN           3.0         29.7      1          NaN  ...   \n",
       "23697            3.00          17.0          NaN     12          NaN  ...   \n",
       "23698            2.50           5.0         12.3      1          NaN  ...   \n",
       "\n",
       "       kitchen_area  balcony        locality_name  airports_nearest  \\\n",
       "0             25.00      NaN      Санкт-Петербург           18863.0   \n",
       "1             11.00      2.0       посёлок Шушары           12817.0   \n",
       "2              8.30      0.0      Санкт-Петербург           21741.0   \n",
       "3               NaN      0.0      Санкт-Петербург           28098.0   \n",
       "4             41.00      NaN      Санкт-Петербург           31856.0   \n",
       "...             ...      ...                  ...               ...   \n",
       "23694         13.83      NaN      Санкт-Петербург           24665.0   \n",
       "23695          8.50      NaN                Тосно               NaN   \n",
       "23696           NaN      NaN     село Рождествено               NaN   \n",
       "23697         23.30      2.0      Санкт-Петербург           39140.0   \n",
       "23698          9.00      NaN  поселок Новый Учхоз               NaN   \n",
       "\n",
       "      cityCenters_nearest  parks_around3000  parks_nearest  ponds_around3000  \\\n",
       "0                 16028.0               1.0          482.0               2.0   \n",
       "1                 18603.0               0.0            NaN               0.0   \n",
       "2                 13933.0               1.0           90.0               2.0   \n",
       "3                  6800.0               2.0           84.0               3.0   \n",
       "4                  8098.0               2.0          112.0               1.0   \n",
       "...                   ...               ...            ...               ...   \n",
       "23694              4232.0               1.0          796.0               3.0   \n",
       "23695                 NaN               NaN            NaN               NaN   \n",
       "23696                 NaN               NaN            NaN               NaN   \n",
       "23697             10364.0               2.0          173.0               3.0   \n",
       "23698                 NaN               NaN            NaN               NaN   \n",
       "\n",
       "       ponds_nearest  days_exposition  \n",
       "0              755.0              NaN  \n",
       "1                NaN             81.0  \n",
       "2              574.0            558.0  \n",
       "3              234.0            424.0  \n",
       "4               48.0            121.0  \n",
       "...              ...              ...  \n",
       "23694          381.0              NaN  \n",
       "23695            NaN             45.0  \n",
       "23696            NaN              NaN  \n",
       "23697          196.0            602.0  \n",
       "23698            NaN              NaN  \n",
       "\n",
       "[23699 rows x 22 columns]"
      ]
     },
     "execution_count": 1,
     "metadata": {},
     "output_type": "execute_result"
    }
   ],
   "source": [
    "import pandas as pd\n",
    "import matplotlib.pyplot as plt\n",
    "import warnings\n",
    "warnings.simplefilter('ignore')\n",
    "\n",
    "try:\n",
    "    df = pd.read_csv('E:/Python/Project 2/real_estate_data.csv', sep='\\t', decimal='.') \n",
    "except:\n",
    "    df = pd.read_csv('/datasets/real_estate_data.csv', sep='\\t', decimal='.')\n",
    "\n",
    "df"
   ]
  },
  {
   "cell_type": "code",
   "execution_count": 2,
   "metadata": {
    "scrolled": true
   },
   "outputs": [
    {
     "name": "stdout",
     "output_type": "stream",
     "text": [
      "<class 'pandas.core.frame.DataFrame'>\n",
      "RangeIndex: 23699 entries, 0 to 23698\n",
      "Data columns (total 22 columns):\n",
      "total_images            23699 non-null int64\n",
      "last_price              23699 non-null float64\n",
      "total_area              23699 non-null float64\n",
      "first_day_exposition    23699 non-null object\n",
      "rooms                   23699 non-null int64\n",
      "ceiling_height          14504 non-null float64\n",
      "floors_total            23613 non-null float64\n",
      "living_area             21796 non-null float64\n",
      "floor                   23699 non-null int64\n",
      "is_apartment            2775 non-null object\n",
      "studio                  23699 non-null bool\n",
      "open_plan               23699 non-null bool\n",
      "kitchen_area            21421 non-null float64\n",
      "balcony                 12180 non-null float64\n",
      "locality_name           23650 non-null object\n",
      "airports_nearest        18157 non-null float64\n",
      "cityCenters_nearest     18180 non-null float64\n",
      "parks_around3000        18181 non-null float64\n",
      "parks_nearest           8079 non-null float64\n",
      "ponds_around3000        18181 non-null float64\n",
      "ponds_nearest           9110 non-null float64\n",
      "days_exposition         20518 non-null float64\n",
      "dtypes: bool(2), float64(14), int64(3), object(3)\n",
      "memory usage: 3.7+ MB\n"
     ]
    }
   ],
   "source": [
    "df.info()"
   ]
  },
  {
   "cell_type": "markdown",
   "metadata": {},
   "source": [
    "### Вывод"
   ]
  },
  {
   "cell_type": "markdown",
   "metadata": {},
   "source": [
    "В предосталенных данных таблица на более чем 23 тыс. строк и 22 колонки. Данные требуют тщательной предобработки с пропущенными значениями, проверкой дубликатов и приведением к нужным типам."
   ]
  },
  {
   "cell_type": "markdown",
   "metadata": {},
   "source": [
    "## 2. Предобработка данных\n",
    "### 2.1 Обработка пропусков"
   ]
  },
  {
   "cell_type": "markdown",
   "metadata": {},
   "source": [
    "Проверим наличие пропусков и обработаем те колонки, где это уместно."
   ]
  },
  {
   "cell_type": "code",
   "execution_count": 3,
   "metadata": {
    "scrolled": true
   },
   "outputs": [
    {
     "data": {
      "text/plain": [
       "total_images                0\n",
       "last_price                  0\n",
       "total_area                  0\n",
       "first_day_exposition        0\n",
       "rooms                       0\n",
       "ceiling_height           9195\n",
       "floors_total               86\n",
       "living_area              1903\n",
       "floor                       0\n",
       "is_apartment            20924\n",
       "studio                      0\n",
       "open_plan                   0\n",
       "kitchen_area             2278\n",
       "balcony                 11519\n",
       "locality_name              49\n",
       "airports_nearest         5542\n",
       "cityCenters_nearest      5519\n",
       "parks_around3000         5518\n",
       "parks_nearest           15620\n",
       "ponds_around3000         5518\n",
       "ponds_nearest           14589\n",
       "days_exposition          3181\n",
       "dtype: int64"
      ]
     },
     "execution_count": 3,
     "metadata": {},
     "output_type": "execute_result"
    }
   ],
   "source": [
    "df.isnull().sum() "
   ]
  },
  {
   "cell_type": "markdown",
   "metadata": {},
   "source": [
    "Обработаем пропуски в следующих столбцах: `locality_name`, `balcony`, `floors_total`.\n",
    "\n",
    "В столбце `locality_name` менее 0,5% пропусков, но этот параметр является одним из ключевых в исследовании. Поэтому целесообразно удалить строки с пропусками в данном столбце. Причиной появления пропусков в данном столбце могло быть, что человек не указал населенный пункт, либо если это невозможно по алгоритму, то мог прозойти сбой при выгрузке данных."
   ]
  },
  {
   "cell_type": "code",
   "execution_count": 4,
   "metadata": {},
   "outputs": [],
   "source": [
    "#df.dropna(subset=['locality_name'], inplace=True)\n",
    "df =df.dropna(subset=['locality_name'])"
   ]
  },
  {
   "cell_type": "markdown",
   "metadata": {},
   "source": [
    "Столбец `balcony`содержит около 50% пропусков. Но, мы можем предположить, что если человек не указал количество балконов, значит их нет. Соответсвенно заменим пропуски на 0."
   ]
  },
  {
   "cell_type": "code",
   "execution_count": 5,
   "metadata": {
    "scrolled": true
   },
   "outputs": [],
   "source": [
    "df['balcony'] = df['balcony'].fillna(0)"
   ]
  },
  {
   "cell_type": "markdown",
   "metadata": {},
   "source": [
    "Столбец `floors_total` содержит 86 пропусков, это немного, но удалять строки с пропусками мы не будем, так как в остальных столбцах могут содержаться полезные данные. Также присваивать какие либо значения также некорректно, т.к. это может сильно повлиять на дальнейший анализ (например последние этажи продаются гораздо хуже остальных. Поэтому заменем на условное значение 0. Причиной появления пропусков в данном столбце могло быть, что человек не указал населенный пункт, либо если это невозможно по алгоритму, то мог прозойти сбой при выгрузке данных."
   ]
  },
  {
   "cell_type": "code",
   "execution_count": 6,
   "metadata": {},
   "outputs": [
    {
     "data": {
      "text/plain": [
       "total_images                0\n",
       "last_price                  0\n",
       "total_area                  0\n",
       "first_day_exposition        0\n",
       "rooms                       0\n",
       "ceiling_height           9160\n",
       "floors_total                0\n",
       "living_area              1898\n",
       "floor                       0\n",
       "is_apartment            20890\n",
       "studio                      0\n",
       "open_plan                   0\n",
       "kitchen_area             2269\n",
       "balcony                     0\n",
       "locality_name               0\n",
       "airports_nearest         5534\n",
       "cityCenters_nearest      5511\n",
       "parks_around3000         5510\n",
       "parks_nearest           15586\n",
       "ponds_around3000         5510\n",
       "ponds_nearest           14565\n",
       "days_exposition          3180\n",
       "dtype: int64"
      ]
     },
     "execution_count": 6,
     "metadata": {},
     "output_type": "execute_result"
    }
   ],
   "source": [
    "df['floors_total'] = df['floors_total'].fillna(0)\n",
    "df.isnull().sum()"
   ]
  },
  {
   "cell_type": "markdown",
   "metadata": {},
   "source": [
    "### 2.2 Приведение данных к нужным типам"
   ]
  },
  {
   "cell_type": "code",
   "execution_count": 7,
   "metadata": {},
   "outputs": [
    {
     "name": "stdout",
     "output_type": "stream",
     "text": [
      "<class 'pandas.core.frame.DataFrame'>\n",
      "Int64Index: 23650 entries, 0 to 23698\n",
      "Data columns (total 22 columns):\n",
      "total_images            23650 non-null int64\n",
      "last_price              23650 non-null float64\n",
      "total_area              23650 non-null float64\n",
      "first_day_exposition    23650 non-null object\n",
      "rooms                   23650 non-null int64\n",
      "ceiling_height          14490 non-null float64\n",
      "floors_total            23650 non-null float64\n",
      "living_area             21752 non-null float64\n",
      "floor                   23650 non-null int64\n",
      "is_apartment            2760 non-null object\n",
      "studio                  23650 non-null bool\n",
      "open_plan               23650 non-null bool\n",
      "kitchen_area            21381 non-null float64\n",
      "balcony                 23650 non-null float64\n",
      "locality_name           23650 non-null object\n",
      "airports_nearest        18116 non-null float64\n",
      "cityCenters_nearest     18139 non-null float64\n",
      "parks_around3000        18140 non-null float64\n",
      "parks_nearest           8064 non-null float64\n",
      "ponds_around3000        18140 non-null float64\n",
      "ponds_nearest           9085 non-null float64\n",
      "days_exposition         20470 non-null float64\n",
      "dtypes: bool(2), float64(14), int64(3), object(3)\n",
      "memory usage: 3.8+ MB\n"
     ]
    }
   ],
   "source": [
    "df.info()"
   ]
  },
  {
   "cell_type": "markdown",
   "metadata": {},
   "source": [
    "Следующие столбцы требуют замены типа данных:\n",
    "- `first_day_exposition` необходимо перевести в дату\n",
    "- `floors_total` необходимо перевести в int, т.к. количество этажей может быть только целым\n",
    "- `balcony` необходимо перевести в int, т.к. количество балконов может быть только целым"
   ]
  },
  {
   "cell_type": "code",
   "execution_count": 8,
   "metadata": {},
   "outputs": [
    {
     "data": {
      "text/html": [
       "<div>\n",
       "<style scoped>\n",
       "    .dataframe tbody tr th:only-of-type {\n",
       "        vertical-align: middle;\n",
       "    }\n",
       "\n",
       "    .dataframe tbody tr th {\n",
       "        vertical-align: top;\n",
       "    }\n",
       "\n",
       "    .dataframe thead th {\n",
       "        text-align: right;\n",
       "    }\n",
       "</style>\n",
       "<table border=\"1\" class=\"dataframe\">\n",
       "  <thead>\n",
       "    <tr style=\"text-align: right;\">\n",
       "      <th></th>\n",
       "      <th>total_images</th>\n",
       "      <th>last_price</th>\n",
       "      <th>total_area</th>\n",
       "      <th>first_day_exposition</th>\n",
       "      <th>rooms</th>\n",
       "      <th>ceiling_height</th>\n",
       "      <th>floors_total</th>\n",
       "      <th>living_area</th>\n",
       "      <th>floor</th>\n",
       "      <th>is_apartment</th>\n",
       "      <th>...</th>\n",
       "      <th>balcony</th>\n",
       "      <th>locality_name</th>\n",
       "      <th>airports_nearest</th>\n",
       "      <th>cityCenters_nearest</th>\n",
       "      <th>parks_around3000</th>\n",
       "      <th>parks_nearest</th>\n",
       "      <th>ponds_around3000</th>\n",
       "      <th>ponds_nearest</th>\n",
       "      <th>days_exposition</th>\n",
       "      <th>date_exposition</th>\n",
       "    </tr>\n",
       "  </thead>\n",
       "  <tbody>\n",
       "    <tr>\n",
       "      <td>0</td>\n",
       "      <td>20</td>\n",
       "      <td>13000000.0</td>\n",
       "      <td>108.00</td>\n",
       "      <td>2019-03-07T00:00:00</td>\n",
       "      <td>3</td>\n",
       "      <td>2.70</td>\n",
       "      <td>16</td>\n",
       "      <td>51.0</td>\n",
       "      <td>8</td>\n",
       "      <td>NaN</td>\n",
       "      <td>...</td>\n",
       "      <td>0</td>\n",
       "      <td>Санкт-Петербург</td>\n",
       "      <td>18863.0</td>\n",
       "      <td>16028.0</td>\n",
       "      <td>1.0</td>\n",
       "      <td>482.0</td>\n",
       "      <td>2.0</td>\n",
       "      <td>755.0</td>\n",
       "      <td>NaN</td>\n",
       "      <td>2019-03-07</td>\n",
       "    </tr>\n",
       "    <tr>\n",
       "      <td>1</td>\n",
       "      <td>7</td>\n",
       "      <td>3350000.0</td>\n",
       "      <td>40.40</td>\n",
       "      <td>2018-12-04T00:00:00</td>\n",
       "      <td>1</td>\n",
       "      <td>NaN</td>\n",
       "      <td>11</td>\n",
       "      <td>18.6</td>\n",
       "      <td>1</td>\n",
       "      <td>NaN</td>\n",
       "      <td>...</td>\n",
       "      <td>2</td>\n",
       "      <td>посёлок Шушары</td>\n",
       "      <td>12817.0</td>\n",
       "      <td>18603.0</td>\n",
       "      <td>0.0</td>\n",
       "      <td>NaN</td>\n",
       "      <td>0.0</td>\n",
       "      <td>NaN</td>\n",
       "      <td>81.0</td>\n",
       "      <td>2018-12-04</td>\n",
       "    </tr>\n",
       "    <tr>\n",
       "      <td>2</td>\n",
       "      <td>10</td>\n",
       "      <td>5196000.0</td>\n",
       "      <td>56.00</td>\n",
       "      <td>2015-08-20T00:00:00</td>\n",
       "      <td>2</td>\n",
       "      <td>NaN</td>\n",
       "      <td>5</td>\n",
       "      <td>34.3</td>\n",
       "      <td>4</td>\n",
       "      <td>NaN</td>\n",
       "      <td>...</td>\n",
       "      <td>0</td>\n",
       "      <td>Санкт-Петербург</td>\n",
       "      <td>21741.0</td>\n",
       "      <td>13933.0</td>\n",
       "      <td>1.0</td>\n",
       "      <td>90.0</td>\n",
       "      <td>2.0</td>\n",
       "      <td>574.0</td>\n",
       "      <td>558.0</td>\n",
       "      <td>2015-08-20</td>\n",
       "    </tr>\n",
       "    <tr>\n",
       "      <td>3</td>\n",
       "      <td>0</td>\n",
       "      <td>64900000.0</td>\n",
       "      <td>159.00</td>\n",
       "      <td>2015-07-24T00:00:00</td>\n",
       "      <td>3</td>\n",
       "      <td>NaN</td>\n",
       "      <td>14</td>\n",
       "      <td>NaN</td>\n",
       "      <td>9</td>\n",
       "      <td>NaN</td>\n",
       "      <td>...</td>\n",
       "      <td>0</td>\n",
       "      <td>Санкт-Петербург</td>\n",
       "      <td>28098.0</td>\n",
       "      <td>6800.0</td>\n",
       "      <td>2.0</td>\n",
       "      <td>84.0</td>\n",
       "      <td>3.0</td>\n",
       "      <td>234.0</td>\n",
       "      <td>424.0</td>\n",
       "      <td>2015-07-24</td>\n",
       "    </tr>\n",
       "    <tr>\n",
       "      <td>4</td>\n",
       "      <td>2</td>\n",
       "      <td>10000000.0</td>\n",
       "      <td>100.00</td>\n",
       "      <td>2018-06-19T00:00:00</td>\n",
       "      <td>2</td>\n",
       "      <td>3.03</td>\n",
       "      <td>14</td>\n",
       "      <td>32.0</td>\n",
       "      <td>13</td>\n",
       "      <td>NaN</td>\n",
       "      <td>...</td>\n",
       "      <td>0</td>\n",
       "      <td>Санкт-Петербург</td>\n",
       "      <td>31856.0</td>\n",
       "      <td>8098.0</td>\n",
       "      <td>2.0</td>\n",
       "      <td>112.0</td>\n",
       "      <td>1.0</td>\n",
       "      <td>48.0</td>\n",
       "      <td>121.0</td>\n",
       "      <td>2018-06-19</td>\n",
       "    </tr>\n",
       "    <tr>\n",
       "      <td>...</td>\n",
       "      <td>...</td>\n",
       "      <td>...</td>\n",
       "      <td>...</td>\n",
       "      <td>...</td>\n",
       "      <td>...</td>\n",
       "      <td>...</td>\n",
       "      <td>...</td>\n",
       "      <td>...</td>\n",
       "      <td>...</td>\n",
       "      <td>...</td>\n",
       "      <td>...</td>\n",
       "      <td>...</td>\n",
       "      <td>...</td>\n",
       "      <td>...</td>\n",
       "      <td>...</td>\n",
       "      <td>...</td>\n",
       "      <td>...</td>\n",
       "      <td>...</td>\n",
       "      <td>...</td>\n",
       "      <td>...</td>\n",
       "      <td>...</td>\n",
       "    </tr>\n",
       "    <tr>\n",
       "      <td>23694</td>\n",
       "      <td>9</td>\n",
       "      <td>9700000.0</td>\n",
       "      <td>133.81</td>\n",
       "      <td>2017-03-21T00:00:00</td>\n",
       "      <td>3</td>\n",
       "      <td>3.70</td>\n",
       "      <td>5</td>\n",
       "      <td>73.3</td>\n",
       "      <td>3</td>\n",
       "      <td>NaN</td>\n",
       "      <td>...</td>\n",
       "      <td>0</td>\n",
       "      <td>Санкт-Петербург</td>\n",
       "      <td>24665.0</td>\n",
       "      <td>4232.0</td>\n",
       "      <td>1.0</td>\n",
       "      <td>796.0</td>\n",
       "      <td>3.0</td>\n",
       "      <td>381.0</td>\n",
       "      <td>NaN</td>\n",
       "      <td>2017-03-21</td>\n",
       "    </tr>\n",
       "    <tr>\n",
       "      <td>23695</td>\n",
       "      <td>14</td>\n",
       "      <td>3100000.0</td>\n",
       "      <td>59.00</td>\n",
       "      <td>2018-01-15T00:00:00</td>\n",
       "      <td>3</td>\n",
       "      <td>NaN</td>\n",
       "      <td>5</td>\n",
       "      <td>38.0</td>\n",
       "      <td>4</td>\n",
       "      <td>NaN</td>\n",
       "      <td>...</td>\n",
       "      <td>0</td>\n",
       "      <td>Тосно</td>\n",
       "      <td>NaN</td>\n",
       "      <td>NaN</td>\n",
       "      <td>NaN</td>\n",
       "      <td>NaN</td>\n",
       "      <td>NaN</td>\n",
       "      <td>NaN</td>\n",
       "      <td>45.0</td>\n",
       "      <td>2018-01-15</td>\n",
       "    </tr>\n",
       "    <tr>\n",
       "      <td>23696</td>\n",
       "      <td>18</td>\n",
       "      <td>2500000.0</td>\n",
       "      <td>56.70</td>\n",
       "      <td>2018-02-11T00:00:00</td>\n",
       "      <td>2</td>\n",
       "      <td>NaN</td>\n",
       "      <td>3</td>\n",
       "      <td>29.7</td>\n",
       "      <td>1</td>\n",
       "      <td>NaN</td>\n",
       "      <td>...</td>\n",
       "      <td>0</td>\n",
       "      <td>село Рождествено</td>\n",
       "      <td>NaN</td>\n",
       "      <td>NaN</td>\n",
       "      <td>NaN</td>\n",
       "      <td>NaN</td>\n",
       "      <td>NaN</td>\n",
       "      <td>NaN</td>\n",
       "      <td>NaN</td>\n",
       "      <td>2018-02-11</td>\n",
       "    </tr>\n",
       "    <tr>\n",
       "      <td>23697</td>\n",
       "      <td>13</td>\n",
       "      <td>11475000.0</td>\n",
       "      <td>76.75</td>\n",
       "      <td>2017-03-28T00:00:00</td>\n",
       "      <td>2</td>\n",
       "      <td>3.00</td>\n",
       "      <td>17</td>\n",
       "      <td>NaN</td>\n",
       "      <td>12</td>\n",
       "      <td>NaN</td>\n",
       "      <td>...</td>\n",
       "      <td>2</td>\n",
       "      <td>Санкт-Петербург</td>\n",
       "      <td>39140.0</td>\n",
       "      <td>10364.0</td>\n",
       "      <td>2.0</td>\n",
       "      <td>173.0</td>\n",
       "      <td>3.0</td>\n",
       "      <td>196.0</td>\n",
       "      <td>602.0</td>\n",
       "      <td>2017-03-28</td>\n",
       "    </tr>\n",
       "    <tr>\n",
       "      <td>23698</td>\n",
       "      <td>4</td>\n",
       "      <td>1350000.0</td>\n",
       "      <td>32.30</td>\n",
       "      <td>2017-07-21T00:00:00</td>\n",
       "      <td>1</td>\n",
       "      <td>2.50</td>\n",
       "      <td>5</td>\n",
       "      <td>12.3</td>\n",
       "      <td>1</td>\n",
       "      <td>NaN</td>\n",
       "      <td>...</td>\n",
       "      <td>0</td>\n",
       "      <td>поселок Новый Учхоз</td>\n",
       "      <td>NaN</td>\n",
       "      <td>NaN</td>\n",
       "      <td>NaN</td>\n",
       "      <td>NaN</td>\n",
       "      <td>NaN</td>\n",
       "      <td>NaN</td>\n",
       "      <td>NaN</td>\n",
       "      <td>2017-07-21</td>\n",
       "    </tr>\n",
       "  </tbody>\n",
       "</table>\n",
       "<p>23650 rows × 23 columns</p>\n",
       "</div>"
      ],
      "text/plain": [
       "       total_images  last_price  total_area first_day_exposition  rooms  \\\n",
       "0                20  13000000.0      108.00  2019-03-07T00:00:00      3   \n",
       "1                 7   3350000.0       40.40  2018-12-04T00:00:00      1   \n",
       "2                10   5196000.0       56.00  2015-08-20T00:00:00      2   \n",
       "3                 0  64900000.0      159.00  2015-07-24T00:00:00      3   \n",
       "4                 2  10000000.0      100.00  2018-06-19T00:00:00      2   \n",
       "...             ...         ...         ...                  ...    ...   \n",
       "23694             9   9700000.0      133.81  2017-03-21T00:00:00      3   \n",
       "23695            14   3100000.0       59.00  2018-01-15T00:00:00      3   \n",
       "23696            18   2500000.0       56.70  2018-02-11T00:00:00      2   \n",
       "23697            13  11475000.0       76.75  2017-03-28T00:00:00      2   \n",
       "23698             4   1350000.0       32.30  2017-07-21T00:00:00      1   \n",
       "\n",
       "       ceiling_height  floors_total  living_area  floor is_apartment  ...  \\\n",
       "0                2.70            16         51.0      8          NaN  ...   \n",
       "1                 NaN            11         18.6      1          NaN  ...   \n",
       "2                 NaN             5         34.3      4          NaN  ...   \n",
       "3                 NaN            14          NaN      9          NaN  ...   \n",
       "4                3.03            14         32.0     13          NaN  ...   \n",
       "...               ...           ...          ...    ...          ...  ...   \n",
       "23694            3.70             5         73.3      3          NaN  ...   \n",
       "23695             NaN             5         38.0      4          NaN  ...   \n",
       "23696             NaN             3         29.7      1          NaN  ...   \n",
       "23697            3.00            17          NaN     12          NaN  ...   \n",
       "23698            2.50             5         12.3      1          NaN  ...   \n",
       "\n",
       "       balcony        locality_name  airports_nearest  cityCenters_nearest  \\\n",
       "0            0      Санкт-Петербург           18863.0              16028.0   \n",
       "1            2       посёлок Шушары           12817.0              18603.0   \n",
       "2            0      Санкт-Петербург           21741.0              13933.0   \n",
       "3            0      Санкт-Петербург           28098.0               6800.0   \n",
       "4            0      Санкт-Петербург           31856.0               8098.0   \n",
       "...        ...                  ...               ...                  ...   \n",
       "23694        0      Санкт-Петербург           24665.0               4232.0   \n",
       "23695        0                Тосно               NaN                  NaN   \n",
       "23696        0     село Рождествено               NaN                  NaN   \n",
       "23697        2      Санкт-Петербург           39140.0              10364.0   \n",
       "23698        0  поселок Новый Учхоз               NaN                  NaN   \n",
       "\n",
       "      parks_around3000  parks_nearest  ponds_around3000  ponds_nearest  \\\n",
       "0                  1.0          482.0               2.0          755.0   \n",
       "1                  0.0            NaN               0.0            NaN   \n",
       "2                  1.0           90.0               2.0          574.0   \n",
       "3                  2.0           84.0               3.0          234.0   \n",
       "4                  2.0          112.0               1.0           48.0   \n",
       "...                ...            ...               ...            ...   \n",
       "23694              1.0          796.0               3.0          381.0   \n",
       "23695              NaN            NaN               NaN            NaN   \n",
       "23696              NaN            NaN               NaN            NaN   \n",
       "23697              2.0          173.0               3.0          196.0   \n",
       "23698              NaN            NaN               NaN            NaN   \n",
       "\n",
       "       days_exposition  date_exposition  \n",
       "0                  NaN       2019-03-07  \n",
       "1                 81.0       2018-12-04  \n",
       "2                558.0       2015-08-20  \n",
       "3                424.0       2015-07-24  \n",
       "4                121.0       2018-06-19  \n",
       "...                ...              ...  \n",
       "23694              NaN       2017-03-21  \n",
       "23695             45.0       2018-01-15  \n",
       "23696              NaN       2018-02-11  \n",
       "23697            602.0       2017-03-28  \n",
       "23698              NaN       2017-07-21  \n",
       "\n",
       "[23650 rows x 23 columns]"
      ]
     },
     "execution_count": 8,
     "metadata": {},
     "output_type": "execute_result"
    }
   ],
   "source": [
    "# Создадим новый столбец, где будет только дата, т.к. время нас не интересует.\n",
    "df['date_exposition'] = pd.to_datetime(df['first_day_exposition'], format='%Y-%m-%d')\n",
    "\n",
    "df['floors_total'] = df['floors_total'].astype('int')\n",
    "\n",
    "df['balcony'] = df['balcony'].astype('int')\n",
    "df['balcony'].value_counts()\n",
    "df"
   ]
  },
  {
   "cell_type": "code",
   "execution_count": 9,
   "metadata": {
    "scrolled": true
   },
   "outputs": [
    {
     "name": "stdout",
     "output_type": "stream",
     "text": [
      "<class 'pandas.core.frame.DataFrame'>\n",
      "Int64Index: 23650 entries, 0 to 23698\n",
      "Data columns (total 23 columns):\n",
      "total_images            23650 non-null int64\n",
      "last_price              23650 non-null float64\n",
      "total_area              23650 non-null float64\n",
      "first_day_exposition    23650 non-null object\n",
      "rooms                   23650 non-null int64\n",
      "ceiling_height          14490 non-null float64\n",
      "floors_total            23650 non-null int32\n",
      "living_area             21752 non-null float64\n",
      "floor                   23650 non-null int64\n",
      "is_apartment            2760 non-null object\n",
      "studio                  23650 non-null bool\n",
      "open_plan               23650 non-null bool\n",
      "kitchen_area            21381 non-null float64\n",
      "balcony                 23650 non-null int32\n",
      "locality_name           23650 non-null object\n",
      "airports_nearest        18116 non-null float64\n",
      "cityCenters_nearest     18139 non-null float64\n",
      "parks_around3000        18140 non-null float64\n",
      "parks_nearest           8064 non-null float64\n",
      "ponds_around3000        18140 non-null float64\n",
      "ponds_nearest           9085 non-null float64\n",
      "days_exposition         20470 non-null float64\n",
      "date_exposition         23650 non-null datetime64[ns]\n",
      "dtypes: bool(2), datetime64[ns](1), float64(12), int32(2), int64(3), object(3)\n",
      "memory usage: 3.8+ MB\n"
     ]
    }
   ],
   "source": [
    "df.info()\n"
   ]
  },
  {
   "cell_type": "markdown",
   "metadata": {},
   "source": [
    "### Вывод"
   ]
  },
  {
   "cell_type": "markdown",
   "metadata": {},
   "source": [
    "Были обработаны пропуски в столбцах `locality_name`, `balcony`, `floors_total`, а также заменены типы данных в `first_day_exposition`, `balcony`, `floors_total`. Теперь данные готовы к работе."
   ]
  },
  {
   "cell_type": "markdown",
   "metadata": {},
   "source": [
    "## 3. Расчёты и добавление результатов в таблицу\n",
    "Цена квадратного метра:"
   ]
  },
  {
   "cell_type": "code",
   "execution_count": 10,
   "metadata": {},
   "outputs": [],
   "source": [
    "df['area_price'] = df['last_price']/df['total_area']"
   ]
  },
  {
   "cell_type": "markdown",
   "metadata": {},
   "source": [
    "День недели, месяц и год публикации объявления:"
   ]
  },
  {
   "cell_type": "code",
   "execution_count": 11,
   "metadata": {},
   "outputs": [],
   "source": [
    "df['weekday'] =  df['date_exposition'].dt.weekday \n",
    "df['month'] =  df['date_exposition'].dt.month \n",
    "df['weekday'] =  df['date_exposition'].dt.weekday \n",
    "df['year'] =  df['date_exposition'].dt.year "
   ]
  },
  {
   "cell_type": "markdown",
   "metadata": {},
   "source": [
    "Этаж квартиры; варианты — первый, последний, другой:"
   ]
  },
  {
   "cell_type": "code",
   "execution_count": 12,
   "metadata": {},
   "outputs": [
    {
     "data": {
      "text/plain": [
       "другой           17326\n",
       "последний         3330\n",
       "первый            2912\n",
       "Не определить       82\n",
       "Name: category_flow, dtype: int64"
      ]
     },
     "execution_count": 12,
     "metadata": {},
     "output_type": "execute_result"
    }
   ],
   "source": [
    "# Т.К. для пропущенных значений столбца floors_total были применены 0, введем доп. категорию 'Не определить'\n",
    "def category_flow (data):\n",
    "    if data['floor'] == 1:\n",
    "        return 'первый'\n",
    "    if data['floors_total'] != 0:\n",
    "        if data['floor'] == data['floors_total']:\n",
    "            return 'последний'\n",
    "        return 'другой' \n",
    "    return 'Не определить'\n",
    "\n",
    "df['category_flow'] = df.apply(category_flow, axis = 1)\n",
    "df['category_flow'].value_counts()"
   ]
  },
  {
   "cell_type": "markdown",
   "metadata": {},
   "source": [
    "Соотношение жилой и общей площади, а также отношение площади кухни к общей:"
   ]
  },
  {
   "cell_type": "code",
   "execution_count": 13,
   "metadata": {
    "scrolled": true
   },
   "outputs": [
    {
     "data": {
      "text/html": [
       "<div>\n",
       "<style scoped>\n",
       "    .dataframe tbody tr th:only-of-type {\n",
       "        vertical-align: middle;\n",
       "    }\n",
       "\n",
       "    .dataframe tbody tr th {\n",
       "        vertical-align: top;\n",
       "    }\n",
       "\n",
       "    .dataframe thead th {\n",
       "        text-align: right;\n",
       "    }\n",
       "</style>\n",
       "<table border=\"1\" class=\"dataframe\">\n",
       "  <thead>\n",
       "    <tr style=\"text-align: right;\">\n",
       "      <th></th>\n",
       "      <th>total_images</th>\n",
       "      <th>last_price</th>\n",
       "      <th>total_area</th>\n",
       "      <th>first_day_exposition</th>\n",
       "      <th>rooms</th>\n",
       "      <th>ceiling_height</th>\n",
       "      <th>floors_total</th>\n",
       "      <th>living_area</th>\n",
       "      <th>floor</th>\n",
       "      <th>is_apartment</th>\n",
       "      <th>...</th>\n",
       "      <th>ponds_nearest</th>\n",
       "      <th>days_exposition</th>\n",
       "      <th>date_exposition</th>\n",
       "      <th>area_price</th>\n",
       "      <th>weekday</th>\n",
       "      <th>month</th>\n",
       "      <th>year</th>\n",
       "      <th>category_flow</th>\n",
       "      <th>p_living</th>\n",
       "      <th>p_kitchen</th>\n",
       "    </tr>\n",
       "  </thead>\n",
       "  <tbody>\n",
       "    <tr>\n",
       "      <td>0</td>\n",
       "      <td>20</td>\n",
       "      <td>13000000.0</td>\n",
       "      <td>108.00</td>\n",
       "      <td>2019-03-07T00:00:00</td>\n",
       "      <td>3</td>\n",
       "      <td>2.70</td>\n",
       "      <td>16</td>\n",
       "      <td>51.0</td>\n",
       "      <td>8</td>\n",
       "      <td>NaN</td>\n",
       "      <td>...</td>\n",
       "      <td>755.0</td>\n",
       "      <td>NaN</td>\n",
       "      <td>2019-03-07</td>\n",
       "      <td>120370.370370</td>\n",
       "      <td>3</td>\n",
       "      <td>3</td>\n",
       "      <td>2019</td>\n",
       "      <td>другой</td>\n",
       "      <td>0.472222</td>\n",
       "      <td>0.231481</td>\n",
       "    </tr>\n",
       "    <tr>\n",
       "      <td>1</td>\n",
       "      <td>7</td>\n",
       "      <td>3350000.0</td>\n",
       "      <td>40.40</td>\n",
       "      <td>2018-12-04T00:00:00</td>\n",
       "      <td>1</td>\n",
       "      <td>NaN</td>\n",
       "      <td>11</td>\n",
       "      <td>18.6</td>\n",
       "      <td>1</td>\n",
       "      <td>NaN</td>\n",
       "      <td>...</td>\n",
       "      <td>NaN</td>\n",
       "      <td>81.0</td>\n",
       "      <td>2018-12-04</td>\n",
       "      <td>82920.792079</td>\n",
       "      <td>1</td>\n",
       "      <td>12</td>\n",
       "      <td>2018</td>\n",
       "      <td>первый</td>\n",
       "      <td>0.460396</td>\n",
       "      <td>0.272277</td>\n",
       "    </tr>\n",
       "    <tr>\n",
       "      <td>2</td>\n",
       "      <td>10</td>\n",
       "      <td>5196000.0</td>\n",
       "      <td>56.00</td>\n",
       "      <td>2015-08-20T00:00:00</td>\n",
       "      <td>2</td>\n",
       "      <td>NaN</td>\n",
       "      <td>5</td>\n",
       "      <td>34.3</td>\n",
       "      <td>4</td>\n",
       "      <td>NaN</td>\n",
       "      <td>...</td>\n",
       "      <td>574.0</td>\n",
       "      <td>558.0</td>\n",
       "      <td>2015-08-20</td>\n",
       "      <td>92785.714286</td>\n",
       "      <td>3</td>\n",
       "      <td>8</td>\n",
       "      <td>2015</td>\n",
       "      <td>другой</td>\n",
       "      <td>0.612500</td>\n",
       "      <td>0.148214</td>\n",
       "    </tr>\n",
       "    <tr>\n",
       "      <td>3</td>\n",
       "      <td>0</td>\n",
       "      <td>64900000.0</td>\n",
       "      <td>159.00</td>\n",
       "      <td>2015-07-24T00:00:00</td>\n",
       "      <td>3</td>\n",
       "      <td>NaN</td>\n",
       "      <td>14</td>\n",
       "      <td>NaN</td>\n",
       "      <td>9</td>\n",
       "      <td>NaN</td>\n",
       "      <td>...</td>\n",
       "      <td>234.0</td>\n",
       "      <td>424.0</td>\n",
       "      <td>2015-07-24</td>\n",
       "      <td>408176.100629</td>\n",
       "      <td>4</td>\n",
       "      <td>7</td>\n",
       "      <td>2015</td>\n",
       "      <td>другой</td>\n",
       "      <td>NaN</td>\n",
       "      <td>NaN</td>\n",
       "    </tr>\n",
       "    <tr>\n",
       "      <td>4</td>\n",
       "      <td>2</td>\n",
       "      <td>10000000.0</td>\n",
       "      <td>100.00</td>\n",
       "      <td>2018-06-19T00:00:00</td>\n",
       "      <td>2</td>\n",
       "      <td>3.03</td>\n",
       "      <td>14</td>\n",
       "      <td>32.0</td>\n",
       "      <td>13</td>\n",
       "      <td>NaN</td>\n",
       "      <td>...</td>\n",
       "      <td>48.0</td>\n",
       "      <td>121.0</td>\n",
       "      <td>2018-06-19</td>\n",
       "      <td>100000.000000</td>\n",
       "      <td>1</td>\n",
       "      <td>6</td>\n",
       "      <td>2018</td>\n",
       "      <td>другой</td>\n",
       "      <td>0.320000</td>\n",
       "      <td>0.410000</td>\n",
       "    </tr>\n",
       "    <tr>\n",
       "      <td>...</td>\n",
       "      <td>...</td>\n",
       "      <td>...</td>\n",
       "      <td>...</td>\n",
       "      <td>...</td>\n",
       "      <td>...</td>\n",
       "      <td>...</td>\n",
       "      <td>...</td>\n",
       "      <td>...</td>\n",
       "      <td>...</td>\n",
       "      <td>...</td>\n",
       "      <td>...</td>\n",
       "      <td>...</td>\n",
       "      <td>...</td>\n",
       "      <td>...</td>\n",
       "      <td>...</td>\n",
       "      <td>...</td>\n",
       "      <td>...</td>\n",
       "      <td>...</td>\n",
       "      <td>...</td>\n",
       "      <td>...</td>\n",
       "      <td>...</td>\n",
       "    </tr>\n",
       "    <tr>\n",
       "      <td>23694</td>\n",
       "      <td>9</td>\n",
       "      <td>9700000.0</td>\n",
       "      <td>133.81</td>\n",
       "      <td>2017-03-21T00:00:00</td>\n",
       "      <td>3</td>\n",
       "      <td>3.70</td>\n",
       "      <td>5</td>\n",
       "      <td>73.3</td>\n",
       "      <td>3</td>\n",
       "      <td>NaN</td>\n",
       "      <td>...</td>\n",
       "      <td>381.0</td>\n",
       "      <td>NaN</td>\n",
       "      <td>2017-03-21</td>\n",
       "      <td>72490.845228</td>\n",
       "      <td>1</td>\n",
       "      <td>3</td>\n",
       "      <td>2017</td>\n",
       "      <td>другой</td>\n",
       "      <td>0.547792</td>\n",
       "      <td>0.103356</td>\n",
       "    </tr>\n",
       "    <tr>\n",
       "      <td>23695</td>\n",
       "      <td>14</td>\n",
       "      <td>3100000.0</td>\n",
       "      <td>59.00</td>\n",
       "      <td>2018-01-15T00:00:00</td>\n",
       "      <td>3</td>\n",
       "      <td>NaN</td>\n",
       "      <td>5</td>\n",
       "      <td>38.0</td>\n",
       "      <td>4</td>\n",
       "      <td>NaN</td>\n",
       "      <td>...</td>\n",
       "      <td>NaN</td>\n",
       "      <td>45.0</td>\n",
       "      <td>2018-01-15</td>\n",
       "      <td>52542.372881</td>\n",
       "      <td>0</td>\n",
       "      <td>1</td>\n",
       "      <td>2018</td>\n",
       "      <td>другой</td>\n",
       "      <td>0.644068</td>\n",
       "      <td>0.144068</td>\n",
       "    </tr>\n",
       "    <tr>\n",
       "      <td>23696</td>\n",
       "      <td>18</td>\n",
       "      <td>2500000.0</td>\n",
       "      <td>56.70</td>\n",
       "      <td>2018-02-11T00:00:00</td>\n",
       "      <td>2</td>\n",
       "      <td>NaN</td>\n",
       "      <td>3</td>\n",
       "      <td>29.7</td>\n",
       "      <td>1</td>\n",
       "      <td>NaN</td>\n",
       "      <td>...</td>\n",
       "      <td>NaN</td>\n",
       "      <td>NaN</td>\n",
       "      <td>2018-02-11</td>\n",
       "      <td>44091.710758</td>\n",
       "      <td>6</td>\n",
       "      <td>2</td>\n",
       "      <td>2018</td>\n",
       "      <td>первый</td>\n",
       "      <td>0.523810</td>\n",
       "      <td>NaN</td>\n",
       "    </tr>\n",
       "    <tr>\n",
       "      <td>23697</td>\n",
       "      <td>13</td>\n",
       "      <td>11475000.0</td>\n",
       "      <td>76.75</td>\n",
       "      <td>2017-03-28T00:00:00</td>\n",
       "      <td>2</td>\n",
       "      <td>3.00</td>\n",
       "      <td>17</td>\n",
       "      <td>NaN</td>\n",
       "      <td>12</td>\n",
       "      <td>NaN</td>\n",
       "      <td>...</td>\n",
       "      <td>196.0</td>\n",
       "      <td>602.0</td>\n",
       "      <td>2017-03-28</td>\n",
       "      <td>149511.400651</td>\n",
       "      <td>1</td>\n",
       "      <td>3</td>\n",
       "      <td>2017</td>\n",
       "      <td>другой</td>\n",
       "      <td>NaN</td>\n",
       "      <td>0.303583</td>\n",
       "    </tr>\n",
       "    <tr>\n",
       "      <td>23698</td>\n",
       "      <td>4</td>\n",
       "      <td>1350000.0</td>\n",
       "      <td>32.30</td>\n",
       "      <td>2017-07-21T00:00:00</td>\n",
       "      <td>1</td>\n",
       "      <td>2.50</td>\n",
       "      <td>5</td>\n",
       "      <td>12.3</td>\n",
       "      <td>1</td>\n",
       "      <td>NaN</td>\n",
       "      <td>...</td>\n",
       "      <td>NaN</td>\n",
       "      <td>NaN</td>\n",
       "      <td>2017-07-21</td>\n",
       "      <td>41795.665635</td>\n",
       "      <td>4</td>\n",
       "      <td>7</td>\n",
       "      <td>2017</td>\n",
       "      <td>первый</td>\n",
       "      <td>0.380805</td>\n",
       "      <td>0.278638</td>\n",
       "    </tr>\n",
       "  </tbody>\n",
       "</table>\n",
       "<p>23650 rows × 30 columns</p>\n",
       "</div>"
      ],
      "text/plain": [
       "       total_images  last_price  total_area first_day_exposition  rooms  \\\n",
       "0                20  13000000.0      108.00  2019-03-07T00:00:00      3   \n",
       "1                 7   3350000.0       40.40  2018-12-04T00:00:00      1   \n",
       "2                10   5196000.0       56.00  2015-08-20T00:00:00      2   \n",
       "3                 0  64900000.0      159.00  2015-07-24T00:00:00      3   \n",
       "4                 2  10000000.0      100.00  2018-06-19T00:00:00      2   \n",
       "...             ...         ...         ...                  ...    ...   \n",
       "23694             9   9700000.0      133.81  2017-03-21T00:00:00      3   \n",
       "23695            14   3100000.0       59.00  2018-01-15T00:00:00      3   \n",
       "23696            18   2500000.0       56.70  2018-02-11T00:00:00      2   \n",
       "23697            13  11475000.0       76.75  2017-03-28T00:00:00      2   \n",
       "23698             4   1350000.0       32.30  2017-07-21T00:00:00      1   \n",
       "\n",
       "       ceiling_height  floors_total  living_area  floor is_apartment  ...  \\\n",
       "0                2.70            16         51.0      8          NaN  ...   \n",
       "1                 NaN            11         18.6      1          NaN  ...   \n",
       "2                 NaN             5         34.3      4          NaN  ...   \n",
       "3                 NaN            14          NaN      9          NaN  ...   \n",
       "4                3.03            14         32.0     13          NaN  ...   \n",
       "...               ...           ...          ...    ...          ...  ...   \n",
       "23694            3.70             5         73.3      3          NaN  ...   \n",
       "23695             NaN             5         38.0      4          NaN  ...   \n",
       "23696             NaN             3         29.7      1          NaN  ...   \n",
       "23697            3.00            17          NaN     12          NaN  ...   \n",
       "23698            2.50             5         12.3      1          NaN  ...   \n",
       "\n",
       "       ponds_nearest  days_exposition  date_exposition     area_price weekday  \\\n",
       "0              755.0              NaN       2019-03-07  120370.370370       3   \n",
       "1                NaN             81.0       2018-12-04   82920.792079       1   \n",
       "2              574.0            558.0       2015-08-20   92785.714286       3   \n",
       "3              234.0            424.0       2015-07-24  408176.100629       4   \n",
       "4               48.0            121.0       2018-06-19  100000.000000       1   \n",
       "...              ...              ...              ...            ...     ...   \n",
       "23694          381.0              NaN       2017-03-21   72490.845228       1   \n",
       "23695            NaN             45.0       2018-01-15   52542.372881       0   \n",
       "23696            NaN              NaN       2018-02-11   44091.710758       6   \n",
       "23697          196.0            602.0       2017-03-28  149511.400651       1   \n",
       "23698            NaN              NaN       2017-07-21   41795.665635       4   \n",
       "\n",
       "       month  year  category_flow  p_living  p_kitchen  \n",
       "0          3  2019         другой  0.472222   0.231481  \n",
       "1         12  2018         первый  0.460396   0.272277  \n",
       "2          8  2015         другой  0.612500   0.148214  \n",
       "3          7  2015         другой       NaN        NaN  \n",
       "4          6  2018         другой  0.320000   0.410000  \n",
       "...      ...   ...            ...       ...        ...  \n",
       "23694      3  2017         другой  0.547792   0.103356  \n",
       "23695      1  2018         другой  0.644068   0.144068  \n",
       "23696      2  2018         первый  0.523810        NaN  \n",
       "23697      3  2017         другой       NaN   0.303583  \n",
       "23698      7  2017         первый  0.380805   0.278638  \n",
       "\n",
       "[23650 rows x 30 columns]"
      ]
     },
     "execution_count": 13,
     "metadata": {},
     "output_type": "execute_result"
    }
   ],
   "source": [
    "df['p_living'] = df['living_area']/df['total_area']\n",
    "df['p_kitchen'] = df['kitchen_area']/df['total_area']\n",
    "df"
   ]
  },
  {
   "cell_type": "markdown",
   "metadata": {},
   "source": [
    "### Вывод"
   ]
  },
  {
   "cell_type": "markdown",
   "metadata": {},
   "source": [
    "Для удобсва дальнейшего анализа данных были добавлены следующие столбцы: \n",
    "- Цена квадратного метра \n",
    "- День недели, месяц и год публикации объявления \n",
    "- Этаж квартиры; варианты — первый, последний, другой\n",
    "- Соотношение жилой и общей площади, а также отношение площади кухни к общей\n",
    "\n",
    "Это позволит более тщательно провести анализ."
   ]
  },
  {
   "cell_type": "markdown",
   "metadata": {},
   "source": [
    "## 4. Исследовательский анализ данных"
   ]
  },
  {
   "cell_type": "markdown",
   "metadata": {},
   "source": [
    "#### 4.1 Изучим следующие параметры: площадь, цена, число комнат, высота потолков. "
   ]
  },
  {
   "cell_type": "code",
   "execution_count": 14,
   "metadata": {},
   "outputs": [
    {
     "data": {
      "text/plain": [
       "<matplotlib.axes._subplots.AxesSubplot at 0xebfa108>"
      ]
     },
     "execution_count": 14,
     "metadata": {},
     "output_type": "execute_result"
    },
    {
     "data": {
      "image/png": "[encoded data removed]",
      "text/plain": [
       "<Figure size 720x504 with 1 Axes>"
      ]
     },
     "metadata": {
      "needs_background": "light"
     },
     "output_type": "display_data"
    }
   ],
   "source": [
    "df['total_area'].plot(\n",
    "    kind = 'hist',\n",
    "    range=(0,200),\n",
    "    bins=50,\n",
    "    grid = True,\n",
    "    legend = True,\n",
    "    figsize=(10,7),\n",
    "    title = 'Площадь'\n",
    ")"
   ]
  },
  {
   "cell_type": "code",
   "execution_count": 15,
   "metadata": {},
   "outputs": [
    {
     "data": {
      "text/plain": [
       "<matplotlib.axes._subplots.AxesSubplot at 0xfd95f88>"
      ]
     },
     "execution_count": 15,
     "metadata": {},
     "output_type": "execute_result"
    },
    {
     "data": {
      "image/png": "[encoded data removed]",
      "text/plain": [
       "<Figure size 720x504 with 1 Axes>"
      ]
     },
     "metadata": {
      "needs_background": "light"
     },
     "output_type": "display_data"
    }
   ],
   "source": [
    "df['last_price'].plot(\n",
    "    kind = 'hist',\n",
    "    range=(0,30000000),\n",
    "    bins=50,\n",
    "    grid = True,\n",
    "    legend = True,\n",
    "    figsize=(10,7),\n",
    "    title = 'Цена'\n",
    ")"
   ]
  },
  {
   "cell_type": "code",
   "execution_count": 16,
   "metadata": {},
   "outputs": [
    {
     "data": {
      "text/plain": [
       "<matplotlib.axes._subplots.AxesSubplot at 0x1045c488>"
      ]
     },
     "execution_count": 16,
     "metadata": {},
     "output_type": "execute_result"
    },
    {
     "data": {
      "image/png": "[encoded data removed]",
      "text/plain": [
       "<Figure size 720x504 with 1 Axes>"
      ]
     },
     "metadata": {
      "needs_background": "light"
     },
     "output_type": "display_data"
    }
   ],
   "source": [
    "df['rooms'].plot(\n",
    "    kind = 'hist',\n",
    "    range=(0,10),\n",
    "    bins=10,\n",
    "    grid = True,\n",
    "    legend = True,\n",
    "    figsize=(10,7),\n",
    "    title = 'Количество комнат'\n",
    ")"
   ]
  },
  {
   "cell_type": "code",
   "execution_count": 17,
   "metadata": {
    "scrolled": true
   },
   "outputs": [
    {
     "data": {
      "text/plain": [
       "<matplotlib.axes._subplots.AxesSubplot at 0x104d74c8>"
      ]
     },
     "execution_count": 17,
     "metadata": {},
     "output_type": "execute_result"
    },
    {
     "data": {
      "image/png": "[encoded data removed]",
      "text/plain": [
       "<Figure size 720x504 with 1 Axes>"
      ]
     },
     "metadata": {
      "needs_background": "light"
     },
     "output_type": "display_data"
    }
   ],
   "source": [
    "df['ceiling_height'].plot(\n",
    "    kind = 'hist',\n",
    "    range=(2.4, 4),\n",
    "    bins=20,\n",
    "    grid = True,\n",
    "    legend = True,\n",
    "    figsize=(10,7),\n",
    "    title = 'Высота потолков'\n",
    ")"
   ]
  },
  {
   "cell_type": "markdown",
   "metadata": {},
   "source": [
    "#### Вывод: \n",
    "- Площадь имеет несколько пиков, первый  около 35, далее примерно такойже по величине около 45 и чуть меньше около 60 кв м. По всей видимости это совпадает со стандартными площадами для 1, 2 и 3 контатных квартир.\n",
    "- В цене ярко выражено распределение Пуассона с пиком около 4 млн.\n",
    "- Распределение по количеству комнат совпадает с площадью. Наиболее распространены 1 и 2ух комнатные,далее 3 комнатные и 4 комнатные. Остальных вариантов крайне мало\n",
    "- Высота потолков имеет вид распределения Пуассона, с пиком в 2.5 метра"
   ]
  },
  {
   "cell_type": "markdown",
   "metadata": {},
   "source": [
    "#### 4.2 Изучим время продажи квартиры. Посчитаем среднее и медиану. "
   ]
  },
  {
   "cell_type": "code",
   "execution_count": 18,
   "metadata": {},
   "outputs": [
    {
     "data": {
      "text/plain": [
       "<matplotlib.axes._subplots.AxesSubplot at 0x107eb7c8>"
      ]
     },
     "execution_count": 18,
     "metadata": {},
     "output_type": "execute_result"
    },
    {
     "data": {
      "image/png": "[encoded data removed]",
      "text/plain": [
       "<Figure size 432x288 with 1 Axes>"
      ]
     },
     "metadata": {
      "needs_background": "light"
     },
     "output_type": "display_data"
    }
   ],
   "source": [
    "df['days_exposition'].plot(\n",
    "    kind = 'hist',\n",
    "    range=(0, 800),\n",
    "    bins=50,\n",
    "    grid = True,\n",
    "    legend = True,\n",
    "    title = 'Время продажи'\n",
    ")"
   ]
  },
  {
   "cell_type": "code",
   "execution_count": 19,
   "metadata": {},
   "outputs": [
    {
     "data": {
      "image/png": "[encoded data removed]",
      "text/plain": [
       "<Figure size 432x288 with 1 Axes>"
      ]
     },
     "metadata": {
      "needs_background": "light"
     },
     "output_type": "display_data"
    }
   ],
   "source": [
    "df.boxplot(column='days_exposition')\n",
    "plt.show()"
   ]
  },
  {
   "cell_type": "code",
   "execution_count": 20,
   "metadata": {},
   "outputs": [
    {
     "data": {
      "text/plain": [
       "count    20470.000000\n",
       "mean       180.753200\n",
       "std        219.777916\n",
       "min          1.000000\n",
       "25%         45.000000\n",
       "50%         95.000000\n",
       "75%        231.000000\n",
       "max       1580.000000\n",
       "Name: days_exposition, dtype: float64"
      ]
     },
     "execution_count": 20,
     "metadata": {},
     "output_type": "execute_result"
    }
   ],
   "source": [
    "df['days_exposition'].describe()"
   ]
  },
  {
   "cell_type": "markdown",
   "metadata": {},
   "source": [
    "#### Вывод:\n",
    "- Среднее время продажи квартиры 181 день\n",
    "- Медианное время продажи квартиры 95 дней\n",
    "\n",
    "Исходя из полученных данных: \n",
    "- Обычно продажа квартиры занимет от 45 до 231 дня \n",
    "- Очень быстрой является продажа за несколько дней, хотя и это не является редкостью\n",
    "- Довольно быстрой считается продажа до 45 дней \n",
    "- Долгой считается продажа от 231 дня до 510 дней \n",
    "- Очень долгой будет продажа, которая длится более 510 дней."
   ]
  },
  {
   "cell_type": "markdown",
   "metadata": {},
   "source": [
    "#### 4.3 Уберем редкие и выбивающиеся значения."
   ]
  },
  {
   "cell_type": "markdown",
   "metadata": {},
   "source": [
    "Обработаем наиболее важные столбцы: стоимость, площадь и количество комнат."
   ]
  },
  {
   "cell_type": "code",
   "execution_count": 21,
   "metadata": {},
   "outputs": [
    {
     "data": {
      "text/plain": [
       "count    2.365000e+04\n",
       "mean     6.541127e+06\n",
       "std      1.089640e+07\n",
       "min      1.219000e+04\n",
       "25%      3.400000e+06\n",
       "50%      4.650000e+06\n",
       "75%      6.799000e+06\n",
       "max      7.630000e+08\n",
       "Name: last_price, dtype: float64"
      ]
     },
     "execution_count": 21,
     "metadata": {},
     "output_type": "execute_result"
    }
   ],
   "source": [
    "df['last_price'].describe()"
   ]
  },
  {
   "cell_type": "code",
   "execution_count": 22,
   "metadata": {
    "scrolled": true
   },
   "outputs": [
    {
     "data": {
      "text/plain": [
       "(-1698500.0, 11897500.0)"
      ]
     },
     "execution_count": 22,
     "metadata": {},
     "output_type": "execute_result"
    }
   ],
   "source": [
    "#Определим нижнюю и верхнюю границу вбросов\n",
    "min_norma_price = 3.400000e+06 - 1.5*(6.799000e+06 - 3.400000e+06)\n",
    "max_norma_price = 6.799000e+06 + 1.5*(6.799000e+06 - 3.400000e+06)\n",
    "min_norma_price, max_norma_price"
   ]
  },
  {
   "cell_type": "markdown",
   "metadata": {},
   "source": [
    "- Видим, что нижняя граница уходит в отрицательные значения, будем считать, что вбросов по нижней границе нет. \n",
    "- По верхней границе, все что более 11897500.0 будет считаться вбросами и подлежит удалению\n"
   ]
  },
  {
   "cell_type": "code",
   "execution_count": 23,
   "metadata": {},
   "outputs": [
    {
     "data": {
      "text/html": [
       "<div>\n",
       "<style scoped>\n",
       "    .dataframe tbody tr th:only-of-type {\n",
       "        vertical-align: middle;\n",
       "    }\n",
       "\n",
       "    .dataframe tbody tr th {\n",
       "        vertical-align: top;\n",
       "    }\n",
       "\n",
       "    .dataframe thead th {\n",
       "        text-align: right;\n",
       "    }\n",
       "</style>\n",
       "<table border=\"1\" class=\"dataframe\">\n",
       "  <thead>\n",
       "    <tr style=\"text-align: right;\">\n",
       "      <th></th>\n",
       "      <th>total_images</th>\n",
       "      <th>last_price</th>\n",
       "      <th>total_area</th>\n",
       "      <th>first_day_exposition</th>\n",
       "      <th>rooms</th>\n",
       "      <th>ceiling_height</th>\n",
       "      <th>floors_total</th>\n",
       "      <th>living_area</th>\n",
       "      <th>floor</th>\n",
       "      <th>is_apartment</th>\n",
       "      <th>...</th>\n",
       "      <th>ponds_nearest</th>\n",
       "      <th>days_exposition</th>\n",
       "      <th>date_exposition</th>\n",
       "      <th>area_price</th>\n",
       "      <th>weekday</th>\n",
       "      <th>month</th>\n",
       "      <th>year</th>\n",
       "      <th>category_flow</th>\n",
       "      <th>p_living</th>\n",
       "      <th>p_kitchen</th>\n",
       "    </tr>\n",
       "  </thead>\n",
       "  <tbody>\n",
       "    <tr>\n",
       "      <td>1</td>\n",
       "      <td>7</td>\n",
       "      <td>3350000.0</td>\n",
       "      <td>40.40</td>\n",
       "      <td>2018-12-04T00:00:00</td>\n",
       "      <td>1</td>\n",
       "      <td>NaN</td>\n",
       "      <td>11</td>\n",
       "      <td>18.6</td>\n",
       "      <td>1</td>\n",
       "      <td>NaN</td>\n",
       "      <td>...</td>\n",
       "      <td>NaN</td>\n",
       "      <td>81.0</td>\n",
       "      <td>2018-12-04</td>\n",
       "      <td>82920.792079</td>\n",
       "      <td>1</td>\n",
       "      <td>12</td>\n",
       "      <td>2018</td>\n",
       "      <td>первый</td>\n",
       "      <td>0.460396</td>\n",
       "      <td>0.272277</td>\n",
       "    </tr>\n",
       "    <tr>\n",
       "      <td>2</td>\n",
       "      <td>10</td>\n",
       "      <td>5196000.0</td>\n",
       "      <td>56.00</td>\n",
       "      <td>2015-08-20T00:00:00</td>\n",
       "      <td>2</td>\n",
       "      <td>NaN</td>\n",
       "      <td>5</td>\n",
       "      <td>34.3</td>\n",
       "      <td>4</td>\n",
       "      <td>NaN</td>\n",
       "      <td>...</td>\n",
       "      <td>574.0</td>\n",
       "      <td>558.0</td>\n",
       "      <td>2015-08-20</td>\n",
       "      <td>92785.714286</td>\n",
       "      <td>3</td>\n",
       "      <td>8</td>\n",
       "      <td>2015</td>\n",
       "      <td>другой</td>\n",
       "      <td>0.612500</td>\n",
       "      <td>0.148214</td>\n",
       "    </tr>\n",
       "    <tr>\n",
       "      <td>4</td>\n",
       "      <td>2</td>\n",
       "      <td>10000000.0</td>\n",
       "      <td>100.00</td>\n",
       "      <td>2018-06-19T00:00:00</td>\n",
       "      <td>2</td>\n",
       "      <td>3.03</td>\n",
       "      <td>14</td>\n",
       "      <td>32.0</td>\n",
       "      <td>13</td>\n",
       "      <td>NaN</td>\n",
       "      <td>...</td>\n",
       "      <td>48.0</td>\n",
       "      <td>121.0</td>\n",
       "      <td>2018-06-19</td>\n",
       "      <td>100000.000000</td>\n",
       "      <td>1</td>\n",
       "      <td>6</td>\n",
       "      <td>2018</td>\n",
       "      <td>другой</td>\n",
       "      <td>0.320000</td>\n",
       "      <td>0.410000</td>\n",
       "    </tr>\n",
       "    <tr>\n",
       "      <td>5</td>\n",
       "      <td>10</td>\n",
       "      <td>2890000.0</td>\n",
       "      <td>30.40</td>\n",
       "      <td>2018-09-10T00:00:00</td>\n",
       "      <td>1</td>\n",
       "      <td>NaN</td>\n",
       "      <td>12</td>\n",
       "      <td>14.4</td>\n",
       "      <td>5</td>\n",
       "      <td>NaN</td>\n",
       "      <td>...</td>\n",
       "      <td>NaN</td>\n",
       "      <td>55.0</td>\n",
       "      <td>2018-09-10</td>\n",
       "      <td>95065.789474</td>\n",
       "      <td>0</td>\n",
       "      <td>9</td>\n",
       "      <td>2018</td>\n",
       "      <td>другой</td>\n",
       "      <td>0.473684</td>\n",
       "      <td>0.299342</td>\n",
       "    </tr>\n",
       "    <tr>\n",
       "      <td>6</td>\n",
       "      <td>6</td>\n",
       "      <td>3700000.0</td>\n",
       "      <td>37.30</td>\n",
       "      <td>2017-11-02T00:00:00</td>\n",
       "      <td>1</td>\n",
       "      <td>NaN</td>\n",
       "      <td>26</td>\n",
       "      <td>10.6</td>\n",
       "      <td>6</td>\n",
       "      <td>NaN</td>\n",
       "      <td>...</td>\n",
       "      <td>NaN</td>\n",
       "      <td>155.0</td>\n",
       "      <td>2017-11-02</td>\n",
       "      <td>99195.710456</td>\n",
       "      <td>3</td>\n",
       "      <td>11</td>\n",
       "      <td>2017</td>\n",
       "      <td>другой</td>\n",
       "      <td>0.284182</td>\n",
       "      <td>0.386059</td>\n",
       "    </tr>\n",
       "    <tr>\n",
       "      <td>...</td>\n",
       "      <td>...</td>\n",
       "      <td>...</td>\n",
       "      <td>...</td>\n",
       "      <td>...</td>\n",
       "      <td>...</td>\n",
       "      <td>...</td>\n",
       "      <td>...</td>\n",
       "      <td>...</td>\n",
       "      <td>...</td>\n",
       "      <td>...</td>\n",
       "      <td>...</td>\n",
       "      <td>...</td>\n",
       "      <td>...</td>\n",
       "      <td>...</td>\n",
       "      <td>...</td>\n",
       "      <td>...</td>\n",
       "      <td>...</td>\n",
       "      <td>...</td>\n",
       "      <td>...</td>\n",
       "      <td>...</td>\n",
       "      <td>...</td>\n",
       "    </tr>\n",
       "    <tr>\n",
       "      <td>23694</td>\n",
       "      <td>9</td>\n",
       "      <td>9700000.0</td>\n",
       "      <td>133.81</td>\n",
       "      <td>2017-03-21T00:00:00</td>\n",
       "      <td>3</td>\n",
       "      <td>3.70</td>\n",
       "      <td>5</td>\n",
       "      <td>73.3</td>\n",
       "      <td>3</td>\n",
       "      <td>NaN</td>\n",
       "      <td>...</td>\n",
       "      <td>381.0</td>\n",
       "      <td>NaN</td>\n",
       "      <td>2017-03-21</td>\n",
       "      <td>72490.845228</td>\n",
       "      <td>1</td>\n",
       "      <td>3</td>\n",
       "      <td>2017</td>\n",
       "      <td>другой</td>\n",
       "      <td>0.547792</td>\n",
       "      <td>0.103356</td>\n",
       "    </tr>\n",
       "    <tr>\n",
       "      <td>23695</td>\n",
       "      <td>14</td>\n",
       "      <td>3100000.0</td>\n",
       "      <td>59.00</td>\n",
       "      <td>2018-01-15T00:00:00</td>\n",
       "      <td>3</td>\n",
       "      <td>NaN</td>\n",
       "      <td>5</td>\n",
       "      <td>38.0</td>\n",
       "      <td>4</td>\n",
       "      <td>NaN</td>\n",
       "      <td>...</td>\n",
       "      <td>NaN</td>\n",
       "      <td>45.0</td>\n",
       "      <td>2018-01-15</td>\n",
       "      <td>52542.372881</td>\n",
       "      <td>0</td>\n",
       "      <td>1</td>\n",
       "      <td>2018</td>\n",
       "      <td>другой</td>\n",
       "      <td>0.644068</td>\n",
       "      <td>0.144068</td>\n",
       "    </tr>\n",
       "    <tr>\n",
       "      <td>23696</td>\n",
       "      <td>18</td>\n",
       "      <td>2500000.0</td>\n",
       "      <td>56.70</td>\n",
       "      <td>2018-02-11T00:00:00</td>\n",
       "      <td>2</td>\n",
       "      <td>NaN</td>\n",
       "      <td>3</td>\n",
       "      <td>29.7</td>\n",
       "      <td>1</td>\n",
       "      <td>NaN</td>\n",
       "      <td>...</td>\n",
       "      <td>NaN</td>\n",
       "      <td>NaN</td>\n",
       "      <td>2018-02-11</td>\n",
       "      <td>44091.710758</td>\n",
       "      <td>6</td>\n",
       "      <td>2</td>\n",
       "      <td>2018</td>\n",
       "      <td>первый</td>\n",
       "      <td>0.523810</td>\n",
       "      <td>NaN</td>\n",
       "    </tr>\n",
       "    <tr>\n",
       "      <td>23697</td>\n",
       "      <td>13</td>\n",
       "      <td>11475000.0</td>\n",
       "      <td>76.75</td>\n",
       "      <td>2017-03-28T00:00:00</td>\n",
       "      <td>2</td>\n",
       "      <td>3.00</td>\n",
       "      <td>17</td>\n",
       "      <td>NaN</td>\n",
       "      <td>12</td>\n",
       "      <td>NaN</td>\n",
       "      <td>...</td>\n",
       "      <td>196.0</td>\n",
       "      <td>602.0</td>\n",
       "      <td>2017-03-28</td>\n",
       "      <td>149511.400651</td>\n",
       "      <td>1</td>\n",
       "      <td>3</td>\n",
       "      <td>2017</td>\n",
       "      <td>другой</td>\n",
       "      <td>NaN</td>\n",
       "      <td>0.303583</td>\n",
       "    </tr>\n",
       "    <tr>\n",
       "      <td>23698</td>\n",
       "      <td>4</td>\n",
       "      <td>1350000.0</td>\n",
       "      <td>32.30</td>\n",
       "      <td>2017-07-21T00:00:00</td>\n",
       "      <td>1</td>\n",
       "      <td>2.50</td>\n",
       "      <td>5</td>\n",
       "      <td>12.3</td>\n",
       "      <td>1</td>\n",
       "      <td>NaN</td>\n",
       "      <td>...</td>\n",
       "      <td>NaN</td>\n",
       "      <td>NaN</td>\n",
       "      <td>2017-07-21</td>\n",
       "      <td>41795.665635</td>\n",
       "      <td>4</td>\n",
       "      <td>7</td>\n",
       "      <td>2017</td>\n",
       "      <td>первый</td>\n",
       "      <td>0.380805</td>\n",
       "      <td>0.278638</td>\n",
       "    </tr>\n",
       "  </tbody>\n",
       "</table>\n",
       "<p>21595 rows × 30 columns</p>\n",
       "</div>"
      ],
      "text/plain": [
       "       total_images  last_price  total_area first_day_exposition  rooms  \\\n",
       "1                 7   3350000.0       40.40  2018-12-04T00:00:00      1   \n",
       "2                10   5196000.0       56.00  2015-08-20T00:00:00      2   \n",
       "4                 2  10000000.0      100.00  2018-06-19T00:00:00      2   \n",
       "5                10   2890000.0       30.40  2018-09-10T00:00:00      1   \n",
       "6                 6   3700000.0       37.30  2017-11-02T00:00:00      1   \n",
       "...             ...         ...         ...                  ...    ...   \n",
       "23694             9   9700000.0      133.81  2017-03-21T00:00:00      3   \n",
       "23695            14   3100000.0       59.00  2018-01-15T00:00:00      3   \n",
       "23696            18   2500000.0       56.70  2018-02-11T00:00:00      2   \n",
       "23697            13  11475000.0       76.75  2017-03-28T00:00:00      2   \n",
       "23698             4   1350000.0       32.30  2017-07-21T00:00:00      1   \n",
       "\n",
       "       ceiling_height  floors_total  living_area  floor is_apartment  ...  \\\n",
       "1                 NaN            11         18.6      1          NaN  ...   \n",
       "2                 NaN             5         34.3      4          NaN  ...   \n",
       "4                3.03            14         32.0     13          NaN  ...   \n",
       "5                 NaN            12         14.4      5          NaN  ...   \n",
       "6                 NaN            26         10.6      6          NaN  ...   \n",
       "...               ...           ...          ...    ...          ...  ...   \n",
       "23694            3.70             5         73.3      3          NaN  ...   \n",
       "23695             NaN             5         38.0      4          NaN  ...   \n",
       "23696             NaN             3         29.7      1          NaN  ...   \n",
       "23697            3.00            17          NaN     12          NaN  ...   \n",
       "23698            2.50             5         12.3      1          NaN  ...   \n",
       "\n",
       "       ponds_nearest  days_exposition  date_exposition     area_price weekday  \\\n",
       "1                NaN             81.0       2018-12-04   82920.792079       1   \n",
       "2              574.0            558.0       2015-08-20   92785.714286       3   \n",
       "4               48.0            121.0       2018-06-19  100000.000000       1   \n",
       "5                NaN             55.0       2018-09-10   95065.789474       0   \n",
       "6                NaN            155.0       2017-11-02   99195.710456       3   \n",
       "...              ...              ...              ...            ...     ...   \n",
       "23694          381.0              NaN       2017-03-21   72490.845228       1   \n",
       "23695            NaN             45.0       2018-01-15   52542.372881       0   \n",
       "23696            NaN              NaN       2018-02-11   44091.710758       6   \n",
       "23697          196.0            602.0       2017-03-28  149511.400651       1   \n",
       "23698            NaN              NaN       2017-07-21   41795.665635       4   \n",
       "\n",
       "       month  year  category_flow  p_living  p_kitchen  \n",
       "1         12  2018         первый  0.460396   0.272277  \n",
       "2          8  2015         другой  0.612500   0.148214  \n",
       "4          6  2018         другой  0.320000   0.410000  \n",
       "5          9  2018         другой  0.473684   0.299342  \n",
       "6         11  2017         другой  0.284182   0.386059  \n",
       "...      ...   ...            ...       ...        ...  \n",
       "23694      3  2017         другой  0.547792   0.103356  \n",
       "23695      1  2018         другой  0.644068   0.144068  \n",
       "23696      2  2018         первый  0.523810        NaN  \n",
       "23697      3  2017         другой       NaN   0.303583  \n",
       "23698      7  2017         первый  0.380805   0.278638  \n",
       "\n",
       "[21595 rows x 30 columns]"
      ]
     },
     "execution_count": 23,
     "metadata": {},
     "output_type": "execute_result"
    }
   ],
   "source": [
    "good_df = df.query('last_price < @max_norma_price')\n",
    "good_df"
   ]
  },
  {
   "cell_type": "code",
   "execution_count": 24,
   "metadata": {},
   "outputs": [
    {
     "data": {
      "text/plain": [
       "count    23650.000000\n",
       "mean        60.329069\n",
       "std         35.661808\n",
       "min         12.000000\n",
       "25%         40.000000\n",
       "50%         52.000000\n",
       "75%         69.700000\n",
       "max        900.000000\n",
       "Name: total_area, dtype: float64"
      ]
     },
     "execution_count": 24,
     "metadata": {},
     "output_type": "execute_result"
    }
   ],
   "source": [
    "#Определим нижнюю и верхнюю границу вбросов по площади\n",
    "df['total_area'].describe()"
   ]
  },
  {
   "cell_type": "code",
   "execution_count": 25,
   "metadata": {},
   "outputs": [
    {
     "data": {
      "text/plain": [
       "(-4.550000000000004, 114.25)"
      ]
     },
     "execution_count": 25,
     "metadata": {},
     "output_type": "execute_result"
    }
   ],
   "source": [
    "min_norma_area = 40 - 1.5*(69.7 - 40)\n",
    "max_norma_area = 69.7 + 1.5*(69.7 - 40)\n",
    "min_norma_area, max_norma_area"
   ]
  },
  {
   "cell_type": "markdown",
   "metadata": {},
   "source": [
    "- Видим, что нижняя граница уходит в отрицательные значения, будем считать, что вбросов по нижней границе нет. \n",
    "- По верхней границе, все что более 114.25 будет считаться вбросами и подлежит удалению"
   ]
  },
  {
   "cell_type": "code",
   "execution_count": 26,
   "metadata": {
    "scrolled": true
   },
   "outputs": [
    {
     "data": {
      "text/html": [
       "<div>\n",
       "<style scoped>\n",
       "    .dataframe tbody tr th:only-of-type {\n",
       "        vertical-align: middle;\n",
       "    }\n",
       "\n",
       "    .dataframe tbody tr th {\n",
       "        vertical-align: top;\n",
       "    }\n",
       "\n",
       "    .dataframe thead th {\n",
       "        text-align: right;\n",
       "    }\n",
       "</style>\n",
       "<table border=\"1\" class=\"dataframe\">\n",
       "  <thead>\n",
       "    <tr style=\"text-align: right;\">\n",
       "      <th></th>\n",
       "      <th>total_images</th>\n",
       "      <th>last_price</th>\n",
       "      <th>total_area</th>\n",
       "      <th>first_day_exposition</th>\n",
       "      <th>rooms</th>\n",
       "      <th>ceiling_height</th>\n",
       "      <th>floors_total</th>\n",
       "      <th>living_area</th>\n",
       "      <th>floor</th>\n",
       "      <th>is_apartment</th>\n",
       "      <th>...</th>\n",
       "      <th>ponds_nearest</th>\n",
       "      <th>days_exposition</th>\n",
       "      <th>date_exposition</th>\n",
       "      <th>area_price</th>\n",
       "      <th>weekday</th>\n",
       "      <th>month</th>\n",
       "      <th>year</th>\n",
       "      <th>category_flow</th>\n",
       "      <th>p_living</th>\n",
       "      <th>p_kitchen</th>\n",
       "    </tr>\n",
       "  </thead>\n",
       "  <tbody>\n",
       "    <tr>\n",
       "      <td>1</td>\n",
       "      <td>7</td>\n",
       "      <td>3350000.0</td>\n",
       "      <td>40.40</td>\n",
       "      <td>2018-12-04T00:00:00</td>\n",
       "      <td>1</td>\n",
       "      <td>NaN</td>\n",
       "      <td>11</td>\n",
       "      <td>18.6</td>\n",
       "      <td>1</td>\n",
       "      <td>NaN</td>\n",
       "      <td>...</td>\n",
       "      <td>NaN</td>\n",
       "      <td>81.0</td>\n",
       "      <td>2018-12-04</td>\n",
       "      <td>82920.792079</td>\n",
       "      <td>1</td>\n",
       "      <td>12</td>\n",
       "      <td>2018</td>\n",
       "      <td>первый</td>\n",
       "      <td>0.460396</td>\n",
       "      <td>0.272277</td>\n",
       "    </tr>\n",
       "    <tr>\n",
       "      <td>2</td>\n",
       "      <td>10</td>\n",
       "      <td>5196000.0</td>\n",
       "      <td>56.00</td>\n",
       "      <td>2015-08-20T00:00:00</td>\n",
       "      <td>2</td>\n",
       "      <td>NaN</td>\n",
       "      <td>5</td>\n",
       "      <td>34.3</td>\n",
       "      <td>4</td>\n",
       "      <td>NaN</td>\n",
       "      <td>...</td>\n",
       "      <td>574.0</td>\n",
       "      <td>558.0</td>\n",
       "      <td>2015-08-20</td>\n",
       "      <td>92785.714286</td>\n",
       "      <td>3</td>\n",
       "      <td>8</td>\n",
       "      <td>2015</td>\n",
       "      <td>другой</td>\n",
       "      <td>0.612500</td>\n",
       "      <td>0.148214</td>\n",
       "    </tr>\n",
       "    <tr>\n",
       "      <td>4</td>\n",
       "      <td>2</td>\n",
       "      <td>10000000.0</td>\n",
       "      <td>100.00</td>\n",
       "      <td>2018-06-19T00:00:00</td>\n",
       "      <td>2</td>\n",
       "      <td>3.03</td>\n",
       "      <td>14</td>\n",
       "      <td>32.0</td>\n",
       "      <td>13</td>\n",
       "      <td>NaN</td>\n",
       "      <td>...</td>\n",
       "      <td>48.0</td>\n",
       "      <td>121.0</td>\n",
       "      <td>2018-06-19</td>\n",
       "      <td>100000.000000</td>\n",
       "      <td>1</td>\n",
       "      <td>6</td>\n",
       "      <td>2018</td>\n",
       "      <td>другой</td>\n",
       "      <td>0.320000</td>\n",
       "      <td>0.410000</td>\n",
       "    </tr>\n",
       "    <tr>\n",
       "      <td>5</td>\n",
       "      <td>10</td>\n",
       "      <td>2890000.0</td>\n",
       "      <td>30.40</td>\n",
       "      <td>2018-09-10T00:00:00</td>\n",
       "      <td>1</td>\n",
       "      <td>NaN</td>\n",
       "      <td>12</td>\n",
       "      <td>14.4</td>\n",
       "      <td>5</td>\n",
       "      <td>NaN</td>\n",
       "      <td>...</td>\n",
       "      <td>NaN</td>\n",
       "      <td>55.0</td>\n",
       "      <td>2018-09-10</td>\n",
       "      <td>95065.789474</td>\n",
       "      <td>0</td>\n",
       "      <td>9</td>\n",
       "      <td>2018</td>\n",
       "      <td>другой</td>\n",
       "      <td>0.473684</td>\n",
       "      <td>0.299342</td>\n",
       "    </tr>\n",
       "    <tr>\n",
       "      <td>6</td>\n",
       "      <td>6</td>\n",
       "      <td>3700000.0</td>\n",
       "      <td>37.30</td>\n",
       "      <td>2017-11-02T00:00:00</td>\n",
       "      <td>1</td>\n",
       "      <td>NaN</td>\n",
       "      <td>26</td>\n",
       "      <td>10.6</td>\n",
       "      <td>6</td>\n",
       "      <td>NaN</td>\n",
       "      <td>...</td>\n",
       "      <td>NaN</td>\n",
       "      <td>155.0</td>\n",
       "      <td>2017-11-02</td>\n",
       "      <td>99195.710456</td>\n",
       "      <td>3</td>\n",
       "      <td>11</td>\n",
       "      <td>2017</td>\n",
       "      <td>другой</td>\n",
       "      <td>0.284182</td>\n",
       "      <td>0.386059</td>\n",
       "    </tr>\n",
       "    <tr>\n",
       "      <td>...</td>\n",
       "      <td>...</td>\n",
       "      <td>...</td>\n",
       "      <td>...</td>\n",
       "      <td>...</td>\n",
       "      <td>...</td>\n",
       "      <td>...</td>\n",
       "      <td>...</td>\n",
       "      <td>...</td>\n",
       "      <td>...</td>\n",
       "      <td>...</td>\n",
       "      <td>...</td>\n",
       "      <td>...</td>\n",
       "      <td>...</td>\n",
       "      <td>...</td>\n",
       "      <td>...</td>\n",
       "      <td>...</td>\n",
       "      <td>...</td>\n",
       "      <td>...</td>\n",
       "      <td>...</td>\n",
       "      <td>...</td>\n",
       "      <td>...</td>\n",
       "    </tr>\n",
       "    <tr>\n",
       "      <td>23693</td>\n",
       "      <td>9</td>\n",
       "      <td>4600000.0</td>\n",
       "      <td>62.40</td>\n",
       "      <td>2016-08-05T00:00:00</td>\n",
       "      <td>3</td>\n",
       "      <td>2.60</td>\n",
       "      <td>9</td>\n",
       "      <td>40.0</td>\n",
       "      <td>8</td>\n",
       "      <td>NaN</td>\n",
       "      <td>...</td>\n",
       "      <td>675.0</td>\n",
       "      <td>239.0</td>\n",
       "      <td>2016-08-05</td>\n",
       "      <td>73717.948718</td>\n",
       "      <td>4</td>\n",
       "      <td>8</td>\n",
       "      <td>2016</td>\n",
       "      <td>другой</td>\n",
       "      <td>0.641026</td>\n",
       "      <td>0.128205</td>\n",
       "    </tr>\n",
       "    <tr>\n",
       "      <td>23695</td>\n",
       "      <td>14</td>\n",
       "      <td>3100000.0</td>\n",
       "      <td>59.00</td>\n",
       "      <td>2018-01-15T00:00:00</td>\n",
       "      <td>3</td>\n",
       "      <td>NaN</td>\n",
       "      <td>5</td>\n",
       "      <td>38.0</td>\n",
       "      <td>4</td>\n",
       "      <td>NaN</td>\n",
       "      <td>...</td>\n",
       "      <td>NaN</td>\n",
       "      <td>45.0</td>\n",
       "      <td>2018-01-15</td>\n",
       "      <td>52542.372881</td>\n",
       "      <td>0</td>\n",
       "      <td>1</td>\n",
       "      <td>2018</td>\n",
       "      <td>другой</td>\n",
       "      <td>0.644068</td>\n",
       "      <td>0.144068</td>\n",
       "    </tr>\n",
       "    <tr>\n",
       "      <td>23696</td>\n",
       "      <td>18</td>\n",
       "      <td>2500000.0</td>\n",
       "      <td>56.70</td>\n",
       "      <td>2018-02-11T00:00:00</td>\n",
       "      <td>2</td>\n",
       "      <td>NaN</td>\n",
       "      <td>3</td>\n",
       "      <td>29.7</td>\n",
       "      <td>1</td>\n",
       "      <td>NaN</td>\n",
       "      <td>...</td>\n",
       "      <td>NaN</td>\n",
       "      <td>NaN</td>\n",
       "      <td>2018-02-11</td>\n",
       "      <td>44091.710758</td>\n",
       "      <td>6</td>\n",
       "      <td>2</td>\n",
       "      <td>2018</td>\n",
       "      <td>первый</td>\n",
       "      <td>0.523810</td>\n",
       "      <td>NaN</td>\n",
       "    </tr>\n",
       "    <tr>\n",
       "      <td>23697</td>\n",
       "      <td>13</td>\n",
       "      <td>11475000.0</td>\n",
       "      <td>76.75</td>\n",
       "      <td>2017-03-28T00:00:00</td>\n",
       "      <td>2</td>\n",
       "      <td>3.00</td>\n",
       "      <td>17</td>\n",
       "      <td>NaN</td>\n",
       "      <td>12</td>\n",
       "      <td>NaN</td>\n",
       "      <td>...</td>\n",
       "      <td>196.0</td>\n",
       "      <td>602.0</td>\n",
       "      <td>2017-03-28</td>\n",
       "      <td>149511.400651</td>\n",
       "      <td>1</td>\n",
       "      <td>3</td>\n",
       "      <td>2017</td>\n",
       "      <td>другой</td>\n",
       "      <td>NaN</td>\n",
       "      <td>0.303583</td>\n",
       "    </tr>\n",
       "    <tr>\n",
       "      <td>23698</td>\n",
       "      <td>4</td>\n",
       "      <td>1350000.0</td>\n",
       "      <td>32.30</td>\n",
       "      <td>2017-07-21T00:00:00</td>\n",
       "      <td>1</td>\n",
       "      <td>2.50</td>\n",
       "      <td>5</td>\n",
       "      <td>12.3</td>\n",
       "      <td>1</td>\n",
       "      <td>NaN</td>\n",
       "      <td>...</td>\n",
       "      <td>NaN</td>\n",
       "      <td>NaN</td>\n",
       "      <td>2017-07-21</td>\n",
       "      <td>41795.665635</td>\n",
       "      <td>4</td>\n",
       "      <td>7</td>\n",
       "      <td>2017</td>\n",
       "      <td>первый</td>\n",
       "      <td>0.380805</td>\n",
       "      <td>0.278638</td>\n",
       "    </tr>\n",
       "  </tbody>\n",
       "</table>\n",
       "<p>21413 rows × 30 columns</p>\n",
       "</div>"
      ],
      "text/plain": [
       "       total_images  last_price  total_area first_day_exposition  rooms  \\\n",
       "1                 7   3350000.0       40.40  2018-12-04T00:00:00      1   \n",
       "2                10   5196000.0       56.00  2015-08-20T00:00:00      2   \n",
       "4                 2  10000000.0      100.00  2018-06-19T00:00:00      2   \n",
       "5                10   2890000.0       30.40  2018-09-10T00:00:00      1   \n",
       "6                 6   3700000.0       37.30  2017-11-02T00:00:00      1   \n",
       "...             ...         ...         ...                  ...    ...   \n",
       "23693             9   4600000.0       62.40  2016-08-05T00:00:00      3   \n",
       "23695            14   3100000.0       59.00  2018-01-15T00:00:00      3   \n",
       "23696            18   2500000.0       56.70  2018-02-11T00:00:00      2   \n",
       "23697            13  11475000.0       76.75  2017-03-28T00:00:00      2   \n",
       "23698             4   1350000.0       32.30  2017-07-21T00:00:00      1   \n",
       "\n",
       "       ceiling_height  floors_total  living_area  floor is_apartment  ...  \\\n",
       "1                 NaN            11         18.6      1          NaN  ...   \n",
       "2                 NaN             5         34.3      4          NaN  ...   \n",
       "4                3.03            14         32.0     13          NaN  ...   \n",
       "5                 NaN            12         14.4      5          NaN  ...   \n",
       "6                 NaN            26         10.6      6          NaN  ...   \n",
       "...               ...           ...          ...    ...          ...  ...   \n",
       "23693            2.60             9         40.0      8          NaN  ...   \n",
       "23695             NaN             5         38.0      4          NaN  ...   \n",
       "23696             NaN             3         29.7      1          NaN  ...   \n",
       "23697            3.00            17          NaN     12          NaN  ...   \n",
       "23698            2.50             5         12.3      1          NaN  ...   \n",
       "\n",
       "       ponds_nearest  days_exposition  date_exposition     area_price weekday  \\\n",
       "1                NaN             81.0       2018-12-04   82920.792079       1   \n",
       "2              574.0            558.0       2015-08-20   92785.714286       3   \n",
       "4               48.0            121.0       2018-06-19  100000.000000       1   \n",
       "5                NaN             55.0       2018-09-10   95065.789474       0   \n",
       "6                NaN            155.0       2017-11-02   99195.710456       3   \n",
       "...              ...              ...              ...            ...     ...   \n",
       "23693          675.0            239.0       2016-08-05   73717.948718       4   \n",
       "23695            NaN             45.0       2018-01-15   52542.372881       0   \n",
       "23696            NaN              NaN       2018-02-11   44091.710758       6   \n",
       "23697          196.0            602.0       2017-03-28  149511.400651       1   \n",
       "23698            NaN              NaN       2017-07-21   41795.665635       4   \n",
       "\n",
       "       month  year  category_flow  p_living  p_kitchen  \n",
       "1         12  2018         первый  0.460396   0.272277  \n",
       "2          8  2015         другой  0.612500   0.148214  \n",
       "4          6  2018         другой  0.320000   0.410000  \n",
       "5          9  2018         другой  0.473684   0.299342  \n",
       "6         11  2017         другой  0.284182   0.386059  \n",
       "...      ...   ...            ...       ...        ...  \n",
       "23693      8  2016         другой  0.641026   0.128205  \n",
       "23695      1  2018         другой  0.644068   0.144068  \n",
       "23696      2  2018         первый  0.523810        NaN  \n",
       "23697      3  2017         другой       NaN   0.303583  \n",
       "23698      7  2017         первый  0.380805   0.278638  \n",
       "\n",
       "[21413 rows x 30 columns]"
      ]
     },
     "execution_count": 26,
     "metadata": {},
     "output_type": "execute_result"
    }
   ],
   "source": [
    "good_df = good_df.query('total_area < @max_norma_area')\n",
    "good_df"
   ]
  },
  {
   "cell_type": "code",
   "execution_count": 27,
   "metadata": {},
   "outputs": [
    {
     "data": {
      "text/plain": [
       "count    23650.000000\n",
       "mean         2.070106\n",
       "std          1.078620\n",
       "min          0.000000\n",
       "25%          1.000000\n",
       "50%          2.000000\n",
       "75%          3.000000\n",
       "max         19.000000\n",
       "Name: rooms, dtype: float64"
      ]
     },
     "execution_count": 27,
     "metadata": {},
     "output_type": "execute_result"
    }
   ],
   "source": [
    "#Определим нижнюю и верхнюю границу вбросов по площади\n",
    "df['rooms'].describe()"
   ]
  },
  {
   "cell_type": "code",
   "execution_count": 28,
   "metadata": {},
   "outputs": [
    {
     "data": {
      "text/plain": [
       "(-2.0, 6.0)"
      ]
     },
     "execution_count": 28,
     "metadata": {},
     "output_type": "execute_result"
    }
   ],
   "source": [
    "min_norma_rooms = 1 - 1.5*(3 - 1)\n",
    "max_norma_rooms = 3 + 1.5*(3 - 1)\n",
    "min_norma_rooms, max_norma_rooms"
   ]
  },
  {
   "cell_type": "markdown",
   "metadata": {},
   "source": [
    "- Видим, что нижняя граница уходит в отрицательные значения, будем считать, что вбросов по нижней границе нет. \n",
    "- По верхней границе, все что более 6 будет считаться вбросами и подлежит удалению"
   ]
  },
  {
   "cell_type": "code",
   "execution_count": 29,
   "metadata": {},
   "outputs": [
    {
     "data": {
      "text/html": [
       "<div>\n",
       "<style scoped>\n",
       "    .dataframe tbody tr th:only-of-type {\n",
       "        vertical-align: middle;\n",
       "    }\n",
       "\n",
       "    .dataframe tbody tr th {\n",
       "        vertical-align: top;\n",
       "    }\n",
       "\n",
       "    .dataframe thead th {\n",
       "        text-align: right;\n",
       "    }\n",
       "</style>\n",
       "<table border=\"1\" class=\"dataframe\">\n",
       "  <thead>\n",
       "    <tr style=\"text-align: right;\">\n",
       "      <th></th>\n",
       "      <th>total_images</th>\n",
       "      <th>last_price</th>\n",
       "      <th>total_area</th>\n",
       "      <th>first_day_exposition</th>\n",
       "      <th>rooms</th>\n",
       "      <th>ceiling_height</th>\n",
       "      <th>floors_total</th>\n",
       "      <th>living_area</th>\n",
       "      <th>floor</th>\n",
       "      <th>is_apartment</th>\n",
       "      <th>...</th>\n",
       "      <th>ponds_nearest</th>\n",
       "      <th>days_exposition</th>\n",
       "      <th>date_exposition</th>\n",
       "      <th>area_price</th>\n",
       "      <th>weekday</th>\n",
       "      <th>month</th>\n",
       "      <th>year</th>\n",
       "      <th>category_flow</th>\n",
       "      <th>p_living</th>\n",
       "      <th>p_kitchen</th>\n",
       "    </tr>\n",
       "  </thead>\n",
       "  <tbody>\n",
       "    <tr>\n",
       "      <td>1</td>\n",
       "      <td>7</td>\n",
       "      <td>3350000.0</td>\n",
       "      <td>40.40</td>\n",
       "      <td>2018-12-04T00:00:00</td>\n",
       "      <td>1</td>\n",
       "      <td>NaN</td>\n",
       "      <td>11</td>\n",
       "      <td>18.6</td>\n",
       "      <td>1</td>\n",
       "      <td>NaN</td>\n",
       "      <td>...</td>\n",
       "      <td>NaN</td>\n",
       "      <td>81.0</td>\n",
       "      <td>2018-12-04</td>\n",
       "      <td>82920.792079</td>\n",
       "      <td>1</td>\n",
       "      <td>12</td>\n",
       "      <td>2018</td>\n",
       "      <td>первый</td>\n",
       "      <td>0.460396</td>\n",
       "      <td>0.272277</td>\n",
       "    </tr>\n",
       "    <tr>\n",
       "      <td>2</td>\n",
       "      <td>10</td>\n",
       "      <td>5196000.0</td>\n",
       "      <td>56.00</td>\n",
       "      <td>2015-08-20T00:00:00</td>\n",
       "      <td>2</td>\n",
       "      <td>NaN</td>\n",
       "      <td>5</td>\n",
       "      <td>34.3</td>\n",
       "      <td>4</td>\n",
       "      <td>NaN</td>\n",
       "      <td>...</td>\n",
       "      <td>574.0</td>\n",
       "      <td>558.0</td>\n",
       "      <td>2015-08-20</td>\n",
       "      <td>92785.714286</td>\n",
       "      <td>3</td>\n",
       "      <td>8</td>\n",
       "      <td>2015</td>\n",
       "      <td>другой</td>\n",
       "      <td>0.612500</td>\n",
       "      <td>0.148214</td>\n",
       "    </tr>\n",
       "    <tr>\n",
       "      <td>4</td>\n",
       "      <td>2</td>\n",
       "      <td>10000000.0</td>\n",
       "      <td>100.00</td>\n",
       "      <td>2018-06-19T00:00:00</td>\n",
       "      <td>2</td>\n",
       "      <td>3.03</td>\n",
       "      <td>14</td>\n",
       "      <td>32.0</td>\n",
       "      <td>13</td>\n",
       "      <td>NaN</td>\n",
       "      <td>...</td>\n",
       "      <td>48.0</td>\n",
       "      <td>121.0</td>\n",
       "      <td>2018-06-19</td>\n",
       "      <td>100000.000000</td>\n",
       "      <td>1</td>\n",
       "      <td>6</td>\n",
       "      <td>2018</td>\n",
       "      <td>другой</td>\n",
       "      <td>0.320000</td>\n",
       "      <td>0.410000</td>\n",
       "    </tr>\n",
       "    <tr>\n",
       "      <td>5</td>\n",
       "      <td>10</td>\n",
       "      <td>2890000.0</td>\n",
       "      <td>30.40</td>\n",
       "      <td>2018-09-10T00:00:00</td>\n",
       "      <td>1</td>\n",
       "      <td>NaN</td>\n",
       "      <td>12</td>\n",
       "      <td>14.4</td>\n",
       "      <td>5</td>\n",
       "      <td>NaN</td>\n",
       "      <td>...</td>\n",
       "      <td>NaN</td>\n",
       "      <td>55.0</td>\n",
       "      <td>2018-09-10</td>\n",
       "      <td>95065.789474</td>\n",
       "      <td>0</td>\n",
       "      <td>9</td>\n",
       "      <td>2018</td>\n",
       "      <td>другой</td>\n",
       "      <td>0.473684</td>\n",
       "      <td>0.299342</td>\n",
       "    </tr>\n",
       "    <tr>\n",
       "      <td>6</td>\n",
       "      <td>6</td>\n",
       "      <td>3700000.0</td>\n",
       "      <td>37.30</td>\n",
       "      <td>2017-11-02T00:00:00</td>\n",
       "      <td>1</td>\n",
       "      <td>NaN</td>\n",
       "      <td>26</td>\n",
       "      <td>10.6</td>\n",
       "      <td>6</td>\n",
       "      <td>NaN</td>\n",
       "      <td>...</td>\n",
       "      <td>NaN</td>\n",
       "      <td>155.0</td>\n",
       "      <td>2017-11-02</td>\n",
       "      <td>99195.710456</td>\n",
       "      <td>3</td>\n",
       "      <td>11</td>\n",
       "      <td>2017</td>\n",
       "      <td>другой</td>\n",
       "      <td>0.284182</td>\n",
       "      <td>0.386059</td>\n",
       "    </tr>\n",
       "    <tr>\n",
       "      <td>...</td>\n",
       "      <td>...</td>\n",
       "      <td>...</td>\n",
       "      <td>...</td>\n",
       "      <td>...</td>\n",
       "      <td>...</td>\n",
       "      <td>...</td>\n",
       "      <td>...</td>\n",
       "      <td>...</td>\n",
       "      <td>...</td>\n",
       "      <td>...</td>\n",
       "      <td>...</td>\n",
       "      <td>...</td>\n",
       "      <td>...</td>\n",
       "      <td>...</td>\n",
       "      <td>...</td>\n",
       "      <td>...</td>\n",
       "      <td>...</td>\n",
       "      <td>...</td>\n",
       "      <td>...</td>\n",
       "      <td>...</td>\n",
       "      <td>...</td>\n",
       "    </tr>\n",
       "    <tr>\n",
       "      <td>23693</td>\n",
       "      <td>9</td>\n",
       "      <td>4600000.0</td>\n",
       "      <td>62.40</td>\n",
       "      <td>2016-08-05T00:00:00</td>\n",
       "      <td>3</td>\n",
       "      <td>2.60</td>\n",
       "      <td>9</td>\n",
       "      <td>40.0</td>\n",
       "      <td>8</td>\n",
       "      <td>NaN</td>\n",
       "      <td>...</td>\n",
       "      <td>675.0</td>\n",
       "      <td>239.0</td>\n",
       "      <td>2016-08-05</td>\n",
       "      <td>73717.948718</td>\n",
       "      <td>4</td>\n",
       "      <td>8</td>\n",
       "      <td>2016</td>\n",
       "      <td>другой</td>\n",
       "      <td>0.641026</td>\n",
       "      <td>0.128205</td>\n",
       "    </tr>\n",
       "    <tr>\n",
       "      <td>23695</td>\n",
       "      <td>14</td>\n",
       "      <td>3100000.0</td>\n",
       "      <td>59.00</td>\n",
       "      <td>2018-01-15T00:00:00</td>\n",
       "      <td>3</td>\n",
       "      <td>NaN</td>\n",
       "      <td>5</td>\n",
       "      <td>38.0</td>\n",
       "      <td>4</td>\n",
       "      <td>NaN</td>\n",
       "      <td>...</td>\n",
       "      <td>NaN</td>\n",
       "      <td>45.0</td>\n",
       "      <td>2018-01-15</td>\n",
       "      <td>52542.372881</td>\n",
       "      <td>0</td>\n",
       "      <td>1</td>\n",
       "      <td>2018</td>\n",
       "      <td>другой</td>\n",
       "      <td>0.644068</td>\n",
       "      <td>0.144068</td>\n",
       "    </tr>\n",
       "    <tr>\n",
       "      <td>23696</td>\n",
       "      <td>18</td>\n",
       "      <td>2500000.0</td>\n",
       "      <td>56.70</td>\n",
       "      <td>2018-02-11T00:00:00</td>\n",
       "      <td>2</td>\n",
       "      <td>NaN</td>\n",
       "      <td>3</td>\n",
       "      <td>29.7</td>\n",
       "      <td>1</td>\n",
       "      <td>NaN</td>\n",
       "      <td>...</td>\n",
       "      <td>NaN</td>\n",
       "      <td>NaN</td>\n",
       "      <td>2018-02-11</td>\n",
       "      <td>44091.710758</td>\n",
       "      <td>6</td>\n",
       "      <td>2</td>\n",
       "      <td>2018</td>\n",
       "      <td>первый</td>\n",
       "      <td>0.523810</td>\n",
       "      <td>NaN</td>\n",
       "    </tr>\n",
       "    <tr>\n",
       "      <td>23697</td>\n",
       "      <td>13</td>\n",
       "      <td>11475000.0</td>\n",
       "      <td>76.75</td>\n",
       "      <td>2017-03-28T00:00:00</td>\n",
       "      <td>2</td>\n",
       "      <td>3.00</td>\n",
       "      <td>17</td>\n",
       "      <td>NaN</td>\n",
       "      <td>12</td>\n",
       "      <td>NaN</td>\n",
       "      <td>...</td>\n",
       "      <td>196.0</td>\n",
       "      <td>602.0</td>\n",
       "      <td>2017-03-28</td>\n",
       "      <td>149511.400651</td>\n",
       "      <td>1</td>\n",
       "      <td>3</td>\n",
       "      <td>2017</td>\n",
       "      <td>другой</td>\n",
       "      <td>NaN</td>\n",
       "      <td>0.303583</td>\n",
       "    </tr>\n",
       "    <tr>\n",
       "      <td>23698</td>\n",
       "      <td>4</td>\n",
       "      <td>1350000.0</td>\n",
       "      <td>32.30</td>\n",
       "      <td>2017-07-21T00:00:00</td>\n",
       "      <td>1</td>\n",
       "      <td>2.50</td>\n",
       "      <td>5</td>\n",
       "      <td>12.3</td>\n",
       "      <td>1</td>\n",
       "      <td>NaN</td>\n",
       "      <td>...</td>\n",
       "      <td>NaN</td>\n",
       "      <td>NaN</td>\n",
       "      <td>2017-07-21</td>\n",
       "      <td>41795.665635</td>\n",
       "      <td>4</td>\n",
       "      <td>7</td>\n",
       "      <td>2017</td>\n",
       "      <td>первый</td>\n",
       "      <td>0.380805</td>\n",
       "      <td>0.278638</td>\n",
       "    </tr>\n",
       "  </tbody>\n",
       "</table>\n",
       "<p>21409 rows × 30 columns</p>\n",
       "</div>"
      ],
      "text/plain": [
       "       total_images  last_price  total_area first_day_exposition  rooms  \\\n",
       "1                 7   3350000.0       40.40  2018-12-04T00:00:00      1   \n",
       "2                10   5196000.0       56.00  2015-08-20T00:00:00      2   \n",
       "4                 2  10000000.0      100.00  2018-06-19T00:00:00      2   \n",
       "5                10   2890000.0       30.40  2018-09-10T00:00:00      1   \n",
       "6                 6   3700000.0       37.30  2017-11-02T00:00:00      1   \n",
       "...             ...         ...         ...                  ...    ...   \n",
       "23693             9   4600000.0       62.40  2016-08-05T00:00:00      3   \n",
       "23695            14   3100000.0       59.00  2018-01-15T00:00:00      3   \n",
       "23696            18   2500000.0       56.70  2018-02-11T00:00:00      2   \n",
       "23697            13  11475000.0       76.75  2017-03-28T00:00:00      2   \n",
       "23698             4   1350000.0       32.30  2017-07-21T00:00:00      1   \n",
       "\n",
       "       ceiling_height  floors_total  living_area  floor is_apartment  ...  \\\n",
       "1                 NaN            11         18.6      1          NaN  ...   \n",
       "2                 NaN             5         34.3      4          NaN  ...   \n",
       "4                3.03            14         32.0     13          NaN  ...   \n",
       "5                 NaN            12         14.4      5          NaN  ...   \n",
       "6                 NaN            26         10.6      6          NaN  ...   \n",
       "...               ...           ...          ...    ...          ...  ...   \n",
       "23693            2.60             9         40.0      8          NaN  ...   \n",
       "23695             NaN             5         38.0      4          NaN  ...   \n",
       "23696             NaN             3         29.7      1          NaN  ...   \n",
       "23697            3.00            17          NaN     12          NaN  ...   \n",
       "23698            2.50             5         12.3      1          NaN  ...   \n",
       "\n",
       "       ponds_nearest  days_exposition  date_exposition     area_price weekday  \\\n",
       "1                NaN             81.0       2018-12-04   82920.792079       1   \n",
       "2              574.0            558.0       2015-08-20   92785.714286       3   \n",
       "4               48.0            121.0       2018-06-19  100000.000000       1   \n",
       "5                NaN             55.0       2018-09-10   95065.789474       0   \n",
       "6                NaN            155.0       2017-11-02   99195.710456       3   \n",
       "...              ...              ...              ...            ...     ...   \n",
       "23693          675.0            239.0       2016-08-05   73717.948718       4   \n",
       "23695            NaN             45.0       2018-01-15   52542.372881       0   \n",
       "23696            NaN              NaN       2018-02-11   44091.710758       6   \n",
       "23697          196.0            602.0       2017-03-28  149511.400651       1   \n",
       "23698            NaN              NaN       2017-07-21   41795.665635       4   \n",
       "\n",
       "       month  year  category_flow  p_living  p_kitchen  \n",
       "1         12  2018         первый  0.460396   0.272277  \n",
       "2          8  2015         другой  0.612500   0.148214  \n",
       "4          6  2018         другой  0.320000   0.410000  \n",
       "5          9  2018         другой  0.473684   0.299342  \n",
       "6         11  2017         другой  0.284182   0.386059  \n",
       "...      ...   ...            ...       ...        ...  \n",
       "23693      8  2016         другой  0.641026   0.128205  \n",
       "23695      1  2018         другой  0.644068   0.144068  \n",
       "23696      2  2018         первый  0.523810        NaN  \n",
       "23697      3  2017         другой       NaN   0.303583  \n",
       "23698      7  2017         первый  0.380805   0.278638  \n",
       "\n",
       "[21409 rows x 30 columns]"
      ]
     },
     "execution_count": 29,
     "metadata": {},
     "output_type": "execute_result"
    }
   ],
   "source": [
    "good_df = good_df.query('rooms < @max_norma_rooms')\n",
    "good_df"
   ]
  },
  {
   "cell_type": "markdown",
   "metadata": {},
   "source": [
    "#### Вывод:\n",
    "- После удаления вбросов по категориям цена, площадь и количетсво комнат, таблица стала меньше примерно на 10%. Все вбросы были взаимосвязаны между собой, т.к. после удаления вбросов по категории цены, вбросы по категориям площади и количество комнат остались минимальны. Это говорит о сильной взяимосвязи данных величин.\n",
    "- Также вбросы были обнаружены только по верхним границам. Это говорит о высокой концентрации значений в самом начале диапазона. Значит подтверждается, что самое дешевое и маленькое пользется наибольшим спросом и популярностью."
   ]
  },
  {
   "cell_type": "markdown",
   "metadata": {},
   "source": [
    "#### 4.4 Определяем, какие факторы больше всего влияют на стоимость квартиры? \n",
    "Проанализируем коэффициент корреляции Пирсона."
   ]
  },
  {
   "cell_type": "code",
   "execution_count": 30,
   "metadata": {},
   "outputs": [
    {
     "data": {
      "text/plain": [
       "0.6937353701358703"
      ]
     },
     "execution_count": 30,
     "metadata": {},
     "output_type": "execute_result"
    }
   ],
   "source": [
    "#Для площади\n",
    "good_df['last_price'].corr(good_df['total_area'])"
   ]
  },
  {
   "cell_type": "code",
   "execution_count": 31,
   "metadata": {},
   "outputs": [
    {
     "data": {
      "text/plain": [
       "0.43136522503447033"
      ]
     },
     "execution_count": 31,
     "metadata": {},
     "output_type": "execute_result"
    }
   ],
   "source": [
    "#Для количества комнат\n",
    "good_df['last_price'].corr(good_df['rooms'])"
   ]
  },
  {
   "cell_type": "code",
   "execution_count": 32,
   "metadata": {},
   "outputs": [
    {
     "data": {
      "text/plain": [
       "-0.2316357552924217"
      ]
     },
     "execution_count": 32,
     "metadata": {},
     "output_type": "execute_result"
    }
   ],
   "source": [
    "#Для стоимости кв метра от количества комнат\n",
    "good_df['area_price'].corr(good_df['rooms'])"
   ]
  },
  {
   "cell_type": "code",
   "execution_count": 33,
   "metadata": {},
   "outputs": [
    {
     "data": {
      "text/plain": [
       "-0.34508287082590844"
      ]
     },
     "execution_count": 33,
     "metadata": {},
     "output_type": "execute_result"
    }
   ],
   "source": [
    "#Для удаленности от центра\n",
    "good_df['last_price'].corr(good_df['cityCenters_nearest'])"
   ]
  },
  {
   "cell_type": "code",
   "execution_count": 34,
   "metadata": {},
   "outputs": [
    {
     "data": {
      "text/plain": [
       "-0.39726678181885455"
      ]
     },
     "execution_count": 34,
     "metadata": {},
     "output_type": "execute_result"
    }
   ],
   "source": [
    "#Для стоимости кв метра в зависимости от удаленности от центра\n",
    "good_df['area_price'].corr(good_df['cityCenters_nearest'])"
   ]
  },
  {
   "cell_type": "markdown",
   "metadata": {},
   "source": [
    "Зависимость цены от этажа определим по цене квадратного метра в каждой группе:"
   ]
  },
  {
   "cell_type": "code",
   "execution_count": 35,
   "metadata": {},
   "outputs": [
    {
     "data": {
      "text/plain": [
       "category_flow\n",
       "Не определить    99159.987764\n",
       "другой           96103.896104\n",
       "первый           80267.766523\n",
       "последний        84615.384615\n",
       "Name: area_price, dtype: float64"
      ]
     },
     "execution_count": 35,
     "metadata": {},
     "output_type": "execute_result"
    }
   ],
   "source": [
    "good_df.groupby('category_flow').median()['area_price']"
   ]
  },
  {
   "cell_type": "markdown",
   "metadata": {},
   "source": [
    "Также оценим зависимоть цены от даты размещения по цене квартиры и квадратного метра в каждой группе:"
   ]
  },
  {
   "cell_type": "code",
   "execution_count": 36,
   "metadata": {
    "scrolled": false
   },
   "outputs": [
    {
     "data": {
      "image/png": "[encoded data removed]",
      "text/plain": [
       "<Figure size 432x288 with 1 Axes>"
      ]
     },
     "metadata": {
      "needs_background": "light"
     },
     "output_type": "display_data"
    },
    {
     "data": {
      "image/png": "[encoded data removed]",
      "text/plain": [
       "<Figure size 432x288 with 1 Axes>"
      ]
     },
     "metadata": {
      "needs_background": "light"
     },
     "output_type": "display_data"
    },
    {
     "data": {
      "image/png": "[encoded data removed]",
      "text/plain": [
       "<Figure size 432x288 with 1 Axes>"
      ]
     },
     "metadata": {
      "needs_background": "light"
     },
     "output_type": "display_data"
    },
    {
     "data": {
      "image/png": "[encoded data removed]",
      "text/plain": [
       "<Figure size 432x288 with 1 Axes>"
      ]
     },
     "metadata": {
      "needs_background": "light"
     },
     "output_type": "display_data"
    },
    {
     "data": {
      "image/png": "[encoded data removed]",
      "text/plain": [
       "<Figure size 432x288 with 1 Axes>"
      ]
     },
     "metadata": {
      "needs_background": "light"
     },
     "output_type": "display_data"
    },
    {
     "data": {
      "image/png": "[encoded data removed]",
      "text/plain": [
       "<Figure size 432x288 with 1 Axes>"
      ]
     },
     "metadata": {
      "needs_background": "light"
     },
     "output_type": "display_data"
    }
   ],
   "source": [
    "columns = ['weekday', 'month', 'year']\n",
    "\n",
    "for date in columns:\n",
    "    good_df.groupby(date).median()['last_price'].plot(grid=True, legend = True)\n",
    "    plt.show()\n",
    "    good_df.groupby(date).median()['area_price'].plot(grid=True, legend = True)\n",
    "    plt.show()\n"
   ]
  },
  {
   "cell_type": "markdown",
   "metadata": {},
   "source": [
    "#### Вывод:\n",
    "- Цена от площади зависит очень сильно, об этом говорит коэф. Пирсона 0,7.\n",
    "- Цена от количества комнат зависит достаточно сильно, коэф. Пирсона 0,43, но более честное влияние на стоимость жилья покажет зависимость стоимости кв метра от количества комнат, она показывает обратную зависимость, коэф. Пирсона -0,23. Это значит, что чем больше комнат, тем меньше спрос.\n",
    "- Удаленность от центра достаточно влияет на цену квартиры, коэф. Пирсона 0,35, еще более ярко видно влияние на стоимость квадратного метра, коэф. Пирсона 0,4.\n",
    "- Влияние этажа (первый, последний, другой) на цену недвижимости очень велико. Оценка зависимости медианной стоимость кв метра от этажности показала: менее всего ценят 1ый этаж, на 5% дороже последний этаж и на 20% дороже средние этажи.\n",
    "- Влияние дня недели на цену квартиры не выявлено, разброс менее 2%.\n",
    "- Влияние месяца на цену квартиры есть, но не значительно, разброс 5%. Наибольшая цена в апреле, наименьшая в июне. Возможно, в апреле многие получают бонусы и премии на работе, от этого и повышенный спрос, но это не точно.\n",
    "- Зависимость цены от года продажи явно просматривается, с 2014 по 2016 обнаружено резкое падение около 20%, далее постепенный рост, который до 2019 не отыграл и 10%. Однако стоимость квадратного метра показывает картину немного иначе: падение было около 5% и далее такой же быстрый и стремительный рост, который к 2019 отыграл и даже увеличил стоимсоть на 5%, по сравнению с 2014. Видимо сказывается влияние кризиса, инфляции и реальных доходов населения. Покупают квартиры все меньшей площади, они в общем дешевле, но цена квадратного метра больше."
   ]
  },
  {
   "cell_type": "markdown",
   "metadata": {},
   "source": [
    "#### 4.5 Проанализируем 10 населённых пунктов с наибольшим числом объявлений. "
   ]
  },
  {
   "cell_type": "code",
   "execution_count": 37,
   "metadata": {},
   "outputs": [
    {
     "data": {
      "text/html": [
       "<div>\n",
       "<style scoped>\n",
       "    .dataframe tbody tr th:only-of-type {\n",
       "        vertical-align: middle;\n",
       "    }\n",
       "\n",
       "    .dataframe tbody tr th {\n",
       "        vertical-align: top;\n",
       "    }\n",
       "\n",
       "    .dataframe thead th {\n",
       "        text-align: right;\n",
       "    }\n",
       "</style>\n",
       "<table border=\"1\" class=\"dataframe\">\n",
       "  <thead>\n",
       "    <tr style=\"text-align: right;\">\n",
       "      <th></th>\n",
       "      <th>area_price</th>\n",
       "    </tr>\n",
       "    <tr>\n",
       "      <th>locality_name</th>\n",
       "      <th></th>\n",
       "    </tr>\n",
       "  </thead>\n",
       "  <tbody>\n",
       "    <tr>\n",
       "      <td>Выборг</td>\n",
       "      <td>58225.624357</td>\n",
       "    </tr>\n",
       "    <tr>\n",
       "      <td>Всеволожск</td>\n",
       "      <td>67222.431462</td>\n",
       "    </tr>\n",
       "    <tr>\n",
       "      <td>Гатчина</td>\n",
       "      <td>68664.035870</td>\n",
       "    </tr>\n",
       "    <tr>\n",
       "      <td>Колпино</td>\n",
       "      <td>75221.876295</td>\n",
       "    </tr>\n",
       "    <tr>\n",
       "      <td>посёлок Шушары</td>\n",
       "      <td>78704.891847</td>\n",
       "    </tr>\n",
       "    <tr>\n",
       "      <td>посёлок Мурино</td>\n",
       "      <td>85752.189195</td>\n",
       "    </tr>\n",
       "    <tr>\n",
       "      <td>посёлок Парголово</td>\n",
       "      <td>90332.263023</td>\n",
       "    </tr>\n",
       "    <tr>\n",
       "      <td>деревня Кудрово</td>\n",
       "      <td>92409.726322</td>\n",
       "    </tr>\n",
       "    <tr>\n",
       "      <td>Пушкин</td>\n",
       "      <td>100552.651855</td>\n",
       "    </tr>\n",
       "    <tr>\n",
       "      <td>Санкт-Петербург</td>\n",
       "      <td>105689.844887</td>\n",
       "    </tr>\n",
       "  </tbody>\n",
       "</table>\n",
       "</div>"
      ],
      "text/plain": [
       "                      area_price\n",
       "locality_name                   \n",
       "Выборг              58225.624357\n",
       "Всеволожск          67222.431462\n",
       "Гатчина             68664.035870\n",
       "Колпино             75221.876295\n",
       "посёлок Шушары      78704.891847\n",
       "посёлок Мурино      85752.189195\n",
       "посёлок Парголово   90332.263023\n",
       "деревня Кудрово     92409.726322\n",
       "Пушкин             100552.651855\n",
       "Санкт-Петербург    105689.844887"
      ]
     },
     "execution_count": 37,
     "metadata": {},
     "output_type": "execute_result"
    }
   ],
   "source": [
    "top_10_grad = good_df['locality_name'].value_counts().head(10)\n",
    "top_10 = good_df.pivot_table(index = 'locality_name', values = 'area_price', aggfunc = 'mean' )\n",
    "top_10.query('locality_name in @top_10_grad.index').sort_values(by='area_price')"
   ]
  },
  {
   "cell_type": "markdown",
   "metadata": {},
   "source": [
    "#### Вывод: \n",
    "Среди топ 10 городов с наибольшим количеством объявлений самымая высокая стоимость кв метра жилья в Санкт-Петербурге 105689. Самымая низкая стоимость жилья в Выборге, стоимость квадратного метра 58255."
   ]
  },
  {
   "cell_type": "markdown",
   "metadata": {},
   "source": [
    "#### 4.6 Определяем зону центра для Санкт-Петербурга."
   ]
  },
  {
   "cell_type": "code",
   "execution_count": 38,
   "metadata": {},
   "outputs": [
    {
     "data": {
      "text/plain": [
       "<matplotlib.axes._subplots.AxesSubplot at 0x10f1ea08>"
      ]
     },
     "execution_count": 38,
     "metadata": {},
     "output_type": "execute_result"
    },
    {
     "data": {
      "image/png": "[encoded data removed]",
      "text/plain": [
       "<Figure size 432x288 with 1 Axes>"
      ]
     },
     "metadata": {
      "needs_background": "light"
     },
     "output_type": "display_data"
    }
   ],
   "source": [
    "df_spb = good_df[df['locality_name'] == 'Санкт-Петербург']\n",
    "df_spb['cityCenters_km'] = df_spb['cityCenters_nearest']/1000\n",
    "df_spb.dropna(subset=['cityCenters_km'],inplace=True)\n",
    "df_spb['cityCenters_km'] = df_spb['cityCenters_km'].astype('int')\n",
    "spb_km_price = df_spb.pivot_table(index = 'cityCenters_km', values = 'area_price', aggfunc = 'mean' )\n",
    "spb_km_price.plot(grid=True)"
   ]
  },
  {
   "cell_type": "markdown",
   "metadata": {},
   "source": [
    "#### Ответ: \n",
    "График показывает, что цена квадратного метра сильно изменяется на 9-ом километре от центра. Значит, будем считать центром города границу 8км."
   ]
  },
  {
   "cell_type": "markdown",
   "metadata": {},
   "source": [
    "#### 4.7 Проанализируем объявления в зоне центра."
   ]
  },
  {
   "cell_type": "code",
   "execution_count": 39,
   "metadata": {},
   "outputs": [],
   "source": [
    "spb_center = df_spb[df_spb['cityCenters_km'] < 9]"
   ]
  },
  {
   "cell_type": "code",
   "execution_count": 40,
   "metadata": {},
   "outputs": [
    {
     "data": {
      "text/plain": [
       "<matplotlib.axes._subplots.AxesSubplot at 0x115a0588>"
      ]
     },
     "execution_count": 40,
     "metadata": {},
     "output_type": "execute_result"
    },
    {
     "data": {
      "image/png": "[encoded data removed]",
      "text/plain": [
       "<Figure size 432x288 with 1 Axes>"
      ]
     },
     "metadata": {
      "needs_background": "light"
     },
     "output_type": "display_data"
    }
   ],
   "source": [
    "spb_center['total_area'].plot(\n",
    "    kind = 'hist',\n",
    "    range=(0,120),\n",
    "    bins=20,\n",
    "    grid = True,\n",
    "    legend = True,\n",
    "    title = 'Площадь'\n",
    ")"
   ]
  },
  {
   "cell_type": "code",
   "execution_count": 41,
   "metadata": {},
   "outputs": [
    {
     "data": {
      "text/plain": [
       "<matplotlib.axes._subplots.AxesSubplot at 0x1161f608>"
      ]
     },
     "execution_count": 41,
     "metadata": {},
     "output_type": "execute_result"
    },
    {
     "data": {
      "image/png": "[encoded data removed]",
      "text/plain": [
       "<Figure size 432x288 with 1 Axes>"
      ]
     },
     "metadata": {
      "needs_background": "light"
     },
     "output_type": "display_data"
    }
   ],
   "source": [
    "spb_center['last_price'].plot(\n",
    "    kind = 'hist',\n",
    "    range=(0,13000000),\n",
    "    bins=20,\n",
    "    grid = True,\n",
    "    legend = True,\n",
    "    title = 'Цена'\n",
    ")"
   ]
  },
  {
   "cell_type": "code",
   "execution_count": 42,
   "metadata": {},
   "outputs": [
    {
     "data": {
      "text/plain": [
       "<matplotlib.axes._subplots.AxesSubplot at 0x115ff548>"
      ]
     },
     "execution_count": 42,
     "metadata": {},
     "output_type": "execute_result"
    },
    {
     "data": {
      "image/png": "[encoded data removed]",
      "text/plain": [
       "<Figure size 432x288 with 1 Axes>"
      ]
     },
     "metadata": {
      "needs_background": "light"
     },
     "output_type": "display_data"
    }
   ],
   "source": [
    "spb_center['rooms'].plot(\n",
    "    kind = 'hist',\n",
    "    range=(0,6),\n",
    "    bins=6,\n",
    "    grid = True,\n",
    "    legend = True,\n",
    "    title = 'Количество комнат'\n",
    ")"
   ]
  },
  {
   "cell_type": "code",
   "execution_count": 43,
   "metadata": {},
   "outputs": [
    {
     "data": {
      "text/plain": [
       "<matplotlib.axes._subplots.AxesSubplot at 0x14efbb08>"
      ]
     },
     "execution_count": 43,
     "metadata": {},
     "output_type": "execute_result"
    },
    {
     "data": {
      "image/png": "[encoded data removed]",
      "text/plain": [
       "<Figure size 432x288 with 1 Axes>"
      ]
     },
     "metadata": {
      "needs_background": "light"
     },
     "output_type": "display_data"
    }
   ],
   "source": [
    "spb_center['ceiling_height'].plot(\n",
    "    kind = 'hist',\n",
    "    range=(2.4, 4.5),\n",
    "    bins=10,\n",
    "    grid = True,\n",
    "    legend = True,\n",
    "    title = 'Высота потолков'\n",
    ")"
   ]
  },
  {
   "cell_type": "markdown",
   "metadata": {},
   "source": [
    "Определение факторов влияющих на стоимость:"
   ]
  },
  {
   "cell_type": "code",
   "execution_count": 44,
   "metadata": {},
   "outputs": [
    {
     "data": {
      "text/plain": [
       "-0.48118855783828723"
      ]
     },
     "execution_count": 44,
     "metadata": {},
     "output_type": "execute_result"
    }
   ],
   "source": [
    "#Для стоимости кв метра от количества комнат\n",
    "spb_center['area_price'].corr(good_df['rooms'])"
   ]
  },
  {
   "cell_type": "code",
   "execution_count": 45,
   "metadata": {},
   "outputs": [
    {
     "data": {
      "text/plain": [
       "category_flow\n",
       "Не определить    119705.340700\n",
       "другой           116444.249342\n",
       "первый           102167.182663\n",
       "последний        107258.743709\n",
       "Name: area_price, dtype: float64"
      ]
     },
     "execution_count": 45,
     "metadata": {},
     "output_type": "execute_result"
    }
   ],
   "source": [
    "#Для категории этажа\n",
    "spb_center.groupby('category_flow').median()['area_price']"
   ]
  },
  {
   "cell_type": "code",
   "execution_count": 46,
   "metadata": {},
   "outputs": [
    {
     "data": {
      "text/plain": [
       "-0.03335824839992506"
      ]
     },
     "execution_count": 46,
     "metadata": {},
     "output_type": "execute_result"
    }
   ],
   "source": [
    "#Для стоимости кв метра в зависимости от удаленности от центра\n",
    "spb_center['area_price'].corr(good_df['cityCenters_nearest'])"
   ]
  },
  {
   "cell_type": "code",
   "execution_count": 47,
   "metadata": {},
   "outputs": [
    {
     "data": {
      "text/plain": [
       "<matplotlib.axes._subplots.AxesSubplot at 0x14fa6188>"
      ]
     },
     "execution_count": 47,
     "metadata": {},
     "output_type": "execute_result"
    },
    {
     "data": {
      "image/png": "[encoded data removed]",
      "text/plain": [
       "<Figure size 432x288 with 1 Axes>"
      ]
     },
     "metadata": {
      "needs_background": "light"
     },
     "output_type": "display_data"
    }
   ],
   "source": [
    "spb_center.groupby('weekday').median()['area_price'].plot(grid=True)"
   ]
  },
  {
   "cell_type": "code",
   "execution_count": 48,
   "metadata": {},
   "outputs": [
    {
     "data": {
      "text/plain": [
       "<matplotlib.axes._subplots.AxesSubplot at 0x14fed648>"
      ]
     },
     "execution_count": 48,
     "metadata": {},
     "output_type": "execute_result"
    },
    {
     "data": {
      "image/png": "[encoded data removed]",
      "text/plain": [
       "<Figure size 432x288 with 1 Axes>"
      ]
     },
     "metadata": {
      "needs_background": "light"
     },
     "output_type": "display_data"
    }
   ],
   "source": [
    "spb_center.groupby('month').median()['area_price'].plot(grid=True)"
   ]
  },
  {
   "cell_type": "code",
   "execution_count": 49,
   "metadata": {
    "scrolled": true
   },
   "outputs": [
    {
     "data": {
      "text/plain": [
       "<matplotlib.axes._subplots.AxesSubplot at 0x1522b3c8>"
      ]
     },
     "execution_count": 49,
     "metadata": {},
     "output_type": "execute_result"
    },
    {
     "data": {
      "image/png": "[encoded data removed]",
      "text/plain": [
       "<Figure size 432x288 with 1 Axes>"
      ]
     },
     "metadata": {
      "needs_background": "light"
     },
     "output_type": "display_data"
    }
   ],
   "source": [
    "spb_center.groupby('year').median()['area_price'].plot(grid=True)"
   ]
  },
  {
   "cell_type": "markdown",
   "metadata": {},
   "source": [
    "#### Вывод: \n",
    "- Площадь имеет несколько пиков, первый наименьший около 35, далее максимальный около 45 и чуть меньше около 60 кв м. По всей видимости это совпадает со стандартными площадами для 1, 2 и 3 контатных квартир. Для остальных регионоа величины на 35 и 45 примерно равны.\n",
    "- В цене ярко выражено нормальное распределение с пиком около 7 млн.\n",
    "- Распределение по количеству комнат совпадает с площадью. Наиболее распространены 2ух комнатные, далее 1 комнатные, 3 комнатные и 4 комнатные. Остальных вариантов крайне мало. Для остальных регионов замечено равное распределение между 1 и 2 комнатными.\n",
    "- Высота потолков имеет вид распределения Пуассона, с пиком в 2.9 метра, в то время как для остальных регионов пик приходится на 2.5 метра.\n",
    "- Цена  кв метра от количества комнат зависит достаточно сильно , коэф. Пирсона -0,48, для всех остальных регионов коэф. Пирсона -0,23. Это значит, что чем больше комнат, тем меньше спрос и в центре СПБ эта зависимость более ярковыражена.\n",
    "- Влияние этажа (первый, последний, другой) на цену недвижимости очень велико. Оценка зависимости медианной стоимость кв метра от этажности показала: менее всего ценят 1ый этаж, на 5% дороже последний этаж и на 13% дороже средние этажи. Эта зависимость совпадает с остальной частью городов, но там разница более ярко выражена.\n",
    "- Удаленность от центра практически не влияет на цену квартиры, коэф. Пирсона -0.03, на то он и центр, что все близко.\n",
    "- Влияние дня недели на цену квартиры выявлено не значительно, около 4%, с повышением в субботу. Я бы скорее это считал вбросом, нежели закономерностью.\n",
    "- Влияние месяца на цену квартиры обнаружено, разброс около 11%. Наибольшая цена в марте, наименьшая в июне. тенденция совпадает с остальными регионами.\n",
    "- Зависимость цены от года продажи явно просматривается, с 2014 по 2015 обнаружено  падение около 5%, далее плато до 2017 и  постепенный рост, который до 2019 отыграл и увеличил стоимсоть на 5%. Эта картина также совпадает с остальными регионами.\n"
   ]
  },
  {
   "cell_type": "markdown",
   "metadata": {},
   "source": [
    "## Общий вывод"
   ]
  },
  {
   "cell_type": "markdown",
   "metadata": {},
   "source": [
    "В результате анализа выявлены следующие закономерности:\n",
    "- Наиболее распространены квартиры 1 и 2 комнатные, площадью 35-45 кв метров\n",
    "- Обычно продажа квартиры занимет от 45 до 231 дня, медиана 95 дней\n",
    "- Наиболее распространены маленькие и недорогие квартиры\n",
    "- Больше всего на стоимость жилья влияет площадь. Чуть меньше удаленность от центра и этаж.\n",
    "- Из наиболее распространенных городов, наибольшая стоимостьв Санкт-Петербурге стоимость кв метра 105689. Самымая низкая в Выборге -  58255.\n",
    "- Зона центра в Санк-Петербурге ограничена радиусом 8км.\n",
    "- В центре Санкт-Петербурга квартиры отличаются своим уровнем от остальных (площадь, количество комнат и высота потолков), но общие закономерности, влияющие на цену примерно такие же, как и везде."
   ]
  }
 ],
 "metadata": {
  "ExecuteTimeLog": [
   {
    "duration": 739,
    "start_time": "2021-10-16T18:39:54.869Z"
   },
   {
    "duration": 162,
    "start_time": "2021-10-16T18:39:59.823Z"
   },
   {
    "duration": 19,
    "start_time": "2021-10-16T18:40:08.055Z"
   },
   {
    "duration": 12,
    "start_time": "2021-10-16T18:40:08.077Z"
   },
   {
    "duration": 13,
    "start_time": "2021-10-16T18:40:08.092Z"
   },
   {
    "duration": 6,
    "start_time": "2021-10-16T18:40:08.108Z"
   },
   {
    "duration": 14,
    "start_time": "2021-10-16T18:40:08.168Z"
   },
   {
    "duration": 16,
    "start_time": "2021-10-16T18:40:08.184Z"
   },
   {
    "duration": 66,
    "start_time": "2021-10-16T18:40:08.202Z"
   },
   {
    "duration": 16,
    "start_time": "2021-10-16T18:40:08.272Z"
   },
   {
    "duration": 10,
    "start_time": "2021-10-16T18:40:08.291Z"
   },
   {
    "duration": 23,
    "start_time": "2021-10-16T18:40:08.303Z"
   },
   {
    "duration": 2705,
    "start_time": "2021-10-16T18:40:08.328Z"
   },
   {
    "duration": 120,
    "start_time": "2021-10-16T18:40:11.037Z"
   },
   {
    "duration": 1166,
    "start_time": "2021-10-16T18:40:11.160Z"
   },
   {
    "duration": 817,
    "start_time": "2021-10-16T18:40:12.330Z"
   },
   {
    "duration": 348,
    "start_time": "2021-10-16T18:40:13.150Z"
   },
   {
    "duration": 403,
    "start_time": "2021-10-16T18:40:13.501Z"
   },
   {
    "duration": 595,
    "start_time": "2021-10-16T18:40:13.906Z"
   },
   {
    "duration": 356,
    "start_time": "2021-10-16T18:40:14.504Z"
   },
   {
    "duration": 14,
    "start_time": "2021-10-16T18:40:14.862Z"
   },
   {
    "duration": 13,
    "start_time": "2021-10-16T18:40:14.878Z"
   },
   {
    "duration": 6,
    "start_time": "2021-10-16T18:40:14.894Z"
   },
   {
    "duration": 116,
    "start_time": "2021-10-16T18:40:14.903Z"
   },
   {
    "duration": 12,
    "start_time": "2021-10-16T18:40:15.024Z"
   },
   {
    "duration": 6,
    "start_time": "2021-10-16T18:40:15.039Z"
   },
   {
    "duration": 97,
    "start_time": "2021-10-16T18:40:15.048Z"
   },
   {
    "duration": 33,
    "start_time": "2021-10-16T18:40:15.148Z"
   },
   {
    "duration": 7,
    "start_time": "2021-10-16T18:40:15.184Z"
   },
   {
    "duration": 146,
    "start_time": "2021-10-16T18:40:15.194Z"
   },
   {
    "duration": 8,
    "start_time": "2021-10-16T18:40:15.344Z"
   },
   {
    "duration": 8,
    "start_time": "2021-10-16T18:40:15.368Z"
   },
   {
    "duration": 8,
    "start_time": "2021-10-16T18:40:15.380Z"
   },
   {
    "duration": 9,
    "start_time": "2021-10-16T18:40:15.391Z"
   },
   {
    "duration": 8,
    "start_time": "2021-10-16T18:40:15.403Z"
   },
   {
    "duration": 87,
    "start_time": "2021-10-16T18:40:15.414Z"
   },
   {
    "duration": 468,
    "start_time": "2021-10-16T18:40:15.505Z"
   },
   {
    "duration": 497,
    "start_time": "2021-10-16T18:40:15.976Z"
   },
   {
    "duration": 498,
    "start_time": "2021-10-16T18:40:16.477Z"
   },
   {
    "duration": 600,
    "start_time": "2021-10-16T18:40:16.979Z"
   },
   {
    "duration": 305,
    "start_time": "2021-10-16T18:40:17.581Z"
   },
   {
    "duration": 305,
    "start_time": "2021-10-16T18:40:17.889Z"
   },
   {
    "duration": 29,
    "start_time": "2021-10-16T18:40:18.196Z"
   },
   {
    "duration": 379,
    "start_time": "2021-10-16T18:40:18.228Z"
   },
   {
    "duration": 7,
    "start_time": "2021-10-16T18:40:18.610Z"
   },
   {
    "duration": 407,
    "start_time": "2021-10-16T18:40:18.619Z"
   },
   {
    "duration": 386,
    "start_time": "2021-10-16T18:40:19.028Z"
   },
   {
    "duration": 328,
    "start_time": "2021-10-16T18:40:19.417Z"
   },
   {
    "duration": 339,
    "start_time": "2021-10-16T18:40:19.747Z"
   },
   {
    "duration": 9,
    "start_time": "2021-10-16T18:40:20.089Z"
   },
   {
    "duration": 16,
    "start_time": "2021-10-16T18:40:20.101Z"
   },
   {
    "duration": 7,
    "start_time": "2021-10-16T18:40:20.119Z"
   },
   {
    "duration": 343,
    "start_time": "2021-10-16T18:40:20.129Z"
   },
   {
    "duration": 304,
    "start_time": "2021-10-16T18:40:20.475Z"
   },
   {
    "duration": 303,
    "start_time": "2021-10-16T18:40:20.782Z"
   },
   {
    "duration": 390,
    "start_time": "2021-10-16T20:03:27.770Z"
   },
   {
    "duration": 138,
    "start_time": "2021-10-16T20:04:07.372Z"
   },
   {
    "duration": 334,
    "start_time": "2021-10-16T20:04:34.198Z"
   },
   {
    "duration": 617,
    "start_time": "2021-10-16T20:04:44.082Z"
   },
   {
    "duration": 112,
    "start_time": "2021-10-16T20:04:47.354Z"
   },
   {
    "duration": 11,
    "start_time": "2021-10-16T20:04:49.138Z"
   },
   {
    "duration": 8,
    "start_time": "2021-10-16T20:04:56.543Z"
   },
   {
    "duration": 46,
    "start_time": "2021-10-16T20:05:10.141Z"
   },
   {
    "duration": 50,
    "start_time": "2021-10-16T20:05:30.997Z"
   },
   {
    "duration": 610,
    "start_time": "2021-10-16T20:05:45.685Z"
   },
   {
    "duration": 114,
    "start_time": "2021-10-16T20:05:46.297Z"
   },
   {
    "duration": 9,
    "start_time": "2021-10-16T20:05:46.413Z"
   },
   {
    "duration": 7,
    "start_time": "2021-10-16T20:05:46.424Z"
   },
   {
    "duration": 50,
    "start_time": "2021-10-16T20:05:46.432Z"
   },
   {
    "duration": 4,
    "start_time": "2021-10-16T20:05:46.484Z"
   },
   {
    "duration": 23,
    "start_time": "2021-10-16T20:05:46.489Z"
   },
   {
    "duration": 10,
    "start_time": "2021-10-16T20:05:46.515Z"
   },
   {
    "duration": 15,
    "start_time": "2021-10-16T20:05:46.527Z"
   },
   {
    "duration": 10,
    "start_time": "2021-10-16T20:05:46.544Z"
   },
   {
    "duration": 5,
    "start_time": "2021-10-16T20:05:46.556Z"
   },
   {
    "duration": 15,
    "start_time": "2021-10-16T20:05:46.562Z"
   },
   {
    "duration": 661,
    "start_time": "2021-10-16T20:05:46.579Z"
   },
   {
    "duration": 40,
    "start_time": "2021-10-16T20:05:47.241Z"
   },
   {
    "duration": 501,
    "start_time": "2021-10-16T20:05:47.283Z"
   },
   {
    "duration": 331,
    "start_time": "2021-10-16T20:05:47.786Z"
   },
   {
    "duration": 197,
    "start_time": "2021-10-16T20:05:48.119Z"
   },
   {
    "duration": 226,
    "start_time": "2021-10-16T20:05:48.317Z"
   },
   {
    "duration": 274,
    "start_time": "2021-10-16T20:05:48.545Z"
   },
   {
    "duration": 146,
    "start_time": "2021-10-16T20:05:48.821Z"
   },
   {
    "duration": 10,
    "start_time": "2021-10-16T20:05:48.976Z"
   },
   {
    "duration": 9,
    "start_time": "2021-10-16T20:05:48.988Z"
   },
   {
    "duration": 4,
    "start_time": "2021-10-16T20:05:49.001Z"
   },
   {
    "duration": 73,
    "start_time": "2021-10-16T20:05:49.008Z"
   },
   {
    "duration": 10,
    "start_time": "2021-10-16T20:05:49.083Z"
   },
   {
    "duration": 5,
    "start_time": "2021-10-16T20:05:49.094Z"
   },
   {
    "duration": 46,
    "start_time": "2021-10-16T20:05:49.100Z"
   },
   {
    "duration": 32,
    "start_time": "2021-10-16T20:05:49.148Z"
   },
   {
    "duration": 3,
    "start_time": "2021-10-16T20:05:49.182Z"
   },
   {
    "duration": 45,
    "start_time": "2021-10-16T20:05:49.187Z"
   },
   {
    "duration": 5,
    "start_time": "2021-10-16T20:05:49.233Z"
   },
   {
    "duration": 5,
    "start_time": "2021-10-16T20:05:49.239Z"
   },
   {
    "duration": 32,
    "start_time": "2021-10-16T20:05:49.245Z"
   },
   {
    "duration": 5,
    "start_time": "2021-10-16T20:05:49.279Z"
   },
   {
    "duration": 5,
    "start_time": "2021-10-16T20:05:49.286Z"
   },
   {
    "duration": 19,
    "start_time": "2021-10-16T20:05:49.293Z"
   },
   {
    "duration": 189,
    "start_time": "2021-10-16T20:05:49.314Z"
   },
   {
    "duration": 179,
    "start_time": "2021-10-16T20:05:49.504Z"
   },
   {
    "duration": 241,
    "start_time": "2021-10-16T20:05:49.684Z"
   },
   {
    "duration": 178,
    "start_time": "2021-10-16T20:05:49.927Z"
   },
   {
    "duration": 181,
    "start_time": "2021-10-16T20:05:50.106Z"
   },
   {
    "duration": 189,
    "start_time": "2021-10-16T20:05:50.289Z"
   },
   {
    "duration": 20,
    "start_time": "2021-10-16T20:05:50.480Z"
   },
   {
    "duration": 195,
    "start_time": "2021-10-16T20:05:50.501Z"
   },
   {
    "duration": 5,
    "start_time": "2021-10-16T20:05:50.697Z"
   },
   {
    "duration": 215,
    "start_time": "2021-10-16T20:05:50.704Z"
   },
   {
    "duration": 214,
    "start_time": "2021-10-16T20:05:50.921Z"
   },
   {
    "duration": 182,
    "start_time": "2021-10-16T20:05:51.136Z"
   },
   {
    "duration": 180,
    "start_time": "2021-10-16T20:05:51.319Z"
   },
   {
    "duration": 5,
    "start_time": "2021-10-16T20:05:51.501Z"
   },
   {
    "duration": 11,
    "start_time": "2021-10-16T20:05:51.507Z"
   },
   {
    "duration": 4,
    "start_time": "2021-10-16T20:05:51.520Z"
   },
   {
    "duration": 181,
    "start_time": "2021-10-16T20:05:51.526Z"
   },
   {
    "duration": 173,
    "start_time": "2021-10-16T20:05:51.708Z"
   },
   {
    "duration": 226,
    "start_time": "2021-10-16T20:05:51.883Z"
   },
   {
    "duration": 13,
    "start_time": "2021-10-16T20:06:30.027Z"
   },
   {
    "duration": 4,
    "start_time": "2021-10-16T20:07:12.379Z"
   },
   {
    "duration": 11,
    "start_time": "2021-10-16T20:07:21.976Z"
   },
   {
    "duration": 651,
    "start_time": "2021-10-16T20:13:07.148Z"
   },
   {
    "duration": 104,
    "start_time": "2021-10-16T20:13:07.801Z"
   },
   {
    "duration": 9,
    "start_time": "2021-10-16T20:13:07.907Z"
   },
   {
    "duration": 7,
    "start_time": "2021-10-16T20:13:07.918Z"
   },
   {
    "duration": 7,
    "start_time": "2021-10-16T20:13:07.927Z"
   },
   {
    "duration": 4,
    "start_time": "2021-10-16T20:13:07.936Z"
   },
   {
    "duration": 39,
    "start_time": "2021-10-16T20:13:07.942Z"
   },
   {
    "duration": 10,
    "start_time": "2021-10-16T20:13:07.984Z"
   },
   {
    "duration": 17,
    "start_time": "2021-10-16T20:13:07.996Z"
   },
   {
    "duration": 11,
    "start_time": "2021-10-16T20:13:08.014Z"
   },
   {
    "duration": 5,
    "start_time": "2021-10-16T20:13:08.026Z"
   },
   {
    "duration": 52,
    "start_time": "2021-10-16T20:13:08.033Z"
   },
   {
    "duration": 649,
    "start_time": "2021-10-16T20:13:08.086Z"
   },
   {
    "duration": 52,
    "start_time": "2021-10-16T20:13:08.737Z"
   },
   {
    "duration": 354,
    "start_time": "2021-10-16T20:13:08.790Z"
   },
   {
    "duration": 259,
    "start_time": "2021-10-16T20:13:09.146Z"
   },
   {
    "duration": 195,
    "start_time": "2021-10-16T20:13:09.407Z"
   },
   {
    "duration": 208,
    "start_time": "2021-10-16T20:13:09.603Z"
   },
   {
    "duration": 264,
    "start_time": "2021-10-16T20:13:09.813Z"
   },
   {
    "duration": 137,
    "start_time": "2021-10-16T20:13:10.079Z"
   },
   {
    "duration": 7,
    "start_time": "2021-10-16T20:13:10.218Z"
   },
   {
    "duration": 8,
    "start_time": "2021-10-16T20:13:10.227Z"
   },
   {
    "duration": 7,
    "start_time": "2021-10-16T20:13:10.238Z"
   },
   {
    "duration": 68,
    "start_time": "2021-10-16T20:13:10.247Z"
   },
   {
    "duration": 7,
    "start_time": "2021-10-16T20:13:10.317Z"
   },
   {
    "duration": 5,
    "start_time": "2021-10-16T20:13:10.326Z"
   },
   {
    "duration": 60,
    "start_time": "2021-10-16T20:13:10.332Z"
   },
   {
    "duration": 7,
    "start_time": "2021-10-16T20:13:10.393Z"
   },
   {
    "duration": 10,
    "start_time": "2021-10-16T20:13:10.401Z"
   },
   {
    "duration": 51,
    "start_time": "2021-10-16T20:13:10.412Z"
   },
   {
    "duration": 14,
    "start_time": "2021-10-16T20:13:10.465Z"
   },
   {
    "duration": 7,
    "start_time": "2021-10-16T20:13:10.480Z"
   },
   {
    "duration": 21,
    "start_time": "2021-10-16T20:13:10.488Z"
   },
   {
    "duration": 13,
    "start_time": "2021-10-16T20:13:10.511Z"
   },
   {
    "duration": 11,
    "start_time": "2021-10-16T20:13:10.526Z"
   },
   {
    "duration": 24,
    "start_time": "2021-10-16T20:13:10.539Z"
   },
   {
    "duration": 154,
    "start_time": "2021-10-16T20:13:10.564Z"
   },
   {
    "duration": 174,
    "start_time": "2021-10-16T20:13:10.719Z"
   },
   {
    "duration": 228,
    "start_time": "2021-10-16T20:13:10.895Z"
   },
   {
    "duration": 177,
    "start_time": "2021-10-16T20:13:11.124Z"
   },
   {
    "duration": 167,
    "start_time": "2021-10-16T20:13:11.302Z"
   },
   {
    "duration": 167,
    "start_time": "2021-10-16T20:13:11.470Z"
   },
   {
    "duration": 18,
    "start_time": "2021-10-16T20:13:11.639Z"
   },
   {
    "duration": 193,
    "start_time": "2021-10-16T20:13:11.659Z"
   },
   {
    "duration": 4,
    "start_time": "2021-10-16T20:13:11.854Z"
   },
   {
    "duration": 213,
    "start_time": "2021-10-16T20:13:11.860Z"
   },
   {
    "duration": 203,
    "start_time": "2021-10-16T20:13:12.075Z"
   },
   {
    "duration": 183,
    "start_time": "2021-10-16T20:13:12.280Z"
   },
   {
    "duration": 187,
    "start_time": "2021-10-16T20:13:12.464Z"
   },
   {
    "duration": 5,
    "start_time": "2021-10-16T20:13:12.653Z"
   },
   {
    "duration": 18,
    "start_time": "2021-10-16T20:13:12.660Z"
   },
   {
    "duration": 5,
    "start_time": "2021-10-16T20:13:12.680Z"
   },
   {
    "duration": 171,
    "start_time": "2021-10-16T20:13:12.686Z"
   },
   {
    "duration": 166,
    "start_time": "2021-10-16T20:13:12.858Z"
   },
   {
    "duration": 224,
    "start_time": "2021-10-16T20:13:13.025Z"
   },
   {
    "duration": 238,
    "start_time": "2021-10-16T20:17:00.950Z"
   },
   {
    "duration": 118,
    "start_time": "2021-10-16T20:17:46.148Z"
   },
   {
    "duration": 350,
    "start_time": "2021-10-16T20:18:28.940Z"
   },
   {
    "duration": 293,
    "start_time": "2021-10-16T20:18:41.209Z"
   },
   {
    "duration": 250,
    "start_time": "2021-10-16T20:18:53.337Z"
   },
   {
    "duration": 2,
    "start_time": "2021-10-16T20:22:54.868Z"
   },
   {
    "duration": 355,
    "start_time": "2021-10-17T06:48:46.547Z"
   },
   {
    "duration": 904,
    "start_time": "2021-10-17T06:49:08.592Z"
   },
   {
    "duration": 156,
    "start_time": "2021-10-17T06:49:09.498Z"
   },
   {
    "duration": 17,
    "start_time": "2021-10-17T06:49:09.658Z"
   },
   {
    "duration": 12,
    "start_time": "2021-10-17T06:49:09.678Z"
   },
   {
    "duration": 42,
    "start_time": "2021-10-17T06:49:09.693Z"
   },
   {
    "duration": 8,
    "start_time": "2021-10-17T06:49:09.738Z"
   },
   {
    "duration": 15,
    "start_time": "2021-10-17T06:49:09.749Z"
   },
   {
    "duration": 15,
    "start_time": "2021-10-17T06:49:09.767Z"
   },
   {
    "duration": 27,
    "start_time": "2021-10-17T06:49:09.825Z"
   },
   {
    "duration": 21,
    "start_time": "2021-10-17T06:49:09.855Z"
   },
   {
    "duration": 44,
    "start_time": "2021-10-17T06:49:09.879Z"
   },
   {
    "duration": 26,
    "start_time": "2021-10-17T06:49:09.926Z"
   },
   {
    "duration": 1231,
    "start_time": "2021-10-17T06:49:09.955Z"
   },
   {
    "duration": 90,
    "start_time": "2021-10-17T06:49:11.188Z"
   },
   {
    "duration": 621,
    "start_time": "2021-10-17T06:49:11.280Z"
   },
   {
    "duration": 567,
    "start_time": "2021-10-17T06:49:11.904Z"
   },
   {
    "duration": 461,
    "start_time": "2021-10-17T06:49:12.473Z"
   },
   {
    "duration": 471,
    "start_time": "2021-10-17T06:49:12.937Z"
   },
   {
    "duration": 484,
    "start_time": "2021-10-17T06:49:13.410Z"
   },
   {
    "duration": 255,
    "start_time": "2021-10-17T06:49:13.897Z"
   },
   {
    "duration": 14,
    "start_time": "2021-10-17T06:49:14.155Z"
   },
   {
    "duration": 12,
    "start_time": "2021-10-17T06:49:14.171Z"
   },
   {
    "duration": 41,
    "start_time": "2021-10-17T06:49:14.188Z"
   },
   {
    "duration": 91,
    "start_time": "2021-10-17T06:49:14.234Z"
   },
   {
    "duration": 13,
    "start_time": "2021-10-17T06:49:14.327Z"
   },
   {
    "duration": 10,
    "start_time": "2021-10-17T06:49:14.342Z"
   },
   {
    "duration": 110,
    "start_time": "2021-10-17T06:49:14.354Z"
   },
   {
    "duration": 9,
    "start_time": "2021-10-17T06:49:14.467Z"
   },
   {
    "duration": 6,
    "start_time": "2021-10-17T06:49:14.478Z"
   },
   {
    "duration": 104,
    "start_time": "2021-10-17T06:49:14.488Z"
   },
   {
    "duration": 6,
    "start_time": "2021-10-17T06:49:14.594Z"
   },
   {
    "duration": 9,
    "start_time": "2021-10-17T06:49:14.624Z"
   },
   {
    "duration": 18,
    "start_time": "2021-10-17T06:49:14.635Z"
   },
   {
    "duration": 7,
    "start_time": "2021-10-17T06:49:14.655Z"
   },
   {
    "duration": 7,
    "start_time": "2021-10-17T06:49:14.664Z"
   },
   {
    "duration": 66,
    "start_time": "2021-10-17T06:49:14.673Z"
   },
   {
    "duration": 454,
    "start_time": "2021-10-17T06:49:14.744Z"
   },
   {
    "duration": 322,
    "start_time": "2021-10-17T06:49:15.200Z"
   },
   {
    "duration": 338,
    "start_time": "2021-10-17T06:49:15.524Z"
   },
   {
    "duration": 398,
    "start_time": "2021-10-17T06:49:15.864Z"
   },
   {
    "duration": 311,
    "start_time": "2021-10-17T06:49:16.265Z"
   },
   {
    "duration": 311,
    "start_time": "2021-10-17T06:49:16.579Z"
   },
   {
    "duration": 46,
    "start_time": "2021-10-17T06:49:16.893Z"
   },
   {
    "duration": 338,
    "start_time": "2021-10-17T06:49:16.941Z"
   },
   {
    "duration": 8,
    "start_time": "2021-10-17T06:49:17.281Z"
   },
   {
    "duration": 402,
    "start_time": "2021-10-17T06:49:17.291Z"
   },
   {
    "duration": 395,
    "start_time": "2021-10-17T06:49:17.695Z"
   },
   {
    "duration": 334,
    "start_time": "2021-10-17T06:49:18.093Z"
   },
   {
    "duration": 347,
    "start_time": "2021-10-17T06:49:18.429Z"
   },
   {
    "duration": 8,
    "start_time": "2021-10-17T06:49:18.779Z"
   },
   {
    "duration": 41,
    "start_time": "2021-10-17T06:49:18.789Z"
   },
   {
    "duration": 10,
    "start_time": "2021-10-17T06:49:18.834Z"
   },
   {
    "duration": 327,
    "start_time": "2021-10-17T06:49:18.846Z"
   },
   {
    "duration": 309,
    "start_time": "2021-10-17T06:49:19.175Z"
   },
   {
    "duration": 320,
    "start_time": "2021-10-17T06:49:19.486Z"
   },
   {
    "duration": 1903,
    "start_time": "2021-10-17T06:52:39.778Z"
   },
   {
    "duration": 1777,
    "start_time": "2021-10-17T06:54:04.386Z"
   },
   {
    "duration": 1943,
    "start_time": "2021-10-17T06:54:17.927Z"
   }
  ],
  "kernelspec": {
   "display_name": "Python 3",
   "language": "python",
   "name": "python3"
  },
  "language_info": {
   "codemirror_mode": {
    "name": "ipython",
    "version": 3
   },
   "file_extension": ".py",
   "mimetype": "text/x-python",
   "name": "python",
   "nbconvert_exporter": "python",
   "pygments_lexer": "ipython3",
   "version": "3.7.10"
  },
  "toc": {
   "base_numbering": 1,
   "nav_menu": {},
   "number_sections": true,
   "sideBar": true,
   "skip_h1_title": true,
   "title_cell": "Содержание",
   "title_sidebar": "Contents",
   "toc_cell": true,
   "toc_position": {},
   "toc_section_display": true,
   "toc_window_display": true
  }
 },
 "nbformat": 4,
 "nbformat_minor": 2
}
