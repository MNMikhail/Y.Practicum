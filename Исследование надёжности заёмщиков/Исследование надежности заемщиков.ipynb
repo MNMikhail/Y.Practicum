{
 "cells": [
  {
   "cell_type": "markdown",
   "metadata": {},
   "source": [
    "# Исследование надёжности заёмщиков\n",
    "\n",
    "Кредитный отдел банка заказал исследование - влияет ли семейное положение и количество детей клиента на факт погашения кредита в срок. \n",
    "\n",
    "От заказчика предоставлена статистика платежеспособности клиентов с разными характеристиками. Результаты исследования будут учтены при построении модели **кредитного скоринга**\n",
    "\n",
    "\n",
    "\n",
    "# Цель \n",
    "\n",
    "- Выснить влияние семейного положения и количества детей на возврат кредита в срок\n",
    "\n",
    "- Оценить влияние других факторов на возврат кредита в срок\n",
    "\n",
    "\n",
    "\n",
    "# Описание данных \n",
    "\n",
    "- children — количество детей в семье\n",
    "\n",
    "- days_employed — общий трудовой стаж в днях\n",
    "\n",
    "- dob_years — возраст клиента в годах\n",
    "\n",
    "- education — уровень образования клиента\n",
    "\n",
    "- education_id — идентификатор уровня образования\n",
    "\n",
    "- family_status — семейное положение\n",
    "\n",
    "- family_status_id — идентификатор семейного положения\n",
    "\n",
    "- gender — пол клиента\n",
    "\n",
    "- income_type — тип занятости\n",
    "\n",
    "- debt — имел ли задолженность по возврату кредитов\n",
    "\n",
    "- total_income — ежемесячный доход\n",
    "\n",
    "- purpose — цель получения кредита\n"
   ]
  },
  {
   "cell_type": "markdown",
   "metadata": {},
   "source": [
    "## Откройте файл с данными и изучите общую информацию"
   ]
  },
  {
   "cell_type": "code",
   "execution_count": 1,
   "metadata": {},
   "outputs": [
    {
     "data": {
      "text/html": [
       "<div>\n",
       "<style scoped>\n",
       "    .dataframe tbody tr th:only-of-type {\n",
       "        vertical-align: middle;\n",
       "    }\n",
       "\n",
       "    .dataframe tbody tr th {\n",
       "        vertical-align: top;\n",
       "    }\n",
       "\n",
       "    .dataframe thead th {\n",
       "        text-align: right;\n",
       "    }\n",
       "</style>\n",
       "<table border=\"1\" class=\"dataframe\">\n",
       "  <thead>\n",
       "    <tr style=\"text-align: right;\">\n",
       "      <th></th>\n",
       "      <th>children</th>\n",
       "      <th>days_employed</th>\n",
       "      <th>dob_years</th>\n",
       "      <th>education</th>\n",
       "      <th>education_id</th>\n",
       "      <th>family_status</th>\n",
       "      <th>family_status_id</th>\n",
       "      <th>gender</th>\n",
       "      <th>income_type</th>\n",
       "      <th>debt</th>\n",
       "      <th>total_income</th>\n",
       "      <th>purpose</th>\n",
       "    </tr>\n",
       "  </thead>\n",
       "  <tbody>\n",
       "    <tr>\n",
       "      <th>0</th>\n",
       "      <td>1</td>\n",
       "      <td>-8437.673028</td>\n",
       "      <td>42</td>\n",
       "      <td>высшее</td>\n",
       "      <td>0</td>\n",
       "      <td>женат / замужем</td>\n",
       "      <td>0</td>\n",
       "      <td>F</td>\n",
       "      <td>сотрудник</td>\n",
       "      <td>0</td>\n",
       "      <td>253875.639453</td>\n",
       "      <td>покупка жилья</td>\n",
       "    </tr>\n",
       "    <tr>\n",
       "      <th>1</th>\n",
       "      <td>1</td>\n",
       "      <td>-4024.803754</td>\n",
       "      <td>36</td>\n",
       "      <td>среднее</td>\n",
       "      <td>1</td>\n",
       "      <td>женат / замужем</td>\n",
       "      <td>0</td>\n",
       "      <td>F</td>\n",
       "      <td>сотрудник</td>\n",
       "      <td>0</td>\n",
       "      <td>112080.014102</td>\n",
       "      <td>приобретение автомобиля</td>\n",
       "    </tr>\n",
       "    <tr>\n",
       "      <th>2</th>\n",
       "      <td>0</td>\n",
       "      <td>-5623.422610</td>\n",
       "      <td>33</td>\n",
       "      <td>Среднее</td>\n",
       "      <td>1</td>\n",
       "      <td>женат / замужем</td>\n",
       "      <td>0</td>\n",
       "      <td>M</td>\n",
       "      <td>сотрудник</td>\n",
       "      <td>0</td>\n",
       "      <td>145885.952297</td>\n",
       "      <td>покупка жилья</td>\n",
       "    </tr>\n",
       "    <tr>\n",
       "      <th>3</th>\n",
       "      <td>3</td>\n",
       "      <td>-4124.747207</td>\n",
       "      <td>32</td>\n",
       "      <td>среднее</td>\n",
       "      <td>1</td>\n",
       "      <td>женат / замужем</td>\n",
       "      <td>0</td>\n",
       "      <td>M</td>\n",
       "      <td>сотрудник</td>\n",
       "      <td>0</td>\n",
       "      <td>267628.550329</td>\n",
       "      <td>дополнительное образование</td>\n",
       "    </tr>\n",
       "    <tr>\n",
       "      <th>4</th>\n",
       "      <td>0</td>\n",
       "      <td>340266.072047</td>\n",
       "      <td>53</td>\n",
       "      <td>среднее</td>\n",
       "      <td>1</td>\n",
       "      <td>гражданский брак</td>\n",
       "      <td>1</td>\n",
       "      <td>F</td>\n",
       "      <td>пенсионер</td>\n",
       "      <td>0</td>\n",
       "      <td>158616.077870</td>\n",
       "      <td>сыграть свадьбу</td>\n",
       "    </tr>\n",
       "    <tr>\n",
       "      <th>...</th>\n",
       "      <td>...</td>\n",
       "      <td>...</td>\n",
       "      <td>...</td>\n",
       "      <td>...</td>\n",
       "      <td>...</td>\n",
       "      <td>...</td>\n",
       "      <td>...</td>\n",
       "      <td>...</td>\n",
       "      <td>...</td>\n",
       "      <td>...</td>\n",
       "      <td>...</td>\n",
       "      <td>...</td>\n",
       "    </tr>\n",
       "    <tr>\n",
       "      <th>21520</th>\n",
       "      <td>1</td>\n",
       "      <td>-4529.316663</td>\n",
       "      <td>43</td>\n",
       "      <td>среднее</td>\n",
       "      <td>1</td>\n",
       "      <td>гражданский брак</td>\n",
       "      <td>1</td>\n",
       "      <td>F</td>\n",
       "      <td>компаньон</td>\n",
       "      <td>0</td>\n",
       "      <td>224791.862382</td>\n",
       "      <td>операции с жильем</td>\n",
       "    </tr>\n",
       "    <tr>\n",
       "      <th>21521</th>\n",
       "      <td>0</td>\n",
       "      <td>343937.404131</td>\n",
       "      <td>67</td>\n",
       "      <td>среднее</td>\n",
       "      <td>1</td>\n",
       "      <td>женат / замужем</td>\n",
       "      <td>0</td>\n",
       "      <td>F</td>\n",
       "      <td>пенсионер</td>\n",
       "      <td>0</td>\n",
       "      <td>155999.806512</td>\n",
       "      <td>сделка с автомобилем</td>\n",
       "    </tr>\n",
       "    <tr>\n",
       "      <th>21522</th>\n",
       "      <td>1</td>\n",
       "      <td>-2113.346888</td>\n",
       "      <td>38</td>\n",
       "      <td>среднее</td>\n",
       "      <td>1</td>\n",
       "      <td>гражданский брак</td>\n",
       "      <td>1</td>\n",
       "      <td>M</td>\n",
       "      <td>сотрудник</td>\n",
       "      <td>1</td>\n",
       "      <td>89672.561153</td>\n",
       "      <td>недвижимость</td>\n",
       "    </tr>\n",
       "    <tr>\n",
       "      <th>21523</th>\n",
       "      <td>3</td>\n",
       "      <td>-3112.481705</td>\n",
       "      <td>38</td>\n",
       "      <td>среднее</td>\n",
       "      <td>1</td>\n",
       "      <td>женат / замужем</td>\n",
       "      <td>0</td>\n",
       "      <td>M</td>\n",
       "      <td>сотрудник</td>\n",
       "      <td>1</td>\n",
       "      <td>244093.050500</td>\n",
       "      <td>на покупку своего автомобиля</td>\n",
       "    </tr>\n",
       "    <tr>\n",
       "      <th>21524</th>\n",
       "      <td>2</td>\n",
       "      <td>-1984.507589</td>\n",
       "      <td>40</td>\n",
       "      <td>среднее</td>\n",
       "      <td>1</td>\n",
       "      <td>женат / замужем</td>\n",
       "      <td>0</td>\n",
       "      <td>F</td>\n",
       "      <td>сотрудник</td>\n",
       "      <td>0</td>\n",
       "      <td>82047.418899</td>\n",
       "      <td>на покупку автомобиля</td>\n",
       "    </tr>\n",
       "  </tbody>\n",
       "</table>\n",
       "<p>21525 rows × 12 columns</p>\n",
       "</div>"
      ],
      "text/plain": [
       "       children  days_employed  dob_years education  education_id  \\\n",
       "0             1   -8437.673028         42    высшее             0   \n",
       "1             1   -4024.803754         36   среднее             1   \n",
       "2             0   -5623.422610         33   Среднее             1   \n",
       "3             3   -4124.747207         32   среднее             1   \n",
       "4             0  340266.072047         53   среднее             1   \n",
       "...         ...            ...        ...       ...           ...   \n",
       "21520         1   -4529.316663         43   среднее             1   \n",
       "21521         0  343937.404131         67   среднее             1   \n",
       "21522         1   -2113.346888         38   среднее             1   \n",
       "21523         3   -3112.481705         38   среднее             1   \n",
       "21524         2   -1984.507589         40   среднее             1   \n",
       "\n",
       "          family_status  family_status_id gender income_type  debt  \\\n",
       "0       женат / замужем                 0      F   сотрудник     0   \n",
       "1       женат / замужем                 0      F   сотрудник     0   \n",
       "2       женат / замужем                 0      M   сотрудник     0   \n",
       "3       женат / замужем                 0      M   сотрудник     0   \n",
       "4      гражданский брак                 1      F   пенсионер     0   \n",
       "...                 ...               ...    ...         ...   ...   \n",
       "21520  гражданский брак                 1      F   компаньон     0   \n",
       "21521   женат / замужем                 0      F   пенсионер     0   \n",
       "21522  гражданский брак                 1      M   сотрудник     1   \n",
       "21523   женат / замужем                 0      M   сотрудник     1   \n",
       "21524   женат / замужем                 0      F   сотрудник     0   \n",
       "\n",
       "        total_income                       purpose  \n",
       "0      253875.639453                 покупка жилья  \n",
       "1      112080.014102       приобретение автомобиля  \n",
       "2      145885.952297                 покупка жилья  \n",
       "3      267628.550329    дополнительное образование  \n",
       "4      158616.077870               сыграть свадьбу  \n",
       "...              ...                           ...  \n",
       "21520  224791.862382             операции с жильем  \n",
       "21521  155999.806512          сделка с автомобилем  \n",
       "21522   89672.561153                  недвижимость  \n",
       "21523  244093.050500  на покупку своего автомобиля  \n",
       "21524   82047.418899         на покупку автомобиля  \n",
       "\n",
       "[21525 rows x 12 columns]"
      ]
     },
     "execution_count": 1,
     "metadata": {},
     "output_type": "execute_result"
    }
   ],
   "source": [
    "import pandas as pd\n",
    "from pymystem3 import Mystem \n",
    "m = Mystem()\n",
    "import warnings\n",
    "warnings.simplefilter('ignore')\n",
    "\n",
    "try:\n",
    "    df = pd.read_csv('E:/Python/Project 1/data.csv') \n",
    "except:\n",
    "    df = pd.read_csv('/datasets/data.csv')\n",
    "df\n",
    "#df.info()\n",
    "#df['education'].unique()\n",
    "#df['income_type'].unique()"
   ]
  },
  {
   "cell_type": "markdown",
   "metadata": {},
   "source": [
    "**Вывод**\n",
    "\n",
    "Предоставлена таблица данных на более чем 20 тыс. строк. Видно, что в данных много недочетов, такие как: дубликаты, отсутсвующие значения, отрицательные значения и т.д. В общем, данные требуют тщательной предобработки перед тем как приступить к анализу."
   ]
  },
  {
   "cell_type": "markdown",
   "metadata": {},
   "source": [
    "## Предобработка данных"
   ]
  },
  {
   "cell_type": "markdown",
   "metadata": {},
   "source": [
    "### Обработка пропусков"
   ]
  },
  {
   "cell_type": "code",
   "execution_count": 2,
   "metadata": {},
   "outputs": [
    {
     "data": {
      "text/plain": [
       "0    14149\n",
       "1     4865\n",
       "2     2131\n",
       "3      330\n",
       "4       41\n",
       "5        9\n",
       "Name: children, dtype: int64"
      ]
     },
     "execution_count": 2,
     "metadata": {},
     "output_type": "execute_result"
    }
   ],
   "source": [
    "#df.info() \n",
    "# Отрабатываем отклонения в столбце дети\n",
    "df['children'].value_counts() \n",
    "df.loc[df['children'] == -1] \n",
    "df.loc[df['children'] == 20] \n",
    "df['children'] = df['children'].replace(-1, 1)\n",
    "df['children'] = df['children'].replace(20, 2) \n",
    "df['children'].value_counts() "
   ]
  },
  {
   "cell_type": "code",
   "execution_count": 3,
   "metadata": {},
   "outputs": [
    {
     "name": "stdout",
     "output_type": "stream",
     "text": [
      "<class 'pandas.core.frame.DataFrame'>\n",
      "RangeIndex: 21525 entries, 0 to 21524\n",
      "Data columns (total 12 columns):\n",
      " #   Column            Non-Null Count  Dtype  \n",
      "---  ------            --------------  -----  \n",
      " 0   children          21525 non-null  int64  \n",
      " 1   days_employed     21525 non-null  float64\n",
      " 2   dob_years         21525 non-null  int64  \n",
      " 3   education         21525 non-null  object \n",
      " 4   education_id      21525 non-null  int64  \n",
      " 5   family_status     21525 non-null  object \n",
      " 6   family_status_id  21525 non-null  int64  \n",
      " 7   gender            21525 non-null  object \n",
      " 8   income_type       21525 non-null  object \n",
      " 9   debt              21525 non-null  int64  \n",
      " 10  total_income      19351 non-null  float64\n",
      " 11  purpose           21525 non-null  object \n",
      "dtypes: float64(2), int64(5), object(5)\n",
      "memory usage: 2.0+ MB\n"
     ]
    }
   ],
   "source": [
    "# Отрабатываем отклонения в столбце стаж\n",
    "df[df['days_employed'].isnull()] \n",
    "df['days_employed'] = df['days_employed'].fillna(0) \n",
    "df.info()"
   ]
  },
  {
   "cell_type": "code",
   "execution_count": 4,
   "metadata": {},
   "outputs": [
    {
     "data": {
      "text/plain": [
       "42.0    698\n",
       "35.0    617\n",
       "40.0    609\n",
       "41.0    607\n",
       "34.0    603\n",
       "38.0    598\n",
       "33.0    581\n",
       "39.0    573\n",
       "31.0    560\n",
       "36.0    555\n",
       "44.0    547\n",
       "29.0    545\n",
       "30.0    540\n",
       "48.0    538\n",
       "37.0    537\n",
       "50.0    514\n",
       "43.0    513\n",
       "32.0    510\n",
       "49.0    508\n",
       "28.0    503\n",
       "45.0    497\n",
       "27.0    493\n",
       "56.0    487\n",
       "52.0    484\n",
       "47.0    480\n",
       "54.0    479\n",
       "46.0    475\n",
       "58.0    461\n",
       "57.0    460\n",
       "53.0    459\n",
       "51.0    448\n",
       "59.0    444\n",
       "55.0    443\n",
       "26.0    408\n",
       "60.0    377\n",
       "25.0    357\n",
       "61.0    355\n",
       "62.0    352\n",
       "63.0    269\n",
       "64.0    265\n",
       "24.0    264\n",
       "23.0    254\n",
       "65.0    194\n",
       "66.0    183\n",
       "22.0    183\n",
       "67.0    167\n",
       "21.0    111\n",
       "68.0     99\n",
       "69.0     85\n",
       "70.0     65\n",
       "71.0     58\n",
       "20.0     51\n",
       "72.0     33\n",
       "19.0     14\n",
       "73.0      8\n",
       "74.0      6\n",
       "75.0      1\n",
       "Name: dob_years, dtype: int64"
      ]
     },
     "execution_count": 4,
     "metadata": {},
     "output_type": "execute_result"
    }
   ],
   "source": [
    "# Отрабатываем отклонения в столбце возраст\n",
    "df['dob_years'].value_counts() \n",
    "df['dob_years'] = df['dob_years'].replace(0, df['dob_years'].median()) \n",
    "df['dob_years'].value_counts() "
   ]
  },
  {
   "cell_type": "code",
   "execution_count": 5,
   "metadata": {},
   "outputs": [
    {
     "data": {
      "text/plain": [
       "0    12380\n",
       "1     4177\n",
       "4     2813\n",
       "3     1195\n",
       "2      960\n",
       "Name: family_status_id, dtype: int64"
      ]
     },
     "execution_count": 5,
     "metadata": {},
     "output_type": "execute_result"
    }
   ],
   "source": [
    "# Проверка отклонений в столбцах образование, идентификатор образования, семейное положение и идентификатор семейного положения\n",
    "df['education'].value_counts() \n",
    "df['education_id'].value_counts() \n",
    "df['family_status'].value_counts() \n",
    "df['family_status_id'].value_counts()"
   ]
  },
  {
   "cell_type": "code",
   "execution_count": 6,
   "metadata": {},
   "outputs": [
    {
     "data": {
      "text/plain": [
       "F    14237\n",
       "M     7288\n",
       "Name: gender, dtype: int64"
      ]
     },
     "execution_count": 6,
     "metadata": {},
     "output_type": "execute_result"
    }
   ],
   "source": [
    "# Отрабатываем отклонения в столбце пол\n",
    "df['gender'].value_counts() \n",
    "df.loc[df['gender'] == 'XNA'] \n",
    "df['gender'] = df['gender'].replace('XNA', 'F') \n",
    "df['gender'].value_counts()"
   ]
  },
  {
   "cell_type": "code",
   "execution_count": 7,
   "metadata": {},
   "outputs": [
    {
     "data": {
      "text/plain": [
       "сотрудник          11119\n",
       "компаньон           5085\n",
       "пенсионер           3856\n",
       "госслужащий         1459\n",
       "безработный            2\n",
       "предприниматель        2\n",
       "в декрете              1\n",
       "студент                1\n",
       "Name: income_type, dtype: int64"
      ]
     },
     "execution_count": 7,
     "metadata": {},
     "output_type": "execute_result"
    }
   ],
   "source": [
    "# Проверка отклонений в столбцах тип занятости, наличие задолженности и цель кредита\n",
    "df['income_type'].value_counts() \n",
    "#df['debt'].value_counts() \n",
    "#df['purpose'].value_counts()"
   ]
  },
  {
   "cell_type": "code",
   "execution_count": 8,
   "metadata": {},
   "outputs": [
    {
     "name": "stdout",
     "output_type": "stream",
     "text": [
      "<class 'pandas.core.frame.DataFrame'>\n",
      "RangeIndex: 21525 entries, 0 to 21524\n",
      "Data columns (total 12 columns):\n",
      " #   Column            Non-Null Count  Dtype  \n",
      "---  ------            --------------  -----  \n",
      " 0   children          21525 non-null  int64  \n",
      " 1   days_employed     21525 non-null  float64\n",
      " 2   dob_years         21525 non-null  float64\n",
      " 3   education         21525 non-null  object \n",
      " 4   education_id      21525 non-null  int64  \n",
      " 5   family_status     21525 non-null  object \n",
      " 6   family_status_id  21525 non-null  int64  \n",
      " 7   gender            21525 non-null  object \n",
      " 8   income_type       21525 non-null  object \n",
      " 9   debt              21525 non-null  int64  \n",
      " 10  total_income      19351 non-null  float64\n",
      " 11  purpose           21525 non-null  object \n",
      "dtypes: float64(3), int64(4), object(5)\n",
      "memory usage: 2.0+ MB\n",
      "<class 'pandas.core.frame.DataFrame'>\n",
      "RangeIndex: 21525 entries, 0 to 21524\n",
      "Data columns (total 12 columns):\n",
      " #   Column            Non-Null Count  Dtype  \n",
      "---  ------            --------------  -----  \n",
      " 0   children          21525 non-null  int64  \n",
      " 1   days_employed     21525 non-null  float64\n",
      " 2   dob_years         21525 non-null  float64\n",
      " 3   education         21525 non-null  object \n",
      " 4   education_id      21525 non-null  int64  \n",
      " 5   family_status     21525 non-null  object \n",
      " 6   family_status_id  21525 non-null  int64  \n",
      " 7   gender            21525 non-null  object \n",
      " 8   income_type       21525 non-null  object \n",
      " 9   debt              21525 non-null  int64  \n",
      " 10  total_income      21523 non-null  float64\n",
      " 11  purpose           21525 non-null  object \n",
      "dtypes: float64(3), int64(4), object(5)\n",
      "memory usage: 2.0+ MB\n",
      "<class 'pandas.core.frame.DataFrame'>\n",
      "RangeIndex: 21525 entries, 0 to 21524\n",
      "Data columns (total 12 columns):\n",
      " #   Column            Non-Null Count  Dtype  \n",
      "---  ------            --------------  -----  \n",
      " 0   children          21525 non-null  int64  \n",
      " 1   days_employed     21525 non-null  float64\n",
      " 2   dob_years         21525 non-null  float64\n",
      " 3   education         21525 non-null  object \n",
      " 4   education_id      21525 non-null  int64  \n",
      " 5   family_status     21525 non-null  object \n",
      " 6   family_status_id  21525 non-null  int64  \n",
      " 7   gender            21525 non-null  object \n",
      " 8   income_type       21525 non-null  object \n",
      " 9   debt              21525 non-null  int64  \n",
      " 10  total_income      21525 non-null  float64\n",
      " 11  purpose           21525 non-null  object \n",
      "dtypes: float64(3), int64(4), object(5)\n",
      "memory usage: 2.0+ MB\n"
     ]
    }
   ],
   "source": [
    "# Отрабатываем отклонения в столбце ежемесячный доход, заполняя пропуски медианным доходом по группам \n",
    "\n",
    "df.info() \n",
    "df[df['total_income'].isnull()]['income_type'].unique()\n",
    "\n",
    "all_income_type = ['сотрудник', 'компаньон', 'пенсионер', 'госслужащий', 'предприниматель']\n",
    "all_education_id = [0, 1, 2, 3, 4]\n",
    "\n",
    "for element in all_income_type:\n",
    "    for selement in all_education_id:\n",
    "        med = df[(df['income_type'] == element) & (df['education_id'] == selement)&(df['dob_years'] < 30)]['total_income'].median()\n",
    "        df.loc[(df['income_type'] == element) & (df['education_id'] == selement)&(df['dob_years'] < 30), 'total_income'] = df.loc[(df['income_type'] == element) & (df['education_id'] == selement)&(df['dob_years'] < 30), 'total_income'].fillna(med)\n",
    "        med = df[(df['income_type'] == element) & (df['education_id'] == selement)&(df['dob_years'] >= 60)]['total_income'].median()\n",
    "        df.loc[(df['income_type'] == element) & (df['education_id'] == selement)&(df['dob_years'] >= 60), 'total_income'] = df.loc[(df['income_type'] == element) & (df['education_id'] == selement)&(df['dob_years'] >= 60), 'total_income'].fillna(med)\n",
    "        med = df[(df['income_type'] == element) & (df['education_id'] == selement)&(df['dob_years'] >= 30)&(df['dob_years'] < 60)]['total_income'].median()\n",
    "        df.loc[(df['income_type'] == element) & (df['education_id'] == selement)&(df['dob_years'] >= 30)&(df['dob_years'] < 60), 'total_income'] = df.loc[(df['income_type'] == element) & (df['education_id'] == selement)&(df['dob_years'] >= 30)&(df['dob_years'] < 60), 'total_income'].fillna(med)\n",
    "\n",
    "df.info()        \n",
    "        \n",
    "# В двух оставшихся заявках заполним доход вручную\n",
    "df[df['total_income'].isnull()]       \n",
    "med = df[(df['income_type'] == 'госслужащий') & (df['education_id'] == 3)]['total_income'].median()\n",
    "df.loc[8142, 'total_income'] = med           \n",
    "df[(df['income_type'] == 'предприниматель')] \n",
    "df.loc[5936, 'total_income'] =df.loc[18697, 'total_income']\n",
    "df.info()            "
   ]
  },
  {
   "cell_type": "markdown",
   "metadata": {},
   "source": [
    "**Вывод**"
   ]
  },
  {
   "cell_type": "markdown",
   "metadata": {},
   "source": [
    "По результатам проверки отсутсвующие значения находятся только с столбце стажа и ежемесячного дохода, причем количество пропусков одинаковое.\n",
    "\n",
    "В столбце дети:\n",
    "В 47 заявках указано количество детей -1 и в 76 указано 20, эти значения явно ошибочны, отрицательного быть не может, а ближайшее к 20 реальное значение детей 5 и таких всего 9 заявок. Предполагаю, что -1 это на самом деле 1, поэтому произведу замену, тем более 47 зявок это менее 1% от заявок с 1 ребнком, явного влияния не окажет на результат и семейный статус большинства соответсвует детям. По той же логике меняю 20 на 2. Причиной появления данных ошибок может быть человеческий фактор.\n",
    "\n",
    "В столбце стаж:\n",
    "Есть отрицательные значения, цифры разного порядка, но в разрезе нашей задачи это нам не мешает. Строки с отсутсвующими значениями совпадают с отсуствующими значениями в столбце ежемесячный доход. Это говорит о том, что по данным заявкам кредиты выдавались без подтверждения дохода и работы. Поэтому заменим на условные 0.\n",
    "\n",
    "В столбце возраст:\n",
    "Значений возраста = 0 оказалось 101, это менее 1% от общего количества. Заменяю на медианное значение.\n",
    "\n",
    "В столбце образование:\n",
    "Нулевых значений нет, но много дубликатов. Займемся ими чуть позже.\n",
    "\n",
    "В столбце индикатор образования:\n",
    "Все в порядке, пропусков нет.\n",
    "\n",
    "В столбце семейное положение:\n",
    "Все в порядке, пропусков нет.\n",
    "\n",
    "В столбце индикатор семейного положения:\n",
    "Все в порядке, пропусков нет.\n",
    "\n",
    "В столбце пол:\n",
    "У одного человека пол не определился. Женщин гораздо больше, поэтому направим его к ним.\n",
    "\n",
    "В столбце тип занятости:\n",
    "Все в порядке, пропусков нет, хотя некоторые значения представлены в единичном экземпляре. В разрезе данного задания это значения не имеет, но для более наглядного предоставления данных стоило вынести их в комментарий исследования.\n",
    "\n",
    "В столбце наличия задолженности:\n",
    "Все в порядке, пропусков нет.\n",
    "\n",
    "В столбце ежемесячный доход:\n",
    "Есть пропуски, заменим их на медианные значения по группам, объединенные по характеристикам тип занятости + образование + возрастная группа.\n",
    "\n",
    "\n",
    "В столбце цель кредита:\n",
    "Много смысловых дубликатов, которые можно объеденить в одну категорию. Пропусков и нулевых значений нет.\n"
   ]
  },
  {
   "cell_type": "markdown",
   "metadata": {},
   "source": [
    "### Замена типа данных"
   ]
  },
  {
   "cell_type": "code",
   "execution_count": 9,
   "metadata": {},
   "outputs": [
    {
     "name": "stdout",
     "output_type": "stream",
     "text": [
      "<class 'pandas.core.frame.DataFrame'>\n",
      "RangeIndex: 21525 entries, 0 to 21524\n",
      "Data columns (total 12 columns):\n",
      " #   Column            Non-Null Count  Dtype  \n",
      "---  ------            --------------  -----  \n",
      " 0   children          21525 non-null  int64  \n",
      " 1   days_employed     21525 non-null  int64  \n",
      " 2   dob_years         21525 non-null  float64\n",
      " 3   education         21525 non-null  object \n",
      " 4   education_id      21525 non-null  int64  \n",
      " 5   family_status     21525 non-null  object \n",
      " 6   family_status_id  21525 non-null  int64  \n",
      " 7   gender            21525 non-null  object \n",
      " 8   income_type       21525 non-null  object \n",
      " 9   debt              21525 non-null  int64  \n",
      " 10  total_income      21525 non-null  int64  \n",
      " 11  purpose           21525 non-null  object \n",
      "dtypes: float64(1), int64(6), object(5)\n",
      "memory usage: 2.0+ MB\n"
     ]
    }
   ],
   "source": [
    "df['days_employed'] = df['days_employed'].astype('int')\n",
    "df['total_income'] = df['total_income'].astype('int') \n",
    "df.info() "
   ]
  },
  {
   "cell_type": "markdown",
   "metadata": {},
   "source": [
    "**Вывод**"
   ]
  },
  {
   "cell_type": "markdown",
   "metadata": {},
   "source": [
    "Вещественный тип обнаружен в столбцах стаж и ежемесячный доход. Изменяем методом astype() в целочисленные значения."
   ]
  },
  {
   "cell_type": "markdown",
   "metadata": {},
   "source": [
    "### Обработка дубликатов"
   ]
  },
  {
   "cell_type": "code",
   "execution_count": 10,
   "metadata": {},
   "outputs": [
    {
     "data": {
      "text/plain": [
       "0"
      ]
     },
     "execution_count": 10,
     "metadata": {},
     "output_type": "execute_result"
    }
   ],
   "source": [
    "df['education']=df['education'].str.lower()\n",
    "df['education'].value_counts() \n",
    "df.duplicated().sum() \n",
    "df = df.drop_duplicates().reset_index(drop=True) \n",
    "df.duplicated().sum() "
   ]
  },
  {
   "cell_type": "markdown",
   "metadata": {},
   "source": [
    "**Вывод**"
   ]
  },
  {
   "cell_type": "markdown",
   "metadata": {},
   "source": [
    "Посчитано количество дубликатов методом duplicated() и далее удалены, восстановив индексы. Возможной причиной появления данных дубликатов может быть сбой в системе.\n",
    "\n",
    "Дубликаты встречаются в столбцах образование и цель кредита.\n",
    "\n",
    "В столбце образование дубликаты из за использования разного регистра. Приведем все к нижнему регистру.\n",
    "\n",
    "Столбец цель кредита обработаем далее."
   ]
  },
  {
   "cell_type": "markdown",
   "metadata": {},
   "source": [
    "### Лемматизация"
   ]
  },
  {
   "cell_type": "code",
   "execution_count": 11,
   "metadata": {},
   "outputs": [
    {
     "ename": "TypeError",
     "evalue": "unhashable type: 'list'",
     "output_type": "error",
     "traceback": [
      "\u001b[0;31m---------------------------------------------------------------------------\u001b[0m",
      "\u001b[0;31mTypeError\u001b[0m                                 Traceback (most recent call last)",
      "\u001b[0;32mpandas/_libs/hashtable_class_helper.pxi\u001b[0m in \u001b[0;36mpandas._libs.hashtable.PyObjectHashTable.map_locations\u001b[0;34m()\u001b[0m\n",
      "\u001b[0;31mTypeError\u001b[0m: unhashable type: 'list'"
     ]
    },
    {
     "name": "stderr",
     "output_type": "stream",
     "text": [
      "Exception ignored in: 'pandas._libs.index.IndexEngine._call_map_locations'\n",
      "Traceback (most recent call last):\n",
      "  File \"pandas/_libs/hashtable_class_helper.pxi\", line 4588, in pandas._libs.hashtable.PyObjectHashTable.map_locations\n",
      "TypeError: unhashable type: 'list'\n"
     ]
    },
    {
     "data": {
      "text/plain": [
       "[автомобиль, \\n]                                          972\n",
       "[свадьба, \\n]                                             791\n",
       "[на,  , проведение,  , свадьба, \\n]                       767\n",
       "[сыграть,  , свадьба, \\n]                                 765\n",
       "[операция,  , с,  , недвижимость, \\n]                     675\n",
       "[покупка,  , коммерческий,  , недвижимость, \\n]           661\n",
       "[операция,  , с,  , жилье, \\n]                            652\n",
       "[покупка,  , жилье,  , для,  , сдача, \\n]                 651\n",
       "[операция,  , с,  , коммерческий,  , недвижимость, \\n]    650\n",
       "[покупка,  , жилье, \\n]                                   646\n",
       "[жилье, \\n]                                               646\n",
       "[покупка,  , жилье,  , для,  , семья, \\n]                 638\n",
       "[строительство,  , собственный,  , недвижимость, \\n]      635\n",
       "[недвижимость, \\n]                                        633\n",
       "[операция,  , со,  , свой,  , недвижимость, \\n]           627\n",
       "[строительство,  , жилой,  , недвижимость, \\n]            624\n",
       "[покупка,  , недвижимость, \\n]                            621\n",
       "[покупка,  , свой,  , жилье, \\n]                          620\n",
       "[строительство,  , недвижимость, \\n]                      619\n",
       "[ремонт,  , жилье, \\n]                                    607\n",
       "[покупка,  , жилой,  , недвижимость, \\n]                  606\n",
       "[на,  , покупка,  , свой,  , автомобиль, \\n]              505\n",
       "[заниматься,  , высокий,  , образование, \\n]              496\n",
       "[сделка,  , с,  , подержанный,  , автомобиль, \\n]         486\n",
       "[на,  , покупка,  , подержать,  , автомобиль, \\n]         478\n",
       "[свой,  , автомобиль, \\n]                                 478\n",
       "[на,  , покупка,  , автомобиль, \\n]                       471\n",
       "[приобретение,  , автомобиль, \\n]                         461\n",
       "[дополнительный,  , образование, \\n]                      460\n",
       "[сделка,  , с,  , автомобиль, \\n]                         455\n",
       "[высокий,  , образование, \\n]                             452\n",
       "[образование, \\n]                                         447\n",
       "[получение,  , дополнительный,  , образование, \\n]        446\n",
       "[получение,  , образование, \\n]                           442\n",
       "[профильный,  , образование, \\n]                          436\n",
       "[получение,  , высокий,  , образование, \\n]               426\n",
       "[заниматься,  , образование, \\n]                          408\n",
       "Name: purpose_lemma, dtype: int64"
      ]
     },
     "execution_count": 11,
     "metadata": {},
     "output_type": "execute_result"
    }
   ],
   "source": [
    "df['purpose'].value_counts() \n",
    "\n",
    "df['purpose_lemma'] = df['purpose'].apply(m.lemmatize)\n",
    "\n",
    "df['purpose_lemma'].value_counts() "
   ]
  },
  {
   "cell_type": "code",
   "execution_count": 12,
   "metadata": {},
   "outputs": [],
   "source": [
    "# Функция разброса по категориям цели кредита\n",
    "def purpose_category(lem):\n",
    "    if 'свадьба' in lem:\n",
    "        return 'свадьба'\n",
    "    elif ('сдача' in lem) or ('коммерческий' in lem):\n",
    "        return 'покупка коммерческой недвижимости'\n",
    "    elif 'строительство' in lem:\n",
    "        return 'строительство'\n",
    "    elif 'ремонт' in lem:\n",
    "        return 'ремонт'\n",
    "    elif ('жилье' in lem) or ('недвижимость' in lem): \n",
    "        return 'покупка жилья'\n",
    "    elif 'автомобиль' in lem:\n",
    "        return 'покупка автомобиля'\n",
    "    elif 'образование' in lem:\n",
    "        return 'образование'\n",
    "    return 'другое'"
   ]
  },
  {
   "cell_type": "code",
   "execution_count": 13,
   "metadata": {},
   "outputs": [
    {
     "data": {
      "text/plain": [
       "операции с недвижимостью           675\n",
       "операции с жильем                  652\n",
       "покупка жилья                      646\n",
       "жилье                              646\n",
       "покупка жилья для семьи            638\n",
       "недвижимость                       633\n",
       "операции со своей недвижимостью    627\n",
       "покупка недвижимости               621\n",
       "покупка своего жилья               620\n",
       "покупка жилой недвижимости         606\n",
       "Name: purpose, dtype: int64"
      ]
     },
     "execution_count": 13,
     "metadata": {},
     "output_type": "execute_result"
    }
   ],
   "source": [
    "df['purpose_category'] = df['purpose_lemma'].apply(purpose_category) \n",
    "df['purpose_category'].value_counts() \n",
    "\n",
    "df[df['purpose_category'] == 'покупка жилья']['purpose'].value_counts() "
   ]
  },
  {
   "cell_type": "markdown",
   "metadata": {},
   "source": [
    "**Вывод**"
   ]
  },
  {
   "cell_type": "markdown",
   "metadata": {},
   "source": [
    "Проанализировав количество уникальных значений в столбце цель кредита, выведено несколько общих категорий: \n",
    "- свадьба\n",
    "- покупка жилья\n",
    "- покупка коммерческой недвижимости\n",
    "- строительство\n",
    "- ремонт\n",
    "- покупка автомобиля\n",
    "- образование \n",
    "\n",
    "Для этого создано 2 новых столбца, один с леммами, второй с новыми категориями."
   ]
  },
  {
   "cell_type": "markdown",
   "metadata": {},
   "source": [
    "### Категоризация данных"
   ]
  },
  {
   "cell_type": "code",
   "execution_count": 14,
   "metadata": {},
   "outputs": [
    {
     "data": {
      "text/plain": [
       "выше среднего       8584\n",
       "ниже среднего       8450\n",
       "малообеспеченный    2277\n",
       "богатый             2142\n",
       "Name: class_income, dtype: int64"
      ]
     },
     "execution_count": 14,
     "metadata": {},
     "output_type": "execute_result"
    }
   ],
   "source": [
    "med = df['total_income'].median() \n",
    "\n",
    "def class_income(income):\n",
    "    if income == 0:\n",
    "        return 'не указан доход'\n",
    "    if income <= 80000:\n",
    "        return 'малообеспеченный'\n",
    "    if (income >80000) and (income <= med):\n",
    "        return 'ниже среднего'\n",
    "    if (income >med) and (income <= 270000):\n",
    "        return 'выше среднего'\n",
    "    return 'богатый'\n",
    "\n",
    "df['class_income'] = df['total_income'].apply(class_income) \n",
    "df['class_income'].value_counts() \n"
   ]
  },
  {
   "cell_type": "markdown",
   "metadata": {},
   "source": [
    "**Вывод**"
   ]
  },
  {
   "cell_type": "markdown",
   "metadata": {},
   "source": [
    "Разбили на категории по уровню дохода, так как в дальнейшем это может пригодиться.  \n",
    "Разобили на 5 категории, условно: не указан доход, малообеспеченные, ниже среднего, выше среднего и богатые. Учтем, что среднее найдем медианой, а в первой и последней категории должно быть примерно по 10%."
   ]
  },
  {
   "cell_type": "markdown",
   "metadata": {},
   "source": [
    "##  Ответы на вопросы"
   ]
  },
  {
   "cell_type": "markdown",
   "metadata": {},
   "source": [
    "- Есть ли зависимость между наличием детей и возвратом кредита в срок?"
   ]
  },
  {
   "cell_type": "code",
   "execution_count": 15,
   "metadata": {},
   "outputs": [
    {
     "data": {
      "text/plain": [
       "(0.09208203178052424, 0.07544357700496807)"
      ]
     },
     "execution_count": 15,
     "metadata": {},
     "output_type": "execute_result"
    }
   ],
   "source": [
    "# Подсчитываем количество просрочек у заемщиков с детьми и без детей, а также общее количество \n",
    "# по этим двум категориям и высчитываем относительную просрочку для каждой категории\n",
    "\n",
    "total_child_debet = df[df['children'] > 0]['debt'].sum()  \n",
    "total_child_debet\n",
    "total_unchild_debet = df[df['children'] == 0]['debt'].sum()\n",
    "total_unchild_debet\n",
    "total_child = len(df[df['children'] > 0])\n",
    "total_child\n",
    "total_unchild = len(df[df['children'] == 0])\n",
    "total_unchild\n",
    "df['children'].value_counts() # Проверим правильность вычислений\n",
    "\n",
    "part_child_debet = total_child_debet/total_child\n",
    "part_unchild_debet = total_unchild_debet/total_unchild\n",
    "part_child_debet, part_unchild_debet # Выводим результат на экран"
   ]
  },
  {
   "cell_type": "markdown",
   "metadata": {},
   "source": [
    "**Вывод**"
   ]
  },
  {
   "cell_type": "markdown",
   "metadata": {},
   "source": [
    "Сравним отношение наличия просрочек у заемщиков с детьми и заемщиков без детей.  \n",
    "В результате мы видим, что 9,2% заемщиков с детьми имеют просрочки и 7,5% заемщиков без детей имеют просрочки. Исходя из этого можно сказать, что заемщики с детьми в среднем на 17% чаще имют просрочку, а значит можно считать, что есть зависимость между наличием детей и возвратом кредита в срок.\n",
    "\n"
   ]
  },
  {
   "cell_type": "markdown",
   "metadata": {},
   "source": [
    "- Есть ли зависимость между семейным положением и возвратом кредита в срок?"
   ]
  },
  {
   "cell_type": "code",
   "execution_count": 16,
   "metadata": {},
   "outputs": [
    {
     "data": {
      "text/html": [
       "<div>\n",
       "<style scoped>\n",
       "    .dataframe tbody tr th:only-of-type {\n",
       "        vertical-align: middle;\n",
       "    }\n",
       "\n",
       "    .dataframe tbody tr th {\n",
       "        vertical-align: top;\n",
       "    }\n",
       "\n",
       "    .dataframe thead th {\n",
       "        text-align: right;\n",
       "    }\n",
       "</style>\n",
       "<table border=\"1\" class=\"dataframe\">\n",
       "  <thead>\n",
       "    <tr style=\"text-align: right;\">\n",
       "      <th></th>\n",
       "      <th>family_status</th>\n",
       "      <th>total_debet</th>\n",
       "      <th>total</th>\n",
       "      <th>part</th>\n",
       "    </tr>\n",
       "  </thead>\n",
       "  <tbody>\n",
       "    <tr>\n",
       "      <th>4</th>\n",
       "      <td>вдовец / вдова</td>\n",
       "      <td>63</td>\n",
       "      <td>959</td>\n",
       "      <td>6.57%</td>\n",
       "    </tr>\n",
       "    <tr>\n",
       "      <th>3</th>\n",
       "      <td>в разводе</td>\n",
       "      <td>85</td>\n",
       "      <td>1195</td>\n",
       "      <td>7.11%</td>\n",
       "    </tr>\n",
       "    <tr>\n",
       "      <th>0</th>\n",
       "      <td>женат / замужем</td>\n",
       "      <td>931</td>\n",
       "      <td>12339</td>\n",
       "      <td>7.55%</td>\n",
       "    </tr>\n",
       "    <tr>\n",
       "      <th>1</th>\n",
       "      <td>гражданский брак</td>\n",
       "      <td>388</td>\n",
       "      <td>4150</td>\n",
       "      <td>9.35%</td>\n",
       "    </tr>\n",
       "    <tr>\n",
       "      <th>2</th>\n",
       "      <td>Не женат / не замужем</td>\n",
       "      <td>274</td>\n",
       "      <td>2810</td>\n",
       "      <td>9.75%</td>\n",
       "    </tr>\n",
       "  </tbody>\n",
       "</table>\n",
       "</div>"
      ],
      "text/plain": [
       "           family_status  total_debet  total   part\n",
       "4         вдовец / вдова           63    959  6.57%\n",
       "3              в разводе           85   1195  7.11%\n",
       "0        женат / замужем          931  12339  7.55%\n",
       "1       гражданский брак          388   4150  9.35%\n",
       "2  Не женат / не замужем          274   2810  9.75%"
      ]
     },
     "execution_count": 16,
     "metadata": {},
     "output_type": "execute_result"
    }
   ],
   "source": [
    "df['family_status'].value_counts() #узнаем количество уникальных значений в столбце семейное положение\n",
    "\n",
    "# Функция для подсчета показателй\n",
    "def research(element):\n",
    "    total_debet = df[df['family_status'] == element]['debt'].sum() # Подсчет количества должников\n",
    "    total = len(df[df['family_status'] == element]) # Подсчет общего количества по категориям\n",
    "    part = \"{:.2%}\".format(total_debet / total) # Подсчет относительной задолжности\n",
    "    return [element, total_debet, total, part] # Возврат новой строки для категории\n",
    "    \n",
    "# Применение функции для каждого статуса\n",
    "family_status_1 = research('женат / замужем')\n",
    "family_status_2 = research('гражданский брак')\n",
    "family_status_3 = research('Не женат / не замужем')\n",
    "family_status_4 = research('в разводе')\n",
    "family_status_5 = research('вдовец / вдова')\n",
    "\n",
    "#Оформление результатов в таблицу\n",
    "data_family=[family_status_1, family_status_2, family_status_3, family_status_4, family_status_5]\n",
    "columns = ['family_status','total_debet','total','part']\n",
    "research_family_status = pd.DataFrame(data=data_family, columns = columns) \n",
    "#Сортировка по проценту должников по категориям\n",
    "research_family_status = research_family_status.sort_values(by='part')\n",
    "\n",
    "research_family_status\n"
   ]
  },
  {
   "cell_type": "markdown",
   "metadata": {},
   "source": [
    "**Вывод**"
   ]
  },
  {
   "cell_type": "markdown",
   "metadata": {},
   "source": [
    "Пункт похож на предыдущий, но с учетом 5ти вариаций для сравнения, лучше оформить результат таблицей и сравнить. \n",
    "Из итоговой таблицы можно увидеть, что семейное положение очень влияет на относительное количество должников, местами разница в полтора раза. Значит есть зависимость между семейным положением и возвратом кредита в срок."
   ]
  },
  {
   "cell_type": "markdown",
   "metadata": {},
   "source": [
    "- Есть ли зависимость между уровнем дохода и возвратом кредита в срок?"
   ]
  },
  {
   "cell_type": "code",
   "execution_count": 17,
   "metadata": {},
   "outputs": [
    {
     "data": {
      "text/html": [
       "<div>\n",
       "<style scoped>\n",
       "    .dataframe tbody tr th:only-of-type {\n",
       "        vertical-align: middle;\n",
       "    }\n",
       "\n",
       "    .dataframe tbody tr th {\n",
       "        vertical-align: top;\n",
       "    }\n",
       "\n",
       "    .dataframe thead th {\n",
       "        text-align: right;\n",
       "    }\n",
       "</style>\n",
       "<table border=\"1\" class=\"dataframe\">\n",
       "  <thead>\n",
       "    <tr style=\"text-align: right;\">\n",
       "      <th></th>\n",
       "      <th>class_income</th>\n",
       "      <th>total_debet</th>\n",
       "      <th>total</th>\n",
       "      <th>part</th>\n",
       "    </tr>\n",
       "  </thead>\n",
       "  <tbody>\n",
       "    <tr>\n",
       "      <th>0</th>\n",
       "      <td>богатый</td>\n",
       "      <td>151</td>\n",
       "      <td>2142</td>\n",
       "      <td>7.05%</td>\n",
       "    </tr>\n",
       "    <tr>\n",
       "      <th>0</th>\n",
       "      <td>малообеспеченный</td>\n",
       "      <td>174</td>\n",
       "      <td>2277</td>\n",
       "      <td>7.64%</td>\n",
       "    </tr>\n",
       "    <tr>\n",
       "      <th>0</th>\n",
       "      <td>выше среднего</td>\n",
       "      <td>678</td>\n",
       "      <td>8584</td>\n",
       "      <td>7.90%</td>\n",
       "    </tr>\n",
       "    <tr>\n",
       "      <th>0</th>\n",
       "      <td>ниже среднего</td>\n",
       "      <td>738</td>\n",
       "      <td>8450</td>\n",
       "      <td>8.73%</td>\n",
       "    </tr>\n",
       "    <tr>\n",
       "      <th>0</th>\n",
       "      <td>не указан доход</td>\n",
       "      <td>0</td>\n",
       "      <td>0</td>\n",
       "      <td>nan%</td>\n",
       "    </tr>\n",
       "  </tbody>\n",
       "</table>\n",
       "</div>"
      ],
      "text/plain": [
       "       class_income  total_debet  total   part\n",
       "0           богатый          151   2142  7.05%\n",
       "0  малообеспеченный          174   2277  7.64%\n",
       "0     выше среднего          678   8584  7.90%\n",
       "0     ниже среднего          738   8450  8.73%\n",
       "0   не указан доход            0      0   nan%"
      ]
     },
     "execution_count": 17,
     "metadata": {},
     "output_type": "execute_result"
    }
   ],
   "source": [
    "# Подготовим таблицу для вывода результатов\n",
    "\n",
    "data = []\n",
    "columns = ['class_income','total_debet','total','part']\n",
    "research_class_income = pd.DataFrame()\n",
    "\n",
    "class_income = ['не указан доход', 'малообеспеченный', 'ниже среднего', 'выше среднего', 'богатый']\n",
    "\n",
    "# Цикл для подсчета показателй\n",
    "for element in class_income:\n",
    "    total_debet = df[df['class_income'] == element]['debt'].sum() # Подсчет количества должников\n",
    "    total = len(df[df['class_income'] == element]) # Подсчет общего количества по категориям\n",
    "    part = \"{:.2%}\".format(total_debet / total) # Подсчет относительной задолжности\n",
    "    new_row = [[element, total_debet, total, part]] # Новая строка для категории\n",
    "    research_class_income = research_class_income.append(new_row) # Добавление новой строки в таблицу с результатами\n",
    "\n",
    "research_class_income.columns = columns\n",
    "#Сортировка по проценту должников по категориям\n",
    "research_class_income = research_class_income.sort_values(by='part')\n",
    "research_class_income"
   ]
  },
  {
   "cell_type": "markdown",
   "metadata": {},
   "source": [
    "**Вывод**"
   ]
  },
  {
   "cell_type": "markdown",
   "metadata": {},
   "source": [
    "Ранее мы разбили всех заемщиков на 5 категорий по уровню дохода. Сравним относительные задолженности по категориям, по аналогии с предыдущим заданием.\n",
    "\n",
    "Вывод из данных получается очень интересный и не очевидный:\n",
    "1. Есть зависимость между уровнем дохода и возвратом кредита в срок, но она не такая яркая, как в предыдущем вопросе.\n",
    "2. Наибольшее относительное количество долников в средних категориях дохода, далее идет категория с неуказанным доходом.\n",
    "3. Наименьшее количество должников, как ни странно, в категории богатых, но с небольшим отрывом за не идет категория малообеспеченных.\n",
    "\n"
   ]
  },
  {
   "cell_type": "markdown",
   "metadata": {},
   "source": [
    "- Как разные цели кредита влияют на его возврат в срок?"
   ]
  },
  {
   "cell_type": "code",
   "execution_count": 18,
   "metadata": {},
   "outputs": [
    {
     "data": {
      "text/html": [
       "<div>\n",
       "<style scoped>\n",
       "    .dataframe tbody tr th:only-of-type {\n",
       "        vertical-align: middle;\n",
       "    }\n",
       "\n",
       "    .dataframe tbody tr th {\n",
       "        vertical-align: top;\n",
       "    }\n",
       "\n",
       "    .dataframe thead th {\n",
       "        text-align: right;\n",
       "    }\n",
       "</style>\n",
       "<table border=\"1\" class=\"dataframe\">\n",
       "  <thead>\n",
       "    <tr style=\"text-align: right;\">\n",
       "      <th></th>\n",
       "      <th>purpose_category</th>\n",
       "      <th>total_debet</th>\n",
       "      <th>total</th>\n",
       "      <th>part</th>\n",
       "    </tr>\n",
       "  </thead>\n",
       "  <tbody>\n",
       "    <tr>\n",
       "      <th>0</th>\n",
       "      <td>ремонт</td>\n",
       "      <td>35</td>\n",
       "      <td>607</td>\n",
       "      <td>5.77%</td>\n",
       "    </tr>\n",
       "    <tr>\n",
       "      <th>0</th>\n",
       "      <td>покупка жилья</td>\n",
       "      <td>452</td>\n",
       "      <td>6364</td>\n",
       "      <td>7.10%</td>\n",
       "    </tr>\n",
       "    <tr>\n",
       "      <th>0</th>\n",
       "      <td>строительство</td>\n",
       "      <td>144</td>\n",
       "      <td>1878</td>\n",
       "      <td>7.67%</td>\n",
       "    </tr>\n",
       "    <tr>\n",
       "      <th>0</th>\n",
       "      <td>покупка коммерческой недвижимости</td>\n",
       "      <td>151</td>\n",
       "      <td>1962</td>\n",
       "      <td>7.70%</td>\n",
       "    </tr>\n",
       "    <tr>\n",
       "      <th>0</th>\n",
       "      <td>свадьба</td>\n",
       "      <td>186</td>\n",
       "      <td>2323</td>\n",
       "      <td>8.01%</td>\n",
       "    </tr>\n",
       "    <tr>\n",
       "      <th>0</th>\n",
       "      <td>образование</td>\n",
       "      <td>370</td>\n",
       "      <td>4013</td>\n",
       "      <td>9.22%</td>\n",
       "    </tr>\n",
       "    <tr>\n",
       "      <th>0</th>\n",
       "      <td>покупка автомобиля</td>\n",
       "      <td>403</td>\n",
       "      <td>4306</td>\n",
       "      <td>9.36%</td>\n",
       "    </tr>\n",
       "  </tbody>\n",
       "</table>\n",
       "</div>"
      ],
      "text/plain": [
       "                    purpose_category  total_debet  total   part\n",
       "0                             ремонт           35    607  5.77%\n",
       "0                      покупка жилья          452   6364  7.10%\n",
       "0                      строительство          144   1878  7.67%\n",
       "0  покупка коммерческой недвижимости          151   1962  7.70%\n",
       "0                            свадьба          186   2323  8.01%\n",
       "0                        образование          370   4013  9.22%\n",
       "0                 покупка автомобиля          403   4306  9.36%"
      ]
     },
     "execution_count": 18,
     "metadata": {},
     "output_type": "execute_result"
    }
   ],
   "source": [
    "# Подготовим таблицу для вывода результатов\n",
    "\n",
    "columns = ['purpose_category','total_debet','total','part']\n",
    "research_purpose_category = pd.DataFrame()\n",
    "\n",
    "purpose_category = ['свадьба', 'покупка жилья', 'покупка коммерческой недвижимости', 'строительство', 'ремонт','покупка автомобиля', 'образование']\n",
    "\n",
    "# Цикл для подсчета показателй\n",
    "for element in purpose_category:\n",
    "    total_debet = df[df['purpose_category'] == element]['debt'].sum() # Подсчет количества должников\n",
    "    total = len(df[df['purpose_category'] == element]) # Подсчет общего количества по категориям\n",
    "    part = \"{:.2%}\".format(total_debet / total) # Подсчет относительной задолжности\n",
    "    new_row = [[element, total_debet, total, part]] # Новая строка для категории\n",
    "    research_purpose_category = research_purpose_category.append(new_row) # Добавление новой строки в таблицу с результатами\n",
    "\n",
    "research_purpose_category.columns = columns\n",
    "#Сортировка по проценту должников по категориям\n",
    "research_purpose_category = research_purpose_category.sort_values(by='part')\n",
    "research_purpose_category"
   ]
  },
  {
   "cell_type": "markdown",
   "metadata": {},
   "source": [
    "**Вывод**"
   ]
  },
  {
   "cell_type": "markdown",
   "metadata": {},
   "source": [
    "Мы уже сгруппировали различные цели кредита на 7 групп. Сравним относительные задолженности по этим группам, по аналогии с предыдущим заданием. \n",
    "Из итоговой таблицы видно, что цели взятия кредита значительно влияют на возврат в срок. Наименьший процент должников среди целей, связанных с недвижимостью, наибольший для образования и покупки авто. Видимо к операциям с недвижимостью люди подходят более осознанно и подготовленно."
   ]
  },
  {
   "cell_type": "markdown",
   "metadata": {},
   "source": [
    "## Общий вывод"
   ]
  },
  {
   "cell_type": "markdown",
   "metadata": {},
   "source": [
    "По результату работы обнаружено, что все показатели в большей или меньшей степени влияют на возврат кредита в срок. Это означет, что нужно обращать внимание на эти показатели при выдаче кредита и подборе процентной ставки."
   ]
  }
 ],
 "metadata": {
  "ExecuteTimeLog": [
   {
    "duration": 940,
    "start_time": "2021-09-30T12:37:06.262Z"
   },
   {
    "duration": 91,
    "start_time": "2021-09-30T12:44:51.328Z"
   },
   {
    "duration": 91,
    "start_time": "2021-09-30T12:46:48.505Z"
   },
   {
    "duration": 109,
    "start_time": "2021-09-30T13:06:20.854Z"
   },
   {
    "duration": 93,
    "start_time": "2021-09-30T13:11:55.237Z"
   },
   {
    "duration": 93,
    "start_time": "2021-09-30T13:13:42.948Z"
   },
   {
    "duration": 131,
    "start_time": "2021-09-30T13:14:36.152Z"
   },
   {
    "duration": 93,
    "start_time": "2021-09-30T13:15:17.954Z"
   },
   {
    "duration": 94,
    "start_time": "2021-09-30T13:15:59.395Z"
   },
   {
    "duration": 21,
    "start_time": "2021-09-30T13:16:13.013Z"
   },
   {
    "duration": 462,
    "start_time": "2021-09-30T15:42:47.051Z"
   },
   {
    "duration": 865,
    "start_time": "2021-09-30T15:43:13.718Z"
   },
   {
    "duration": 2311,
    "start_time": "2021-09-30T15:43:53.646Z"
   },
   {
    "duration": 440,
    "start_time": "2021-09-30T15:44:03.021Z"
   },
   {
    "duration": 9,
    "start_time": "2021-09-30T15:44:13.157Z"
   },
   {
    "duration": 37,
    "start_time": "2021-09-30T16:01:12.453Z"
   },
   {
    "duration": 39,
    "start_time": "2021-09-30T16:06:07.276Z"
   },
   {
    "duration": 51,
    "start_time": "2021-09-30T16:09:56.878Z"
   },
   {
    "duration": 16,
    "start_time": "2021-09-30T16:13:22.509Z"
   },
   {
    "duration": 15,
    "start_time": "2021-09-30T16:13:54.954Z"
   },
   {
    "duration": 19,
    "start_time": "2021-09-30T16:14:07.642Z"
   },
   {
    "duration": 13,
    "start_time": "2021-09-30T16:21:30.498Z"
   },
   {
    "duration": 19,
    "start_time": "2021-09-30T16:21:50.119Z"
   },
   {
    "duration": 20,
    "start_time": "2021-09-30T16:23:10.293Z"
   },
   {
    "duration": 19,
    "start_time": "2021-09-30T16:23:20.416Z"
   },
   {
    "duration": 15,
    "start_time": "2021-09-30T16:23:51.766Z"
   },
   {
    "duration": 15,
    "start_time": "2021-09-30T16:24:16.354Z"
   },
   {
    "duration": 36,
    "start_time": "2021-09-30T16:39:09.730Z"
   },
   {
    "duration": 37,
    "start_time": "2021-09-30T16:41:47.017Z"
   },
   {
    "duration": 18,
    "start_time": "2021-09-30T16:42:04.265Z"
   },
   {
    "duration": 21,
    "start_time": "2021-09-30T16:43:33.663Z"
   },
   {
    "duration": 22,
    "start_time": "2021-09-30T16:43:53.578Z"
   },
   {
    "duration": 23,
    "start_time": "2021-09-30T16:44:56.029Z"
   },
   {
    "duration": 513,
    "start_time": "2021-09-30T16:46:31.462Z"
   },
   {
    "duration": 418,
    "start_time": "2021-09-30T16:47:36.129Z"
   },
   {
    "duration": 1207,
    "start_time": "2021-09-30T16:47:48.891Z"
   },
   {
    "duration": 20,
    "start_time": "2021-09-30T16:47:54.538Z"
   },
   {
    "duration": 20,
    "start_time": "2021-09-30T16:47:59.364Z"
   },
   {
    "duration": 469,
    "start_time": "2021-09-30T16:49:31.425Z"
   },
   {
    "duration": 49,
    "start_time": "2021-09-30T16:49:47.929Z"
   },
   {
    "duration": 22,
    "start_time": "2021-09-30T16:53:34.656Z"
   },
   {
    "duration": 28,
    "start_time": "2021-09-30T16:57:26.882Z"
   },
   {
    "duration": 18,
    "start_time": "2021-09-30T16:58:30.446Z"
   },
   {
    "duration": 23,
    "start_time": "2021-09-30T16:58:44.112Z"
   },
   {
    "duration": 23,
    "start_time": "2021-09-30T17:00:36.863Z"
   },
   {
    "duration": 26,
    "start_time": "2021-09-30T17:04:38.263Z"
   },
   {
    "duration": 28,
    "start_time": "2021-09-30T17:07:19.233Z"
   },
   {
    "duration": 28,
    "start_time": "2021-09-30T17:29:02.498Z"
   },
   {
    "duration": 29,
    "start_time": "2021-09-30T17:30:33.177Z"
   },
   {
    "duration": 26,
    "start_time": "2021-09-30T17:31:31.886Z"
   },
   {
    "duration": 28,
    "start_time": "2021-09-30T17:31:54.899Z"
   },
   {
    "duration": 33,
    "start_time": "2021-09-30T17:32:00.667Z"
   },
   {
    "duration": 34,
    "start_time": "2021-09-30T17:32:05.047Z"
   },
   {
    "duration": 36,
    "start_time": "2021-09-30T17:32:12.256Z"
   },
   {
    "duration": 47,
    "start_time": "2021-09-30T17:33:25.171Z"
   },
   {
    "duration": 45,
    "start_time": "2021-09-30T17:36:33.288Z"
   },
   {
    "duration": 49,
    "start_time": "2021-09-30T17:37:29.275Z"
   },
   {
    "duration": 50,
    "start_time": "2021-09-30T17:41:14.641Z"
   },
   {
    "duration": 53,
    "start_time": "2021-09-30T17:42:37.033Z"
   },
   {
    "duration": 73,
    "start_time": "2021-09-30T17:45:25.937Z"
   },
   {
    "duration": 89,
    "start_time": "2021-09-30T17:46:02.068Z"
   },
   {
    "duration": 412,
    "start_time": "2021-09-30T17:47:54.165Z"
   },
   {
    "duration": 398,
    "start_time": "2021-09-30T17:48:03.499Z"
   },
   {
    "duration": 404,
    "start_time": "2021-09-30T17:48:41.940Z"
   },
   {
    "duration": 401,
    "start_time": "2021-09-30T17:48:52.614Z"
   },
   {
    "duration": 494,
    "start_time": "2021-09-30T17:49:39.313Z"
   },
   {
    "duration": 721,
    "start_time": "2021-09-30T17:49:49.468Z"
   },
   {
    "duration": 650,
    "start_time": "2021-09-30T17:49:57.424Z"
   },
   {
    "duration": 454,
    "start_time": "2021-09-30T17:50:30.936Z"
   },
   {
    "duration": 86,
    "start_time": "2021-09-30T17:50:40.643Z"
   },
   {
    "duration": 54,
    "start_time": "2021-09-30T17:50:55.748Z"
   },
   {
    "duration": 54,
    "start_time": "2021-09-30T17:51:06.929Z"
   },
   {
    "duration": 55,
    "start_time": "2021-09-30T17:51:56.962Z"
   },
   {
    "duration": 467,
    "start_time": "2021-09-30T17:52:24.122Z"
   },
   {
    "duration": 54,
    "start_time": "2021-09-30T17:52:42.876Z"
   },
   {
    "duration": 62,
    "start_time": "2021-09-30T17:57:18.530Z"
   },
   {
    "duration": 59,
    "start_time": "2021-09-30T17:57:58.549Z"
   },
   {
    "duration": 62,
    "start_time": "2021-09-30T18:10:15.033Z"
   },
   {
    "duration": 58,
    "start_time": "2021-09-30T18:12:03.251Z"
   },
   {
    "duration": 58,
    "start_time": "2021-09-30T18:12:24.135Z"
   },
   {
    "duration": 53,
    "start_time": "2021-09-30T18:12:40.446Z"
   },
   {
    "duration": 54,
    "start_time": "2021-09-30T18:12:51.562Z"
   },
   {
    "duration": 61,
    "start_time": "2021-09-30T18:14:00.508Z"
   },
   {
    "duration": 55,
    "start_time": "2021-09-30T18:14:12.873Z"
   },
   {
    "duration": 59,
    "start_time": "2021-09-30T18:19:02.052Z"
   },
   {
    "duration": 59,
    "start_time": "2021-09-30T18:19:29.312Z"
   },
   {
    "duration": 717,
    "start_time": "2021-10-01T07:49:00.315Z"
   },
   {
    "duration": 29,
    "start_time": "2021-10-01T07:49:01.034Z"
   },
   {
    "duration": 40,
    "start_time": "2021-10-01T07:56:22.509Z"
   },
   {
    "duration": 5,
    "start_time": "2021-10-01T08:05:50.223Z"
   },
   {
    "duration": 15,
    "start_time": "2021-10-01T08:07:33.716Z"
   },
   {
    "duration": 4,
    "start_time": "2021-10-01T08:17:13.622Z"
   },
   {
    "duration": 16,
    "start_time": "2021-10-01T08:17:53.395Z"
   },
   {
    "duration": 8,
    "start_time": "2021-10-01T08:19:26.827Z"
   },
   {
    "duration": 21,
    "start_time": "2021-10-01T08:23:05.833Z"
   },
   {
    "duration": 11,
    "start_time": "2021-10-01T08:24:03.525Z"
   },
   {
    "duration": 10,
    "start_time": "2021-10-01T08:24:35.100Z"
   },
   {
    "duration": 13,
    "start_time": "2021-10-01T08:26:36.876Z"
   },
   {
    "duration": 15,
    "start_time": "2021-10-01T08:27:19.959Z"
   },
   {
    "duration": 15,
    "start_time": "2021-10-01T08:27:43.866Z"
   },
   {
    "duration": 17,
    "start_time": "2021-10-01T08:27:57.380Z"
   },
   {
    "duration": 16,
    "start_time": "2021-10-01T08:31:35.805Z"
   },
   {
    "duration": 21,
    "start_time": "2021-10-01T08:31:56.407Z"
   },
   {
    "duration": 9,
    "start_time": "2021-10-01T08:34:04.223Z"
   },
   {
    "duration": 13,
    "start_time": "2021-10-01T08:34:07.476Z"
   },
   {
    "duration": 15,
    "start_time": "2021-10-01T08:34:10.610Z"
   },
   {
    "duration": 15,
    "start_time": "2021-10-01T08:34:13.599Z"
   },
   {
    "duration": 17,
    "start_time": "2021-10-01T08:34:17.531Z"
   },
   {
    "duration": 16,
    "start_time": "2021-10-01T08:37:09.040Z"
   },
   {
    "duration": 16,
    "start_time": "2021-10-01T08:37:18.159Z"
   },
   {
    "duration": 19,
    "start_time": "2021-10-01T08:37:28.085Z"
   },
   {
    "duration": 20,
    "start_time": "2021-10-01T08:39:36.480Z"
   },
   {
    "duration": 18,
    "start_time": "2021-10-01T08:44:36.475Z"
   },
   {
    "duration": 15,
    "start_time": "2021-10-01T08:44:47.642Z"
   },
   {
    "duration": 420,
    "start_time": "2021-10-01T08:56:47.465Z"
   },
   {
    "duration": 33,
    "start_time": "2021-10-01T08:57:03.227Z"
   },
   {
    "duration": 45,
    "start_time": "2021-10-01T08:57:09.255Z"
   },
   {
    "duration": 41,
    "start_time": "2021-10-01T08:57:23.346Z"
   },
   {
    "duration": 43,
    "start_time": "2021-10-01T09:03:25.825Z"
   },
   {
    "duration": 49,
    "start_time": "2021-10-01T09:04:51.065Z"
   },
   {
    "duration": -792,
    "start_time": "2021-10-01T09:05:01.731Z"
   },
   {
    "duration": 4518,
    "start_time": "2021-10-01T09:05:18.281Z"
   },
   {
    "duration": 4538,
    "start_time": "2021-10-01T09:05:49.178Z"
   },
   {
    "duration": 4992,
    "start_time": "2021-10-01T09:07:08.259Z"
   },
   {
    "duration": 70,
    "start_time": "2021-10-01T09:07:22.092Z"
   },
   {
    "duration": 42,
    "start_time": "2021-10-01T09:07:22.164Z"
   },
   {
    "duration": 13,
    "start_time": "2021-10-01T09:07:22.209Z"
   },
   {
    "duration": 62,
    "start_time": "2021-10-01T09:07:22.224Z"
   },
   {
    "duration": 45,
    "start_time": "2021-10-01T09:11:44.850Z"
   },
   {
    "duration": 718,
    "start_time": "2021-10-01T09:57:14.469Z"
   },
   {
    "duration": 41,
    "start_time": "2021-10-01T09:57:15.189Z"
   },
   {
    "duration": 14,
    "start_time": "2021-10-01T09:57:15.232Z"
   },
   {
    "duration": 68,
    "start_time": "2021-10-01T09:57:15.248Z"
   },
   {
    "duration": 4708,
    "start_time": "2021-10-01T09:57:35.921Z"
   },
   {
    "duration": 718,
    "start_time": "2021-10-01T09:58:07.872Z"
   },
   {
    "duration": 40,
    "start_time": "2021-10-01T09:58:08.593Z"
   },
   {
    "duration": 13,
    "start_time": "2021-10-01T09:58:08.635Z"
   },
   {
    "duration": 4533,
    "start_time": "2021-10-01T09:58:08.650Z"
   },
   {
    "duration": 844,
    "start_time": "2021-10-01T09:59:01.960Z"
   },
   {
    "duration": 66,
    "start_time": "2021-10-01T09:59:02.806Z"
   },
   {
    "duration": 20,
    "start_time": "2021-10-01T09:59:02.874Z"
   },
   {
    "duration": 4886,
    "start_time": "2021-10-01T09:59:02.897Z"
   },
   {
    "duration": 709,
    "start_time": "2021-10-01T09:59:38.785Z"
   },
   {
    "duration": 40,
    "start_time": "2021-10-01T09:59:39.495Z"
   },
   {
    "duration": 13,
    "start_time": "2021-10-01T09:59:39.537Z"
   },
   {
    "duration": 5076,
    "start_time": "2021-10-01T09:59:39.552Z"
   },
   {
    "duration": 678,
    "start_time": "2021-10-01T10:03:54.620Z"
   },
   {
    "duration": 49,
    "start_time": "2021-10-01T10:03:55.300Z"
   },
   {
    "duration": 31,
    "start_time": "2021-10-01T10:03:55.352Z"
   },
   {
    "duration": 4772,
    "start_time": "2021-10-01T10:03:55.385Z"
   },
   {
    "duration": 729,
    "start_time": "2021-10-01T10:04:31.145Z"
   },
   {
    "duration": 40,
    "start_time": "2021-10-01T10:04:31.876Z"
   },
   {
    "duration": 14,
    "start_time": "2021-10-01T10:04:31.918Z"
   },
   {
    "duration": 4812,
    "start_time": "2021-10-01T10:04:31.934Z"
   },
   {
    "duration": 5200,
    "start_time": "2021-10-01T10:54:15.394Z"
   },
   {
    "duration": 727,
    "start_time": "2021-10-01T10:55:20.669Z"
   },
   {
    "duration": 42,
    "start_time": "2021-10-01T10:55:21.398Z"
   },
   {
    "duration": 13,
    "start_time": "2021-10-01T10:55:21.442Z"
   },
   {
    "duration": 67,
    "start_time": "2021-10-01T10:55:21.457Z"
   },
   {
    "duration": 68,
    "start_time": "2021-10-01T10:57:07.700Z"
   },
   {
    "duration": 62,
    "start_time": "2021-10-01T10:57:49.970Z"
   },
   {
    "duration": 692,
    "start_time": "2021-10-01T11:00:08.401Z"
   },
   {
    "duration": 40,
    "start_time": "2021-10-01T11:00:09.095Z"
   },
   {
    "duration": 14,
    "start_time": "2021-10-01T11:00:09.138Z"
   },
   {
    "duration": 69,
    "start_time": "2021-10-01T11:00:09.155Z"
   },
   {
    "duration": 8,
    "start_time": "2021-10-01T11:01:56.528Z"
   },
   {
    "duration": 472,
    "start_time": "2021-10-01T11:24:58.851Z"
   },
   {
    "duration": 690,
    "start_time": "2021-10-01T11:25:13.664Z"
   },
   {
    "duration": 3746,
    "start_time": "2021-10-01T11:29:51.961Z"
   },
   {
    "duration": 3758,
    "start_time": "2021-10-01T11:29:56.572Z"
   },
   {
    "duration": 4039,
    "start_time": "2021-10-01T11:30:02.025Z"
   },
   {
    "duration": 9,
    "start_time": "2021-10-01T11:33:01.481Z"
   },
   {
    "duration": 4717,
    "start_time": "2021-10-01T11:41:43.865Z"
   },
   {
    "duration": 11758,
    "start_time": "2021-10-01T11:47:23.912Z"
   },
   {
    "duration": 14005,
    "start_time": "2021-10-01T11:49:34.777Z"
   },
   {
    "duration": 683,
    "start_time": "2021-10-01T11:58:29.931Z"
   },
   {
    "duration": 42,
    "start_time": "2021-10-01T11:58:30.616Z"
   },
   {
    "duration": 23,
    "start_time": "2021-10-01T11:58:30.661Z"
   },
   {
    "duration": 59,
    "start_time": "2021-10-01T11:58:30.686Z"
   },
   {
    "duration": 4052,
    "start_time": "2021-10-01T11:58:30.747Z"
   },
   {
    "duration": 1449,
    "start_time": "2021-10-01T12:06:26.784Z"
   },
   {
    "duration": 784,
    "start_time": "2021-10-01T12:07:00.655Z"
   },
   {
    "duration": 51,
    "start_time": "2021-10-01T12:07:01.441Z"
   },
   {
    "duration": 22,
    "start_time": "2021-10-01T12:07:01.494Z"
   },
   {
    "duration": 71,
    "start_time": "2021-10-01T12:07:01.518Z"
   },
   {
    "duration": 4993,
    "start_time": "2021-10-01T12:07:01.591Z"
   },
   {
    "duration": 2994,
    "start_time": "2021-10-01T12:07:40.196Z"
   },
   {
    "duration": 715,
    "start_time": "2021-10-01T12:08:51.738Z"
   },
   {
    "duration": 66,
    "start_time": "2021-10-01T12:08:52.455Z"
   },
   {
    "duration": 22,
    "start_time": "2021-10-01T12:08:52.527Z"
   },
   {
    "duration": 105,
    "start_time": "2021-10-01T12:08:52.552Z"
   },
   {
    "duration": 4591,
    "start_time": "2021-10-01T12:08:52.660Z"
   },
   {
    "duration": 4638,
    "start_time": "2021-10-01T12:09:06.269Z"
   },
   {
    "duration": 4921,
    "start_time": "2021-10-01T12:13:31.642Z"
   },
   {
    "duration": 4281,
    "start_time": "2021-10-01T12:14:21.713Z"
   },
   {
    "duration": 117,
    "start_time": "2021-10-01T12:15:57.313Z"
   },
   {
    "duration": 4231,
    "start_time": "2021-10-01T12:16:01.199Z"
   },
   {
    "duration": 4283,
    "start_time": "2021-10-01T12:19:10.644Z"
   },
   {
    "duration": 4356,
    "start_time": "2021-10-01T12:21:02.198Z"
   },
   {
    "duration": 4598,
    "start_time": "2021-10-01T12:32:50.424Z"
   },
   {
    "duration": 123,
    "start_time": "2021-10-01T12:39:12.304Z"
   },
   {
    "duration": 156,
    "start_time": "2021-10-01T12:39:38.008Z"
   },
   {
    "duration": 4618,
    "start_time": "2021-10-01T12:42:04.553Z"
   },
   {
    "duration": 5,
    "start_time": "2021-10-01T13:27:18.170Z"
   },
   {
    "duration": 5,
    "start_time": "2021-10-01T13:27:25.002Z"
   },
   {
    "duration": 7,
    "start_time": "2021-10-01T13:27:34.950Z"
   },
   {
    "duration": 20,
    "start_time": "2021-10-01T13:28:25.688Z"
   },
   {
    "duration": 23,
    "start_time": "2021-10-01T13:29:59.392Z"
   },
   {
    "duration": 30,
    "start_time": "2021-10-01T13:30:36.954Z"
   },
   {
    "duration": 23,
    "start_time": "2021-10-01T13:31:04.109Z"
   },
   {
    "duration": 30,
    "start_time": "2021-10-01T13:31:13.473Z"
   },
   {
    "duration": 23,
    "start_time": "2021-10-01T13:31:44.920Z"
   },
   {
    "duration": 24,
    "start_time": "2021-10-01T13:31:53.617Z"
   },
   {
    "duration": 23,
    "start_time": "2021-10-01T13:32:51.125Z"
   },
   {
    "duration": 21,
    "start_time": "2021-10-01T13:33:01.612Z"
   },
   {
    "duration": 28,
    "start_time": "2021-10-01T13:33:14.671Z"
   },
   {
    "duration": 28,
    "start_time": "2021-10-01T13:33:29.663Z"
   },
   {
    "duration": 25,
    "start_time": "2021-10-01T13:33:58.526Z"
   },
   {
    "duration": 23,
    "start_time": "2021-10-01T13:34:06.204Z"
   },
   {
    "duration": 35,
    "start_time": "2021-10-01T13:34:14.116Z"
   },
   {
    "duration": 21,
    "start_time": "2021-10-01T13:34:26.591Z"
   },
   {
    "duration": 24,
    "start_time": "2021-10-01T13:34:33.906Z"
   },
   {
    "duration": 23,
    "start_time": "2021-10-01T13:34:42.770Z"
   },
   {
    "duration": 24,
    "start_time": "2021-10-01T13:36:53.986Z"
   },
   {
    "duration": 23,
    "start_time": "2021-10-01T13:39:19.594Z"
   },
   {
    "duration": 25,
    "start_time": "2021-10-01T13:39:29.279Z"
   },
   {
    "duration": 24,
    "start_time": "2021-10-01T13:40:15.145Z"
   },
   {
    "duration": 531,
    "start_time": "2021-10-01T14:01:05.783Z"
   },
   {
    "duration": 15,
    "start_time": "2021-10-01T14:02:29.872Z"
   },
   {
    "duration": 7,
    "start_time": "2021-10-01T14:02:39.900Z"
   },
   {
    "duration": 8,
    "start_time": "2021-10-01T14:02:48.175Z"
   },
   {
    "duration": 127,
    "start_time": "2021-10-01T14:04:50.826Z"
   },
   {
    "duration": 14,
    "start_time": "2021-10-01T14:04:56.640Z"
   },
   {
    "duration": 1451,
    "start_time": "2021-10-01T14:06:46.445Z"
   },
   {
    "duration": 956,
    "start_time": "2021-10-01T14:07:00.967Z"
   },
   {
    "duration": 18,
    "start_time": "2021-10-01T14:07:15.271Z"
   },
   {
    "duration": 15,
    "start_time": "2021-10-01T14:07:57.950Z"
   },
   {
    "duration": 423,
    "start_time": "2021-10-01T14:08:26.643Z"
   },
   {
    "duration": 14,
    "start_time": "2021-10-01T14:08:33.875Z"
   },
   {
    "duration": 16,
    "start_time": "2021-10-01T14:08:44.370Z"
   },
   {
    "duration": 18,
    "start_time": "2021-10-01T14:09:26.821Z"
   },
   {
    "duration": 23,
    "start_time": "2021-10-01T14:13:38.877Z"
   },
   {
    "duration": 17,
    "start_time": "2021-10-01T14:14:06.444Z"
   },
   {
    "duration": 17,
    "start_time": "2021-10-01T14:14:39.268Z"
   },
   {
    "duration": 17,
    "start_time": "2021-10-01T14:15:47.980Z"
   },
   {
    "duration": 17,
    "start_time": "2021-10-01T14:16:13.147Z"
   },
   {
    "duration": 20,
    "start_time": "2021-10-01T14:17:04.989Z"
   },
   {
    "duration": 122,
    "start_time": "2021-10-01T14:19:13.380Z"
   },
   {
    "duration": 23,
    "start_time": "2021-10-01T14:19:20.567Z"
   },
   {
    "duration": 19,
    "start_time": "2021-10-01T14:24:15.485Z"
   },
   {
    "duration": 19,
    "start_time": "2021-10-01T14:25:01.368Z"
   },
   {
    "duration": 18,
    "start_time": "2021-10-01T14:29:42.470Z"
   },
   {
    "duration": 18,
    "start_time": "2021-10-01T14:30:04.506Z"
   },
   {
    "duration": 345,
    "start_time": "2021-10-02T05:39:02.680Z"
   },
   {
    "duration": 703,
    "start_time": "2021-10-02T05:39:21.015Z"
   },
   {
    "duration": 41,
    "start_time": "2021-10-02T05:39:21.720Z"
   },
   {
    "duration": 14,
    "start_time": "2021-10-02T05:39:21.763Z"
   },
   {
    "duration": 54,
    "start_time": "2021-10-02T05:39:21.779Z"
   },
   {
    "duration": 3819,
    "start_time": "2021-10-02T05:39:21.850Z"
   },
   {
    "duration": 23,
    "start_time": "2021-10-02T05:39:25.671Z"
   },
   {
    "duration": 26,
    "start_time": "2021-10-02T05:39:25.696Z"
   },
   {
    "duration": 30,
    "start_time": "2021-10-02T05:39:25.724Z"
   },
   {
    "duration": 9,
    "start_time": "2021-10-02T06:12:37.356Z"
   },
   {
    "duration": 13,
    "start_time": "2021-10-02T06:12:51.648Z"
   },
   {
    "duration": 315,
    "start_time": "2021-10-02T06:18:57.608Z"
   },
   {
    "duration": 271,
    "start_time": "2021-10-02T06:22:42.273Z"
   },
   {
    "duration": 321,
    "start_time": "2021-10-02T06:25:25.013Z"
   },
   {
    "duration": 733,
    "start_time": "2021-10-02T06:32:51.412Z"
   },
   {
    "duration": 41,
    "start_time": "2021-10-02T06:32:52.147Z"
   },
   {
    "duration": 15,
    "start_time": "2021-10-02T06:32:52.191Z"
   },
   {
    "duration": 73,
    "start_time": "2021-10-02T06:32:52.209Z"
   },
   {
    "duration": 3738,
    "start_time": "2021-10-02T06:32:52.285Z"
   },
   {
    "duration": 32,
    "start_time": "2021-10-02T06:32:56.025Z"
   },
   {
    "duration": 28,
    "start_time": "2021-10-02T06:32:56.059Z"
   },
   {
    "duration": 77,
    "start_time": "2021-10-02T06:32:56.089Z"
   },
   {
    "duration": 51,
    "start_time": "2021-10-02T06:33:08.264Z"
   },
   {
    "duration": 54,
    "start_time": "2021-10-02T06:34:13.298Z"
   },
   {
    "duration": 659,
    "start_time": "2021-10-02T06:34:22.170Z"
   },
   {
    "duration": 39,
    "start_time": "2021-10-02T06:34:22.831Z"
   },
   {
    "duration": 13,
    "start_time": "2021-10-02T06:34:22.872Z"
   },
   {
    "duration": 63,
    "start_time": "2021-10-02T06:34:22.887Z"
   },
   {
    "duration": 3815,
    "start_time": "2021-10-02T06:34:22.952Z"
   },
   {
    "duration": 26,
    "start_time": "2021-10-02T06:34:26.769Z"
   },
   {
    "duration": 23,
    "start_time": "2021-10-02T06:34:26.796Z"
   },
   {
    "duration": 76,
    "start_time": "2021-10-02T06:34:26.821Z"
   },
   {
    "duration": 659,
    "start_time": "2021-10-02T06:36:14.576Z"
   },
   {
    "duration": 39,
    "start_time": "2021-10-02T06:36:15.237Z"
   },
   {
    "duration": 13,
    "start_time": "2021-10-02T06:36:15.278Z"
   },
   {
    "duration": 68,
    "start_time": "2021-10-02T06:36:15.293Z"
   },
   {
    "duration": 3761,
    "start_time": "2021-10-02T06:36:15.363Z"
   },
   {
    "duration": 32,
    "start_time": "2021-10-02T06:36:19.126Z"
   },
   {
    "duration": 24,
    "start_time": "2021-10-02T06:36:19.160Z"
   },
   {
    "duration": 356,
    "start_time": "2021-10-02T06:36:19.187Z"
   },
   {
    "duration": 53,
    "start_time": "2021-10-02T06:37:47.333Z"
   },
   {
    "duration": 298,
    "start_time": "2021-10-02T06:41:36.873Z"
   },
   {
    "duration": 52,
    "start_time": "2021-10-02T06:41:49.318Z"
   },
   {
    "duration": 49,
    "start_time": "2021-10-02T07:35:48.021Z"
   },
   {
    "duration": 62,
    "start_time": "2021-10-02T08:01:10.383Z"
   },
   {
    "duration": 438,
    "start_time": "2021-10-02T11:00:40.772Z"
   },
   {
    "duration": 382,
    "start_time": "2021-10-02T11:01:11.800Z"
   },
   {
    "duration": 952,
    "start_time": "2021-10-02T11:01:36.401Z"
   },
   {
    "duration": 69,
    "start_time": "2021-10-02T11:01:37.356Z"
   },
   {
    "duration": 21,
    "start_time": "2021-10-02T11:01:37.429Z"
   },
   {
    "duration": 106,
    "start_time": "2021-10-02T11:01:37.454Z"
   },
   {
    "duration": 5186,
    "start_time": "2021-10-02T11:01:37.562Z"
   },
   {
    "duration": 35,
    "start_time": "2021-10-02T11:01:42.751Z"
   },
   {
    "duration": 52,
    "start_time": "2021-10-02T11:01:42.788Z"
   },
   {
    "duration": 24,
    "start_time": "2021-10-02T11:01:42.843Z"
   },
   {
    "duration": 97,
    "start_time": "2021-10-02T11:01:42.870Z"
   },
   {
    "duration": 137,
    "start_time": "2021-10-02T11:01:42.969Z"
   },
   {
    "duration": 28,
    "start_time": "2021-10-02T11:01:56.257Z"
   },
   {
    "duration": 38,
    "start_time": "2021-10-02T11:03:41.890Z"
   },
   {
    "duration": 27,
    "start_time": "2021-10-02T11:03:58.282Z"
   },
   {
    "duration": 27,
    "start_time": "2021-10-02T11:04:08.952Z"
   },
   {
    "duration": 53,
    "start_time": "2021-10-02T11:13:22.947Z"
   },
   {
    "duration": 54,
    "start_time": "2021-10-02T11:20:47.535Z"
   },
   {
    "duration": 54,
    "start_time": "2021-10-02T11:22:04.060Z"
   },
   {
    "duration": 54,
    "start_time": "2021-10-02T11:23:29.982Z"
   },
   {
    "duration": 72,
    "start_time": "2021-10-02T11:23:37.953Z"
   },
   {
    "duration": 81,
    "start_time": "2021-10-02T11:29:55.179Z"
   },
   {
    "duration": 70,
    "start_time": "2021-10-02T11:32:41.937Z"
   },
   {
    "duration": 80,
    "start_time": "2021-10-02T11:33:05.610Z"
   },
   {
    "duration": 60,
    "start_time": "2021-10-02T11:34:01.668Z"
   },
   {
    "duration": 64,
    "start_time": "2021-10-02T11:37:11.904Z"
   },
   {
    "duration": 59,
    "start_time": "2021-10-02T11:37:35.204Z"
   },
   {
    "duration": 82,
    "start_time": "2021-10-02T11:37:51.863Z"
   },
   {
    "duration": 60,
    "start_time": "2021-10-02T11:38:09.297Z"
   },
   {
    "duration": 56,
    "start_time": "2021-10-02T11:41:07.624Z"
   },
   {
    "duration": 79,
    "start_time": "2021-10-02T12:08:58.021Z"
   },
   {
    "duration": 73,
    "start_time": "2021-10-02T12:14:15.630Z"
   },
   {
    "duration": 90,
    "start_time": "2021-10-02T12:14:57.763Z"
   },
   {
    "duration": 980,
    "start_time": "2021-10-02T12:21:25.763Z"
   },
   {
    "duration": 71,
    "start_time": "2021-10-02T12:21:26.746Z"
   },
   {
    "duration": 21,
    "start_time": "2021-10-02T12:21:26.821Z"
   },
   {
    "duration": 108,
    "start_time": "2021-10-02T12:21:26.845Z"
   },
   {
    "duration": 4871,
    "start_time": "2021-10-02T12:21:26.955Z"
   },
   {
    "duration": 32,
    "start_time": "2021-10-02T12:21:31.828Z"
   },
   {
    "duration": 55,
    "start_time": "2021-10-02T12:21:31.863Z"
   },
   {
    "duration": 55,
    "start_time": "2021-10-02T12:21:31.922Z"
   },
   {
    "duration": 87,
    "start_time": "2021-10-02T12:21:31.979Z"
   },
   {
    "duration": 100,
    "start_time": "2021-10-02T12:21:32.068Z"
   },
   {
    "duration": 859,
    "start_time": "2021-10-02T12:44:32.275Z"
   },
   {
    "duration": 56,
    "start_time": "2021-10-02T12:44:33.137Z"
   },
   {
    "duration": 37,
    "start_time": "2021-10-02T12:44:33.196Z"
   },
   {
    "duration": 95,
    "start_time": "2021-10-02T12:44:33.236Z"
   },
   {
    "duration": 4657,
    "start_time": "2021-10-02T12:44:33.334Z"
   },
   {
    "duration": 46,
    "start_time": "2021-10-02T12:44:37.994Z"
   },
   {
    "duration": 33,
    "start_time": "2021-10-02T12:44:38.042Z"
   },
   {
    "duration": 82,
    "start_time": "2021-10-02T12:44:38.078Z"
   },
   {
    "duration": 86,
    "start_time": "2021-10-02T12:44:38.163Z"
   },
   {
    "duration": 96,
    "start_time": "2021-10-02T12:44:38.252Z"
   },
   {
    "duration": 609,
    "start_time": "2021-10-03T14:34:29.443Z"
   },
   {
    "duration": 47,
    "start_time": "2021-10-03T14:34:30.053Z"
   },
   {
    "duration": 12,
    "start_time": "2021-10-03T14:34:30.102Z"
   },
   {
    "duration": 48,
    "start_time": "2021-10-03T14:34:30.116Z"
   },
   {
    "duration": 3578,
    "start_time": "2021-10-03T14:34:30.165Z"
   },
   {
    "duration": 22,
    "start_time": "2021-10-03T14:34:33.745Z"
   },
   {
    "duration": 51,
    "start_time": "2021-10-03T14:34:33.769Z"
   },
   {
    "duration": 43,
    "start_time": "2021-10-03T14:34:33.823Z"
   },
   {
    "duration": 68,
    "start_time": "2021-10-03T14:34:33.868Z"
   },
   {
    "duration": 72,
    "start_time": "2021-10-03T14:34:33.938Z"
   },
   {
    "duration": 231,
    "start_time": "2021-10-03T14:42:22.198Z"
   },
   {
    "duration": 15,
    "start_time": "2021-10-03T14:42:25.264Z"
   },
   {
    "duration": 11,
    "start_time": "2021-10-03T14:42:34.601Z"
   },
   {
    "duration": 13,
    "start_time": "2021-10-03T14:44:31.462Z"
   },
   {
    "duration": 8,
    "start_time": "2021-10-03T14:45:38.765Z"
   },
   {
    "duration": 16,
    "start_time": "2021-10-03T14:45:44.227Z"
   },
   {
    "duration": 17,
    "start_time": "2021-10-03T14:46:09.507Z"
   },
   {
    "duration": 208,
    "start_time": "2021-10-03T17:03:41.346Z"
   },
   {
    "duration": 179,
    "start_time": "2021-10-03T17:03:51.844Z"
   },
   {
    "duration": 669,
    "start_time": "2021-10-03T17:23:35.224Z"
   },
   {
    "duration": 11,
    "start_time": "2021-10-03T17:23:35.895Z"
   },
   {
    "duration": 20,
    "start_time": "2021-10-03T17:23:35.908Z"
   },
   {
    "duration": 10,
    "start_time": "2021-10-03T17:23:35.930Z"
   },
   {
    "duration": 10,
    "start_time": "2021-10-03T17:23:35.942Z"
   },
   {
    "duration": 14,
    "start_time": "2021-10-03T17:23:35.954Z"
   },
   {
    "duration": 41,
    "start_time": "2021-10-03T17:23:35.970Z"
   },
   {
    "duration": 12,
    "start_time": "2021-10-03T17:23:36.015Z"
   },
   {
    "duration": 12,
    "start_time": "2021-10-03T17:23:36.029Z"
   },
   {
    "duration": 82,
    "start_time": "2021-10-03T17:23:36.043Z"
   },
   {
    "duration": 3675,
    "start_time": "2021-10-03T17:23:36.127Z"
   },
   {
    "duration": 22,
    "start_time": "2021-10-03T17:23:39.804Z"
   },
   {
    "duration": 13,
    "start_time": "2021-10-03T17:23:39.828Z"
   },
   {
    "duration": 11,
    "start_time": "2021-10-03T17:23:39.843Z"
   },
   {
    "duration": 50,
    "start_time": "2021-10-03T17:23:39.856Z"
   },
   {
    "duration": 11,
    "start_time": "2021-10-03T17:23:39.907Z"
   },
   {
    "duration": 7,
    "start_time": "2021-10-03T17:23:39.920Z"
   },
   {
    "duration": 18,
    "start_time": "2021-10-03T17:23:39.929Z"
   },
   {
    "duration": 15,
    "start_time": "2021-10-03T17:23:39.948Z"
   },
   {
    "duration": 67,
    "start_time": "2021-10-03T17:23:39.965Z"
   },
   {
    "duration": 46,
    "start_time": "2021-10-03T17:23:40.034Z"
   },
   {
    "duration": 67,
    "start_time": "2021-10-03T17:23:40.081Z"
   },
   {
    "duration": 14,
    "start_time": "2021-10-03T17:29:29.452Z"
   },
   {
    "duration": 604,
    "start_time": "2021-10-03T17:29:47.526Z"
   },
   {
    "duration": 10,
    "start_time": "2021-10-03T17:29:48.132Z"
   },
   {
    "duration": 11,
    "start_time": "2021-10-03T17:29:48.144Z"
   },
   {
    "duration": 8,
    "start_time": "2021-10-03T17:29:48.157Z"
   },
   {
    "duration": 33,
    "start_time": "2021-10-03T17:29:48.167Z"
   },
   {
    "duration": 11,
    "start_time": "2021-10-03T17:29:48.202Z"
   },
   {
    "duration": 12,
    "start_time": "2021-10-03T17:29:48.215Z"
   },
   {
    "duration": 9,
    "start_time": "2021-10-03T17:29:48.230Z"
   },
   {
    "duration": 235,
    "start_time": "2021-10-03T17:29:48.241Z"
   },
   {
    "duration": -92,
    "start_time": "2021-10-03T17:29:48.570Z"
   },
   {
    "duration": -124,
    "start_time": "2021-10-03T17:29:48.603Z"
   },
   {
    "duration": -141,
    "start_time": "2021-10-03T17:29:48.621Z"
   },
   {
    "duration": -152,
    "start_time": "2021-10-03T17:29:48.633Z"
   },
   {
    "duration": -156,
    "start_time": "2021-10-03T17:29:48.638Z"
   },
   {
    "duration": -162,
    "start_time": "2021-10-03T17:29:48.644Z"
   },
   {
    "duration": -167,
    "start_time": "2021-10-03T17:29:48.650Z"
   },
   {
    "duration": -171,
    "start_time": "2021-10-03T17:29:48.655Z"
   },
   {
    "duration": -175,
    "start_time": "2021-10-03T17:29:48.660Z"
   },
   {
    "duration": -181,
    "start_time": "2021-10-03T17:29:48.667Z"
   },
   {
    "duration": -184,
    "start_time": "2021-10-03T17:29:48.671Z"
   },
   {
    "duration": -190,
    "start_time": "2021-10-03T17:29:48.677Z"
   },
   {
    "duration": -195,
    "start_time": "2021-10-03T17:29:48.683Z"
   },
   {
    "duration": 27,
    "start_time": "2021-10-03T17:33:43.634Z"
   },
   {
    "duration": 15,
    "start_time": "2021-10-03T17:49:00.058Z"
   },
   {
    "duration": 11,
    "start_time": "2021-10-03T17:49:08.918Z"
   },
   {
    "duration": 7,
    "start_time": "2021-10-03T17:50:42.203Z"
   },
   {
    "duration": 20,
    "start_time": "2021-10-03T17:52:24.003Z"
   },
   {
    "duration": 174,
    "start_time": "2021-10-03T17:53:51.673Z"
   },
   {
    "duration": 13,
    "start_time": "2021-10-03T17:55:53.208Z"
   },
   {
    "duration": 13,
    "start_time": "2021-10-03T17:56:17.587Z"
   },
   {
    "duration": 14,
    "start_time": "2021-10-03T17:56:26.097Z"
   },
   {
    "duration": 14,
    "start_time": "2021-10-03T17:56:33.439Z"
   },
   {
    "duration": 7,
    "start_time": "2021-10-03T18:03:37.768Z"
   },
   {
    "duration": 7,
    "start_time": "2021-10-03T18:05:12.916Z"
   },
   {
    "duration": 9,
    "start_time": "2021-10-03T18:06:42.516Z"
   },
   {
    "duration": 9,
    "start_time": "2021-10-03T18:10:13.935Z"
   },
   {
    "duration": 8,
    "start_time": "2021-10-03T18:10:28.437Z"
   },
   {
    "duration": 184,
    "start_time": "2021-10-03T18:26:12.110Z"
   },
   {
    "duration": 191,
    "start_time": "2021-10-03T18:28:24.517Z"
   },
   {
    "duration": 194,
    "start_time": "2021-10-03T18:29:00.239Z"
   },
   {
    "duration": 195,
    "start_time": "2021-10-03T18:29:43.302Z"
   },
   {
    "duration": 4758,
    "start_time": "2021-10-03T18:31:18.953Z"
   },
   {
    "duration": 5472,
    "start_time": "2021-10-03T18:32:05.474Z"
   },
   {
    "duration": 201,
    "start_time": "2021-10-03T18:32:43.526Z"
   },
   {
    "duration": 122,
    "start_time": "2021-10-03T18:35:17.716Z"
   },
   {
    "duration": 19,
    "start_time": "2021-10-03T18:38:03.360Z"
   },
   {
    "duration": 151,
    "start_time": "2021-10-03T18:39:11.063Z"
   },
   {
    "duration": 150,
    "start_time": "2021-10-03T18:39:52.430Z"
   },
   {
    "duration": 153,
    "start_time": "2021-10-03T18:41:36.393Z"
   },
   {
    "duration": 18,
    "start_time": "2021-10-03T18:42:43.364Z"
   },
   {
    "duration": 80,
    "start_time": "2021-10-03T18:43:43.394Z"
   },
   {
    "duration": 77,
    "start_time": "2021-10-03T18:44:06.861Z"
   },
   {
    "duration": 69,
    "start_time": "2021-10-03T18:44:44.199Z"
   },
   {
    "duration": 53,
    "start_time": "2021-10-03T18:44:55.083Z"
   },
   {
    "duration": 63,
    "start_time": "2021-10-03T18:45:11.246Z"
   },
   {
    "duration": 114,
    "start_time": "2021-10-03T18:46:19.638Z"
   },
   {
    "duration": 76,
    "start_time": "2021-10-03T18:46:54.168Z"
   },
   {
    "duration": 76,
    "start_time": "2021-10-03T18:47:13.419Z"
   },
   {
    "duration": 88,
    "start_time": "2021-10-03T18:47:39.375Z"
   },
   {
    "duration": 83,
    "start_time": "2021-10-03T18:48:09.754Z"
   },
   {
    "duration": 120,
    "start_time": "2021-10-03T18:48:42.721Z"
   },
   {
    "duration": 110,
    "start_time": "2021-10-03T18:49:33.108Z"
   },
   {
    "duration": 116,
    "start_time": "2021-10-03T18:49:46.328Z"
   },
   {
    "duration": 109,
    "start_time": "2021-10-03T18:51:00.893Z"
   },
   {
    "duration": 116,
    "start_time": "2021-10-03T18:51:25.098Z"
   },
   {
    "duration": 109,
    "start_time": "2021-10-03T18:53:02.375Z"
   },
   {
    "duration": 121,
    "start_time": "2021-10-03T18:54:04.609Z"
   },
   {
    "duration": 195,
    "start_time": "2021-10-03T19:02:00.132Z"
   },
   {
    "duration": 600,
    "start_time": "2021-10-03T19:03:34.026Z"
   },
   {
    "duration": 199,
    "start_time": "2021-10-03T19:08:11.738Z"
   },
   {
    "duration": 129,
    "start_time": "2021-10-03T19:09:39.670Z"
   },
   {
    "duration": 179,
    "start_time": "2021-10-03T19:09:59.774Z"
   },
   {
    "duration": 218,
    "start_time": "2021-10-03T19:10:57.295Z"
   },
   {
    "duration": 286,
    "start_time": "2021-10-03T19:13:33.515Z"
   },
   {
    "duration": 232,
    "start_time": "2021-10-03T19:13:52.487Z"
   },
   {
    "duration": 138,
    "start_time": "2021-10-03T19:16:09.379Z"
   },
   {
    "duration": 473,
    "start_time": "2021-10-03T19:17:03.693Z"
   },
   {
    "duration": 296,
    "start_time": "2021-10-03T19:18:07.468Z"
   },
   {
    "duration": 124,
    "start_time": "2021-10-03T19:18:29.160Z"
   },
   {
    "duration": 129,
    "start_time": "2021-10-03T19:18:57.963Z"
   },
   {
    "duration": 124,
    "start_time": "2021-10-03T19:19:17.368Z"
   },
   {
    "duration": 127,
    "start_time": "2021-10-03T19:20:15.485Z"
   },
   {
    "duration": 134,
    "start_time": "2021-10-03T19:20:32.211Z"
   },
   {
    "duration": 59,
    "start_time": "2021-10-03T19:23:07.627Z"
   },
   {
    "duration": 230,
    "start_time": "2021-10-03T19:26:17.594Z"
   },
   {
    "duration": 212,
    "start_time": "2021-10-03T19:33:43.016Z"
   },
   {
    "duration": 182,
    "start_time": "2021-10-03T19:33:56.771Z"
   },
   {
    "duration": 1697,
    "start_time": "2021-10-03T19:48:57.882Z"
   },
   {
    "duration": 3136,
    "start_time": "2021-10-03T19:50:04.632Z"
   },
   {
    "duration": 1507,
    "start_time": "2021-10-03T19:53:38.227Z"
   },
   {
    "duration": 1191,
    "start_time": "2021-10-03T19:54:22.928Z"
   },
   {
    "duration": 1318,
    "start_time": "2021-10-03T19:57:14.316Z"
   },
   {
    "duration": 82,
    "start_time": "2021-10-03T19:58:11.944Z"
   },
   {
    "duration": 1292,
    "start_time": "2021-10-03T20:02:48.782Z"
   },
   {
    "duration": 123,
    "start_time": "2021-10-03T20:06:57.732Z"
   },
   {
    "duration": 1589,
    "start_time": "2021-10-03T20:09:49.621Z"
   },
   {
    "duration": 228,
    "start_time": "2021-10-03T20:24:07.363Z"
   },
   {
    "duration": 260,
    "start_time": "2021-10-03T20:24:45.198Z"
   },
   {
    "duration": 260,
    "start_time": "2021-10-03T20:25:02.506Z"
   },
   {
    "duration": 479,
    "start_time": "2021-10-03T20:27:09.251Z"
   },
   {
    "duration": 647,
    "start_time": "2021-10-04T04:22:07.007Z"
   },
   {
    "duration": 11,
    "start_time": "2021-10-04T04:22:07.656Z"
   },
   {
    "duration": 13,
    "start_time": "2021-10-04T04:22:07.669Z"
   },
   {
    "duration": 9,
    "start_time": "2021-10-04T04:22:07.683Z"
   },
   {
    "duration": 11,
    "start_time": "2021-10-04T04:22:07.694Z"
   },
   {
    "duration": 44,
    "start_time": "2021-10-04T04:22:07.707Z"
   },
   {
    "duration": 9,
    "start_time": "2021-10-04T04:22:07.753Z"
   },
   {
    "duration": 249,
    "start_time": "2021-10-04T04:22:07.765Z"
   },
   {
    "duration": 296,
    "start_time": "2021-10-04T04:22:08.016Z"
   },
   {
    "duration": 435,
    "start_time": "2021-10-04T04:22:07.879Z"
   },
   {
    "duration": 425,
    "start_time": "2021-10-04T04:22:07.890Z"
   },
   {
    "duration": 415,
    "start_time": "2021-10-04T04:22:07.901Z"
   },
   {
    "duration": 407,
    "start_time": "2021-10-04T04:22:07.910Z"
   },
   {
    "duration": 399,
    "start_time": "2021-10-04T04:22:07.919Z"
   },
   {
    "duration": 392,
    "start_time": "2021-10-04T04:22:07.927Z"
   },
   {
    "duration": 386,
    "start_time": "2021-10-04T04:22:07.933Z"
   },
   {
    "duration": 382,
    "start_time": "2021-10-04T04:22:07.938Z"
   },
   {
    "duration": 374,
    "start_time": "2021-10-04T04:22:07.947Z"
   },
   {
    "duration": 369,
    "start_time": "2021-10-04T04:22:07.954Z"
   },
   {
    "duration": 357,
    "start_time": "2021-10-04T04:22:07.966Z"
   },
   {
    "duration": 350,
    "start_time": "2021-10-04T04:22:07.975Z"
   },
   {
    "duration": 343,
    "start_time": "2021-10-04T04:22:07.983Z"
   },
   {
    "duration": 227,
    "start_time": "2021-10-04T04:23:04.486Z"
   },
   {
    "duration": 74,
    "start_time": "2021-10-04T04:23:40.175Z"
   },
   {
    "duration": 85,
    "start_time": "2021-10-04T04:24:44.382Z"
   },
   {
    "duration": 254,
    "start_time": "2021-10-04T04:25:00.643Z"
   },
   {
    "duration": 241,
    "start_time": "2021-10-04T04:25:34.718Z"
   },
   {
    "duration": 652,
    "start_time": "2021-10-04T04:25:51.671Z"
   },
   {
    "duration": 11,
    "start_time": "2021-10-04T04:25:52.326Z"
   },
   {
    "duration": 12,
    "start_time": "2021-10-04T04:25:52.339Z"
   },
   {
    "duration": 9,
    "start_time": "2021-10-04T04:25:52.353Z"
   },
   {
    "duration": 12,
    "start_time": "2021-10-04T04:25:52.363Z"
   },
   {
    "duration": 13,
    "start_time": "2021-10-04T04:25:52.376Z"
   },
   {
    "duration": 8,
    "start_time": "2021-10-04T04:25:52.391Z"
   },
   {
    "duration": 263,
    "start_time": "2021-10-04T04:25:52.402Z"
   },
   {
    "duration": 337,
    "start_time": "2021-10-04T04:25:52.667Z"
   },
   {
    "duration": 352,
    "start_time": "2021-10-04T04:25:52.654Z"
   },
   {
    "duration": 338,
    "start_time": "2021-10-04T04:25:52.669Z"
   },
   {
    "duration": 330,
    "start_time": "2021-10-04T04:25:52.678Z"
   },
   {
    "duration": 296,
    "start_time": "2021-10-04T04:25:52.713Z"
   },
   {
    "duration": 257,
    "start_time": "2021-10-04T04:25:52.753Z"
   },
   {
    "duration": 233,
    "start_time": "2021-10-04T04:25:52.778Z"
   },
   {
    "duration": 224,
    "start_time": "2021-10-04T04:25:52.788Z"
   },
   {
    "duration": 217,
    "start_time": "2021-10-04T04:25:52.795Z"
   },
   {
    "duration": 212,
    "start_time": "2021-10-04T04:25:52.801Z"
   },
   {
    "duration": 209,
    "start_time": "2021-10-04T04:25:52.805Z"
   },
   {
    "duration": 204,
    "start_time": "2021-10-04T04:25:52.812Z"
   },
   {
    "duration": 200,
    "start_time": "2021-10-04T04:25:52.816Z"
   },
   {
    "duration": 196,
    "start_time": "2021-10-04T04:25:52.821Z"
   },
   {
    "duration": 447,
    "start_time": "2021-10-04T04:27:24.598Z"
   },
   {
    "duration": 690,
    "start_time": "2021-10-04T04:30:02.173Z"
   },
   {
    "duration": 11,
    "start_time": "2021-10-04T04:30:02.865Z"
   },
   {
    "duration": 15,
    "start_time": "2021-10-04T04:30:02.878Z"
   },
   {
    "duration": 9,
    "start_time": "2021-10-04T04:30:02.895Z"
   },
   {
    "duration": 12,
    "start_time": "2021-10-04T04:30:02.906Z"
   },
   {
    "duration": 40,
    "start_time": "2021-10-04T04:30:02.920Z"
   },
   {
    "duration": 6,
    "start_time": "2021-10-04T04:30:02.962Z"
   },
   {
    "duration": 722,
    "start_time": "2021-10-04T04:30:02.970Z"
   },
   {
    "duration": 304,
    "start_time": "2021-10-04T04:30:03.695Z"
   },
   {
    "duration": 426,
    "start_time": "2021-10-04T04:30:03.575Z"
   },
   {
    "duration": 417,
    "start_time": "2021-10-04T04:30:03.585Z"
   },
   {
    "duration": 406,
    "start_time": "2021-10-04T04:30:03.596Z"
   },
   {
    "duration": 397,
    "start_time": "2021-10-04T04:30:03.606Z"
   },
   {
    "duration": 389,
    "start_time": "2021-10-04T04:30:03.615Z"
   },
   {
    "duration": 378,
    "start_time": "2021-10-04T04:30:03.627Z"
   },
   {
    "duration": 361,
    "start_time": "2021-10-04T04:30:03.644Z"
   },
   {
    "duration": 349,
    "start_time": "2021-10-04T04:30:03.657Z"
   },
   {
    "duration": 336,
    "start_time": "2021-10-04T04:30:03.671Z"
   },
   {
    "duration": 323,
    "start_time": "2021-10-04T04:30:03.685Z"
   },
   {
    "duration": 311,
    "start_time": "2021-10-04T04:30:03.697Z"
   },
   {
    "duration": 302,
    "start_time": "2021-10-04T04:30:03.707Z"
   },
   {
    "duration": 293,
    "start_time": "2021-10-04T04:30:03.717Z"
   },
   {
    "duration": 14,
    "start_time": "2021-10-04T04:36:56.257Z"
   },
   {
    "duration": 656,
    "start_time": "2021-10-04T04:37:11.509Z"
   },
   {
    "duration": 12,
    "start_time": "2021-10-04T04:37:12.167Z"
   },
   {
    "duration": 14,
    "start_time": "2021-10-04T04:37:12.181Z"
   },
   {
    "duration": 9,
    "start_time": "2021-10-04T04:37:12.197Z"
   },
   {
    "duration": 11,
    "start_time": "2021-10-04T04:37:12.208Z"
   },
   {
    "duration": 39,
    "start_time": "2021-10-04T04:37:12.220Z"
   },
   {
    "duration": 7,
    "start_time": "2021-10-04T04:37:12.261Z"
   },
   {
    "duration": 14,
    "start_time": "2021-10-04T04:37:12.270Z"
   },
   {
    "duration": 399,
    "start_time": "2021-10-04T04:37:12.286Z"
   },
   {
    "duration": 390,
    "start_time": "2021-10-04T04:37:12.297Z"
   },
   {
    "duration": 372,
    "start_time": "2021-10-04T04:37:12.316Z"
   },
   {
    "duration": 349,
    "start_time": "2021-10-04T04:37:12.340Z"
   },
   {
    "duration": 334,
    "start_time": "2021-10-04T04:37:12.356Z"
   },
   {
    "duration": 328,
    "start_time": "2021-10-04T04:37:12.362Z"
   },
   {
    "duration": 313,
    "start_time": "2021-10-04T04:37:12.378Z"
   },
   {
    "duration": 297,
    "start_time": "2021-10-04T04:37:12.395Z"
   },
   {
    "duration": 291,
    "start_time": "2021-10-04T04:37:12.402Z"
   },
   {
    "duration": 284,
    "start_time": "2021-10-04T04:37:12.409Z"
   },
   {
    "duration": 278,
    "start_time": "2021-10-04T04:37:12.416Z"
   },
   {
    "duration": 273,
    "start_time": "2021-10-04T04:37:12.422Z"
   },
   {
    "duration": 265,
    "start_time": "2021-10-04T04:37:12.431Z"
   },
   {
    "duration": 261,
    "start_time": "2021-10-04T04:37:12.436Z"
   },
   {
    "duration": 16,
    "start_time": "2021-10-04T04:37:31.246Z"
   },
   {
    "duration": 701,
    "start_time": "2021-10-04T04:38:02.309Z"
   },
   {
    "duration": 322,
    "start_time": "2021-10-04T05:19:29.921Z"
   },
   {
    "duration": 11,
    "start_time": "2021-10-04T05:20:53.781Z"
   },
   {
    "duration": 710,
    "start_time": "2021-10-04T05:22:05.510Z"
   },
   {
    "duration": 1061,
    "start_time": "2021-10-04T05:30:25.519Z"
   },
   {
    "duration": 808,
    "start_time": "2021-10-04T05:30:58.651Z"
   },
   {
    "duration": 815,
    "start_time": "2021-10-04T05:31:50.698Z"
   },
   {
    "duration": 829,
    "start_time": "2021-10-04T05:32:04.603Z"
   },
   {
    "duration": 880,
    "start_time": "2021-10-04T05:33:22.822Z"
   },
   {
    "duration": 758,
    "start_time": "2021-10-04T05:34:07.342Z"
   },
   {
    "duration": 795,
    "start_time": "2021-10-04T05:34:16.367Z"
   },
   {
    "duration": 12,
    "start_time": "2021-10-04T05:34:24.480Z"
   },
   {
    "duration": 15,
    "start_time": "2021-10-04T05:34:30.857Z"
   },
   {
    "duration": 55,
    "start_time": "2021-10-04T05:35:17.610Z"
   },
   {
    "duration": 679,
    "start_time": "2021-10-04T05:52:50.188Z"
   },
   {
    "duration": 12,
    "start_time": "2021-10-04T05:52:50.869Z"
   },
   {
    "duration": 13,
    "start_time": "2021-10-04T05:52:50.883Z"
   },
   {
    "duration": 9,
    "start_time": "2021-10-04T05:52:50.898Z"
   },
   {
    "duration": 43,
    "start_time": "2021-10-04T05:52:50.908Z"
   },
   {
    "duration": 14,
    "start_time": "2021-10-04T05:52:50.953Z"
   },
   {
    "duration": 8,
    "start_time": "2021-10-04T05:52:50.968Z"
   },
   {
    "duration": 755,
    "start_time": "2021-10-04T05:52:50.979Z"
   },
   {
    "duration": 17,
    "start_time": "2021-10-04T05:52:51.736Z"
   },
   {
    "duration": 55,
    "start_time": "2021-10-04T05:52:51.754Z"
   },
   {
    "duration": 3495,
    "start_time": "2021-10-04T05:52:51.811Z"
   },
   {
    "duration": 4,
    "start_time": "2021-10-04T05:52:55.309Z"
   },
   {
    "duration": 42,
    "start_time": "2021-10-04T05:52:55.315Z"
   },
   {
    "duration": 23,
    "start_time": "2021-10-04T05:52:55.359Z"
   },
   {
    "duration": 13,
    "start_time": "2021-10-04T05:52:55.384Z"
   },
   {
    "duration": 10,
    "start_time": "2021-10-04T05:52:55.399Z"
   },
   {
    "duration": 51,
    "start_time": "2021-10-04T05:52:55.411Z"
   },
   {
    "duration": 12,
    "start_time": "2021-10-04T05:52:55.463Z"
   },
   {
    "duration": 8,
    "start_time": "2021-10-04T05:52:55.477Z"
   },
   {
    "duration": 17,
    "start_time": "2021-10-04T05:52:55.487Z"
   },
   {
    "duration": 45,
    "start_time": "2021-10-04T05:52:55.506Z"
   },
   {
    "duration": 38,
    "start_time": "2021-10-04T05:52:55.553Z"
   },
   {
    "duration": 56,
    "start_time": "2021-10-04T05:52:55.594Z"
   },
   {
    "duration": 54,
    "start_time": "2021-10-04T05:52:55.652Z"
   },
   {
    "duration": 686,
    "start_time": "2021-10-04T09:36:12.654Z"
   },
   {
    "duration": 11,
    "start_time": "2021-10-04T09:36:13.343Z"
   },
   {
    "duration": 22,
    "start_time": "2021-10-04T09:36:13.356Z"
   },
   {
    "duration": 9,
    "start_time": "2021-10-04T09:36:13.380Z"
   },
   {
    "duration": 12,
    "start_time": "2021-10-04T09:36:13.391Z"
   },
   {
    "duration": 13,
    "start_time": "2021-10-04T09:36:13.404Z"
   },
   {
    "duration": 7,
    "start_time": "2021-10-04T09:36:13.419Z"
   },
   {
    "duration": 780,
    "start_time": "2021-10-04T09:36:13.428Z"
   },
   {
    "duration": 13,
    "start_time": "2021-10-04T09:36:14.210Z"
   },
   {
    "duration": 70,
    "start_time": "2021-10-04T09:36:14.225Z"
   },
   {
    "duration": 3761,
    "start_time": "2021-10-04T09:36:14.296Z"
   },
   {
    "duration": 4,
    "start_time": "2021-10-04T09:36:18.059Z"
   },
   {
    "duration": 33,
    "start_time": "2021-10-04T09:36:18.076Z"
   },
   {
    "duration": 23,
    "start_time": "2021-10-04T09:36:18.111Z"
   },
   {
    "duration": 15,
    "start_time": "2021-10-04T09:36:18.136Z"
   },
   {
    "duration": 11,
    "start_time": "2021-10-04T09:36:18.177Z"
   },
   {
    "duration": 22,
    "start_time": "2021-10-04T09:36:18.190Z"
   },
   {
    "duration": 12,
    "start_time": "2021-10-04T09:36:18.214Z"
   },
   {
    "duration": 9,
    "start_time": "2021-10-04T09:36:18.228Z"
   },
   {
    "duration": 50,
    "start_time": "2021-10-04T09:36:18.239Z"
   },
   {
    "duration": 16,
    "start_time": "2021-10-04T09:36:18.291Z"
   },
   {
    "duration": 38,
    "start_time": "2021-10-04T09:36:18.309Z"
   },
   {
    "duration": 66,
    "start_time": "2021-10-04T09:36:18.350Z"
   },
   {
    "duration": 71,
    "start_time": "2021-10-04T09:36:18.418Z"
   },
   {
    "duration": 28,
    "start_time": "2021-10-04T09:40:35.997Z"
   },
   {
    "duration": 21,
    "start_time": "2021-10-04T09:40:49.736Z"
   },
   {
    "duration": 5,
    "start_time": "2021-10-04T09:40:54.863Z"
   },
   {
    "duration": 3,
    "start_time": "2021-10-04T09:40:59.431Z"
   },
   {
    "duration": 3744,
    "start_time": "2021-10-04T09:41:04.055Z"
   },
   {
    "duration": 8,
    "start_time": "2021-10-04T09:45:07.076Z"
   },
   {
    "duration": 33,
    "start_time": "2021-10-04T09:45:25.104Z"
   },
   {
    "duration": 628,
    "start_time": "2022-03-26T17:12:08.691Z"
   },
   {
    "duration": 15,
    "start_time": "2022-03-26T17:12:09.323Z"
   },
   {
    "duration": 57,
    "start_time": "2022-03-26T17:12:09.341Z"
   },
   {
    "duration": 42,
    "start_time": "2022-03-26T17:12:09.403Z"
   },
   {
    "duration": 39,
    "start_time": "2022-03-26T17:12:09.447Z"
   },
   {
    "duration": 25,
    "start_time": "2022-03-26T17:12:09.489Z"
   },
   {
    "duration": 18,
    "start_time": "2022-03-26T17:12:09.517Z"
   },
   {
    "duration": 890,
    "start_time": "2022-03-26T17:12:09.538Z"
   },
   {
    "duration": 85,
    "start_time": "2022-03-26T17:12:10.431Z"
   },
   {
    "duration": 35,
    "start_time": "2022-03-26T17:12:10.521Z"
   },
   {
    "duration": 8,
    "start_time": "2022-03-26T17:12:10.583Z"
   },
   {
    "duration": 110,
    "start_time": "2022-03-26T17:12:10.594Z"
   },
   {
    "duration": 5938,
    "start_time": "2022-03-26T17:12:10.706Z"
   },
   {
    "duration": 5999,
    "start_time": "2022-03-26T17:12:16.646Z"
   },
   {
    "duration": 6230,
    "start_time": "2022-03-26T17:12:22.647Z"
   },
   {
    "duration": 80,
    "start_time": "2022-03-26T17:12:28.883Z"
   },
   {
    "duration": 35,
    "start_time": "2022-03-26T17:12:28.965Z"
   },
   {
    "duration": 91,
    "start_time": "2022-03-26T17:12:29.002Z"
   },
   {
    "duration": 6622,
    "start_time": "2022-03-26T17:12:29.095Z"
   },
   {
    "duration": 7,
    "start_time": "2022-03-26T17:12:35.719Z"
   },
   {
    "duration": 76,
    "start_time": "2022-03-26T17:12:35.728Z"
   },
   {
    "duration": 29,
    "start_time": "2022-03-26T17:12:35.807Z"
   },
   {
    "duration": 16,
    "start_time": "2022-03-26T17:12:35.838Z"
   },
   {
    "duration": 38,
    "start_time": "2022-03-26T17:12:35.856Z"
   },
   {
    "duration": 34,
    "start_time": "2022-03-26T17:12:35.897Z"
   },
   {
    "duration": 17,
    "start_time": "2022-03-26T17:12:35.933Z"
   },
   {
    "duration": 38,
    "start_time": "2022-03-26T17:12:35.952Z"
   },
   {
    "duration": 27,
    "start_time": "2022-03-26T17:12:35.995Z"
   },
   {
    "duration": 25,
    "start_time": "2022-03-26T17:12:36.025Z"
   },
   {
    "duration": 77,
    "start_time": "2022-03-26T17:12:36.052Z"
   },
   {
    "duration": 11,
    "start_time": "2022-03-26T17:12:36.131Z"
   },
   {
    "duration": 75,
    "start_time": "2022-03-26T17:12:36.145Z"
   },
   {
    "duration": 91,
    "start_time": "2022-03-26T17:12:36.222Z"
   },
   {
    "duration": 94,
    "start_time": "2022-03-26T17:12:36.315Z"
   },
   {
    "duration": 206,
    "start_time": "2022-03-26T17:15:08.532Z"
   },
   {
    "duration": 653,
    "start_time": "2022-03-26T17:26:57.620Z"
   },
   {
    "duration": 19,
    "start_time": "2022-03-26T17:26:58.276Z"
   },
   {
    "duration": 46,
    "start_time": "2022-03-26T17:26:58.297Z"
   },
   {
    "duration": 19,
    "start_time": "2022-03-26T17:26:58.347Z"
   },
   {
    "duration": 15,
    "start_time": "2022-03-26T17:26:58.382Z"
   },
   {
    "duration": 22,
    "start_time": "2022-03-26T17:26:58.399Z"
   },
   {
    "duration": 16,
    "start_time": "2022-03-26T17:26:58.423Z"
   },
   {
    "duration": 812,
    "start_time": "2022-03-26T17:26:58.441Z"
   },
   {
    "duration": 38,
    "start_time": "2022-03-26T17:26:59.256Z"
   },
   {
    "duration": 91,
    "start_time": "2022-03-26T17:26:59.299Z"
   },
   {
    "duration": 6066,
    "start_time": "2022-03-26T17:26:59.392Z"
   },
   {
    "duration": 5,
    "start_time": "2022-03-26T17:27:05.461Z"
   },
   {
    "duration": 107,
    "start_time": "2022-03-26T17:27:05.468Z"
   },
   {
    "duration": 43,
    "start_time": "2022-03-26T17:27:05.578Z"
   },
   {
    "duration": 31,
    "start_time": "2022-03-26T17:27:05.623Z"
   },
   {
    "duration": 73,
    "start_time": "2022-03-26T17:27:05.657Z"
   },
   {
    "duration": 74,
    "start_time": "2022-03-26T17:27:05.732Z"
   },
   {
    "duration": 82,
    "start_time": "2022-03-26T17:27:05.808Z"
   },
   {
    "duration": 703,
    "start_time": "2022-03-26T17:28:49.373Z"
   },
   {
    "duration": 15,
    "start_time": "2022-03-26T17:28:50.082Z"
   },
   {
    "duration": 25,
    "start_time": "2022-03-26T17:28:50.100Z"
   },
   {
    "duration": 48,
    "start_time": "2022-03-26T17:28:50.128Z"
   },
   {
    "duration": 17,
    "start_time": "2022-03-26T17:28:50.182Z"
   },
   {
    "duration": 31,
    "start_time": "2022-03-26T17:28:50.201Z"
   },
   {
    "duration": 26,
    "start_time": "2022-03-26T17:28:50.235Z"
   },
   {
    "duration": 821,
    "start_time": "2022-03-26T17:28:50.264Z"
   },
   {
    "duration": 23,
    "start_time": "2022-03-26T17:28:51.088Z"
   },
   {
    "duration": 113,
    "start_time": "2022-03-26T17:28:51.115Z"
   },
   {
    "duration": 5627,
    "start_time": "2022-03-26T17:28:51.230Z"
   },
   {
    "duration": 5,
    "start_time": "2022-03-26T17:28:56.860Z"
   },
   {
    "duration": 48,
    "start_time": "2022-03-26T17:28:56.868Z"
   },
   {
    "duration": 29,
    "start_time": "2022-03-26T17:28:56.919Z"
   },
   {
    "duration": 54,
    "start_time": "2022-03-26T17:28:56.950Z"
   },
   {
    "duration": 53,
    "start_time": "2022-03-26T17:28:57.008Z"
   },
   {
    "duration": 62,
    "start_time": "2022-03-26T17:28:57.081Z"
   },
   {
    "duration": 91,
    "start_time": "2022-03-26T17:28:57.145Z"
   },
   {
    "duration": 670,
    "start_time": "2022-03-26T17:29:41.254Z"
   },
   {
    "duration": 15,
    "start_time": "2022-03-26T17:29:41.926Z"
   },
   {
    "duration": 23,
    "start_time": "2022-03-26T17:29:41.944Z"
   },
   {
    "duration": 21,
    "start_time": "2022-03-26T17:29:41.984Z"
   },
   {
    "duration": 16,
    "start_time": "2022-03-26T17:29:42.008Z"
   },
   {
    "duration": 19,
    "start_time": "2022-03-26T17:29:42.026Z"
   },
   {
    "duration": 11,
    "start_time": "2022-03-26T17:29:42.083Z"
   },
   {
    "duration": 820,
    "start_time": "2022-03-26T17:29:42.096Z"
   },
   {
    "duration": 23,
    "start_time": "2022-03-26T17:29:42.919Z"
   },
   {
    "duration": 99,
    "start_time": "2022-03-26T17:29:42.945Z"
   },
   {
    "duration": 5806,
    "start_time": "2022-03-26T17:29:43.047Z"
   },
   {
    "duration": 7,
    "start_time": "2022-03-26T17:29:48.856Z"
   },
   {
    "duration": 56,
    "start_time": "2022-03-26T17:29:48.866Z"
   },
   {
    "duration": 28,
    "start_time": "2022-03-26T17:29:48.925Z"
   },
   {
    "duration": 39,
    "start_time": "2022-03-26T17:29:48.955Z"
   },
   {
    "duration": 53,
    "start_time": "2022-03-26T17:29:48.996Z"
   },
   {
    "duration": 81,
    "start_time": "2022-03-26T17:29:49.052Z"
   },
   {
    "duration": 93,
    "start_time": "2022-03-26T17:29:49.136Z"
   }
  ],
  "kernelspec": {
   "display_name": "Python 3 (ipykernel)",
   "language": "python",
   "name": "python3"
  },
  "language_info": {
   "codemirror_mode": {
    "name": "ipython",
    "version": 3
   },
   "file_extension": ".py",
   "mimetype": "text/x-python",
   "name": "python",
   "nbconvert_exporter": "python",
   "pygments_lexer": "ipython3",
   "version": "3.9.5"
  },
  "toc": {
   "base_numbering": 1,
   "nav_menu": {},
   "number_sections": true,
   "sideBar": true,
   "skip_h1_title": true,
   "title_cell": "Table of Contents",
   "title_sidebar": "Contents",
   "toc_cell": false,
   "toc_position": {
    "height": "calc(100% - 180px)",
    "left": "10px",
    "top": "150px",
    "width": "165px"
   },
   "toc_section_display": true,
   "toc_window_display": true
  }
 },
 "nbformat": 4,
 "nbformat_minor": 2
}
