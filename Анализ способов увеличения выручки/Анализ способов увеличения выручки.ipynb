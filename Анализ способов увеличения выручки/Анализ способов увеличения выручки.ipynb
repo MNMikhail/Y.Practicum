{
 "cells": [
  {
   "cell_type": "markdown",
   "metadata": {},
   "source": [
    "# Анализ способов увеличения выручки"
   ]
  },
  {
   "cell_type": "markdown",
   "metadata": {},
   "source": [
    "Вместе с отделом маркетинга крупного интернет-магазина был подготовлен список гипотез для увеличения выручки.\n",
    "Приоритизируйте гипотезы, запустите A/B-тест и проанализируйте результаты.\n",
    "\n",
    "# Цели\n",
    "- приоритизировать гипотезы\n",
    "- провести А/В тест\n",
    "- проанализировать результаты\n",
    "\n",
    "# Описание данных\n",
    "Данные для первой части\n",
    "\n",
    "Файл /datasets/hypothesis.csv. \n",
    "- \tHypothesis — краткое описание гипотезы;\n",
    "-\tReach — охват пользователей по 10-балльной шкале;\n",
    "-\tImpact — влияние на пользователей по 10-балльной шкале;\n",
    "-\tConfidence — уверенность в гипотезе по 10-балльной шкале;\n",
    "-\tEfforts — затраты ресурсов на проверку гипотезы по 10-балльной шкале. Чем больше значение Efforts, тем дороже проверка гипотезы.\n",
    "\n",
    "Данные для второй части\n",
    "\n",
    "Файл /datasets/orders.csv. \n",
    "-\ttransactionId — идентификатор заказа;\n",
    "-\tvisitorId — идентификатор пользователя, совершившего заказ;\n",
    "-\tdate — дата, когда был совершён заказ;\n",
    "-\trevenue — выручка заказа;\n",
    "-\tgroup — группа A/B-теста, в которую попал заказ.\n",
    "\n",
    "Файл /datasets/visitors.csv. \n",
    "\n",
    "-\tdate — дата;\n",
    "-\tgroup — группа A/B-теста;\n",
    "-   visitors — количество пользователей в указанную дату в указанной группе A/B-теста\n"
   ]
  },
  {
   "cell_type": "markdown",
   "metadata": {},
   "source": [
    "## 1. Загрузка данных и подготовка их к анализу"
   ]
  },
  {
   "cell_type": "code",
   "execution_count": 1,
   "metadata": {},
   "outputs": [],
   "source": [
    "import pandas as pd\n",
    "import numpy as np\n",
    "import datetime as dt\n",
    "import scipy.stats as stats\n",
    "from matplotlib import pyplot as plt\n",
    "from pandas.plotting import register_matplotlib_converters\n",
    "register_matplotlib_converters()\n",
    "\n",
    "try:\n",
    "    visitors, orders, hypothesis = (\n",
    "        pd.read_csv('E:/Python/Project 6/visitors.csv'),  \n",
    "        pd.read_csv('E:/Python/Project 6/orders.csv'),  \n",
    "        pd.read_csv('E:/Python/Project 6/hypothesis.csv'),  \n",
    "    )\n",
    "except:\n",
    "    visitors, orders, hypothesis = (\n",
    "        pd.read_csv('/datasets/visitors.csv'),  \n",
    "        pd.read_csv('/datasets/orders.csv'),  \n",
    "        pd.read_csv('/datasets/hypothesis.csv'),  \n",
    "    )"
   ]
  },
  {
   "cell_type": "code",
   "execution_count": 2,
   "metadata": {},
   "outputs": [
    {
     "name": "stdout",
     "output_type": "stream",
     "text": [
      "<class 'pandas.core.frame.DataFrame'>\n",
      "RangeIndex: 62 entries, 0 to 61\n",
      "Data columns (total 3 columns):\n",
      " #   Column    Non-Null Count  Dtype \n",
      "---  ------    --------------  ----- \n",
      " 0   date      62 non-null     object\n",
      " 1   group     62 non-null     object\n",
      " 2   visitors  62 non-null     int64 \n",
      "dtypes: int64(1), object(2)\n",
      "memory usage: 1.6+ KB\n"
     ]
    },
    {
     "data": {
      "text/html": [
       "<div>\n",
       "<style scoped>\n",
       "    .dataframe tbody tr th:only-of-type {\n",
       "        vertical-align: middle;\n",
       "    }\n",
       "\n",
       "    .dataframe tbody tr th {\n",
       "        vertical-align: top;\n",
       "    }\n",
       "\n",
       "    .dataframe thead th {\n",
       "        text-align: right;\n",
       "    }\n",
       "</style>\n",
       "<table border=\"1\" class=\"dataframe\">\n",
       "  <thead>\n",
       "    <tr style=\"text-align: right;\">\n",
       "      <th></th>\n",
       "      <th>date</th>\n",
       "      <th>group</th>\n",
       "      <th>visitors</th>\n",
       "    </tr>\n",
       "  </thead>\n",
       "  <tbody>\n",
       "    <tr>\n",
       "      <th>0</th>\n",
       "      <td>2019-08-01</td>\n",
       "      <td>A</td>\n",
       "      <td>719</td>\n",
       "    </tr>\n",
       "    <tr>\n",
       "      <th>1</th>\n",
       "      <td>2019-08-02</td>\n",
       "      <td>A</td>\n",
       "      <td>619</td>\n",
       "    </tr>\n",
       "  </tbody>\n",
       "</table>\n",
       "</div>"
      ],
      "text/plain": [
       "         date group  visitors\n",
       "0  2019-08-01     A       719\n",
       "1  2019-08-02     A       619"
      ]
     },
     "execution_count": 2,
     "metadata": {},
     "output_type": "execute_result"
    }
   ],
   "source": [
    "visitors.info()\n",
    "visitors.head(2)"
   ]
  },
  {
   "cell_type": "code",
   "execution_count": 3,
   "metadata": {},
   "outputs": [
    {
     "name": "stdout",
     "output_type": "stream",
     "text": [
      "<class 'pandas.core.frame.DataFrame'>\n",
      "RangeIndex: 1197 entries, 0 to 1196\n",
      "Data columns (total 5 columns):\n",
      " #   Column         Non-Null Count  Dtype \n",
      "---  ------         --------------  ----- \n",
      " 0   transactionId  1197 non-null   int64 \n",
      " 1   visitorId      1197 non-null   int64 \n",
      " 2   date           1197 non-null   object\n",
      " 3   revenue        1197 non-null   int64 \n",
      " 4   group          1197 non-null   object\n",
      "dtypes: int64(3), object(2)\n",
      "memory usage: 46.9+ KB\n"
     ]
    },
    {
     "data": {
      "text/html": [
       "<div>\n",
       "<style scoped>\n",
       "    .dataframe tbody tr th:only-of-type {\n",
       "        vertical-align: middle;\n",
       "    }\n",
       "\n",
       "    .dataframe tbody tr th {\n",
       "        vertical-align: top;\n",
       "    }\n",
       "\n",
       "    .dataframe thead th {\n",
       "        text-align: right;\n",
       "    }\n",
       "</style>\n",
       "<table border=\"1\" class=\"dataframe\">\n",
       "  <thead>\n",
       "    <tr style=\"text-align: right;\">\n",
       "      <th></th>\n",
       "      <th>transactionId</th>\n",
       "      <th>visitorId</th>\n",
       "      <th>date</th>\n",
       "      <th>revenue</th>\n",
       "      <th>group</th>\n",
       "    </tr>\n",
       "  </thead>\n",
       "  <tbody>\n",
       "    <tr>\n",
       "      <th>0</th>\n",
       "      <td>3667963787</td>\n",
       "      <td>3312258926</td>\n",
       "      <td>2019-08-15</td>\n",
       "      <td>1650</td>\n",
       "      <td>B</td>\n",
       "    </tr>\n",
       "    <tr>\n",
       "      <th>1</th>\n",
       "      <td>2804400009</td>\n",
       "      <td>3642806036</td>\n",
       "      <td>2019-08-15</td>\n",
       "      <td>730</td>\n",
       "      <td>B</td>\n",
       "    </tr>\n",
       "  </tbody>\n",
       "</table>\n",
       "</div>"
      ],
      "text/plain": [
       "   transactionId   visitorId        date  revenue group\n",
       "0     3667963787  3312258926  2019-08-15     1650     B\n",
       "1     2804400009  3642806036  2019-08-15      730     B"
      ]
     },
     "execution_count": 3,
     "metadata": {},
     "output_type": "execute_result"
    }
   ],
   "source": [
    "orders.info()\n",
    "orders.head(2)"
   ]
  },
  {
   "cell_type": "code",
   "execution_count": 4,
   "metadata": {},
   "outputs": [
    {
     "name": "stdout",
     "output_type": "stream",
     "text": [
      "<class 'pandas.core.frame.DataFrame'>\n",
      "RangeIndex: 9 entries, 0 to 8\n",
      "Data columns (total 5 columns):\n",
      " #   Column      Non-Null Count  Dtype \n",
      "---  ------      --------------  ----- \n",
      " 0   Hypothesis  9 non-null      object\n",
      " 1   Reach       9 non-null      int64 \n",
      " 2   Impact      9 non-null      int64 \n",
      " 3   Confidence  9 non-null      int64 \n",
      " 4   Efforts     9 non-null      int64 \n",
      "dtypes: int64(4), object(1)\n",
      "memory usage: 488.0+ bytes\n"
     ]
    },
    {
     "data": {
      "text/html": [
       "<div>\n",
       "<style scoped>\n",
       "    .dataframe tbody tr th:only-of-type {\n",
       "        vertical-align: middle;\n",
       "    }\n",
       "\n",
       "    .dataframe tbody tr th {\n",
       "        vertical-align: top;\n",
       "    }\n",
       "\n",
       "    .dataframe thead th {\n",
       "        text-align: right;\n",
       "    }\n",
       "</style>\n",
       "<table border=\"1\" class=\"dataframe\">\n",
       "  <thead>\n",
       "    <tr style=\"text-align: right;\">\n",
       "      <th></th>\n",
       "      <th>Hypothesis</th>\n",
       "      <th>Reach</th>\n",
       "      <th>Impact</th>\n",
       "      <th>Confidence</th>\n",
       "      <th>Efforts</th>\n",
       "    </tr>\n",
       "  </thead>\n",
       "  <tbody>\n",
       "    <tr>\n",
       "      <th>0</th>\n",
       "      <td>Добавить два новых канала привлечения трафика,...</td>\n",
       "      <td>3</td>\n",
       "      <td>10</td>\n",
       "      <td>8</td>\n",
       "      <td>6</td>\n",
       "    </tr>\n",
       "    <tr>\n",
       "      <th>1</th>\n",
       "      <td>Запустить собственную службу доставки, что сок...</td>\n",
       "      <td>2</td>\n",
       "      <td>5</td>\n",
       "      <td>4</td>\n",
       "      <td>10</td>\n",
       "    </tr>\n",
       "  </tbody>\n",
       "</table>\n",
       "</div>"
      ],
      "text/plain": [
       "                                          Hypothesis  Reach  Impact  \\\n",
       "0  Добавить два новых канала привлечения трафика,...      3      10   \n",
       "1  Запустить собственную службу доставки, что сок...      2       5   \n",
       "\n",
       "   Confidence  Efforts  \n",
       "0           8        6  \n",
       "1           4       10  "
      ]
     },
     "execution_count": 4,
     "metadata": {},
     "output_type": "execute_result"
    }
   ],
   "source": [
    "hypothesis.info()\n",
    "hypothesis.head(2)"
   ]
  },
  {
   "cell_type": "code",
   "execution_count": 5,
   "metadata": {},
   "outputs": [],
   "source": [
    "# Приведем название всех колонок к нижнему регистру и переименуем некоторые колонки\n",
    "orders = orders.rename(columns={'transactionId': 'transaction_id', 'visitorId': 'visitor_id'})\n",
    "hypothesis.columns = hypothesis.columns.str.lower()\n"
   ]
  },
  {
   "cell_type": "code",
   "execution_count": 6,
   "metadata": {
    "scrolled": true
   },
   "outputs": [
    {
     "name": "stdout",
     "output_type": "stream",
     "text": [
      "<class 'pandas.core.frame.DataFrame'>\n",
      "RangeIndex: 1197 entries, 0 to 1196\n",
      "Data columns (total 5 columns):\n",
      " #   Column          Non-Null Count  Dtype \n",
      "---  ------          --------------  ----- \n",
      " 0   transaction_id  1197 non-null   int64 \n",
      " 1   visitor_id      1197 non-null   int64 \n",
      " 2   date            1197 non-null   object\n",
      " 3   revenue         1197 non-null   int64 \n",
      " 4   group           1197 non-null   object\n",
      "dtypes: int64(3), object(2)\n",
      "memory usage: 46.9+ KB\n"
     ]
    }
   ],
   "source": [
    "orders.info()"
   ]
  },
  {
   "cell_type": "code",
   "execution_count": 7,
   "metadata": {},
   "outputs": [
    {
     "data": {
      "text/plain": [
       "58"
      ]
     },
     "execution_count": 7,
     "metadata": {},
     "output_type": "execute_result"
    }
   ],
   "source": [
    "# ищем пользователей, попавших в обе группы\n",
    "a= orders.query('group == \"A\"')['visitor_id']\n",
    "b= orders.query('group == \"B\"')['visitor_id']\n",
    "errors = orders.query('visitor_id in @a and visitor_id in @b')['visitor_id'].unique()\n",
    "len(errors)\n",
    " \n"
   ]
  },
  {
   "cell_type": "code",
   "execution_count": 8,
   "metadata": {},
   "outputs": [
    {
     "data": {
      "text/html": [
       "<div>\n",
       "<style scoped>\n",
       "    .dataframe tbody tr th:only-of-type {\n",
       "        vertical-align: middle;\n",
       "    }\n",
       "\n",
       "    .dataframe tbody tr th {\n",
       "        vertical-align: top;\n",
       "    }\n",
       "\n",
       "    .dataframe thead th {\n",
       "        text-align: right;\n",
       "    }\n",
       "</style>\n",
       "<table border=\"1\" class=\"dataframe\">\n",
       "  <thead>\n",
       "    <tr style=\"text-align: right;\">\n",
       "      <th></th>\n",
       "      <th>transaction_id</th>\n",
       "      <th>visitor_id</th>\n",
       "      <th>date</th>\n",
       "      <th>revenue</th>\n",
       "      <th>group</th>\n",
       "    </tr>\n",
       "  </thead>\n",
       "  <tbody>\n",
       "    <tr>\n",
       "      <th>0</th>\n",
       "      <td>3667963787</td>\n",
       "      <td>3312258926</td>\n",
       "      <td>2019-08-15</td>\n",
       "      <td>1650</td>\n",
       "      <td>B</td>\n",
       "    </tr>\n",
       "    <tr>\n",
       "      <th>1</th>\n",
       "      <td>2804400009</td>\n",
       "      <td>3642806036</td>\n",
       "      <td>2019-08-15</td>\n",
       "      <td>730</td>\n",
       "      <td>B</td>\n",
       "    </tr>\n",
       "    <tr>\n",
       "      <th>3</th>\n",
       "      <td>3797467345</td>\n",
       "      <td>1196621759</td>\n",
       "      <td>2019-08-15</td>\n",
       "      <td>9759</td>\n",
       "      <td>B</td>\n",
       "    </tr>\n",
       "    <tr>\n",
       "      <th>4</th>\n",
       "      <td>2282983706</td>\n",
       "      <td>2322279887</td>\n",
       "      <td>2019-08-15</td>\n",
       "      <td>2308</td>\n",
       "      <td>B</td>\n",
       "    </tr>\n",
       "    <tr>\n",
       "      <th>5</th>\n",
       "      <td>182168103</td>\n",
       "      <td>935554773</td>\n",
       "      <td>2019-08-15</td>\n",
       "      <td>2210</td>\n",
       "      <td>B</td>\n",
       "    </tr>\n",
       "  </tbody>\n",
       "</table>\n",
       "</div>"
      ],
      "text/plain": [
       "   transaction_id  visitor_id        date  revenue group\n",
       "0      3667963787  3312258926  2019-08-15     1650     B\n",
       "1      2804400009  3642806036  2019-08-15      730     B\n",
       "3      3797467345  1196621759  2019-08-15     9759     B\n",
       "4      2282983706  2322279887  2019-08-15     2308     B\n",
       "5       182168103   935554773  2019-08-15     2210     B"
      ]
     },
     "execution_count": 8,
     "metadata": {},
     "output_type": "execute_result"
    }
   ],
   "source": [
    "# удаляем пользователей, попавших в обе группы\n",
    "orders = orders.query('visitor_id not in @errors')\n",
    "orders.head()"
   ]
  },
  {
   "cell_type": "markdown",
   "metadata": {},
   "source": [
    "ВЫВОД: \n",
    "\n",
    "\n",
    "Таблицы с гипотезами, заказами и визитами отимизированы и готовы к дальнейшей работе. Было обнаружено 58 пользователей, которые попали в обе группы. Для чистоты эксперимента они были удалены."
   ]
  },
  {
   "cell_type": "markdown",
   "metadata": {},
   "source": [
    "## 2. Приоритизация гипотез.\n",
    "###  2.1 Применим фреймворк ICE для приоритизации гипотез. "
   ]
  },
  {
   "cell_type": "code",
   "execution_count": 9,
   "metadata": {
    "scrolled": false
   },
   "outputs": [
    {
     "data": {
      "text/html": [
       "<div>\n",
       "<style scoped>\n",
       "    .dataframe tbody tr th:only-of-type {\n",
       "        vertical-align: middle;\n",
       "    }\n",
       "\n",
       "    .dataframe tbody tr th {\n",
       "        vertical-align: top;\n",
       "    }\n",
       "\n",
       "    .dataframe thead th {\n",
       "        text-align: right;\n",
       "    }\n",
       "</style>\n",
       "<table border=\"1\" class=\"dataframe\">\n",
       "  <thead>\n",
       "    <tr style=\"text-align: right;\">\n",
       "      <th></th>\n",
       "      <th>hypothesis</th>\n",
       "      <th>ICE</th>\n",
       "    </tr>\n",
       "  </thead>\n",
       "  <tbody>\n",
       "    <tr>\n",
       "      <th>8</th>\n",
       "      <td>Запустить акцию, дающую скидку на товар в день рождения</td>\n",
       "      <td>16.2</td>\n",
       "    </tr>\n",
       "    <tr>\n",
       "      <th>0</th>\n",
       "      <td>Добавить два новых канала привлечения трафика, что позволит привлекать на 30% больше пользователей</td>\n",
       "      <td>13.3</td>\n",
       "    </tr>\n",
       "    <tr>\n",
       "      <th>7</th>\n",
       "      <td>Добавить форму подписки на все основные страницы, чтобы собрать базу клиентов для email-рассылок</td>\n",
       "      <td>11.2</td>\n",
       "    </tr>\n",
       "    <tr>\n",
       "      <th>6</th>\n",
       "      <td>Показать на главной странице баннеры с актуальными акциями и распродажами, чтобы увеличить конверсию</td>\n",
       "      <td>8.0</td>\n",
       "    </tr>\n",
       "    <tr>\n",
       "      <th>2</th>\n",
       "      <td>Добавить блоки рекомендаций товаров на сайт интернет магазина, чтобы повысить конверсию и средний чек заказа</td>\n",
       "      <td>7.0</td>\n",
       "    </tr>\n",
       "    <tr>\n",
       "      <th>1</th>\n",
       "      <td>Запустить собственную службу доставки, что сократит срок доставки заказов</td>\n",
       "      <td>2.0</td>\n",
       "    </tr>\n",
       "    <tr>\n",
       "      <th>5</th>\n",
       "      <td>Добавить страницу отзывов клиентов о магазине, что позволит увеличить количество заказов</td>\n",
       "      <td>1.3</td>\n",
       "    </tr>\n",
       "    <tr>\n",
       "      <th>3</th>\n",
       "      <td>Изменить структура категорий, что увеличит конверсию, т.к. пользователи быстрее найдут нужный товар</td>\n",
       "      <td>1.1</td>\n",
       "    </tr>\n",
       "    <tr>\n",
       "      <th>4</th>\n",
       "      <td>Изменить цвет фона главной страницы, чтобы увеличить вовлеченность пользователей</td>\n",
       "      <td>1.0</td>\n",
       "    </tr>\n",
       "  </tbody>\n",
       "</table>\n",
       "</div>"
      ],
      "text/plain": [
       "                                                                                                     hypothesis  \\\n",
       "8                                                       Запустить акцию, дающую скидку на товар в день рождения   \n",
       "0            Добавить два новых канала привлечения трафика, что позволит привлекать на 30% больше пользователей   \n",
       "7              Добавить форму подписки на все основные страницы, чтобы собрать базу клиентов для email-рассылок   \n",
       "6          Показать на главной странице баннеры с актуальными акциями и распродажами, чтобы увеличить конверсию   \n",
       "2  Добавить блоки рекомендаций товаров на сайт интернет магазина, чтобы повысить конверсию и средний чек заказа   \n",
       "1                                     Запустить собственную службу доставки, что сократит срок доставки заказов   \n",
       "5                      Добавить страницу отзывов клиентов о магазине, что позволит увеличить количество заказов   \n",
       "3           Изменить структура категорий, что увеличит конверсию, т.к. пользователи быстрее найдут нужный товар   \n",
       "4                              Изменить цвет фона главной страницы, чтобы увеличить вовлеченность пользователей   \n",
       "\n",
       "    ICE  \n",
       "8  16.2  \n",
       "0  13.3  \n",
       "7  11.2  \n",
       "6   8.0  \n",
       "2   7.0  \n",
       "1   2.0  \n",
       "5   1.3  \n",
       "3   1.1  \n",
       "4   1.0  "
      ]
     },
     "execution_count": 9,
     "metadata": {},
     "output_type": "execute_result"
    }
   ],
   "source": [
    "pd.set_option('display.max_columns', None)\n",
    "pd.options.display.max_colwidth = 150\n",
    "\n",
    "hypothesis ['ICE']= ((hypothesis['impact']* hypothesis['confidence'] )/hypothesis ['efforts']).round(1)\n",
    "hypothesis[['hypothesis','ICE']].sort_values(by='ICE', ascending=False)"
   ]
  },
  {
   "cell_type": "markdown",
   "metadata": {},
   "source": [
    "Наиболее перспективные гипотезы по ICE:\n",
    "- Запустить акцию, дающую скидку на товар в день рождения\n",
    "- Добавить два новых канала привлечения трафика, что позволит привлекать на 30% больше пользователей\n",
    "- Добавить форму подписки на все основные страницы, чтобы собрать базу клиентов для email-рассылок\t\n",
    "- Показать на главной странице баннеры с актуальными акциями и распродажами, чтобы увеличить конверсию "
   ]
  },
  {
   "cell_type": "markdown",
   "metadata": {},
   "source": [
    "### 2.2 Применим фреймворк RICE для приоритизации гипотез. "
   ]
  },
  {
   "cell_type": "code",
   "execution_count": 10,
   "metadata": {
    "scrolled": false
   },
   "outputs": [
    {
     "data": {
      "text/html": [
       "<div>\n",
       "<style scoped>\n",
       "    .dataframe tbody tr th:only-of-type {\n",
       "        vertical-align: middle;\n",
       "    }\n",
       "\n",
       "    .dataframe tbody tr th {\n",
       "        vertical-align: top;\n",
       "    }\n",
       "\n",
       "    .dataframe thead th {\n",
       "        text-align: right;\n",
       "    }\n",
       "</style>\n",
       "<table border=\"1\" class=\"dataframe\">\n",
       "  <thead>\n",
       "    <tr style=\"text-align: right;\">\n",
       "      <th></th>\n",
       "      <th>hypothesis</th>\n",
       "      <th>RICE</th>\n",
       "    </tr>\n",
       "  </thead>\n",
       "  <tbody>\n",
       "    <tr>\n",
       "      <th>7</th>\n",
       "      <td>Добавить форму подписки на все основные страницы, чтобы собрать базу клиентов для email-рассылок</td>\n",
       "      <td>112.0</td>\n",
       "    </tr>\n",
       "    <tr>\n",
       "      <th>2</th>\n",
       "      <td>Добавить блоки рекомендаций товаров на сайт интернет магазина, чтобы повысить конверсию и средний чек заказа</td>\n",
       "      <td>56.0</td>\n",
       "    </tr>\n",
       "    <tr>\n",
       "      <th>0</th>\n",
       "      <td>Добавить два новых канала привлечения трафика, что позволит привлекать на 30% больше пользователей</td>\n",
       "      <td>40.0</td>\n",
       "    </tr>\n",
       "    <tr>\n",
       "      <th>6</th>\n",
       "      <td>Показать на главной странице баннеры с актуальными акциями и распродажами, чтобы увеличить конверсию</td>\n",
       "      <td>40.0</td>\n",
       "    </tr>\n",
       "    <tr>\n",
       "      <th>8</th>\n",
       "      <td>Запустить акцию, дающую скидку на товар в день рождения</td>\n",
       "      <td>16.2</td>\n",
       "    </tr>\n",
       "    <tr>\n",
       "      <th>3</th>\n",
       "      <td>Изменить структура категорий, что увеличит конверсию, т.к. пользователи быстрее найдут нужный товар</td>\n",
       "      <td>9.0</td>\n",
       "    </tr>\n",
       "    <tr>\n",
       "      <th>1</th>\n",
       "      <td>Запустить собственную службу доставки, что сократит срок доставки заказов</td>\n",
       "      <td>4.0</td>\n",
       "    </tr>\n",
       "    <tr>\n",
       "      <th>5</th>\n",
       "      <td>Добавить страницу отзывов клиентов о магазине, что позволит увеличить количество заказов</td>\n",
       "      <td>4.0</td>\n",
       "    </tr>\n",
       "    <tr>\n",
       "      <th>4</th>\n",
       "      <td>Изменить цвет фона главной страницы, чтобы увеличить вовлеченность пользователей</td>\n",
       "      <td>3.0</td>\n",
       "    </tr>\n",
       "  </tbody>\n",
       "</table>\n",
       "</div>"
      ],
      "text/plain": [
       "                                                                                                     hypothesis  \\\n",
       "7              Добавить форму подписки на все основные страницы, чтобы собрать базу клиентов для email-рассылок   \n",
       "2  Добавить блоки рекомендаций товаров на сайт интернет магазина, чтобы повысить конверсию и средний чек заказа   \n",
       "0            Добавить два новых канала привлечения трафика, что позволит привлекать на 30% больше пользователей   \n",
       "6          Показать на главной странице баннеры с актуальными акциями и распродажами, чтобы увеличить конверсию   \n",
       "8                                                       Запустить акцию, дающую скидку на товар в день рождения   \n",
       "3           Изменить структура категорий, что увеличит конверсию, т.к. пользователи быстрее найдут нужный товар   \n",
       "1                                     Запустить собственную службу доставки, что сократит срок доставки заказов   \n",
       "5                      Добавить страницу отзывов клиентов о магазине, что позволит увеличить количество заказов   \n",
       "4                              Изменить цвет фона главной страницы, чтобы увеличить вовлеченность пользователей   \n",
       "\n",
       "    RICE  \n",
       "7  112.0  \n",
       "2   56.0  \n",
       "0   40.0  \n",
       "6   40.0  \n",
       "8   16.2  \n",
       "3    9.0  \n",
       "1    4.0  \n",
       "5    4.0  \n",
       "4    3.0  "
      ]
     },
     "execution_count": 10,
     "metadata": {},
     "output_type": "execute_result"
    }
   ],
   "source": [
    "hypothesis ['RICE']= (hypothesis['reach']*hypothesis['impact']* hypothesis['confidence'] )/hypothesis ['efforts']\n",
    "hypothesis[['hypothesis','RICE']].sort_values(by='RICE', ascending=False)"
   ]
  },
  {
   "cell_type": "markdown",
   "metadata": {},
   "source": [
    "Наиболее перспективные гипотезы по RICE: \n",
    "- Добавить форму подписки на все основные страницы, чтобы собрать базу клиентов для email-рассылок\n",
    "- Добавить блоки рекомендаций товаров на сайт интернет магазина, чтобы повысить конверсию и средний чек заказа\t\n",
    "- Добавить два новых канала привлечения трафика, что позволит привлекать на 30% больше пользователей\n",
    "- Показать на главной странице баннеры с актуальными акциями и распродажами, чтобы увеличить конверсию"
   ]
  },
  {
   "cell_type": "markdown",
   "metadata": {},
   "source": [
    "### \tСравним приоритизации гипотез при применении RICE и ICE. "
   ]
  },
  {
   "cell_type": "markdown",
   "metadata": {},
   "source": [
    "Топ гипотез не зависимо от способа приоритезации: \n",
    "- Добавить форму подписки на все основные страницы, чтобы собрать базу клиентов для email-рассылок\n",
    "- Добавить два новых канала привлечения трафика, что позволит привлекать на 30% больше пользователей\n",
    "- Показать на главной странице баннеры с актуальными акциями и распродажами, чтобы увеличить конверсию\n",
    "\n",
    "В ICE на первом месте следующая гипоза, в то время как в RICE эта гипотеза только на 5 месте:\n",
    "- Запустить акцию, дающую скидку на товар в день рождения\n",
    "\n",
    "Обратная ситуация с гипотезой:\n",
    "- Добавить блоки рекомендаций товаров на сайт интернет магазина, чтобы повысить конверсию и средний чек заказа\t \n",
    "\n",
    "Так произошло, потому что параметр \"reach\" этих гипотез значительно влияет на их место в рейтинге."
   ]
  },
  {
   "cell_type": "markdown",
   "metadata": {},
   "source": [
    "ВЫВОД: По совокупности приоретизаций гипотез наиболее перспективными являются гипотезы:\n",
    "- Добавить форму подписки на все основные страницы, чтобы собрать базу клиентов для email-рассылок\n",
    "- Добавить два новых канала привлечения трафика, что позволит привлекать на 30% больше пользователей\n",
    "- Показать на главной странице баннеры с актуальными акциями и распродажами, чтобы увеличить конверсию\n"
   ]
  },
  {
   "cell_type": "markdown",
   "metadata": {},
   "source": [
    "## 3. A/B-тест\n",
    "### 3.1 Построим график кумулятивной выручки по группам. "
   ]
  },
  {
   "cell_type": "code",
   "execution_count": 11,
   "metadata": {
    "scrolled": false
   },
   "outputs": [],
   "source": [
    "\n",
    "orders['date'] = orders['date'].map(\n",
    "    lambda x: dt.datetime.strptime(x, '%Y-%m-%d')\n",
    ")\n",
    "\n",
    "visitors['date'] = visitors['date'].map(\n",
    "    lambda x: dt.datetime.strptime(x, '%Y-%m-%d')\n",
    ")\n",
    "\n",
    "datesGroups = orders[['date', 'group']].drop_duplicates()\n",
    "\n",
    "ordersAggregated = datesGroups.apply(\n",
    "    lambda x: orders[\n",
    "        np.logical_and(\n",
    "            orders['date'] <= x['date'], orders['group'] == x['group']\n",
    "        )\n",
    "    ].agg(\n",
    "        {\n",
    "            'date': 'max',\n",
    "            'group': 'max',\n",
    "            'transaction_id': 'nunique',\n",
    "            'visitor_id': 'nunique',\n",
    "            'revenue': 'sum',\n",
    "        }\n",
    "    ),\n",
    "    axis=1,\n",
    ").sort_values(by=['date', 'group'])\n",
    "\n",
    "visitorsAggregated = datesGroups.apply(\n",
    "    lambda x: visitors[\n",
    "        np.logical_and(\n",
    "            visitors['date'] <= x['date'], visitors['group'] == x['group']\n",
    "        )\n",
    "    ].agg({'date': 'max', 'group': 'max', 'visitors': 'sum'}),\n",
    "    axis=1,\n",
    ").sort_values(by=['date', 'group'])\n",
    "\n",
    "cumulativeData = ordersAggregated.merge(\n",
    "    visitorsAggregated, left_on=['date', 'group'], right_on=['date', 'group']\n",
    ")\n",
    "cumulativeData.columns = [\n",
    "    'date',\n",
    "    'group',\n",
    "    'orders',\n",
    "    'buyers',\n",
    "    'revenue',\n",
    "    'visitors',\n",
    "]\n",
    "\n",
    "cumulativeRevenueA = cumulativeData[cumulativeData['group'] == 'A'][\n",
    "    ['date', 'revenue', 'orders']\n",
    "]\n",
    "cumulativeRevenueB = cumulativeData[cumulativeData['group'] == 'B'][\n",
    "    ['date', 'revenue', 'orders']\n",
    "]\n",
    "\n"
   ]
  },
  {
   "cell_type": "code",
   "execution_count": 12,
   "metadata": {},
   "outputs": [
    {
     "data": {
      "text/plain": [
       "<matplotlib.legend.Legend at 0xb21f2b0>"
      ]
     },
     "execution_count": 12,
     "metadata": {},
     "output_type": "execute_result"
    },
    {
     "data": {
      "image/png": "[encoded data removed]",
      "text/plain": [
       "<Figure size 864x432 with 1 Axes>"
      ]
     },
     "metadata": {
      "needs_background": "light"
     },
     "output_type": "display_data"
    }
   ],
   "source": [
    "# Строим график выручки группы А\n",
    "fig, test = plt.subplots()\n",
    "test.set_title('Выручка по группам')\n",
    "test.set_xlabel('дата')\n",
    "test.set_ylabel('выручка')\n",
    "fig.set_figheight(6)\n",
    "fig.set_figwidth(12)\n",
    "\n",
    "plt.plot(cumulativeRevenueA['date'], cumulativeRevenueA['revenue'], label='A')\n",
    "\n",
    "# Строим график выручки группы B\n",
    "plt.plot(\n",
    "    cumulativeRevenueB['date'], \n",
    "    cumulativeRevenueB['revenue'], \n",
    "    label='B'\n",
    ")\n",
    "plt.annotate('скачок', xy=('2019-08-17', 2800000), xytext=('2019-08-10', 3500000),\n",
    "            arrowprops=dict(facecolor='g'))\n",
    "plt.annotate('отрыв', xy=('2019-08-05', 800000), xytext=('2019-08-05', 2000000),\n",
    "            arrowprops=dict(facecolor='g')) \n",
    "plt.legend() "
   ]
  },
  {
   "cell_type": "markdown",
   "metadata": {},
   "source": [
    "ВЫВОДЫ И ПРЕДПОЛОЖЕНИЯ:\n",
    "\n",
    "\n",
    "Выручка группы А растет равномерно на протяжении всего теста. В группе В выручка также растет, но заметен резкий всплеск, возможно на него повлияли выбросы."
   ]
  },
  {
   "cell_type": "markdown",
   "metadata": {},
   "source": [
    "### 3.2 Построим график кумулятивного среднего чека по группам."
   ]
  },
  {
   "cell_type": "code",
   "execution_count": 13,
   "metadata": {},
   "outputs": [
    {
     "data": {
      "text/plain": [
       "<matplotlib.legend.Legend at 0xb526fd0>"
      ]
     },
     "execution_count": 13,
     "metadata": {},
     "output_type": "execute_result"
    },
    {
     "data": {
      "image/png": "[encoded data removed]",
      "text/plain": [
       "<Figure size 864x432 with 1 Axes>"
      ]
     },
     "metadata": {
      "needs_background": "light"
     },
     "output_type": "display_data"
    }
   ],
   "source": [
    "fig, test = plt.subplots()\n",
    "test.set_title('Средний чек по группам')\n",
    "test.set_xlabel('дата')\n",
    "test.set_ylabel('средний чек')\n",
    "fig.set_figheight(6)\n",
    "fig.set_figwidth(12)\n",
    "\n",
    "plt.plot(cumulativeRevenueA['date'], cumulativeRevenueA['revenue']/cumulativeRevenueA['orders'], label='A')\n",
    "plt.plot(cumulativeRevenueB['date'], cumulativeRevenueB['revenue']/cumulativeRevenueB['orders'], label='B')\n",
    "plt.annotate('скачок', xy=('2019-08-17', 7000), xytext=('2019-08-10', 8000),\n",
    "            arrowprops=dict(facecolor='g'))\n",
    "plt.legend() "
   ]
  },
  {
   "cell_type": "markdown",
   "metadata": {},
   "source": [
    "ВЫВОДЫ И ПРЕДПОЛОЖЕНИЯ:\n",
    "\n",
    "Средний чек группы А стабилизируется во второй половине теста. В группе В также в середине теста резкий всплеск среднего чека, что так же говорит о влияние выбросов. Нужно больше денных, чтобы прийти к реальном среднему чеку."
   ]
  },
  {
   "cell_type": "markdown",
   "metadata": {},
   "source": [
    "### 3.3 Построим график относительного изменения кумулятивного среднего чека группы B к группе A. "
   ]
  },
  {
   "cell_type": "code",
   "execution_count": 14,
   "metadata": {},
   "outputs": [
    {
     "data": {
      "text/plain": [
       "<matplotlib.lines.Line2D at 0xbaf4d90>"
      ]
     },
     "execution_count": 14,
     "metadata": {},
     "output_type": "execute_result"
    },
    {
     "data": {
      "image/png": "[encoded data removed]",
      "text/plain": [
       "<Figure size 864x432 with 1 Axes>"
      ]
     },
     "metadata": {
      "needs_background": "light"
     },
     "output_type": "display_data"
    }
   ],
   "source": [
    "# собираем данные в одном датафрейме\n",
    "mergedCumulativeRevenue = cumulativeRevenueA.merge(cumulativeRevenueB, left_on='date', right_on='date', how='left', suffixes=['A', 'B'])\n",
    "\n",
    "\n",
    "fig, test = plt.subplots()\n",
    "test.set_title('Относительное изменение кумулятивного ср. чека В к А')\n",
    "test.set_xlabel('дата')\n",
    "test.set_ylabel('изменение')\n",
    "fig.set_figheight(6)\n",
    "fig.set_figwidth(12)\n",
    "\n",
    "# cтроим отношение средних чеков\n",
    "plt.plot(mergedCumulativeRevenue['date'], (mergedCumulativeRevenue['revenueB']/mergedCumulativeRevenue['ordersB'])/(mergedCumulativeRevenue['revenueA']/mergedCumulativeRevenue['ordersA'])-1)\n",
    "\n",
    "# добавляем ось X\n",
    "plt.axhline(y=0, color='black', linestyle='--')"
   ]
  },
  {
   "cell_type": "markdown",
   "metadata": {},
   "source": [
    "ВЫВОДЫ И ПРЕДПОЛОЖЕНИЯ:\n",
    "\n",
    "На этом графике также видны резкие всплески и падения, которые говорят о влиянии крупных заказов и выбросов. Пока прослеживается более высокий средний чек в группе В."
   ]
  },
  {
   "cell_type": "markdown",
   "metadata": {},
   "source": [
    "### 3.4 Построим график кумулятивной конверсии по группам. "
   ]
  },
  {
   "cell_type": "code",
   "execution_count": 15,
   "metadata": {},
   "outputs": [
    {
     "data": {
      "text/plain": [
       "(18109.0, 18140.0, 0.0, 0.05)"
      ]
     },
     "execution_count": 15,
     "metadata": {},
     "output_type": "execute_result"
    },
    {
     "data": {
      "image/png": "[encoded data removed]",
      "text/plain": [
       "<Figure size 864x432 with 1 Axes>"
      ]
     },
     "metadata": {
      "needs_background": "light"
     },
     "output_type": "display_data"
    }
   ],
   "source": [
    "# считаем кумулятивную конверсию\n",
    "cumulativeData['conversion'] = cumulativeData['orders']/cumulativeData['visitors']\n",
    "\n",
    "# отделяем данные по группе A\n",
    "cumulativeDataA = cumulativeData[cumulativeData['group']=='A']\n",
    "\n",
    "# отделяем данные по группе B\n",
    "cumulativeDataB = cumulativeData[cumulativeData['group']=='B']\n",
    "\n",
    "# строим графики\n",
    "fig, test = plt.subplots()\n",
    "test.set_title('Кумулятивная конверсия по группам')\n",
    "test.set_xlabel('дата')\n",
    "test.set_ylabel('конверсия')\n",
    "fig.set_figheight(6)\n",
    "fig.set_figwidth(12)\n",
    "\n",
    "plt.plot(cumulativeDataA['date'], cumulativeDataA['conversion'], label='A')\n",
    "plt.plot(cumulativeDataB['date'], cumulativeDataB['conversion'], label='B')\n",
    "plt.legend()\n",
    "\n",
    "# задаем масштаб осей\n",
    "plt.axis([\"2019-08-01\", '2019-09-01', 0, 0.05]) "
   ]
  },
  {
   "cell_type": "markdown",
   "metadata": {},
   "source": [
    "ВЫВОДЫ И ПРЕДПОЛОЖЕНИЯ:\n",
    "\n",
    "В первой половине теста видны колебания конверсии, во второй половине значения конверсий групп А и В установились на своих значениях. Коневерсия группы В выше, чем А примерно на 15%."
   ]
  },
  {
   "cell_type": "markdown",
   "metadata": {},
   "source": [
    "### 3.5 Построим график относительного изменения кумулятивной конверсии группы B к группе A. "
   ]
  },
  {
   "cell_type": "code",
   "execution_count": 16,
   "metadata": {},
   "outputs": [
    {
     "data": {
      "text/plain": [
       "(18109.0, 18140.0, -0.3, 0.3)"
      ]
     },
     "execution_count": 16,
     "metadata": {},
     "output_type": "execute_result"
    },
    {
     "data": {
      "image/png": "[encoded data removed]",
      "text/plain": [
       "<Figure size 864x432 with 1 Axes>"
      ]
     },
     "metadata": {
      "needs_background": "light"
     },
     "output_type": "display_data"
    }
   ],
   "source": [
    "mergedCumulativeConversions = cumulativeDataA[['date','conversion']].merge(cumulativeDataB[['date','conversion']], left_on='date', right_on='date', how='left', suffixes=['A', 'B'])\n",
    "\n",
    "fig, test = plt.subplots()\n",
    "test.set_title('Относительное изменение кумулятивной конверсии группы В к А')\n",
    "test.set_xlabel('дата')\n",
    "test.set_ylabel('изменение')\n",
    "fig.set_figheight(6)\n",
    "fig.set_figwidth(12)\n",
    "\n",
    "plt.plot(mergedCumulativeConversions['date'], mergedCumulativeConversions['conversionB']/mergedCumulativeConversions['conversionA']-1, label=\"Относительный прирост конверсии группы B относительно группы A\")\n",
    "plt.annotate('Опережение В', xy=('2019-08-06', 0), xytext=('2019-08-04', 0.1),\n",
    "            arrowprops=dict(facecolor='g'))\n",
    "\n",
    "plt.axhline(y=0, color='black', linestyle='--')\n",
    "plt.axhline(y=0.17, color='grey', linestyle='--')\n",
    "plt.axis([\"2019-08-01\", '2019-09-01', -0.3, 0.3]) "
   ]
  },
  {
   "cell_type": "markdown",
   "metadata": {},
   "source": [
    "ВЫВОДЫ И ПРЕДПОЛОЖЕНИЯ:\n",
    "\n",
    "Вначале теста видны значительные колебания прироста конверсии группы В относительно А, затем В вырвалась вперед и дережтся в лидерах с небольшими колебанеями. Для окончательных выводов сначала нужно проанализировать аномалии."
   ]
  },
  {
   "cell_type": "markdown",
   "metadata": {},
   "source": [
    "### 3.6 Построим точечный график количества заказов по пользователям. "
   ]
  },
  {
   "cell_type": "code",
   "execution_count": 17,
   "metadata": {},
   "outputs": [
    {
     "data": {
      "text/plain": [
       "<matplotlib.collections.PathCollection at 0xbe866d0>"
      ]
     },
     "execution_count": 17,
     "metadata": {},
     "output_type": "execute_result"
    },
    {
     "data": {
      "image/png": "[encoded data removed]",
      "text/plain": [
       "<Figure size 864x432 with 1 Axes>"
      ]
     },
     "metadata": {
      "needs_background": "light"
     },
     "output_type": "display_data"
    }
   ],
   "source": [
    "ordersByUsers = (\n",
    "    orders.groupby('visitor_id', as_index=False)\n",
    "    .agg({'transaction_id': pd.Series.nunique})\n",
    ")\n",
    "\n",
    "ordersByUsers.columns = ['visitor_id', 'transaction_id']\n",
    "\n",
    "x_values = pd.Series(range(0,len(ordersByUsers)))\n",
    "\n",
    "fig, test = plt.subplots()\n",
    "test.set_title('Количество заказов по пользователям')\n",
    "test.set_xlabel('пользователи')\n",
    "test.set_ylabel('количество заказов')\n",
    "fig.set_figheight(6)\n",
    "fig.set_figwidth(12)\n",
    "plt.scatter(x_values, ordersByUsers['transaction_id']) "
   ]
  },
  {
   "cell_type": "markdown",
   "metadata": {},
   "source": [
    "ВЫВОДЫ И ПРЕДПОЛОЖЕНИЯ:\n",
    "\n",
    "Большинство пользователей с 1 заказом. Есть с 2-3 заказами, но конкретная доля не ясна."
   ]
  },
  {
   "cell_type": "markdown",
   "metadata": {},
   "source": [
    "### 3.7 Посчитаем 95-й и 99-й перцентили количества заказов на пользователя. "
   ]
  },
  {
   "cell_type": "code",
   "execution_count": 18,
   "metadata": {},
   "outputs": [
    {
     "data": {
      "text/plain": [
       "array([1., 2.])"
      ]
     },
     "execution_count": 18,
     "metadata": {},
     "output_type": "execute_result"
    }
   ],
   "source": [
    "np.percentile(ordersByUsers['transaction_id'], [95, 99])"
   ]
  },
  {
   "cell_type": "markdown",
   "metadata": {},
   "source": [
    "ВЫВОДЫ И ПРЕДПОЛОЖЕНИЯ:\n",
    "\n",
    "Не более 5% пользователей делали более 1 заказов и не более 1% более 2 заказов. Выберем границу 1 заказа для определения нормальных пользователей."
   ]
  },
  {
   "cell_type": "markdown",
   "metadata": {},
   "source": [
    "### 3.8 Построим точечный график стоимостей заказов. "
   ]
  },
  {
   "cell_type": "code",
   "execution_count": 19,
   "metadata": {},
   "outputs": [
    {
     "data": {
      "text/plain": [
       "<matplotlib.collections.PathCollection at 0xbeac820>"
      ]
     },
     "execution_count": 19,
     "metadata": {},
     "output_type": "execute_result"
    },
    {
     "data": {
      "image/png": "[encoded data removed]",
      "text/plain": [
       "<Figure size 864x432 with 1 Axes>"
      ]
     },
     "metadata": {
      "needs_background": "light"
     },
     "output_type": "display_data"
    }
   ],
   "source": [
    "x_values = pd.Series(range(0,len(orders['revenue'])))\n",
    "fig, test = plt.subplots()\n",
    "test.set_title('Количество заказов по пользователям')\n",
    "test.set_xlabel('номер заказа')\n",
    "test.set_ylabel('стоимость')\n",
    "fig.set_figheight(6)\n",
    "fig.set_figwidth(12)\n",
    "plt.scatter(x_values, orders['revenue']) "
   ]
  },
  {
   "cell_type": "markdown",
   "metadata": {},
   "source": [
    "ВЫВОДЫ И ПРЕДПОЛОЖЕНИЯ:\n",
    "\n",
    "По этому графику очень сложно делать точные выводы, есть заказ с чеком более 1200000, для интернет магазина это слишком крупный заказ и стоит убедиться, что это не ошибка. Можно сказать, что практически все значения лежат в одном диапазоне, и лишь несколько выбиваются. Определим границы их с помощью перентилей."
   ]
  },
  {
   "cell_type": "markdown",
   "metadata": {},
   "source": [
    "### 3.9 Посчитаем 95-й и 99-й перцентили стоимости заказов. "
   ]
  },
  {
   "cell_type": "code",
   "execution_count": 20,
   "metadata": {},
   "outputs": [
    {
     "data": {
      "text/plain": [
       "array([26785., 53904.])"
      ]
     },
     "execution_count": 20,
     "metadata": {},
     "output_type": "execute_result"
    }
   ],
   "source": [
    "np.percentile(orders['revenue'], [95, 99])"
   ]
  },
  {
   "cell_type": "markdown",
   "metadata": {},
   "source": [
    "ВЫВОДЫ И ПРЕДПОЛОЖЕНИЯ:\n",
    "\n",
    "Не более 5% заказов дороже 27 000 и не более 1% дороже 54 000. Выберем границу 30 000 заказа для определения аномальных пользователей."
   ]
  },
  {
   "cell_type": "markdown",
   "metadata": {},
   "source": [
    "### 3.10 Посчитаем статистическую значимость различий в конверсии между группами по «сырым» данным."
   ]
  },
  {
   "cell_type": "code",
   "execution_count": 21,
   "metadata": {
    "scrolled": true
   },
   "outputs": [
    {
     "data": {
      "text/html": [
       "<div>\n",
       "<style scoped>\n",
       "    .dataframe tbody tr th:only-of-type {\n",
       "        vertical-align: middle;\n",
       "    }\n",
       "\n",
       "    .dataframe tbody tr th {\n",
       "        vertical-align: top;\n",
       "    }\n",
       "\n",
       "    .dataframe thead th {\n",
       "        text-align: right;\n",
       "    }\n",
       "</style>\n",
       "<table border=\"1\" class=\"dataframe\">\n",
       "  <thead>\n",
       "    <tr style=\"text-align: right;\">\n",
       "      <th></th>\n",
       "      <th>date</th>\n",
       "      <th>ordersPerDateA</th>\n",
       "      <th>revenuePerDateA</th>\n",
       "      <th>ordersPerDateB</th>\n",
       "      <th>revenuePerDateB</th>\n",
       "      <th>ordersCummulativeA</th>\n",
       "      <th>revenueCummulativeA</th>\n",
       "      <th>ordersCummulativeB</th>\n",
       "      <th>revenueCummulativeB</th>\n",
       "      <th>visitorsPerDateA</th>\n",
       "      <th>visitorsPerDateB</th>\n",
       "      <th>visitorsCummulativeA</th>\n",
       "      <th>visitorsCummulativeB</th>\n",
       "    </tr>\n",
       "  </thead>\n",
       "  <tbody>\n",
       "    <tr>\n",
       "      <th>0</th>\n",
       "      <td>2019-08-01</td>\n",
       "      <td>23</td>\n",
       "      <td>142779</td>\n",
       "      <td>17</td>\n",
       "      <td>59758</td>\n",
       "      <td>23</td>\n",
       "      <td>142779</td>\n",
       "      <td>17</td>\n",
       "      <td>59758</td>\n",
       "      <td>719</td>\n",
       "      <td>713</td>\n",
       "      <td>719</td>\n",
       "      <td>713</td>\n",
       "    </tr>\n",
       "    <tr>\n",
       "      <th>1</th>\n",
       "      <td>2019-08-02</td>\n",
       "      <td>19</td>\n",
       "      <td>91602</td>\n",
       "      <td>23</td>\n",
       "      <td>162043</td>\n",
       "      <td>42</td>\n",
       "      <td>234381</td>\n",
       "      <td>40</td>\n",
       "      <td>221801</td>\n",
       "      <td>619</td>\n",
       "      <td>581</td>\n",
       "      <td>1338</td>\n",
       "      <td>1294</td>\n",
       "    </tr>\n",
       "    <tr>\n",
       "      <th>2</th>\n",
       "      <td>2019-08-03</td>\n",
       "      <td>24</td>\n",
       "      <td>112473</td>\n",
       "      <td>14</td>\n",
       "      <td>67049</td>\n",
       "      <td>66</td>\n",
       "      <td>346854</td>\n",
       "      <td>54</td>\n",
       "      <td>288850</td>\n",
       "      <td>507</td>\n",
       "      <td>509</td>\n",
       "      <td>1845</td>\n",
       "      <td>1803</td>\n",
       "    </tr>\n",
       "    <tr>\n",
       "      <th>3</th>\n",
       "      <td>2019-08-04</td>\n",
       "      <td>11</td>\n",
       "      <td>41176</td>\n",
       "      <td>14</td>\n",
       "      <td>96890</td>\n",
       "      <td>77</td>\n",
       "      <td>388030</td>\n",
       "      <td>68</td>\n",
       "      <td>385740</td>\n",
       "      <td>717</td>\n",
       "      <td>770</td>\n",
       "      <td>2562</td>\n",
       "      <td>2573</td>\n",
       "    </tr>\n",
       "    <tr>\n",
       "      <th>4</th>\n",
       "      <td>2019-08-05</td>\n",
       "      <td>22</td>\n",
       "      <td>86383</td>\n",
       "      <td>21</td>\n",
       "      <td>89908</td>\n",
       "      <td>99</td>\n",
       "      <td>474413</td>\n",
       "      <td>89</td>\n",
       "      <td>475648</td>\n",
       "      <td>756</td>\n",
       "      <td>707</td>\n",
       "      <td>3318</td>\n",
       "      <td>3280</td>\n",
       "    </tr>\n",
       "  </tbody>\n",
       "</table>\n",
       "</div>"
      ],
      "text/plain": [
       "        date  ordersPerDateA  revenuePerDateA  ordersPerDateB  \\\n",
       "0 2019-08-01              23           142779              17   \n",
       "1 2019-08-02              19            91602              23   \n",
       "2 2019-08-03              24           112473              14   \n",
       "3 2019-08-04              11            41176              14   \n",
       "4 2019-08-05              22            86383              21   \n",
       "\n",
       "   revenuePerDateB  ordersCummulativeA  revenueCummulativeA  \\\n",
       "0            59758                  23               142779   \n",
       "1           162043                  42               234381   \n",
       "2            67049                  66               346854   \n",
       "3            96890                  77               388030   \n",
       "4            89908                  99               474413   \n",
       "\n",
       "   ordersCummulativeB  revenueCummulativeB  visitorsPerDateA  \\\n",
       "0                  17                59758               719   \n",
       "1                  40               221801               619   \n",
       "2                  54               288850               507   \n",
       "3                  68               385740               717   \n",
       "4                  89               475648               756   \n",
       "\n",
       "   visitorsPerDateB  visitorsCummulativeA  visitorsCummulativeB  \n",
       "0               713                   719                   713  \n",
       "1               581                  1338                  1294  \n",
       "2               509                  1845                  1803  \n",
       "3               770                  2562                  2573  \n",
       "4               707                  3318                  3280  "
      ]
     },
     "execution_count": 21,
     "metadata": {},
     "output_type": "execute_result"
    }
   ],
   "source": [
    "# Начнём с подготовки данных\n",
    "visitorsADaily = visitors[visitors['group'] == 'A'][['date', 'visitors']]\n",
    "visitorsADaily.columns = ['date', 'visitorsPerDateA']\n",
    "\n",
    "visitorsACummulative = visitorsADaily.apply(\n",
    "    lambda x: visitorsADaily[visitorsADaily['date'] <= x['date']].agg(\n",
    "        {'date': 'max', 'visitorsPerDateA': 'sum'}\n",
    "    ),\n",
    "    axis=1,\n",
    ")\n",
    "visitorsACummulative.columns = ['date', 'visitorsCummulativeA']\n",
    "\n",
    "visitorsBDaily = visitors[visitors['group'] == 'B'][['date', 'visitors']]\n",
    "visitorsBDaily.columns = ['date', 'visitorsPerDateB']\n",
    "\n",
    "visitorsBCummulative = visitorsBDaily.apply(\n",
    "    lambda x: visitorsBDaily[visitorsBDaily['date'] <= x['date']].agg(\n",
    "        {'date': 'max', 'visitorsPerDateB': 'sum'}\n",
    "    ),\n",
    "    axis=1,\n",
    ")\n",
    "visitorsBCummulative.columns = ['date', 'visitorsCummulativeB']\n",
    "\n",
    "ordersADaily = (\n",
    "    orders[orders['group'] == 'A'][['date', 'transaction_id', 'visitor_id', 'revenue']]\n",
    "    .groupby('date', as_index=False)\n",
    "    .agg({'transaction_id': pd.Series.nunique, 'revenue': 'sum'})\n",
    ")\n",
    "ordersADaily.columns = ['date', 'ordersPerDateA', 'revenuePerDateA']\n",
    "\n",
    "ordersACummulative = ordersADaily.apply(\n",
    "    lambda x: ordersADaily[ordersADaily['date'] <= x['date']].agg(\n",
    "        {'date': 'max', 'ordersPerDateA': 'sum', 'revenuePerDateA': 'sum'}\n",
    "    ),\n",
    "    axis=1,\n",
    ").sort_values(by=['date'])\n",
    "ordersACummulative.columns = [\n",
    "    'date',\n",
    "    'ordersCummulativeA',\n",
    "    'revenueCummulativeA',\n",
    "]\n",
    "\n",
    "ordersBDaily = (\n",
    "    orders[orders['group'] == 'B'][['date', 'transaction_id', 'visitor_id', 'revenue']]\n",
    "    .groupby('date', as_index=False)\n",
    "    .agg({'transaction_id': pd.Series.nunique, 'revenue': 'sum'})\n",
    ")\n",
    "ordersBDaily.columns = ['date', 'ordersPerDateB', 'revenuePerDateB']\n",
    "\n",
    "ordersBCummulative = ordersBDaily.apply(\n",
    "    lambda x: ordersBDaily[ordersBDaily['date'] <= x['date']].agg(\n",
    "        {'date': 'max', 'ordersPerDateB': 'sum', 'revenuePerDateB': 'sum'}\n",
    "    ),\n",
    "    axis=1,\n",
    ").sort_values(by=['date'])\n",
    "ordersBCummulative.columns = [\n",
    "    'date',\n",
    "    'ordersCummulativeB',\n",
    "    'revenueCummulativeB',\n",
    "]\n",
    "\n",
    "data = (\n",
    "    ordersADaily.merge(\n",
    "        ordersBDaily, left_on='date', right_on='date', how='left'\n",
    "    )\n",
    "    .merge(ordersACummulative, left_on='date', right_on='date', how='left')\n",
    "    .merge(ordersBCummulative, left_on='date', right_on='date', how='left')\n",
    "    .merge(visitorsADaily, left_on='date', right_on='date', how='left')\n",
    "    .merge(visitorsBDaily, left_on='date', right_on='date', how='left')\n",
    "    .merge(visitorsACummulative, left_on='date', right_on='date', how='left')\n",
    "    .merge(visitorsBCummulative, left_on='date', right_on='date', how='left')\n",
    ")\n",
    "\n",
    "data.head(5) "
   ]
  },
  {
   "cell_type": "markdown",
   "metadata": {},
   "source": [
    "1. Нулевая гипотеза: Статистически значимых различий в конверсии между группами по \"сырым данным\" нет\n",
    "2. Обратная гипотеза: Статистически значимые различия в конверсии между группами по \"сырым данным\" есть"
   ]
  },
  {
   "cell_type": "code",
   "execution_count": 22,
   "metadata": {},
   "outputs": [
    {
     "data": {
      "text/plain": [
       "('0.006', '0.160')"
      ]
     },
     "execution_count": 22,
     "metadata": {},
     "output_type": "execute_result"
    }
   ],
   "source": [
    "# Посчитаем статистическую значимость различия в конверсии между группами по «сырым» данным.\n",
    "ordersByUsersA = (\n",
    "    orders[orders['group'] == 'A']\n",
    "    .groupby('visitor_id', as_index=False)\n",
    "    .agg({'transaction_id': pd.Series.nunique})\n",
    ")\n",
    "ordersByUsersA.columns = ['visitor_id', 'orders']\n",
    "\n",
    "ordersByUsersB = (\n",
    "    orders[orders['group'] == 'B']\n",
    "    .groupby('visitor_id', as_index=False)\n",
    "    .agg({'transaction_id': pd.Series.nunique})\n",
    ")\n",
    "ordersByUsersB.columns = ['visitor_id', 'orders'] \n",
    "\n",
    "\n",
    "sampleA = pd.concat(\n",
    "    [\n",
    "        ordersByUsersA['orders'],\n",
    "        pd.Series(\n",
    "            0,\n",
    "            index=np.arange(\n",
    "                data['visitorsPerDateA'].sum() - len(ordersByUsersA['orders'])\n",
    "            ),\n",
    "            name='orders',\n",
    "        ),\n",
    "    ],\n",
    "    axis=0,\n",
    ")\n",
    "\n",
    "sampleB = pd.concat(\n",
    "    [\n",
    "        ordersByUsersB['orders'],\n",
    "        pd.Series(\n",
    "            0,\n",
    "            index=np.arange(\n",
    "                data['visitorsPerDateB'].sum() - len(ordersByUsersB['orders'])\n",
    "            ),\n",
    "            name='orders',\n",
    "        ),\n",
    "    ],\n",
    "    axis=0,\n",
    ")\n",
    "\n",
    "\"{0:.3f}\".format(stats.mannwhitneyu(sampleA, sampleB)[1], alternative = 'two-sided'), \"{0:.3f}\".format(sampleB.mean() / sampleA.mean() - 1)"
   ]
  },
  {
   "cell_type": "markdown",
   "metadata": {},
   "source": [
    "###### ВЫВОДЫ И ПРЕДПОЛОЖЕНИЯ:\n",
    "\n",
    "Первое число — p-value = 0.006, меньше 0.05. Значит, нулевую гипотезу о том, что статистически значимых различий в конверсии между группами нет, отвергаем. Относительный проигрыш группы А равен 16% — второе число в выводе."
   ]
  },
  {
   "cell_type": "markdown",
   "metadata": {},
   "source": [
    "### 3.11 Посчитаем статистическую значимость различий в среднем чеке заказа между группами по «сырым» данным. \n",
    "1. Нулевая гипотеза: Статистически значимых различий в среднем чеке между группами по \"сырым данным\" нет\n",
    "2. Обратная гипотеза: Статистически значимые различия в среднем чеке между группами по \"сырым данным\" есть"
   ]
  },
  {
   "cell_type": "code",
   "execution_count": 23,
   "metadata": {
    "scrolled": true
   },
   "outputs": [
    {
     "data": {
      "text/plain": [
       "'0.415'"
      ]
     },
     "execution_count": 23,
     "metadata": {},
     "output_type": "execute_result"
    }
   ],
   "source": [
    "'{0:.3f}'.format(stats.mannwhitneyu(orders[orders['group']=='A']['revenue'], orders[orders['group']=='B']['revenue'])[1], alternative = 'two-sided') "
   ]
  },
  {
   "cell_type": "code",
   "execution_count": 24,
   "metadata": {},
   "outputs": [
    {
     "data": {
      "text/plain": [
       "'0.287'"
      ]
     },
     "execution_count": 24,
     "metadata": {},
     "output_type": "execute_result"
    }
   ],
   "source": [
    "'{0:.3f}'.format(orders[orders['group']=='B']['revenue'].mean()/orders[orders['group']=='A']['revenue'].mean()-1)"
   ]
  },
  {
   "cell_type": "markdown",
   "metadata": {},
   "source": [
    "ВЫВОДЫ И ПРЕДПОЛОЖЕНИЯ:\n",
    "\n",
    "P-value значительно больше 0.05. Значит, причин отвергать нулевую гипотезу и считать, что в среднем чеке есть различия, нет. Но, средний чек группы А значительно ниже среднего чека группы В, практичеки на 29%."
   ]
  },
  {
   "cell_type": "markdown",
   "metadata": {},
   "source": [
    "### 3.12 Посчитаем статистическую значимость различий в конверсии между группами по «очищенным» данным. \n",
    "1. Нулевая гипотеза: Статистически значимых различий в конверсии между группами по \"очищенным данным\" нет\n",
    "2. Обратная гипотеза: Статистически значимые различия в конверсии между группами по \"очищенным данным\" есть"
   ]
  },
  {
   "cell_type": "code",
   "execution_count": 25,
   "metadata": {},
   "outputs": [
    {
     "data": {
      "text/plain": [
       "1099    148427295\n",
       "928     204675465\n",
       "33      249864742\n",
       "684     358944393\n",
       "648     382846391\n",
       "Name: visitor_id, dtype: int64"
      ]
     },
     "execution_count": 25,
     "metadata": {},
     "output_type": "execute_result"
    }
   ],
   "source": [
    "# Выделим аномальных пользователей с количесвом заказов больше 2 и средним чеком выше 30 000\n",
    "usersWithManyOrders = pd.concat(\n",
    "    [\n",
    "        ordersByUsersA[ordersByUsersA['orders'] > 2]['visitor_id'],\n",
    "        ordersByUsersB[ordersByUsersB['orders'] > 2]['visitor_id'],\n",
    "    ],\n",
    "    axis=0,\n",
    ")\n",
    "usersWithExpensiveOrders = orders[orders['revenue'] > 30000]['visitor_id']\n",
    "abnormalUsers = (\n",
    "    pd.concat([usersWithManyOrders, usersWithExpensiveOrders], axis=0)\n",
    "    .drop_duplicates()\n",
    "    .sort_values()\n",
    ")\n",
    "abnormalUsers.head(5)"
   ]
  },
  {
   "cell_type": "code",
   "execution_count": 26,
   "metadata": {},
   "outputs": [
    {
     "data": {
      "text/plain": [
       "('0.005', '0.187')"
      ]
     },
     "execution_count": 26,
     "metadata": {},
     "output_type": "execute_result"
    }
   ],
   "source": [
    "# Очистим данные от аномальных пользователей и проверим, как изменилась конверсия\n",
    "sampleAFiltered = pd.concat(\n",
    "    [\n",
    "        ordersByUsersA[\n",
    "            np.logical_not(ordersByUsersA['visitor_id'].isin(abnormalUsers))\n",
    "        ]['orders'],\n",
    "        pd.Series(\n",
    "            0,\n",
    "            index=np.arange(\n",
    "                data['visitorsPerDateA'].sum() - len(ordersByUsersA['orders'])\n",
    "            ),\n",
    "            name='orders',\n",
    "        ),\n",
    "    ],\n",
    "    axis=0,\n",
    ")\n",
    "\n",
    "sampleBFiltered = pd.concat(\n",
    "    [\n",
    "        ordersByUsersB[\n",
    "            np.logical_not(ordersByUsersB['visitor_id'].isin(abnormalUsers))\n",
    "        ]['orders'],\n",
    "        pd.Series(\n",
    "            0,\n",
    "            index=np.arange(\n",
    "                data['visitorsPerDateB'].sum() - len(ordersByUsersB['orders'])\n",
    "            ),\n",
    "            name='orders',\n",
    "        ),\n",
    "    ],\n",
    "    axis=0,\n",
    ") \n",
    "\n",
    "'{0:.3f}'.format(stats.mannwhitneyu(sampleAFiltered, sampleBFiltered)[1], alternative = 'two-sided'), '{0:.3f}'.format(sampleBFiltered.mean()/sampleAFiltered.mean()-1)"
   ]
  },
  {
   "cell_type": "markdown",
   "metadata": {},
   "source": [
    "ВЫВОДЫ И ПРЕДПОЛОЖЕНИЯ:\n",
    "\n",
    "Статистическая значимость различий конверсии по группам практически не изменилась. Но относительное изменение конверсии по группам стало еще больше: группа А отстает на 18.7%"
   ]
  },
  {
   "cell_type": "markdown",
   "metadata": {},
   "source": [
    "### 3.13 Посчитаем статистическую значимость различий в среднем чеке заказа между группами по «очищенным» данным. \n",
    "1. Нулевая гипотеза: Статистически значимых различий в среднем чеке между группами по \"очищенным данным\" нет\n",
    "2. Обратная гипотеза: Статистически значимые различия в среднем чеке между группами по \"очищенным данным\" есть"
   ]
  },
  {
   "cell_type": "code",
   "execution_count": 27,
   "metadata": {},
   "outputs": [
    {
     "data": {
      "text/plain": [
       "'0.370'"
      ]
     },
     "execution_count": 27,
     "metadata": {},
     "output_type": "execute_result"
    }
   ],
   "source": [
    "'{0:.3f}'.format(\n",
    "        stats.mannwhitneyu(\n",
    "            orders[\n",
    "                np.logical_and(\n",
    "                    orders['group'] == 'A',\n",
    "                    np.logical_not(orders['visitor_id'].isin(abnormalUsers)),\n",
    "                )\n",
    "            ]['revenue'],\n",
    "            orders[\n",
    "                np.logical_and(\n",
    "                    orders['group'] == 'B',\n",
    "                    np.logical_not(orders['visitor_id'].isin(abnormalUsers)),\n",
    "                )\n",
    "            ]['revenue'],\n",
    "        )[1], \n",
    "        alternative = 'two-sided'\n",
    "    )\n",
    "\n"
   ]
  },
  {
   "cell_type": "code",
   "execution_count": 28,
   "metadata": {},
   "outputs": [
    {
     "data": {
      "text/plain": [
       "'-0.027'"
      ]
     },
     "execution_count": 28,
     "metadata": {},
     "output_type": "execute_result"
    }
   ],
   "source": [
    "\"{0:.3f}\".format(\n",
    "        orders[\n",
    "            np.logical_and(\n",
    "                orders['group'] == 'B',\n",
    "                np.logical_not(orders['visitor_id'].isin(abnormalUsers)),\n",
    "            )\n",
    "        ]['revenue'].mean()\n",
    "        / orders[\n",
    "            np.logical_and(\n",
    "                orders['group'] == 'A',\n",
    "                np.logical_not(orders['visitor_id'].isin(abnormalUsers)),\n",
    "            )\n",
    "        ]['revenue'].mean()\n",
    "        - 1\n",
    "    )"
   ]
  },
  {
   "cell_type": "markdown",
   "metadata": {},
   "source": [
    "ВЫВОДЫ И ПРЕДПОЛОЖЕНИЯ:\n",
    "\n",
    "P-value практически не изменился, а значит статистически значимых различий в среднем чеке так и нет, но и разница между группами стала противоположной, средний чек группы В стал ниже А на 2.7%. Это значит, что аномалии значительно влияют на показатель среднего чека."
   ]
  },
  {
   "cell_type": "markdown",
   "metadata": {},
   "source": [
    "#### Подытожим все основные значимые выводы:\n",
    "- Статистически значимого отличия в среднем чеке по группам нет.\n",
    "- Конверсия группы В статистически значимо выше, чем А, при сирых и очищенных данных.\n",
    "- График относительного прироста конверсии показывает, что группа В лучше, т.к. ее показатели зафиксировались выше среднего значения.\n",
    "\n",
    "Все это дает право остановиться на решении: Остановить тест, зафиксировать победу группы В. Исходя из предоставленных данных, оно принесет больше денег компании."
   ]
  },
  {
   "cell_type": "markdown",
   "metadata": {},
   "source": [
    "# Выводы:\n",
    "- В предоставленных данных было обнаружено 58 пользователей, которые попали в обе группы, данные о которых были удалены.\n",
    "- По совокупности приоретизаций гипотез наиболее перспективными являются гипотезы. \n",
    "1. Добавить форму подписки на все основные страницы, чтобы собрать базу клиентов для email-рассылок.\n",
    "2. Добавить два новых канала привлечения трафика, что позволит привлекать на 30% больше пользователей.\n",
    "3. Показать на главной странице баннеры с актуальными акциями и распродажами, чтобы увеличить конверсию.\n",
    "- Крупные заказы очень значительно влияют на выручку и средний чек, что было учтено в анализе.\n",
    "- Результаты группы В на протяжении всего теста были всегда лучше, чем результаты А, либо не имели статистически значимых отличий. Конверсия В на 18.7% выше конверсии А по \"очищенным\" данным. Средний чек статистически значимых отличий по группам не имеет.\n",
    "- Группа В признана победителем теста."
   ]
  }
 ],
 "metadata": {
  "ExecuteTimeLog": [
   {
    "duration": 904,
    "start_time": "2021-12-28T06:45:24.814Z"
   },
   {
    "duration": 13,
    "start_time": "2021-12-28T06:46:28.397Z"
   },
   {
    "duration": 11,
    "start_time": "2021-12-28T06:46:33.203Z"
   },
   {
    "duration": 292,
    "start_time": "2021-12-28T06:46:40.961Z"
   },
   {
    "duration": 235,
    "start_time": "2021-12-28T06:46:56.430Z"
   },
   {
    "duration": 11,
    "start_time": "2021-12-28T06:46:56.873Z"
   },
   {
    "duration": 11,
    "start_time": "2021-12-28T06:46:57.287Z"
   },
   {
    "duration": 10,
    "start_time": "2021-12-28T06:46:57.703Z"
   },
   {
    "duration": 6,
    "start_time": "2021-12-28T06:57:38.288Z"
   },
   {
    "duration": 6,
    "start_time": "2021-12-28T06:57:49.949Z"
   },
   {
    "duration": 1789,
    "start_time": "2021-12-28T06:58:36.655Z"
   },
   {
    "duration": 7,
    "start_time": "2021-12-28T06:59:04.023Z"
   },
   {
    "duration": 6,
    "start_time": "2021-12-28T06:59:06.235Z"
   },
   {
    "duration": 9,
    "start_time": "2021-12-28T06:59:45.054Z"
   },
   {
    "duration": 7,
    "start_time": "2021-12-28T06:59:50.246Z"
   },
   {
    "duration": 906,
    "start_time": "2022-01-02T08:54:31.622Z"
   },
   {
    "duration": 13,
    "start_time": "2022-01-02T08:54:32.530Z"
   },
   {
    "duration": 12,
    "start_time": "2022-01-02T08:54:32.545Z"
   },
   {
    "duration": 13,
    "start_time": "2022-01-02T08:54:32.559Z"
   },
   {
    "duration": 10,
    "start_time": "2022-01-02T08:54:32.573Z"
   },
   {
    "duration": 9,
    "start_time": "2022-01-02T08:54:32.585Z"
   },
   {
    "duration": 16,
    "start_time": "2022-01-02T08:54:32.595Z"
   },
   {
    "duration": 11,
    "start_time": "2022-01-02T08:56:16.103Z"
   },
   {
    "duration": 1350,
    "start_time": "2022-01-02T09:33:36.400Z"
   },
   {
    "duration": 841,
    "start_time": "2022-01-02T09:34:44.424Z"
   },
   {
    "duration": 14,
    "start_time": "2022-01-02T09:34:45.267Z"
   },
   {
    "duration": 9,
    "start_time": "2022-01-02T09:34:45.283Z"
   },
   {
    "duration": 10,
    "start_time": "2022-01-02T09:34:45.293Z"
   },
   {
    "duration": 8,
    "start_time": "2022-01-02T09:34:45.304Z"
   },
   {
    "duration": 8,
    "start_time": "2022-01-02T09:34:45.313Z"
   },
   {
    "duration": 10,
    "start_time": "2022-01-02T09:34:45.322Z"
   },
   {
    "duration": 9,
    "start_time": "2022-01-02T09:34:45.341Z"
   },
   {
    "duration": 1159,
    "start_time": "2022-01-02T09:34:45.351Z"
   },
   {
    "duration": 888,
    "start_time": "2022-01-02T09:36:01.459Z"
   },
   {
    "duration": 12,
    "start_time": "2022-01-02T09:36:02.349Z"
   },
   {
    "duration": 28,
    "start_time": "2022-01-02T09:36:02.363Z"
   },
   {
    "duration": 24,
    "start_time": "2022-01-02T09:36:02.393Z"
   },
   {
    "duration": 10,
    "start_time": "2022-01-02T09:36:02.418Z"
   },
   {
    "duration": 18,
    "start_time": "2022-01-02T09:36:02.430Z"
   },
   {
    "duration": 13,
    "start_time": "2022-01-02T09:36:02.449Z"
   },
   {
    "duration": 13,
    "start_time": "2022-01-02T09:36:02.463Z"
   },
   {
    "duration": 1180,
    "start_time": "2022-01-02T09:36:02.478Z"
   },
   {
    "duration": 1082,
    "start_time": "2022-01-02T09:36:43.412Z"
   },
   {
    "duration": 5974,
    "start_time": "2022-01-02T09:37:22.723Z"
   },
   {
    "duration": 855,
    "start_time": "2022-01-02T09:43:00.072Z"
   },
   {
    "duration": 13,
    "start_time": "2022-01-02T09:43:00.929Z"
   },
   {
    "duration": 13,
    "start_time": "2022-01-02T09:43:00.944Z"
   },
   {
    "duration": 16,
    "start_time": "2022-01-02T09:43:00.958Z"
   },
   {
    "duration": 15,
    "start_time": "2022-01-02T09:43:00.975Z"
   },
   {
    "duration": 25,
    "start_time": "2022-01-02T09:43:00.992Z"
   },
   {
    "duration": 20,
    "start_time": "2022-01-02T09:43:01.019Z"
   },
   {
    "duration": 24,
    "start_time": "2022-01-02T09:43:01.041Z"
   },
   {
    "duration": 6476,
    "start_time": "2022-01-02T09:43:01.067Z"
   },
   {
    "duration": 1214,
    "start_time": "2022-01-02T09:52:58.759Z"
   },
   {
    "duration": 828,
    "start_time": "2022-01-02T09:54:08.056Z"
   },
   {
    "duration": 12,
    "start_time": "2022-01-02T09:54:08.886Z"
   },
   {
    "duration": 10,
    "start_time": "2022-01-02T09:54:08.900Z"
   },
   {
    "duration": 9,
    "start_time": "2022-01-02T09:54:08.912Z"
   },
   {
    "duration": 4,
    "start_time": "2022-01-02T09:54:08.922Z"
   },
   {
    "duration": 10,
    "start_time": "2022-01-02T09:54:08.928Z"
   },
   {
    "duration": 12,
    "start_time": "2022-01-02T09:54:08.939Z"
   },
   {
    "duration": 9,
    "start_time": "2022-01-02T09:54:08.953Z"
   },
   {
    "duration": 507,
    "start_time": "2022-01-02T09:54:08.964Z"
   },
   {
    "duration": 341,
    "start_time": "2022-01-03T13:53:41.163Z"
   },
   {
    "duration": 986,
    "start_time": "2022-01-03T13:53:52.218Z"
   },
   {
    "duration": 11,
    "start_time": "2022-01-03T13:53:53.205Z"
   },
   {
    "duration": 10,
    "start_time": "2022-01-03T13:53:53.218Z"
   },
   {
    "duration": 10,
    "start_time": "2022-01-03T13:53:53.229Z"
   },
   {
    "duration": 6,
    "start_time": "2022-01-03T13:53:53.240Z"
   },
   {
    "duration": 7,
    "start_time": "2022-01-03T13:53:53.247Z"
   },
   {
    "duration": 14,
    "start_time": "2022-01-03T13:53:53.255Z"
   },
   {
    "duration": 8,
    "start_time": "2022-01-03T13:53:53.270Z"
   },
   {
    "duration": 890,
    "start_time": "2022-01-03T13:53:53.280Z"
   },
   {
    "duration": 1484,
    "start_time": "2022-01-03T13:58:30.385Z"
   },
   {
    "duration": 911,
    "start_time": "2022-01-03T13:58:59.095Z"
   },
   {
    "duration": 11,
    "start_time": "2022-01-03T13:59:00.008Z"
   },
   {
    "duration": 12,
    "start_time": "2022-01-03T13:59:00.020Z"
   },
   {
    "duration": 8,
    "start_time": "2022-01-03T13:59:00.034Z"
   },
   {
    "duration": 5,
    "start_time": "2022-01-03T13:59:00.044Z"
   },
   {
    "duration": 10,
    "start_time": "2022-01-03T13:59:00.051Z"
   },
   {
    "duration": 12,
    "start_time": "2022-01-03T13:59:00.062Z"
   },
   {
    "duration": 9,
    "start_time": "2022-01-03T13:59:00.077Z"
   },
   {
    "duration": 501,
    "start_time": "2022-01-03T13:59:00.088Z"
   },
   {
    "duration": 882,
    "start_time": "2022-01-03T13:59:37.440Z"
   },
   {
    "duration": 11,
    "start_time": "2022-01-03T13:59:38.324Z"
   },
   {
    "duration": 9,
    "start_time": "2022-01-03T13:59:38.337Z"
   },
   {
    "duration": 9,
    "start_time": "2022-01-03T13:59:38.348Z"
   },
   {
    "duration": 4,
    "start_time": "2022-01-03T13:59:38.358Z"
   },
   {
    "duration": 7,
    "start_time": "2022-01-03T13:59:38.363Z"
   },
   {
    "duration": 11,
    "start_time": "2022-01-03T13:59:38.371Z"
   },
   {
    "duration": 8,
    "start_time": "2022-01-03T13:59:38.383Z"
   },
   {
    "duration": 948,
    "start_time": "2022-01-03T13:59:38.393Z"
   },
   {
    "duration": 921,
    "start_time": "2022-01-03T14:00:09.622Z"
   },
   {
    "duration": 11,
    "start_time": "2022-01-03T14:00:10.545Z"
   },
   {
    "duration": 8,
    "start_time": "2022-01-03T14:00:10.558Z"
   },
   {
    "duration": 9,
    "start_time": "2022-01-03T14:00:10.568Z"
   },
   {
    "duration": 5,
    "start_time": "2022-01-03T14:00:10.579Z"
   },
   {
    "duration": 6,
    "start_time": "2022-01-03T14:00:10.586Z"
   },
   {
    "duration": 11,
    "start_time": "2022-01-03T14:00:10.593Z"
   },
   {
    "duration": 22,
    "start_time": "2022-01-03T14:00:10.606Z"
   },
   {
    "duration": 869,
    "start_time": "2022-01-03T14:00:10.629Z"
   },
   {
    "duration": 1019,
    "start_time": "2022-01-03T14:00:56.523Z"
   },
   {
    "duration": 11,
    "start_time": "2022-01-03T14:00:57.543Z"
   },
   {
    "duration": 10,
    "start_time": "2022-01-03T14:00:57.556Z"
   },
   {
    "duration": 9,
    "start_time": "2022-01-03T14:00:57.567Z"
   },
   {
    "duration": 4,
    "start_time": "2022-01-03T14:00:57.577Z"
   },
   {
    "duration": 9,
    "start_time": "2022-01-03T14:00:57.583Z"
   },
   {
    "duration": 13,
    "start_time": "2022-01-03T14:00:57.593Z"
   },
   {
    "duration": 21,
    "start_time": "2022-01-03T14:00:57.607Z"
   },
   {
    "duration": 479,
    "start_time": "2022-01-03T14:00:57.629Z"
   },
   {
    "duration": 160,
    "start_time": "2022-01-03T14:05:16.477Z"
   },
   {
    "duration": 298,
    "start_time": "2022-01-03T14:10:09.422Z"
   },
   {
    "duration": 195,
    "start_time": "2022-01-03T14:17:27.450Z"
   },
   {
    "duration": 160,
    "start_time": "2022-01-03T14:17:37.530Z"
   },
   {
    "duration": 160,
    "start_time": "2022-01-03T14:18:37.313Z"
   },
   {
    "duration": 172,
    "start_time": "2022-01-03T14:18:50.346Z"
   },
   {
    "duration": 162,
    "start_time": "2022-01-03T14:18:56.726Z"
   },
   {
    "duration": 271,
    "start_time": "2022-01-03T14:27:06.431Z"
   },
   {
    "duration": 259,
    "start_time": "2022-01-03T14:27:37.077Z"
   },
   {
    "duration": 255,
    "start_time": "2022-01-03T14:28:31.353Z"
   },
   {
    "duration": 297,
    "start_time": "2022-01-03T14:29:00.301Z"
   },
   {
    "duration": 498,
    "start_time": "2022-01-03T14:36:43.246Z"
   },
   {
    "duration": 93,
    "start_time": "2022-01-03T14:39:14.067Z"
   },
   {
    "duration": 99,
    "start_time": "2022-01-03T14:39:42.499Z"
   },
   {
    "duration": 8278,
    "start_time": "2022-01-03T14:39:48.871Z"
   },
   {
    "duration": 351,
    "start_time": "2022-01-03T14:40:32.851Z"
   },
   {
    "duration": 4,
    "start_time": "2022-01-03T14:43:48.531Z"
   },
   {
    "duration": 245,
    "start_time": "2022-01-03T14:48:21.747Z"
   },
   {
    "duration": 5,
    "start_time": "2022-01-03T14:52:55.129Z"
   },
   {
    "duration": 4,
    "start_time": "2022-01-03T15:19:21.987Z"
   },
   {
    "duration": 902,
    "start_time": "2022-01-03T15:26:22.546Z"
   },
   {
    "duration": 11,
    "start_time": "2022-01-03T15:26:23.450Z"
   },
   {
    "duration": 11,
    "start_time": "2022-01-03T15:26:23.463Z"
   },
   {
    "duration": 8,
    "start_time": "2022-01-03T15:26:23.476Z"
   },
   {
    "duration": 4,
    "start_time": "2022-01-03T15:26:23.486Z"
   },
   {
    "duration": 7,
    "start_time": "2022-01-03T15:26:23.492Z"
   },
   {
    "duration": 12,
    "start_time": "2022-01-03T15:26:23.500Z"
   },
   {
    "duration": 19,
    "start_time": "2022-01-03T15:26:23.513Z"
   },
   {
    "duration": 494,
    "start_time": "2022-01-03T15:26:23.534Z"
   },
   {
    "duration": 177,
    "start_time": "2022-01-03T15:26:24.030Z"
   },
   {
    "duration": 311,
    "start_time": "2022-01-03T15:26:24.209Z"
   },
   {
    "duration": 207,
    "start_time": "2022-01-03T15:26:24.521Z"
   },
   {
    "duration": 291,
    "start_time": "2022-01-03T15:26:24.730Z"
   },
   {
    "duration": 358,
    "start_time": "2022-01-03T15:26:25.027Z"
   },
   {
    "duration": 4,
    "start_time": "2022-01-03T15:26:25.386Z"
   },
   {
    "duration": 260,
    "start_time": "2022-01-03T15:26:25.392Z"
   },
   {
    "duration": 4,
    "start_time": "2022-01-03T15:26:25.654Z"
   },
   {
    "duration": 1091,
    "start_time": "2022-01-04T11:40:48.771Z"
   },
   {
    "duration": 25,
    "start_time": "2022-01-04T11:40:49.864Z"
   },
   {
    "duration": 15,
    "start_time": "2022-01-04T11:40:49.893Z"
   },
   {
    "duration": 15,
    "start_time": "2022-01-04T11:40:49.911Z"
   },
   {
    "duration": 6,
    "start_time": "2022-01-04T11:40:49.963Z"
   },
   {
    "duration": 10,
    "start_time": "2022-01-04T11:40:49.972Z"
   },
   {
    "duration": 21,
    "start_time": "2022-01-04T11:40:49.984Z"
   },
   {
    "duration": 16,
    "start_time": "2022-01-04T11:40:50.008Z"
   },
   {
    "duration": 956,
    "start_time": "2022-01-04T11:40:50.028Z"
   },
   {
    "duration": 330,
    "start_time": "2022-01-04T11:40:50.986Z"
   },
   {
    "duration": 451,
    "start_time": "2022-01-04T11:40:51.319Z"
   },
   {
    "duration": 380,
    "start_time": "2022-01-04T11:40:51.772Z"
   },
   {
    "duration": 463,
    "start_time": "2022-01-04T11:40:52.155Z"
   },
   {
    "duration": 568,
    "start_time": "2022-01-04T11:40:52.621Z"
   },
   {
    "duration": 7,
    "start_time": "2022-01-04T11:40:53.192Z"
   },
   {
    "duration": 372,
    "start_time": "2022-01-04T11:40:53.201Z"
   },
   {
    "duration": 8,
    "start_time": "2022-01-04T11:40:53.577Z"
   },
   {
    "duration": 200,
    "start_time": "2022-01-04T11:44:59.013Z"
   },
   {
    "duration": 698,
    "start_time": "2022-01-04T11:48:14.321Z"
   },
   {
    "duration": 1073,
    "start_time": "2022-01-04T11:55:32.717Z"
   },
   {
    "duration": 20,
    "start_time": "2022-01-04T11:55:33.793Z"
   },
   {
    "duration": 15,
    "start_time": "2022-01-04T11:55:33.817Z"
   },
   {
    "duration": 30,
    "start_time": "2022-01-04T11:55:33.836Z"
   },
   {
    "duration": 8,
    "start_time": "2022-01-04T11:55:33.870Z"
   },
   {
    "duration": 12,
    "start_time": "2022-01-04T11:55:33.881Z"
   },
   {
    "duration": 18,
    "start_time": "2022-01-04T11:55:33.896Z"
   },
   {
    "duration": 62,
    "start_time": "2022-01-04T11:55:33.917Z"
   },
   {
    "duration": 1097,
    "start_time": "2022-01-04T11:55:33.986Z"
   },
   {
    "duration": 358,
    "start_time": "2022-01-04T11:55:35.085Z"
   },
   {
    "duration": 443,
    "start_time": "2022-01-04T11:55:35.445Z"
   },
   {
    "duration": 413,
    "start_time": "2022-01-04T11:55:35.891Z"
   },
   {
    "duration": 502,
    "start_time": "2022-01-04T11:55:36.308Z"
   },
   {
    "duration": 616,
    "start_time": "2022-01-04T11:55:36.813Z"
   },
   {
    "duration": 7,
    "start_time": "2022-01-04T11:55:37.431Z"
   },
   {
    "duration": 427,
    "start_time": "2022-01-04T11:55:37.441Z"
   },
   {
    "duration": 7,
    "start_time": "2022-01-04T11:55:37.870Z"
   },
   {
    "duration": 469,
    "start_time": "2022-01-04T11:55:37.880Z"
   },
   {
    "duration": -5267,
    "start_time": "2022-01-04T11:55:43.618Z"
   },
   {
    "duration": 824,
    "start_time": "2022-01-04T12:04:26.877Z"
   },
   {
    "duration": 8590,
    "start_time": "2022-01-04T12:07:52.472Z"
   },
   {
    "duration": 467,
    "start_time": "2022-01-04T12:08:51.378Z"
   },
   {
    "duration": 524,
    "start_time": "2022-01-04T12:09:50.773Z"
   },
   {
    "duration": 513,
    "start_time": "2022-01-04T12:11:05.933Z"
   },
   {
    "duration": 1599,
    "start_time": "2022-01-04T12:12:31.080Z"
   },
   {
    "duration": 19,
    "start_time": "2022-01-04T12:12:32.681Z"
   },
   {
    "duration": 16,
    "start_time": "2022-01-04T12:12:32.704Z"
   },
   {
    "duration": 14,
    "start_time": "2022-01-04T12:12:32.722Z"
   },
   {
    "duration": 30,
    "start_time": "2022-01-04T12:12:32.738Z"
   },
   {
    "duration": 12,
    "start_time": "2022-01-04T12:12:32.770Z"
   },
   {
    "duration": 17,
    "start_time": "2022-01-04T12:12:32.785Z"
   },
   {
    "duration": 23,
    "start_time": "2022-01-04T12:12:32.806Z"
   },
   {
    "duration": 918,
    "start_time": "2022-01-04T12:12:32.832Z"
   },
   {
    "duration": 334,
    "start_time": "2022-01-04T12:12:33.752Z"
   },
   {
    "duration": 410,
    "start_time": "2022-01-04T12:12:34.088Z"
   },
   {
    "duration": 323,
    "start_time": "2022-01-04T12:12:34.500Z"
   },
   {
    "duration": 482,
    "start_time": "2022-01-04T12:12:34.825Z"
   },
   {
    "duration": 550,
    "start_time": "2022-01-04T12:12:35.309Z"
   },
   {
    "duration": 7,
    "start_time": "2022-01-04T12:12:35.862Z"
   },
   {
    "duration": 398,
    "start_time": "2022-01-04T12:12:35.871Z"
   },
   {
    "duration": 8,
    "start_time": "2022-01-04T12:12:36.272Z"
   },
   {
    "duration": 481,
    "start_time": "2022-01-04T12:12:36.283Z"
   },
   {
    "duration": 270,
    "start_time": "2022-01-04T12:12:36.767Z"
   },
   {
    "duration": 245,
    "start_time": "2022-01-04T12:13:50.660Z"
   },
   {
    "duration": 17,
    "start_time": "2022-01-04T12:21:54.440Z"
   },
   {
    "duration": 12,
    "start_time": "2022-01-04T12:22:21.378Z"
   },
   {
    "duration": 11,
    "start_time": "2022-01-04T12:22:22.909Z"
   },
   {
    "duration": 8395,
    "start_time": "2022-01-04T12:28:29.381Z"
   },
   {
    "duration": 7531,
    "start_time": "2022-01-04T12:28:49.771Z"
   },
   {
    "duration": 442,
    "start_time": "2022-01-04T12:29:49.837Z"
   },
   {
    "duration": 8491,
    "start_time": "2022-01-04T12:32:34.078Z"
   },
   {
    "duration": 16,
    "start_time": "2022-01-04T12:33:14.501Z"
   },
   {
    "duration": 20,
    "start_time": "2022-01-04T12:34:28.217Z"
   },
   {
    "duration": 7645,
    "start_time": "2022-01-04T12:40:13.545Z"
   },
   {
    "duration": 1690,
    "start_time": "2022-01-04T12:42:08.352Z"
   },
   {
    "duration": 22,
    "start_time": "2022-01-04T12:42:10.044Z"
   },
   {
    "duration": 18,
    "start_time": "2022-01-04T12:42:10.070Z"
   },
   {
    "duration": 16,
    "start_time": "2022-01-04T12:42:10.092Z"
   },
   {
    "duration": 55,
    "start_time": "2022-01-04T12:42:10.111Z"
   },
   {
    "duration": 11,
    "start_time": "2022-01-04T12:42:10.169Z"
   },
   {
    "duration": 22,
    "start_time": "2022-01-04T12:42:10.182Z"
   },
   {
    "duration": 15,
    "start_time": "2022-01-04T12:42:10.208Z"
   },
   {
    "duration": 972,
    "start_time": "2022-01-04T12:42:10.227Z"
   },
   {
    "duration": 327,
    "start_time": "2022-01-04T12:42:11.201Z"
   },
   {
    "duration": 454,
    "start_time": "2022-01-04T12:42:11.530Z"
   },
   {
    "duration": 334,
    "start_time": "2022-01-04T12:42:11.986Z"
   },
   {
    "duration": 487,
    "start_time": "2022-01-04T12:42:12.323Z"
   },
   {
    "duration": 563,
    "start_time": "2022-01-04T12:42:12.813Z"
   },
   {
    "duration": 8,
    "start_time": "2022-01-04T12:42:13.379Z"
   },
   {
    "duration": 401,
    "start_time": "2022-01-04T12:42:13.390Z"
   },
   {
    "duration": 7,
    "start_time": "2022-01-04T12:42:13.794Z"
   },
   {
    "duration": 499,
    "start_time": "2022-01-04T12:42:13.803Z"
   },
   {
    "duration": 233,
    "start_time": "2022-01-04T12:42:14.305Z"
   },
   {
    "duration": 23,
    "start_time": "2022-01-04T12:42:14.541Z"
   },
   {
    "duration": 10,
    "start_time": "2022-01-04T12:42:14.566Z"
   },
   {
    "duration": 17,
    "start_time": "2022-01-04T12:42:14.579Z"
   },
   {
    "duration": 20,
    "start_time": "2022-01-04T12:42:14.600Z"
   },
   {
    "duration": 54,
    "start_time": "2022-01-04T12:42:14.623Z"
   },
   {
    "duration": 14,
    "start_time": "2022-01-04T12:42:14.680Z"
   },
   {
    "duration": 1290,
    "start_time": "2022-01-10T16:21:11.395Z"
   },
   {
    "duration": 13,
    "start_time": "2022-01-10T16:21:12.686Z"
   },
   {
    "duration": 14,
    "start_time": "2022-01-10T16:21:12.701Z"
   },
   {
    "duration": 10,
    "start_time": "2022-01-10T16:21:12.717Z"
   },
   {
    "duration": 7,
    "start_time": "2022-01-10T16:21:12.729Z"
   },
   {
    "duration": 8,
    "start_time": "2022-01-10T16:21:12.738Z"
   },
   {
    "duration": 17,
    "start_time": "2022-01-10T16:21:12.748Z"
   },
   {
    "duration": 10,
    "start_time": "2022-01-10T16:21:12.768Z"
   },
   {
    "duration": 526,
    "start_time": "2022-01-10T16:21:12.780Z"
   },
   {
    "duration": 190,
    "start_time": "2022-01-10T16:21:13.308Z"
   },
   {
    "duration": 287,
    "start_time": "2022-01-10T16:21:13.500Z"
   },
   {
    "duration": 180,
    "start_time": "2022-01-10T16:21:13.789Z"
   },
   {
    "duration": 306,
    "start_time": "2022-01-10T16:21:13.971Z"
   },
   {
    "duration": 357,
    "start_time": "2022-01-10T16:21:14.280Z"
   },
   {
    "duration": 5,
    "start_time": "2022-01-10T16:21:14.639Z"
   },
   {
    "duration": 305,
    "start_time": "2022-01-10T16:21:14.645Z"
   },
   {
    "duration": 10,
    "start_time": "2022-01-10T16:21:14.952Z"
   },
   {
    "duration": 278,
    "start_time": "2022-01-10T16:21:14.963Z"
   },
   {
    "duration": 134,
    "start_time": "2022-01-10T16:21:15.242Z"
   },
   {
    "duration": 8,
    "start_time": "2022-01-10T16:21:15.378Z"
   },
   {
    "duration": 7,
    "start_time": "2022-01-10T16:21:15.387Z"
   },
   {
    "duration": 10,
    "start_time": "2022-01-10T16:21:15.396Z"
   },
   {
    "duration": 14,
    "start_time": "2022-01-10T16:21:15.409Z"
   },
   {
    "duration": 38,
    "start_time": "2022-01-10T16:21:15.425Z"
   },
   {
    "duration": 9,
    "start_time": "2022-01-10T16:21:15.465Z"
   },
   {
    "duration": 3,
    "start_time": "2022-01-11T08:29:46.617Z"
   },
   {
    "duration": 1241,
    "start_time": "2022-01-11T08:29:52.291Z"
   },
   {
    "duration": 14,
    "start_time": "2022-01-11T08:29:53.534Z"
   },
   {
    "duration": 14,
    "start_time": "2022-01-11T08:29:53.551Z"
   },
   {
    "duration": 13,
    "start_time": "2022-01-11T08:29:53.568Z"
   },
   {
    "duration": 6,
    "start_time": "2022-01-11T08:29:53.583Z"
   },
   {
    "duration": 11,
    "start_time": "2022-01-11T08:29:53.591Z"
   },
   {
    "duration": 4806,
    "start_time": "2022-01-11T08:29:53.604Z"
   },
   {
    "duration": 689,
    "start_time": "2022-01-11T08:29:57.726Z"
   },
   {
    "duration": 686,
    "start_time": "2022-01-11T08:29:57.731Z"
   },
   {
    "duration": 678,
    "start_time": "2022-01-11T08:29:57.741Z"
   },
   {
    "duration": 674,
    "start_time": "2022-01-11T08:29:57.746Z"
   },
   {
    "duration": 674,
    "start_time": "2022-01-11T08:29:57.748Z"
   },
   {
    "duration": 673,
    "start_time": "2022-01-11T08:29:57.751Z"
   },
   {
    "duration": 673,
    "start_time": "2022-01-11T08:29:57.753Z"
   },
   {
    "duration": 672,
    "start_time": "2022-01-11T08:29:57.756Z"
   },
   {
    "duration": 670,
    "start_time": "2022-01-11T08:29:57.760Z"
   },
   {
    "duration": 668,
    "start_time": "2022-01-11T08:29:57.763Z"
   },
   {
    "duration": 668,
    "start_time": "2022-01-11T08:29:57.765Z"
   },
   {
    "duration": 666,
    "start_time": "2022-01-11T08:29:57.768Z"
   },
   {
    "duration": 665,
    "start_time": "2022-01-11T08:29:57.771Z"
   },
   {
    "duration": 664,
    "start_time": "2022-01-11T08:29:57.774Z"
   },
   {
    "duration": 662,
    "start_time": "2022-01-11T08:29:57.778Z"
   },
   {
    "duration": 660,
    "start_time": "2022-01-11T08:29:57.781Z"
   },
   {
    "duration": 659,
    "start_time": "2022-01-11T08:29:57.784Z"
   },
   {
    "duration": 657,
    "start_time": "2022-01-11T08:29:57.787Z"
   },
   {
    "duration": 655,
    "start_time": "2022-01-11T08:29:57.790Z"
   },
   {
    "duration": 654,
    "start_time": "2022-01-11T08:29:57.793Z"
   },
   {
    "duration": 299,
    "start_time": "2022-01-11T08:32:44.066Z"
   },
   {
    "duration": 11,
    "start_time": "2022-01-11T08:32:56.799Z"
   },
   {
    "duration": 185,
    "start_time": "2022-01-11T08:33:23.258Z"
   },
   {
    "duration": 314,
    "start_time": "2022-01-11T08:34:49.007Z"
   },
   {
    "duration": 12,
    "start_time": "2022-01-11T08:34:56.622Z"
   },
   {
    "duration": 12,
    "start_time": "2022-01-11T08:35:23.734Z"
   },
   {
    "duration": 256,
    "start_time": "2022-01-11T09:12:34.729Z"
   },
   {
    "duration": 11,
    "start_time": "2022-01-11T09:12:43.442Z"
   },
   {
    "duration": 1160,
    "start_time": "2022-01-11T09:24:52.647Z"
   },
   {
    "duration": 13,
    "start_time": "2022-01-11T09:24:53.809Z"
   },
   {
    "duration": 11,
    "start_time": "2022-01-11T09:24:53.824Z"
   },
   {
    "duration": 11,
    "start_time": "2022-01-11T09:24:53.837Z"
   },
   {
    "duration": 10,
    "start_time": "2022-01-11T09:24:53.849Z"
   },
   {
    "duration": 8,
    "start_time": "2022-01-11T09:24:53.861Z"
   },
   {
    "duration": 22,
    "start_time": "2022-01-11T09:24:53.870Z"
   },
   {
    "duration": 9,
    "start_time": "2022-01-11T09:24:53.894Z"
   },
   {
    "duration": 19,
    "start_time": "2022-01-11T09:24:53.905Z"
   },
   {
    "duration": 11,
    "start_time": "2022-01-11T09:24:53.925Z"
   },
   {
    "duration": 556,
    "start_time": "2022-01-11T09:24:53.938Z"
   },
   {
    "duration": 208,
    "start_time": "2022-01-11T09:24:54.496Z"
   },
   {
    "duration": 308,
    "start_time": "2022-01-11T09:24:54.706Z"
   },
   {
    "duration": 206,
    "start_time": "2022-01-11T09:24:55.016Z"
   },
   {
    "duration": 307,
    "start_time": "2022-01-11T09:24:55.224Z"
   },
   {
    "duration": 386,
    "start_time": "2022-01-11T09:24:55.533Z"
   },
   {
    "duration": 6,
    "start_time": "2022-01-11T09:24:55.921Z"
   },
   {
    "duration": 276,
    "start_time": "2022-01-11T09:24:55.929Z"
   },
   {
    "duration": 5,
    "start_time": "2022-01-11T09:24:56.207Z"
   },
   {
    "duration": 299,
    "start_time": "2022-01-11T09:24:56.214Z"
   },
   {
    "duration": 150,
    "start_time": "2022-01-11T09:24:56.515Z"
   },
   {
    "duration": 25,
    "start_time": "2022-01-11T09:24:56.667Z"
   },
   {
    "duration": 7,
    "start_time": "2022-01-11T09:24:56.695Z"
   },
   {
    "duration": 20,
    "start_time": "2022-01-11T09:24:56.703Z"
   },
   {
    "duration": 24,
    "start_time": "2022-01-11T09:24:56.725Z"
   },
   {
    "duration": 18,
    "start_time": "2022-01-11T09:24:56.750Z"
   },
   {
    "duration": 26,
    "start_time": "2022-01-11T09:24:56.770Z"
   },
   {
    "duration": 3,
    "start_time": "2022-01-11T11:02:30.935Z"
   },
   {
    "duration": 11,
    "start_time": "2022-01-11T11:02:45.203Z"
   },
   {
    "duration": 279,
    "start_time": "2022-01-11T11:06:23.296Z"
   },
   {
    "duration": 15,
    "start_time": "2022-01-11T11:06:35.788Z"
   },
   {
    "duration": 11,
    "start_time": "2022-01-11T11:07:10.072Z"
   },
   {
    "duration": 12,
    "start_time": "2022-01-11T11:09:31.512Z"
   },
   {
    "duration": 1602,
    "start_time": "2022-01-12T06:31:53.580Z"
   },
   {
    "duration": 20,
    "start_time": "2022-01-12T06:31:55.185Z"
   },
   {
    "duration": 17,
    "start_time": "2022-01-12T06:31:55.208Z"
   },
   {
    "duration": 39,
    "start_time": "2022-01-12T06:31:55.228Z"
   },
   {
    "duration": 6,
    "start_time": "2022-01-12T06:31:55.270Z"
   },
   {
    "duration": 12,
    "start_time": "2022-01-12T06:31:55.279Z"
   },
   {
    "duration": 18,
    "start_time": "2022-01-12T06:31:55.293Z"
   },
   {
    "duration": 53,
    "start_time": "2022-01-12T06:31:55.315Z"
   },
   {
    "duration": 17,
    "start_time": "2022-01-12T06:31:55.371Z"
   },
   {
    "duration": 17,
    "start_time": "2022-01-12T06:31:55.390Z"
   },
   {
    "duration": 947,
    "start_time": "2022-01-12T06:31:55.410Z"
   },
   {
    "duration": 331,
    "start_time": "2022-01-12T06:31:56.359Z"
   },
   {
    "duration": 393,
    "start_time": "2022-01-12T06:31:56.693Z"
   },
   {
    "duration": 347,
    "start_time": "2022-01-12T06:31:57.088Z"
   },
   {
    "duration": 459,
    "start_time": "2022-01-12T06:31:57.437Z"
   },
   {
    "duration": 607,
    "start_time": "2022-01-12T06:31:57.899Z"
   },
   {
    "duration": 7,
    "start_time": "2022-01-12T06:31:58.508Z"
   },
   {
    "duration": 397,
    "start_time": "2022-01-12T06:31:58.517Z"
   },
   {
    "duration": 7,
    "start_time": "2022-01-12T06:31:58.917Z"
   },
   {
    "duration": 501,
    "start_time": "2022-01-12T06:31:58.926Z"
   },
   {
    "duration": 255,
    "start_time": "2022-01-12T06:31:59.429Z"
   },
   {
    "duration": 11,
    "start_time": "2022-01-12T06:31:59.686Z"
   },
   {
    "duration": 10,
    "start_time": "2022-01-12T06:31:59.701Z"
   },
   {
    "duration": 16,
    "start_time": "2022-01-12T06:31:59.713Z"
   },
   {
    "duration": 21,
    "start_time": "2022-01-12T06:31:59.767Z"
   },
   {
    "duration": 14,
    "start_time": "2022-01-12T06:31:59.790Z"
   },
   {
    "duration": 31,
    "start_time": "2022-01-12T06:31:59.807Z"
   },
   {
    "duration": 1632,
    "start_time": "2022-01-12T07:03:44.103Z"
   },
   {
    "duration": 21,
    "start_time": "2022-01-12T07:03:45.738Z"
   },
   {
    "duration": 30,
    "start_time": "2022-01-12T07:03:45.763Z"
   },
   {
    "duration": 27,
    "start_time": "2022-01-12T07:03:45.796Z"
   },
   {
    "duration": 8,
    "start_time": "2022-01-12T07:03:45.825Z"
   },
   {
    "duration": 22,
    "start_time": "2022-01-12T07:03:45.835Z"
   },
   {
    "duration": 24,
    "start_time": "2022-01-12T07:03:45.860Z"
   },
   {
    "duration": 15,
    "start_time": "2022-01-12T07:03:45.887Z"
   },
   {
    "duration": 17,
    "start_time": "2022-01-12T07:03:45.905Z"
   },
   {
    "duration": 50,
    "start_time": "2022-01-12T07:03:45.924Z"
   },
   {
    "duration": 1053,
    "start_time": "2022-01-12T07:03:45.976Z"
   },
   {
    "duration": 352,
    "start_time": "2022-01-12T07:03:47.032Z"
   },
   {
    "duration": 404,
    "start_time": "2022-01-12T07:03:47.387Z"
   },
   {
    "duration": 480,
    "start_time": "2022-01-12T07:03:47.794Z"
   },
   {
    "duration": 532,
    "start_time": "2022-01-12T07:03:48.277Z"
   },
   {
    "duration": 610,
    "start_time": "2022-01-12T07:03:48.812Z"
   },
   {
    "duration": 8,
    "start_time": "2022-01-12T07:03:49.425Z"
   },
   {
    "duration": 428,
    "start_time": "2022-01-12T07:03:49.436Z"
   },
   {
    "duration": 8,
    "start_time": "2022-01-12T07:03:49.868Z"
   },
   {
    "duration": 713,
    "start_time": "2022-01-12T07:03:49.879Z"
   },
   {
    "duration": 246,
    "start_time": "2022-01-12T07:03:50.595Z"
   },
   {
    "duration": 24,
    "start_time": "2022-01-12T07:03:50.843Z"
   },
   {
    "duration": 11,
    "start_time": "2022-01-12T07:03:50.872Z"
   },
   {
    "duration": 25,
    "start_time": "2022-01-12T07:03:50.885Z"
   },
   {
    "duration": 37,
    "start_time": "2022-01-12T07:03:50.913Z"
   },
   {
    "duration": 15,
    "start_time": "2022-01-12T07:03:50.968Z"
   },
   {
    "duration": 31,
    "start_time": "2022-01-12T07:03:50.985Z"
   },
   {
    "duration": 1587,
    "start_time": "2022-01-12T07:05:26.563Z"
   },
   {
    "duration": 1865,
    "start_time": "2022-01-12T07:06:00.707Z"
   },
   {
    "duration": 1548,
    "start_time": "2022-01-12T07:06:18.210Z"
   },
   {
    "duration": 21,
    "start_time": "2022-01-12T07:06:19.760Z"
   },
   {
    "duration": 16,
    "start_time": "2022-01-12T07:06:19.784Z"
   },
   {
    "duration": 16,
    "start_time": "2022-01-12T07:06:19.803Z"
   },
   {
    "duration": 48,
    "start_time": "2022-01-12T07:06:19.823Z"
   },
   {
    "duration": 11,
    "start_time": "2022-01-12T07:06:19.874Z"
   },
   {
    "duration": 19,
    "start_time": "2022-01-12T07:06:19.888Z"
   },
   {
    "duration": 55,
    "start_time": "2022-01-12T07:06:19.911Z"
   },
   {
    "duration": 18,
    "start_time": "2022-01-12T07:06:19.969Z"
   },
   {
    "duration": 18,
    "start_time": "2022-01-12T07:06:19.990Z"
   },
   {
    "duration": 1300,
    "start_time": "2022-01-12T07:06:20.011Z"
   },
   {
    "duration": 1830,
    "start_time": "2022-01-12T07:06:19.484Z"
   },
   {
    "duration": 1827,
    "start_time": "2022-01-12T07:06:19.488Z"
   },
   {
    "duration": 1825,
    "start_time": "2022-01-12T07:06:19.491Z"
   },
   {
    "duration": 1824,
    "start_time": "2022-01-12T07:06:19.494Z"
   },
   {
    "duration": 1821,
    "start_time": "2022-01-12T07:06:19.498Z"
   },
   {
    "duration": 1819,
    "start_time": "2022-01-12T07:06:19.502Z"
   },
   {
    "duration": 1813,
    "start_time": "2022-01-12T07:06:19.509Z"
   },
   {
    "duration": 1811,
    "start_time": "2022-01-12T07:06:19.513Z"
   },
   {
    "duration": 1809,
    "start_time": "2022-01-12T07:06:19.516Z"
   },
   {
    "duration": 1804,
    "start_time": "2022-01-12T07:06:19.523Z"
   },
   {
    "duration": 1802,
    "start_time": "2022-01-12T07:06:19.526Z"
   },
   {
    "duration": 1800,
    "start_time": "2022-01-12T07:06:19.530Z"
   },
   {
    "duration": 1798,
    "start_time": "2022-01-12T07:06:19.533Z"
   },
   {
    "duration": 1796,
    "start_time": "2022-01-12T07:06:19.536Z"
   },
   {
    "duration": 1830,
    "start_time": "2022-01-12T07:06:19.539Z"
   },
   {
    "duration": 1824,
    "start_time": "2022-01-12T07:06:19.547Z"
   },
   {
    "duration": 1433,
    "start_time": "2022-01-12T07:09:00.173Z"
   },
   {
    "duration": 1569,
    "start_time": "2022-01-12T07:09:17.314Z"
   },
   {
    "duration": 22,
    "start_time": "2022-01-12T07:09:18.887Z"
   },
   {
    "duration": 17,
    "start_time": "2022-01-12T07:09:18.913Z"
   },
   {
    "duration": 45,
    "start_time": "2022-01-12T07:09:18.933Z"
   },
   {
    "duration": 7,
    "start_time": "2022-01-12T07:09:18.981Z"
   },
   {
    "duration": 11,
    "start_time": "2022-01-12T07:09:18.992Z"
   },
   {
    "duration": 67,
    "start_time": "2022-01-12T07:09:19.006Z"
   },
   {
    "duration": 16,
    "start_time": "2022-01-12T07:09:19.078Z"
   },
   {
    "duration": 19,
    "start_time": "2022-01-12T07:09:19.098Z"
   },
   {
    "duration": 58,
    "start_time": "2022-01-12T07:09:19.120Z"
   },
   {
    "duration": 904,
    "start_time": "2022-01-12T07:09:19.180Z"
   },
   {
    "duration": 351,
    "start_time": "2022-01-12T07:09:20.086Z"
   },
   {
    "duration": 425,
    "start_time": "2022-01-12T07:09:20.440Z"
   },
   {
    "duration": 344,
    "start_time": "2022-01-12T07:09:20.868Z"
   },
   {
    "duration": 489,
    "start_time": "2022-01-12T07:09:21.215Z"
   },
   {
    "duration": 584,
    "start_time": "2022-01-12T07:09:21.706Z"
   },
   {
    "duration": 7,
    "start_time": "2022-01-12T07:09:22.293Z"
   },
   {
    "duration": 395,
    "start_time": "2022-01-12T07:09:22.302Z"
   },
   {
    "duration": 7,
    "start_time": "2022-01-12T07:09:22.700Z"
   },
   {
    "duration": 490,
    "start_time": "2022-01-12T07:09:22.710Z"
   },
   {
    "duration": 272,
    "start_time": "2022-01-12T07:09:23.202Z"
   },
   {
    "duration": 11,
    "start_time": "2022-01-12T07:09:23.476Z"
   },
   {
    "duration": 10,
    "start_time": "2022-01-12T07:09:23.493Z"
   },
   {
    "duration": 16,
    "start_time": "2022-01-12T07:09:23.505Z"
   },
   {
    "duration": 62,
    "start_time": "2022-01-12T07:09:23.523Z"
   },
   {
    "duration": 15,
    "start_time": "2022-01-12T07:09:23.587Z"
   },
   {
    "duration": 15,
    "start_time": "2022-01-12T07:09:23.604Z"
   },
   {
    "duration": 1545,
    "start_time": "2022-01-12T07:13:57.567Z"
   },
   {
    "duration": 1573,
    "start_time": "2022-01-12T07:14:07.891Z"
   },
   {
    "duration": 19,
    "start_time": "2022-01-12T07:14:09.467Z"
   },
   {
    "duration": 15,
    "start_time": "2022-01-12T07:14:09.488Z"
   },
   {
    "duration": 21,
    "start_time": "2022-01-12T07:14:09.506Z"
   },
   {
    "duration": 38,
    "start_time": "2022-01-12T07:14:09.529Z"
   },
   {
    "duration": 11,
    "start_time": "2022-01-12T07:14:09.570Z"
   },
   {
    "duration": 19,
    "start_time": "2022-01-12T07:14:09.584Z"
   },
   {
    "duration": 15,
    "start_time": "2022-01-12T07:14:09.606Z"
   },
   {
    "duration": 51,
    "start_time": "2022-01-12T07:14:09.624Z"
   },
   {
    "duration": 25,
    "start_time": "2022-01-12T07:14:09.678Z"
   },
   {
    "duration": 1322,
    "start_time": "2022-01-12T07:14:09.706Z"
   },
   {
    "duration": 1798,
    "start_time": "2022-01-12T07:14:09.233Z"
   },
   {
    "duration": 1791,
    "start_time": "2022-01-12T07:14:09.242Z"
   },
   {
    "duration": 1789,
    "start_time": "2022-01-12T07:14:09.246Z"
   },
   {
    "duration": 1783,
    "start_time": "2022-01-12T07:14:09.254Z"
   },
   {
    "duration": 1782,
    "start_time": "2022-01-12T07:14:09.257Z"
   },
   {
    "duration": 1779,
    "start_time": "2022-01-12T07:14:09.262Z"
   },
   {
    "duration": 1771,
    "start_time": "2022-01-12T07:14:09.271Z"
   },
   {
    "duration": 1769,
    "start_time": "2022-01-12T07:14:09.274Z"
   },
   {
    "duration": 1791,
    "start_time": "2022-01-12T07:14:09.276Z"
   },
   {
    "duration": 1791,
    "start_time": "2022-01-12T07:14:09.278Z"
   },
   {
    "duration": 1784,
    "start_time": "2022-01-12T07:14:09.286Z"
   },
   {
    "duration": 1783,
    "start_time": "2022-01-12T07:14:09.289Z"
   },
   {
    "duration": 1781,
    "start_time": "2022-01-12T07:14:09.292Z"
   },
   {
    "duration": 1781,
    "start_time": "2022-01-12T07:14:09.294Z"
   },
   {
    "duration": 1774,
    "start_time": "2022-01-12T07:14:09.302Z"
   },
   {
    "duration": 1774,
    "start_time": "2022-01-12T07:14:09.304Z"
   },
   {
    "duration": 1622,
    "start_time": "2022-01-12T07:15:12.438Z"
   },
   {
    "duration": 20,
    "start_time": "2022-01-12T07:15:14.063Z"
   },
   {
    "duration": 19,
    "start_time": "2022-01-12T07:15:14.087Z"
   },
   {
    "duration": 59,
    "start_time": "2022-01-12T07:15:14.109Z"
   },
   {
    "duration": 8,
    "start_time": "2022-01-12T07:15:14.171Z"
   },
   {
    "duration": 11,
    "start_time": "2022-01-12T07:15:14.182Z"
   },
   {
    "duration": 17,
    "start_time": "2022-01-12T07:15:14.195Z"
   },
   {
    "duration": 58,
    "start_time": "2022-01-12T07:15:14.215Z"
   },
   {
    "duration": 17,
    "start_time": "2022-01-12T07:15:14.276Z"
   },
   {
    "duration": 16,
    "start_time": "2022-01-12T07:15:14.295Z"
   },
   {
    "duration": 726,
    "start_time": "2022-01-12T07:15:14.313Z"
   },
   {
    "duration": 647,
    "start_time": "2022-01-12T07:15:15.041Z"
   },
   {
    "duration": 1825,
    "start_time": "2022-01-12T07:15:13.865Z"
   },
   {
    "duration": 1799,
    "start_time": "2022-01-12T07:15:13.893Z"
   },
   {
    "duration": 1791,
    "start_time": "2022-01-12T07:15:13.902Z"
   },
   {
    "duration": 1790,
    "start_time": "2022-01-12T07:15:13.905Z"
   },
   {
    "duration": 1788,
    "start_time": "2022-01-12T07:15:13.909Z"
   },
   {
    "duration": 1785,
    "start_time": "2022-01-12T07:15:13.913Z"
   },
   {
    "duration": 1784,
    "start_time": "2022-01-12T07:15:13.916Z"
   },
   {
    "duration": 1783,
    "start_time": "2022-01-12T07:15:13.918Z"
   },
   {
    "duration": 1782,
    "start_time": "2022-01-12T07:15:13.920Z"
   },
   {
    "duration": 1781,
    "start_time": "2022-01-12T07:15:13.923Z"
   },
   {
    "duration": 1780,
    "start_time": "2022-01-12T07:15:13.925Z"
   },
   {
    "duration": 1778,
    "start_time": "2022-01-12T07:15:13.928Z"
   },
   {
    "duration": 1777,
    "start_time": "2022-01-12T07:15:13.931Z"
   },
   {
    "duration": 1774,
    "start_time": "2022-01-12T07:15:13.935Z"
   },
   {
    "duration": 1773,
    "start_time": "2022-01-12T07:15:13.938Z"
   },
   {
    "duration": 1763,
    "start_time": "2022-01-12T07:15:13.949Z"
   },
   {
    "duration": 358,
    "start_time": "2022-01-12T07:17:22.492Z"
   },
   {
    "duration": 423,
    "start_time": "2022-01-12T07:17:30.799Z"
   },
   {
    "duration": 507,
    "start_time": "2022-01-12T07:18:29.895Z"
   },
   {
    "duration": 504,
    "start_time": "2022-01-12T07:18:36.007Z"
   },
   {
    "duration": 397,
    "start_time": "2022-01-12T07:20:06.452Z"
   },
   {
    "duration": 416,
    "start_time": "2022-01-12T07:20:18.753Z"
   },
   {
    "duration": 527,
    "start_time": "2022-01-12T07:20:55.736Z"
   },
   {
    "duration": 403,
    "start_time": "2022-01-12T07:23:31.302Z"
   },
   {
    "duration": 350,
    "start_time": "2022-01-12T07:57:37.404Z"
   },
   {
    "duration": 89,
    "start_time": "2022-01-12T07:58:02.034Z"
   },
   {
    "duration": 413,
    "start_time": "2022-01-12T07:58:09.144Z"
   },
   {
    "duration": 469,
    "start_time": "2022-01-12T07:59:26.098Z"
   },
   {
    "duration": 527,
    "start_time": "2022-01-12T08:01:02.924Z"
   },
   {
    "duration": 475,
    "start_time": "2022-01-12T08:01:38.510Z"
   },
   {
    "duration": 409,
    "start_time": "2022-01-12T08:01:53.054Z"
   },
   {
    "duration": 479,
    "start_time": "2022-01-12T08:04:08.101Z"
   },
   {
    "duration": 307,
    "start_time": "2022-01-12T08:04:38.607Z"
   },
   {
    "duration": 417,
    "start_time": "2022-01-12T08:06:01.816Z"
   },
   {
    "duration": 429,
    "start_time": "2022-01-12T08:06:46.765Z"
   },
   {
    "duration": 417,
    "start_time": "2022-01-12T08:06:55.142Z"
   },
   {
    "duration": 572,
    "start_time": "2022-01-12T08:08:24.910Z"
   },
   {
    "duration": 693,
    "start_time": "2022-01-12T08:10:54.548Z"
   },
   {
    "duration": 612,
    "start_time": "2022-01-12T08:11:19.415Z"
   },
   {
    "duration": 543,
    "start_time": "2022-01-12T08:11:28.592Z"
   },
   {
    "duration": 566,
    "start_time": "2022-01-12T08:11:35.565Z"
   },
   {
    "duration": 558,
    "start_time": "2022-01-12T08:14:18.283Z"
   },
   {
    "duration": 554,
    "start_time": "2022-01-12T08:14:24.387Z"
   },
   {
    "duration": 599,
    "start_time": "2022-01-12T08:15:03.086Z"
   },
   {
    "duration": 644,
    "start_time": "2022-01-12T08:16:46.964Z"
   },
   {
    "duration": 729,
    "start_time": "2022-01-12T08:16:58.253Z"
   },
   {
    "duration": 7,
    "start_time": "2022-01-12T08:17:19.237Z"
   },
   {
    "duration": 392,
    "start_time": "2022-01-12T08:17:22.529Z"
   },
   {
    "duration": 720,
    "start_time": "2022-01-12T08:24:05.387Z"
   },
   {
    "duration": 469,
    "start_time": "2022-01-12T08:24:21.403Z"
   },
   {
    "duration": 8,
    "start_time": "2022-01-12T08:24:59.118Z"
   },
   {
    "duration": 1332,
    "start_time": "2022-01-12T17:33:53.897Z"
   },
   {
    "duration": 15,
    "start_time": "2022-01-12T17:33:55.231Z"
   },
   {
    "duration": 32,
    "start_time": "2022-01-12T17:33:55.248Z"
   },
   {
    "duration": 31,
    "start_time": "2022-01-12T17:33:55.282Z"
   },
   {
    "duration": 5,
    "start_time": "2022-01-12T17:33:55.315Z"
   },
   {
    "duration": 12,
    "start_time": "2022-01-12T17:33:55.321Z"
   },
   {
    "duration": 22,
    "start_time": "2022-01-12T17:33:55.334Z"
   },
   {
    "duration": 9,
    "start_time": "2022-01-12T17:33:55.359Z"
   },
   {
    "duration": 14,
    "start_time": "2022-01-12T17:33:55.370Z"
   },
   {
    "duration": 16,
    "start_time": "2022-01-12T17:33:55.386Z"
   },
   {
    "duration": 343,
    "start_time": "2022-01-12T17:33:55.404Z"
   },
   {
    "duration": 327,
    "start_time": "2022-01-12T17:33:55.749Z"
   },
   {
    "duration": 305,
    "start_time": "2022-01-12T17:33:56.078Z"
   },
   {
    "duration": 365,
    "start_time": "2022-01-12T17:33:56.385Z"
   },
   {
    "duration": 270,
    "start_time": "2022-01-12T17:33:56.752Z"
   },
   {
    "duration": 445,
    "start_time": "2022-01-12T17:33:57.023Z"
   },
   {
    "duration": 474,
    "start_time": "2022-01-12T17:33:57.469Z"
   },
   {
    "duration": 5,
    "start_time": "2022-01-12T17:33:57.944Z"
   },
   {
    "duration": 370,
    "start_time": "2022-01-12T17:33:57.950Z"
   },
   {
    "duration": 6,
    "start_time": "2022-01-12T17:33:58.321Z"
   },
   {
    "duration": 288,
    "start_time": "2022-01-12T17:33:58.328Z"
   },
   {
    "duration": 109,
    "start_time": "2022-01-12T17:33:58.617Z"
   },
   {
    "duration": 7,
    "start_time": "2022-01-12T17:33:58.729Z"
   },
   {
    "duration": 13,
    "start_time": "2022-01-12T17:33:58.738Z"
   },
   {
    "duration": 32,
    "start_time": "2022-01-12T17:33:58.752Z"
   },
   {
    "duration": 17,
    "start_time": "2022-01-12T17:33:58.785Z"
   },
   {
    "duration": 10,
    "start_time": "2022-01-12T17:33:58.803Z"
   },
   {
    "duration": 16,
    "start_time": "2022-01-12T17:33:58.814Z"
   },
   {
    "duration": 106,
    "start_time": "2022-01-12T17:45:31.176Z"
   },
   {
    "duration": 9,
    "start_time": "2022-01-12T17:46:45.764Z"
   },
   {
    "duration": 14,
    "start_time": "2022-01-12T17:47:07.752Z"
   },
   {
    "duration": 11,
    "start_time": "2022-01-12T17:47:39.182Z"
   }
  ],
  "kernelspec": {
   "display_name": "Python 3",
   "language": "python",
   "name": "python3"
  },
  "language_info": {
   "codemirror_mode": {
    "name": "ipython",
    "version": 3
   },
   "file_extension": ".py",
   "mimetype": "text/x-python",
   "name": "python",
   "nbconvert_exporter": "python",
   "pygments_lexer": "ipython3",
   "version": "3.8.8"
  },
  "toc": {
   "base_numbering": 1,
   "nav_menu": {},
   "number_sections": true,
   "sideBar": true,
   "skip_h1_title": true,
   "title_cell": "Table of Contents",
   "title_sidebar": "Contents",
   "toc_cell": false,
   "toc_position": {},
   "toc_section_display": true,
   "toc_window_display": false
  }
 },
 "nbformat": 4,
 "nbformat_minor": 2
}
